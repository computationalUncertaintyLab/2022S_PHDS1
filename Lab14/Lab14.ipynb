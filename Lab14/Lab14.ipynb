{
 "cells": [
  {
   "cell_type": "markdown",
   "id": "96cc6ffd",
   "metadata": {},
   "source": [
    "# Putting it all together\n",
    "\n",
    "At this point you've had experience with many different parts of the data science lifecycle---from the nitty gritty of programming and cleaning data, to running statistical tests and making inferences. In this lab, we're going to (i) clean up some loose ends and (ii) put you in the driver's seat by giving you a dataset and asking you to run analyses and make recommendations. "
   ]
  },
  {
   "cell_type": "markdown",
   "id": "dc020cf4",
   "metadata": {},
   "source": [
    "## Some odds and ends that are good to know\n",
    "\n",
    "### Fun with column names\n",
    "\n",
    "* Creating a new column in a data frame:  \n",
    "    * `d$new_col_name = new_col_vector`  \n",
    "* Getting a vector of column names:  \n",
    "    * `colnames(d)`  \n",
    "* Changing column names:  \n",
    "    * `colnames(d) = vector_of_new_column_names`  \n",
    "        * This is a rare case where we put a function call to the *left* of the assignment operator.  \n",
    "* Getting fancy with column names:  \n",
    "    * `colnames(d)[colnames(d) == 'patient'] = 'patient_id'`  \n",
    "        * This ^ takes only the column named `patient` and changes the name to `patient_id`, can you see why this works?\n",
    "\n",
    "### Changing data types\n",
    "Way long ago we talked about data types. R has several built in data types, and it's useful to make sure your variables are the type of data you intend them to be:  \n",
    "\n",
    "* Factor: Often useful for categorical data  \n",
    "* String: A data type that is treated as text.  \n",
    "    * An example of this might be if we ask a patient an open ended question and they type a response. We want to treat this response as text, and not as something like a factor, because there's no meaningful way of grouping that type of text.  \n",
    "* Integer: For integer data to be treated as numbers.  \n",
    "* Numeric / double: For real numbers (with decimals).  \n",
    "\n",
    "You can switch between data types with the following:  \n",
    "\n",
    "`d$col_to_convert = as.numeric(d$col_to_convert)`\n",
    "\n",
    "### Is this in that?\n",
    "\n",
    "Checking whether some value(s) are in some container of values is a common and useful operation. The simplest case looks like:"
   ]
  },
  {
   "cell_type": "code",
   "execution_count": 1,
   "id": "c356db69",
   "metadata": {},
   "outputs": [
    {
     "data": {
      "text/html": [
       "TRUE"
      ],
      "text/latex": [
       "TRUE"
      ],
      "text/markdown": [
       "TRUE"
      ],
      "text/plain": [
       "[1] TRUE"
      ]
     },
     "metadata": {},
     "output_type": "display_data"
    }
   ],
   "source": [
    "5 %in% 1:10"
   ]
  },
  {
   "cell_type": "markdown",
   "id": "180d6633",
   "metadata": {},
   "source": [
    "The output of the `%in%` operator is a logical vector with length equal to the argument on the *left* side of the `%in%` operator. See a more complex example:"
   ]
  },
  {
   "cell_type": "code",
   "execution_count": 2,
   "id": "dad03168",
   "metadata": {},
   "outputs": [
    {
     "data": {
      "text/html": [
       "<style>\n",
       ".list-inline {list-style: none; margin:0; padding: 0}\n",
       ".list-inline>li {display: inline-block}\n",
       ".list-inline>li:not(:last-child)::after {content: \"\\00b7\"; padding: 0 .5ex}\n",
       "</style>\n",
       "<ol class=list-inline><li>TRUE</li><li>TRUE</li><li>FALSE</li><li>TRUE</li><li>FALSE</li></ol>\n"
      ],
      "text/latex": [
       "\\begin{enumerate*}\n",
       "\\item TRUE\n",
       "\\item TRUE\n",
       "\\item FALSE\n",
       "\\item TRUE\n",
       "\\item FALSE\n",
       "\\end{enumerate*}\n"
      ],
      "text/markdown": [
       "1. TRUE\n",
       "2. TRUE\n",
       "3. FALSE\n",
       "4. TRUE\n",
       "5. FALSE\n",
       "\n",
       "\n"
      ],
      "text/plain": [
       "[1]  TRUE  TRUE FALSE  TRUE FALSE"
      ]
     },
     "metadata": {},
     "output_type": "display_data"
    }
   ],
   "source": [
    "c(5, 6, 15, 2, 21) %in% 1:10"
   ]
  },
  {
   "cell_type": "markdown",
   "id": "54bf3e62",
   "metadata": {},
   "source": [
    "This function can come in super handy throughout a data analysis, when, for example, keeping only some special subset of observations.  \n",
    "\n",
    "*Example.* Let's say we had some data where each row is a patient with their id and body temperature:"
   ]
  },
  {
   "cell_type": "code",
   "execution_count": 4,
   "id": "358a511a",
   "metadata": {},
   "outputs": [
    {
     "data": {
      "text/html": [
       "<table class=\"dataframe\">\n",
       "<caption>A data.frame: 10 × 2</caption>\n",
       "<thead>\n",
       "\t<tr><th scope=col>patient_id</th><th scope=col>temp</th></tr>\n",
       "\t<tr><th scope=col>&lt;int&gt;</th><th scope=col>&lt;dbl&gt;</th></tr>\n",
       "</thead>\n",
       "<tbody>\n",
       "\t<tr><td> 1</td><td>98.34231</td></tr>\n",
       "\t<tr><td> 2</td><td>97.40769</td></tr>\n",
       "\t<tr><td> 3</td><td>98.35531</td></tr>\n",
       "\t<tr><td> 4</td><td>96.73642</td></tr>\n",
       "\t<tr><td> 5</td><td>97.96423</td></tr>\n",
       "\t<tr><td> 6</td><td>97.21990</td></tr>\n",
       "\t<tr><td> 7</td><td>98.15124</td></tr>\n",
       "\t<tr><td> 8</td><td>99.20742</td></tr>\n",
       "\t<tr><td> 9</td><td>98.88801</td></tr>\n",
       "\t<tr><td>10</td><td>98.84442</td></tr>\n",
       "</tbody>\n",
       "</table>\n"
      ],
      "text/latex": [
       "A data.frame: 10 × 2\n",
       "\\begin{tabular}{ll}\n",
       " patient\\_id & temp\\\\\n",
       " <int> & <dbl>\\\\\n",
       "\\hline\n",
       "\t  1 & 98.34231\\\\\n",
       "\t  2 & 97.40769\\\\\n",
       "\t  3 & 98.35531\\\\\n",
       "\t  4 & 96.73642\\\\\n",
       "\t  5 & 97.96423\\\\\n",
       "\t  6 & 97.21990\\\\\n",
       "\t  7 & 98.15124\\\\\n",
       "\t  8 & 99.20742\\\\\n",
       "\t  9 & 98.88801\\\\\n",
       "\t 10 & 98.84442\\\\\n",
       "\\end{tabular}\n"
      ],
      "text/markdown": [
       "\n",
       "A data.frame: 10 × 2\n",
       "\n",
       "| patient_id &lt;int&gt; | temp &lt;dbl&gt; |\n",
       "|---|---|\n",
       "|  1 | 98.34231 |\n",
       "|  2 | 97.40769 |\n",
       "|  3 | 98.35531 |\n",
       "|  4 | 96.73642 |\n",
       "|  5 | 97.96423 |\n",
       "|  6 | 97.21990 |\n",
       "|  7 | 98.15124 |\n",
       "|  8 | 99.20742 |\n",
       "|  9 | 98.88801 |\n",
       "| 10 | 98.84442 |\n",
       "\n"
      ],
      "text/plain": [
       "   patient_id temp    \n",
       "1   1         98.34231\n",
       "2   2         97.40769\n",
       "3   3         98.35531\n",
       "4   4         96.73642\n",
       "5   5         97.96423\n",
       "6   6         97.21990\n",
       "7   7         98.15124\n",
       "8   8         99.20742\n",
       "9   9         98.88801\n",
       "10 10         98.84442"
      ]
     },
     "metadata": {},
     "output_type": "display_data"
    }
   ],
   "source": [
    "d = data.frame(patient_id = 1:10, temp = rnorm(10, 98, 1))\n",
    "d"
   ]
  },
  {
   "cell_type": "markdown",
   "id": "0152ecfc",
   "metadata": {},
   "source": [
    "Imagine I want to analyze data only from patients 3, 7, 5, and 1. Instead of writing a huge logical argument to grab each of these I can use an `%in`:"
   ]
  },
  {
   "cell_type": "code",
   "execution_count": 5,
   "id": "f4f3463f",
   "metadata": {},
   "outputs": [
    {
     "data": {
      "text/html": [
       "<table class=\"dataframe\">\n",
       "<caption>A data.frame: 4 × 2</caption>\n",
       "<thead>\n",
       "\t<tr><th></th><th scope=col>patient_id</th><th scope=col>temp</th></tr>\n",
       "\t<tr><th></th><th scope=col>&lt;int&gt;</th><th scope=col>&lt;dbl&gt;</th></tr>\n",
       "</thead>\n",
       "<tbody>\n",
       "\t<tr><th scope=row>1</th><td>1</td><td>98.34231</td></tr>\n",
       "\t<tr><th scope=row>3</th><td>3</td><td>98.35531</td></tr>\n",
       "\t<tr><th scope=row>5</th><td>5</td><td>97.96423</td></tr>\n",
       "\t<tr><th scope=row>7</th><td>7</td><td>98.15124</td></tr>\n",
       "</tbody>\n",
       "</table>\n"
      ],
      "text/latex": [
       "A data.frame: 4 × 2\n",
       "\\begin{tabular}{r|ll}\n",
       "  & patient\\_id & temp\\\\\n",
       "  & <int> & <dbl>\\\\\n",
       "\\hline\n",
       "\t1 & 1 & 98.34231\\\\\n",
       "\t3 & 3 & 98.35531\\\\\n",
       "\t5 & 5 & 97.96423\\\\\n",
       "\t7 & 7 & 98.15124\\\\\n",
       "\\end{tabular}\n"
      ],
      "text/markdown": [
       "\n",
       "A data.frame: 4 × 2\n",
       "\n",
       "| <!--/--> | patient_id &lt;int&gt; | temp &lt;dbl&gt; |\n",
       "|---|---|---|\n",
       "| 1 | 1 | 98.34231 |\n",
       "| 3 | 3 | 98.35531 |\n",
       "| 5 | 5 | 97.96423 |\n",
       "| 7 | 7 | 98.15124 |\n",
       "\n"
      ],
      "text/plain": [
       "  patient_id temp    \n",
       "1 1          98.34231\n",
       "3 3          98.35531\n",
       "5 5          97.96423\n",
       "7 7          98.15124"
      ]
     },
     "metadata": {},
     "output_type": "display_data"
    }
   ],
   "source": [
    "to_keep = c(3,7,5,1)\n",
    "d[d$patient %in% to_keep,]"
   ]
  },
  {
   "cell_type": "markdown",
   "id": "f4eb5056",
   "metadata": {},
   "source": [
    "Can you see why that worked? `d$patient %in% to_keep` creates a logical vector with a length equal to the length of data `d`, then this logical vector is used to index the rows of the data frame."
   ]
  },
  {
   "cell_type": "markdown",
   "id": "c1fa6c26",
   "metadata": {},
   "source": [
    "## t-tests\n",
    "I won't go into too much detail about t-tests here, but I will point out the different types of t-tests that you can do, when you should use each one, and how to run them in R.\n",
    "\n",
    "* One-sample: When comparing a single vector of data against a null hypothesis when a known *mu* (eg, you are testing a car manufacturer's claim that a certain car gets 40 mpg, and you have mpg data from 40 cars).  \n",
    "* Paired sample: When you want to compare two measurements taken from the same set of cases (eg, you want to compare pre and post test scores from the same set of students before and after completing a prep course).  \n",
    "* Independent sample: When you want to compare two measurements taken from different sets of cases (eg, you're comparing temperates from one set of patients against temperatures from a different set of patients).  \n",
    "\n",
    "**Doing different t tests in R**\n",
    "\n",
    "We use the `t.test` function for all the types of t tests, the critical arguments are `mu` and `paired`.  \n",
    "\n",
    "* *One-sample*: `t.test(vector_x, mu = 50)`  \n",
    "* *Paired sample*: `t.test(vector_x, vector_y, paired = TRUE)`  \n",
    "* *Independent sample:* `t.test(vector_x, vector_y) # why don't i need to specify the paired argument here?`"
   ]
  },
  {
   "cell_type": "markdown",
   "id": "26866cd5",
   "metadata": {},
   "source": [
    "## Assignment\n",
    "The state of Pennsylvania is drowning in data and they need your help. Flu cases are on the rise and the department of health needs you to determine whether or not the state is safe. You need to first figure out what \"safe\" means, and then use your definition of safe to determine whether or not the current status of PA flu is safe or not.\n",
    "\n",
    "We'll be using the total number of confirmed hospitalizations to inform our judgments.  \n",
    "* The dataset `by_week.csv` contains on each row the sum total number of hospitalizations on a given week for flu across the state of PA.  \n",
    "* The dataset `last_week.csv` contains on each row the sum total number of hospitalizations for flu across different hospitals in PA for the week of `2022-04-15`.\n",
    "\n",
    "1. Assume that sum hospitalizations in each week was generated from a random sample $(W_1, W_2, W_3 ..., W_N)$ where each random variable $W_i$ is independently and identically distributed and corresponds to the number of hospitalizations on week $i$. Which distribution would you use as the probability function for these random variables and why?\n",
    "\n",
    "2. Estimate the parameters for this distribution using the moment of methods.  \n",
    "\n",
    "3. Calculate 95% confidence intervals around your parameter estimate.  \n",
    "\n",
    "4. Based on what you have estimated so far, come up with a threshold for \"safe\" or \"not safe\". In other words, come up with some number of hospitalizations where, if this number is exceeded, we would conclude that PA is not safe and if this number is not exceeded we would conclude PA is safe. Support your decision with information from the analysis that you have conducted thus far.  \n",
    "\n",
    "5. Generate a plot of number of hospitalizations over time.\n",
    "\n",
    "6. Assess whether the number of hospitalizations in the week of `2022-04-15` should lead us to conclude that PA is safe or that PA is not safe. Write up your response as if you were communicating to the PA department of health and making a recommendation about whether the state is safe or not.  \n",
    "\n"
   ]
  }
 ],
 "metadata": {
  "kernelspec": {
   "display_name": "R",
   "language": "R",
   "name": "ir"
  },
  "language_info": {
   "codemirror_mode": "r",
   "file_extension": ".r",
   "mimetype": "text/x-r-source",
   "name": "R",
   "pygments_lexer": "r",
   "version": "3.6.3"
  }
 },
 "nbformat": 4,
 "nbformat_minor": 5
}
