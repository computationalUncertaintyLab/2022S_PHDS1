{
 "cells": [
  {
   "cell_type": "markdown",
   "metadata": {},
   "source": [
    "# Matrix Algebra\n",
    "\n",
    "Statisticians and data scientists use the language of vectors and matrices to organize data and work with models.\n",
    "We will take a close look at matrix algebra, taking time to relate matrix algebra to the more familar algebra that you have worked with in the past. "
   ]
  },
  {
   "cell_type": "markdown",
   "metadata": {},
   "source": [
    "## Recap on vectors and operations on vectors\n",
    "\n",
    "### Definition\n",
    "A vector $v$ is an ordered list of real numbers.\n",
    "We denote a vector with a lower case letter and enclose the values in the vector with square brackets.\n",
    "We can write a vector $v$ as a *row vector*\n",
    "\n",
    "\\begin{align}\n",
    "    v = [1,2,3,4,5]\n",
    "\\end{align}\n",
    "\n",
    "or as a *column vector*\n",
    "\n",
    "\\begin{align}\n",
    "    v = \\left [\n",
    "        \\begin{matrix}\n",
    "            1 \\\\ \n",
    "            2 \\\\\n",
    "            3 \\\\\n",
    "            4 \\\\\n",
    "            5 \\\\\n",
    "        \\end{matrix} \\right ]\n",
    "\\end{align}. \n",
    "\n",
    "A vector has a **length**, defined as the number of values included in that vector. \n",
    "For example, the above vector is length 5.\n",
    "\n",
    "We can create a vector in R by using the c operator. \n"
   ]
  },
  {
   "cell_type": "code",
   "execution_count": 1,
   "metadata": {},
   "outputs": [],
   "source": [
    "v =c(1,2,3,4,5)"
   ]
  },
  {
   "cell_type": "markdown",
   "metadata": {},
   "source": [
    "### Vector times a scalar\n",
    "\n",
    "A vector of length one is called a **scalar**.\n",
    "We can define the results of multiplying a vector $v=[1,2,3,4]$ by a scalar $\\alpha$ as each entry of the vector times the scalar $\\alpha$. \n",
    "\n",
    "\\begin{align}\n",
    "    \\alpha v = \\left [\n",
    "                    \\begin{matrix}\n",
    "                    \\alpha \\times 1 \\\\ \n",
    "                    \\alpha \\times 2 \\\\\n",
    "                    \\alpha \\times 3 \\\\\n",
    "                    \\alpha \\times 4 \\\\\n",
    "                \\end{matrix} \\right ]\n",
    "\\end{align}\n",
    "\n",
    "For example, the vector $v = [1,2,3,4,5]$ times the scalar $\\alpha=7$ will result in a vector\n",
    "\n",
    "\\begin{align}\n",
    "    \\alpha v &= [7 \\times 1, 7 \\times 2, 7 \\times 3, 7 \\times 4  ]\\\\\n",
    "             &= [7, 14, 21, 28]\n",
    "\\end{align}\n",
    "\n",
    "R understands how to multiply vectors and scalars with no additional syntax. "
   ]
  },
  {
   "cell_type": "code",
   "execution_count": 3,
   "metadata": {},
   "outputs": [
    {
     "data": {
      "text/html": [
       "<style>\n",
       ".list-inline {list-style: none; margin:0; padding: 0}\n",
       ".list-inline>li {display: inline-block}\n",
       ".list-inline>li:not(:last-child)::after {content: \"\\00b7\"; padding: 0 .5ex}\n",
       "</style>\n",
       "<ol class=list-inline><li>7</li><li>14</li><li>21</li><li>28</li></ol>\n"
      ],
      "text/latex": [
       "\\begin{enumerate*}\n",
       "\\item 7\n",
       "\\item 14\n",
       "\\item 21\n",
       "\\item 28\n",
       "\\end{enumerate*}\n"
      ],
      "text/markdown": [
       "1. 7\n",
       "2. 14\n",
       "3. 21\n",
       "4. 28\n",
       "\n",
       "\n"
      ],
      "text/plain": [
       "[1]  7 14 21 28"
      ]
     },
     "metadata": {},
     "output_type": "display_data"
    }
   ],
   "source": [
    "v = c(1,2,3,4)\n",
    "alpha = 7\n",
    "\n",
    "alpha*v"
   ]
  },
  {
   "cell_type": "markdown",
   "metadata": {},
   "source": [
    "### Vector plus/minus a vector\n",
    "\n",
    "A vector $v$ plus a vector $q$ creates a new vector that adds the individual entries of $v$ and $q$\n",
    "\n",
    "\\begin{align}\n",
    "    v &= [4,-1,7] \\\\ \n",
    "    q &= [0,32,9] \\\\ \n",
    "    v + q &= [ 4+0, -1+32, 7+9] = [4,31,16]\n",
    "\\end{align}\n",
    "\n",
    "A vector  $v$ minus a vector $q$ creates a new vector that subtracts the individual entries of $q$ from $v$\n",
    " \n",
    "\n",
    "\\begin{align}\n",
    "    v &= [4,-1,7] \\\\ \n",
    "    q &= [0,32,9] \\\\ \n",
    "    v - q &= [ 4-0, -1-32, 7-9] = [4,-33,-2]\\\\\n",
    "    q - v &= [ 0-4, 32-(-1), 9-7] = [-4,33,2]\n",
    "\\end{align}\n",
    "\n",
    "R also understands vector addition and subtraction with no special syntax."
   ]
  },
  {
   "cell_type": "code",
   "execution_count": 6,
   "metadata": {},
   "outputs": [
    {
     "name": "stdout",
     "output_type": "stream",
     "text": [
      "[1]  4 31 16\n",
      "[1]   4 -33  -2\n"
     ]
    }
   ],
   "source": [
    "v = c(4, -1, 7)\n",
    "q = c(0, 32, 9)\n",
    "\n",
    "add = v+q\n",
    "subtract = v-q\n",
    "\n",
    "print(add)\n",
    "print(subtract)"
   ]
  },
  {
   "cell_type": "markdown",
   "metadata": {},
   "source": [
    "## The Matrix\n",
    "\n",
    "A **matrix** is an ordered list of vectors.\n",
    "\n",
    "\\begin{align}\n",
    "    M = \\left [ \\begin{matrix}\n",
    "            1 & 2 & 3 \\\\\n",
    "            4 & 5 & 6 \\\\\n",
    "            3 & 2 & 13 \\\\\n",
    "            90 & 23 & 0 \\\\\n",
    "         \\end{matrix} \\right ]   \n",
    "\\end{align}\n",
    "\n",
    "A matrix has a dimension which is an ordered pair of numbers: the first number indicates the number of rows of the matrix and the second number indicates the number of columns. \n",
    "For example, he matrix $M$ above has dimension $(4,3)$.\n",
    "\n",
    "To build a matrix in R we can issue the matrix command. \n",
    "Matrix is a function that takes a vector as an argument and can take one of many optional arguments.\n",
    "\n",
    "If we give the matrix function only a vector, the default behavior of this function is to create a vector. "
   ]
  },
  {
   "cell_type": "code",
   "execution_count": 8,
   "metadata": {},
   "outputs": [
    {
     "data": {
      "text/html": [
       "<table class=\"dataframe\">\n",
       "<caption>A matrix: 6 × 1 of type dbl</caption>\n",
       "<tbody>\n",
       "\t<tr><td>1</td></tr>\n",
       "\t<tr><td>2</td></tr>\n",
       "\t<tr><td>3</td></tr>\n",
       "\t<tr><td>4</td></tr>\n",
       "\t<tr><td>5</td></tr>\n",
       "\t<tr><td>6</td></tr>\n",
       "</tbody>\n",
       "</table>\n"
      ],
      "text/latex": [
       "A matrix: 6 × 1 of type dbl\n",
       "\\begin{tabular}{l}\n",
       "\t 1\\\\\n",
       "\t 2\\\\\n",
       "\t 3\\\\\n",
       "\t 4\\\\\n",
       "\t 5\\\\\n",
       "\t 6\\\\\n",
       "\\end{tabular}\n"
      ],
      "text/markdown": [
       "\n",
       "A matrix: 6 × 1 of type dbl\n",
       "\n",
       "| 1 |\n",
       "| 2 |\n",
       "| 3 |\n",
       "| 4 |\n",
       "| 5 |\n",
       "| 6 |\n",
       "\n"
      ],
      "text/plain": [
       "     [,1]\n",
       "[1,] 1   \n",
       "[2,] 2   \n",
       "[3,] 3   \n",
       "[4,] 4   \n",
       "[5,] 5   \n",
       "[6,] 6   "
      ]
     },
     "metadata": {},
     "output_type": "display_data"
    }
   ],
   "source": [
    "A = matrix(c(1,2,3,4,5,6))\n",
    "A"
   ]
  },
  {
   "cell_type": "markdown",
   "metadata": {},
   "source": [
    "This is because a vector can be thought of as a matrix with one column.\n",
    "In other words, a matrix with dimension $(N,1)$ is a vector of length $N$.\n",
    "\n",
    "We can provide another arguement to the ``matrix`` function---ncol---to specify the number of columns we want to create. "
   ]
  },
  {
   "cell_type": "code",
   "execution_count": 9,
   "metadata": {},
   "outputs": [
    {
     "data": {
      "text/html": [
       "<table class=\"dataframe\">\n",
       "<caption>A matrix: 3 × 2 of type dbl</caption>\n",
       "<tbody>\n",
       "\t<tr><td>1</td><td>4</td></tr>\n",
       "\t<tr><td>2</td><td>5</td></tr>\n",
       "\t<tr><td>3</td><td>6</td></tr>\n",
       "</tbody>\n",
       "</table>\n"
      ],
      "text/latex": [
       "A matrix: 3 × 2 of type dbl\n",
       "\\begin{tabular}{ll}\n",
       "\t 1 & 4\\\\\n",
       "\t 2 & 5\\\\\n",
       "\t 3 & 6\\\\\n",
       "\\end{tabular}\n"
      ],
      "text/markdown": [
       "\n",
       "A matrix: 3 × 2 of type dbl\n",
       "\n",
       "| 1 | 4 |\n",
       "| 2 | 5 |\n",
       "| 3 | 6 |\n",
       "\n"
      ],
      "text/plain": [
       "     [,1] [,2]\n",
       "[1,] 1    4   \n",
       "[2,] 2    5   \n",
       "[3,] 3    6   "
      ]
     },
     "metadata": {},
     "output_type": "display_data"
    }
   ],
   "source": [
    "A = matrix(c(1,2,3,4,5,6), ncol=2)\n",
    "A"
   ]
  },
  {
   "cell_type": "markdown",
   "metadata": {},
   "source": [
    "Above we used the ncol argument to specify a matrix with two columns. \n",
    "R will automatically determine the number of rows for the matrix and fill-in the values of the matrix column by column. \n",
    "\n",
    "If we want, we can ask R to fill in values of the matrix row by row by including an additional argument in the matrix function``byrow``"
   ]
  },
  {
   "cell_type": "code",
   "execution_count": 10,
   "metadata": {},
   "outputs": [
    {
     "name": "stdout",
     "output_type": "stream",
     "text": [
      "     [,1] [,2]\n",
      "[1,]    1    4\n",
      "[2,]    2    5\n",
      "[3,]    3    6\n",
      "     [,1] [,2]\n",
      "[1,]    1    2\n",
      "[2,]    3    4\n",
      "[3,]    5    6\n"
     ]
    }
   ],
   "source": [
    "v = c(1,2,3,4,5,6)\n",
    "A = matrix(v, ncol=2)\n",
    "\n",
    "B = matrix(v, ncol=2, byrow=TRUE)\n",
    "\n",
    "print(A)\n",
    "print(B)"
   ]
  },
  {
   "cell_type": "markdown",
   "metadata": {},
   "source": [
    "We see that matrix A was \"column filled\" and matrix B was \"row filled\". "
   ]
  },
  {
   "cell_type": "markdown",
   "metadata": {},
   "source": [
    "There are similar operations for matrices as there are for vectors."
   ]
  },
  {
   "cell_type": "markdown",
   "metadata": {},
   "source": [
    "### Matrix plus/minus a matrix\n",
    "\n",
    "Given a matrix $A$ and matrix $B$, the sum of $A$ and $B$ is a new matrix $C$ where the i,j entry of $C$ ($C_{ij}$) is the sum of the corresponding entries from $A$ and $B$ ($C_{ij} = A_{ij} + B_{ij}$). To add two matrices they must have the same dimension.  \n",
    "\n",
    "\\begin{align}\n",
    "    A &= \\left [ \\begin{matrix}\n",
    "                    1 & 2 & 3 \\\\ \n",
    "                    4 & 5 & 6 \\\\\n",
    "                \\end{matrix}\n",
    "        \\right ] \\\\ \n",
    "    B &=  \\left [ \\begin{matrix}\n",
    "                    6 & 5 & 4 \\\\ \n",
    "                    3 & 2 & 1 \\\\\n",
    "                \\end{matrix}\n",
    "        \\right ] \\\\\n",
    "    %\n",
    "    C &= A + B = \\left [ \\begin{matrix}\n",
    "                    1+6 & 2+5 & 3+4 \\\\ \n",
    "                    4+3 & 5+2 & 6+1 \\\\\n",
    "                \\end{matrix}\n",
    "        \\right ]  = \\left [ \\begin{matrix}\n",
    "                    7 & 7 & 7 \\\\ \n",
    "                    7 & 7 & 7 \\\\\n",
    "                \\end{matrix}\n",
    "        \\right ] \\\\ \n",
    "    D &= A - B = \\left [ \\begin{matrix}\n",
    "                    1-6 & 2-5 & 3-4 \\\\ \n",
    "                    4-3 & 5-2 & 6-1 \\\\\n",
    "                \\end{matrix}\n",
    "        \\right ]  = \\left [ \\begin{matrix}\n",
    "                    -5 & -3 & -1 \\\\ \n",
    "                    1 & 3 & 5 \\\\\n",
    "                \\end{matrix}\n",
    "        \\right ] \\\\     \n",
    "\\end{align}\n",
    "\n",
    "R understand matrix addition and subtraction without any additional syntax."
   ]
  },
  {
   "cell_type": "code",
   "execution_count": 17,
   "metadata": {},
   "outputs": [
    {
     "name": "stdout",
     "output_type": "stream",
     "text": [
      "     [,1] [,2] [,3]\n",
      "[1,]   -1    4    3\n",
      "[2,]    2    1    8\n",
      "      [,1]  [,2] [,3]\n",
      "[1,] 90.00  1.54   10\n",
      "[2,]  0.34 -9.43    0\n"
     ]
    },
    {
     "data": {
      "text/html": [
       "<table class=\"dataframe\">\n",
       "<caption>A matrix: 2 × 3 of type dbl</caption>\n",
       "<tbody>\n",
       "\t<tr><td>89.00</td><td> 5.54</td><td>13</td></tr>\n",
       "\t<tr><td> 2.34</td><td>-8.43</td><td> 8</td></tr>\n",
       "</tbody>\n",
       "</table>\n"
      ],
      "text/latex": [
       "A matrix: 2 × 3 of type dbl\n",
       "\\begin{tabular}{lll}\n",
       "\t 89.00 &  5.54 & 13\\\\\n",
       "\t  2.34 & -8.43 &  8\\\\\n",
       "\\end{tabular}\n"
      ],
      "text/markdown": [
       "\n",
       "A matrix: 2 × 3 of type dbl\n",
       "\n",
       "| 89.00 |  5.54 | 13 |\n",
       "|  2.34 | -8.43 |  8 |\n",
       "\n"
      ],
      "text/plain": [
       "     [,1]  [,2]  [,3]\n",
       "[1,] 89.00  5.54 13  \n",
       "[2,]  2.34 -8.43  8  "
      ]
     },
     "metadata": {},
     "output_type": "display_data"
    }
   ],
   "source": [
    "A = matrix(c(-1,2,4,1,3,8), ncol=3)\n",
    "D = matrix(c(90,0.34,1.54,-9.43,10,0), ncol=3)\n",
    "\n",
    "print(A)\n",
    "print(D)\n",
    "\n",
    "A+D"
   ]
  },
  {
   "cell_type": "code",
   "execution_count": 14,
   "metadata": {},
   "outputs": [
    {
     "data": {
      "text/html": [
       "<table class=\"dataframe\">\n",
       "<caption>A matrix: 2 × 3 of type dbl</caption>\n",
       "<tbody>\n",
       "\t<tr><td>-91.00</td><td> 2.46</td><td>-7</td></tr>\n",
       "\t<tr><td>  1.66</td><td>10.43</td><td> 8</td></tr>\n",
       "</tbody>\n",
       "</table>\n"
      ],
      "text/latex": [
       "A matrix: 2 × 3 of type dbl\n",
       "\\begin{tabular}{lll}\n",
       "\t -91.00 &  2.46 & -7\\\\\n",
       "\t   1.66 & 10.43 &  8\\\\\n",
       "\\end{tabular}\n"
      ],
      "text/markdown": [
       "\n",
       "A matrix: 2 × 3 of type dbl\n",
       "\n",
       "| -91.00 |  2.46 | -7 |\n",
       "|   1.66 | 10.43 |  8 |\n",
       "\n"
      ],
      "text/plain": [
       "     [,1]   [,2]  [,3]\n",
       "[1,] -91.00  2.46 -7  \n",
       "[2,]   1.66 10.43  8  "
      ]
     },
     "metadata": {},
     "output_type": "display_data"
    }
   ],
   "source": [
    "A-D"
   ]
  },
  {
   "cell_type": "markdown",
   "metadata": {},
   "source": [
    "### Matrix times a Matrix \n",
    "Two matrices $A$ and $B$ can be multiplied together $C = AB$ if the number of columns of $A$ is equal to the number of rows of $B$.\n",
    "In other words, if the dimension of A is (a,b) and the dimension of B is (c,d) then b and c must be equal.\n",
    "\n",
    "\n",
    "The i,j entry of this product, $C_{ij}$ is the following sum of products:\n",
    "\n",
    "\\begin{align}\n",
    "    C_{i,j} &= a_{i,1}b_{1,j} + a_{i,2}b_{2,j} + a_{i,3}b_{3,j} + \\cdots + a_{i,N}b_{N,j}\\\\\n",
    "            &= \\sum_{e=1}^{N} a_{i,e}b_{e,j}\n",
    "\\end{align}\n",
    "\n",
    "For example, suppose that\n",
    "\\begin{align}\n",
    "    A = \\left [ \\begin{matrix}\n",
    "                     1 & 2\\\\\n",
    "                     3 & 4 \\\\\n",
    "                 \\end{matrix} \\right] \n",
    "\\end{align}\n",
    "and that \n",
    "\\begin{align}\n",
    "    B = \\left [ \\begin{matrix}\n",
    "                     1 & 2 & -1\\\\\n",
    "                     3 & 4 & -2 \\\\\n",
    "                 \\end{matrix} \\right] . \n",
    "\\end{align}\n",
    "Then the product $C = AB$ equals \n",
    "\n",
    "\\begin{align}\n",
    "    C = AB = \\left [ \\begin{matrix}\n",
    "                            1*1 + 2*3 & 1*2 + 2*4 & 1*-1 + 2*-2 \\\\\n",
    "                            3*1 + 4*3 & 3*2 + 4*4 & 3*-1 + 4*-2 \\\\\n",
    "                      \\end{matrix} \\right] = \n",
    "                    \\left [ \\begin{matrix}\n",
    "                            7 & 10 & -5 \\\\\n",
    "                            15 & 22 & -11 \\\\\n",
    "                      \\end{matrix} \\right] \n",
    "\\end{align}                 \n",
    "\n",
    "The above definition and computation can feel cumbersome.\n",
    "We can simplify the above calculations by introducing the inner product.\n",
    "\n",
    "The inner product between two **vectors** $v$ and $q$, or $v'q$, is \n",
    "\n",
    "\\begin{align}\n",
    "    v &= [1,2,3]\\\\\n",
    "    q &= [4,5,6]\\\\\n",
    "    \\\\\n",
    "    v'q &= 1 \\cdot 4 + 2 \\cdot 5 + 3 \\cdot 6 \\\\\n",
    "        &= 4 + 10 + 18 = 32\n",
    "\\end{align}\n",
    "\n",
    "Let us use the inner product to simplify the above matrix multiplication. \n",
    "First, we rewrite the matrix A as a stack of two *row* vectors\n",
    "\n",
    "\\begin{align}\n",
    "    A = \\begin{bmatrix}\n",
    "         a_{1} \\\\ \n",
    "         a_{2} \\\\\n",
    "        \\end{bmatrix}\n",
    "\\end{align}\n",
    "\n",
    "where $a_{1} = [1 , 2]$ and $a_{2} = [3,4]$\n",
    "\n",
    "\n",
    "Second, we rewrite the matrix B as a stack of three *column* vectors\n",
    "\n",
    "\\begin{align}\n",
    "    B = \\begin{bmatrix}\n",
    "         b_{1} & b_{2} & b_{3}\n",
    "        \\end{bmatrix}\n",
    "\\end{align}\n",
    "\n",
    "where $b_{1} = \\begin{bmatrix} 1 \\\\ 3 \\end{bmatrix} $, $b_{2} = \\begin{bmatrix} 2 \\\\ 4 \\end{bmatrix} $, and $b_{3} = \\begin{bmatrix} -1 \\\\ -2 \\end{bmatrix} $\n",
    "\n",
    "Then the product AB is a matrix of inner products\n",
    "\n",
    "\\begin{align}\n",
    "    C = \\begin{bmatrix}\n",
    "             a_{1}'b_{1} & a_{1}'b_{2} & a_{1}'b_{3} \\\\ \n",
    "             a_{2}'b_{1} & a_{2}'b_{2} & a_{2}'b_{3} \\\\ \n",
    "         \\end{bmatrix}\n",
    "\\end{align}\n",
    "                            \n",
    "\n",
    "Matrix multiplication is different than mulitplication between two variables that represent real numbers because matrix multiplication is **not** commutative---the product $AB$ is not rarely equal to $BA$.\n",
    "\n",
    "To compute the product of two matrices in R we need the %*% operator"
   ]
  },
  {
   "cell_type": "code",
   "execution_count": 22,
   "metadata": {},
   "outputs": [
    {
     "name": "stdout",
     "output_type": "stream",
     "text": [
      "     [,1] [,2] [,3]\n",
      "[1,]   -1   -2    4\n",
      "[2,]    0   -1    5\n",
      "[3,]    1    3    6\n",
      "     [,1] [,2] [,3]\n",
      "[1,]    1    4    7\n",
      "[2,]    2    5    8\n",
      "[3,]    3    6    9\n",
      "     [,1] [,2] [,3]\n",
      "[1,]    7   10   13\n",
      "[2,]   13   25   37\n",
      "[3,]   25   55   85\n",
      "     [,1] [,2] [,3]\n",
      "[1,]    6   15   66\n",
      "[2,]    6   15   81\n",
      "[3,]    6   15   96\n"
     ]
    }
   ],
   "source": [
    "A = matrix(c(-1,0,1,-2,-1,3,4,5,6),ncol=3)\n",
    "B = matrix(c(1,2,3,4,5,6,7,8,9),ncol=3)\n",
    "\n",
    "print(A)\n",
    "print(B)\n",
    "\n",
    "print(A%*%B)\n",
    "print(B%*%A)"
   ]
  },
  {
   "cell_type": "markdown",
   "metadata": {},
   "source": [
    "Note above that we computed the product AB and BA and these products resulted in different matrices."
   ]
  },
  {
   "cell_type": "markdown",
   "metadata": {},
   "source": [
    "### Matrix times a vector\n",
    "\n",
    "A matrix $A$ with dimension $(r,c)$ can be multiplied by a vector $v$ if the length of $v$ is $c$. \n",
    "Then the product $Av$ is a vector with the the i$^{\\text{th}}$ entry of $Av$ defined as \n",
    "\\begin{align}\n",
    "    (Av)_{i} = \\sum_{k=1}^{c} A_{i,k} v_{k}\n",
    "\\end{align}\n",
    "\n",
    "For example, \n",
    "Let the matrix\n",
    "\\begin{align}\n",
    "    A = \\left [ \\begin{matrix}\n",
    "                   1 & 2 \\\\ \n",
    "                   3 & 4 \\\\\n",
    "                   5 & 6 \\\\\n",
    "         \\end{matrix} \\right ]\n",
    "\\end{align}\n",
    "and the vector \n",
    "\\begin{align}\n",
    "    v = \\left [ \\begin{matrix}\n",
    "                   4  \\\\ \n",
    "                   -3  \\\\\n",
    "         \\end{matrix} \\right ]\n",
    "\\end{align}\n",
    "then \n",
    "\n",
    "\\begin{align}\n",
    "    Av = \\left [ \\begin{matrix}\n",
    "                   1*4+2*-3 \\\\ \n",
    "                   3*4+4*-3 \\\\\n",
    "                   5*4+6*-3 \\\\\n",
    "         \\end{matrix} \\right ] = \n",
    "         \\left [ \\begin{matrix}\n",
    "                   -2  \\\\ \n",
    "                   0  \\\\\n",
    "                   2 \\\\\n",
    "         \\end{matrix} \\right ]\n",
    "\\end{align}\n",
    "\n",
    "The definition above can also be simplifed by using inner products. \n",
    "Let \n",
    "\n",
    "\\begin{align}\n",
    "    A = \\begin{bmatrix}\n",
    "          a_{1} \\\\ \n",
    "          a_{2} \\\\ \n",
    "          a_{3} \n",
    "        \\end{bmatrix}\n",
    "\\end{align}\n",
    "\n",
    "where $a_{1} = [1,2]$, $a_{2} = [3,4]$, and $a_{3} = [5,6]$.\n",
    "Then the product $Av$ simplifies to\n",
    "\n",
    "\\begin{align}\n",
    "    Av = \\begin{bmatrix}\n",
    "            a_{1}'v\\\\\n",
    "            a_{2}'v\\\\\n",
    "            a_{3}'v\n",
    "         \\end{bmatrix}\n",
    "\\end{align}\n",
    "\n",
    "We can use the %*% operator in R to multiply together a matrix and a vector"
   ]
  },
  {
   "cell_type": "code",
   "execution_count": 32,
   "metadata": {},
   "outputs": [
    {
     "name": "stdout",
     "output_type": "stream",
     "text": [
      "[1] \"Matrix A\"\n",
      "     [,1] [,2]\n",
      "[1,]    1    2\n",
      "[2,]    3    4\n",
      "[3,]    5    6\n",
      "[1] \"Vector v\"\n",
      "[1]  4 -3\n",
      "[1] \"Av\"\n",
      "     [,1]\n",
      "[1,]   -2\n",
      "[2,]    0\n",
      "[3,]    2\n"
     ]
    }
   ],
   "source": [
    "A = matrix(c(1,2,3,4,5,6), ncol=2, byrow=TRUE)\n",
    "v = c(4,-3)\n",
    "\n",
    "print(\"Matrix A\")\n",
    "print(A)\n",
    "\n",
    "print(\"Vector v\")\n",
    "print(v)\n",
    "\n",
    "print(\"Av\")\n",
    "product = A%*%v\n",
    "print(product)"
   ]
  },
  {
   "cell_type": "markdown",
   "metadata": {},
   "source": [
    "### Matrix Transpose\n",
    "Given a matrix $M$, the **tranpose** of $M$, $M^{'}$ or $M^{\\text{T}}$, is a matrix where the first row of $M^{'}$ corresponds to the first column of $M$, the second row of $M^{'}$ corresponds to the second columns of $M$ and so on. \n",
    "If $M$ has dimension $(r,c)$ than $M^{'}$ has dimensions $(c,r)$. \n",
    "\n",
    "For example, if \n",
    "\\begin{align}\n",
    "    M = \\left [ \\begin{matrix}\n",
    "            1 & 2 & 3 \\\\\n",
    "            4 & 5 & 6 \\\\\n",
    "            3 & 2 & 13 \\\\\n",
    "            90 & 23 & 0 \\\\\n",
    "         \\end{matrix} \\right ]\n",
    "\\end{align}\n",
    "then the tranpose of $M$, \n",
    "\\begin{align}\n",
    "    M^{'} = \\left [ \\begin{matrix}\n",
    "            1 & 4 & 3 & 90 \\\\\n",
    "            2 & 5 & 2 & 23 \\\\ \n",
    "            3 &  6 &  13 & 0 \\\\\n",
    "         \\end{matrix} \\right ]   \n",
    "\\end{align}\n",
    "\n",
    "We can use the ``t()`` operator to transpose a matrix in R. "
   ]
  },
  {
   "cell_type": "code",
   "execution_count": 36,
   "metadata": {},
   "outputs": [
    {
     "name": "stdout",
     "output_type": "stream",
     "text": [
      "[1] \"The matrix M\"\n",
      "     [,1] [,2] [,3]\n",
      "[1,]    1    2    3\n",
      "[2,]    4    5    6\n",
      "[3,]    3    2   13\n",
      "[4,]   90   23    0\n",
      "[1] \"The transpose\"\n",
      "     [,1] [,2] [,3] [,4]\n",
      "[1,]    1    4    3   90\n",
      "[2,]    2    5    2   23\n",
      "[3,]    3    6   13    0\n"
     ]
    }
   ],
   "source": [
    "M = matrix(c( 1,2,3,4,5,6,3,2,13,90,23,0),ncol=3,byrow=TRUE)\n",
    "\n",
    "print(\"The matrix M\")\n",
    "print(M)\n",
    "\n",
    "print(\"The transpose\")\n",
    "Mt = t(M)\n",
    "\n",
    "print(Mt)"
   ]
  },
  {
   "cell_type": "markdown",
   "metadata": {},
   "source": [
    "### Matrix inverse\n",
    "\n",
    "#### The identity matrix\n",
    "The **identity matrix** of dimension $r$, usually labled $I_{r}$, is a matrix with $r$ rows and $r$ columns such that the diagonal elements of the matrix, the (1,1) entry, (2,2) entry, up to (r,r) entry are the number 1 and all other entries are 0.\n",
    "For example,\n",
    "\n",
    "\\begin{align}\n",
    "    I_{2} = \\left [ \\begin{matrix}\n",
    "                        1 & 0 \\\\ \n",
    "                        0 & 1 \\\\\n",
    "                     \\end{matrix}\n",
    "             \\right ] \n",
    "\\end{align}\n",
    "This matrix is called the identity matrix because any matrix $A$ times $I$ returns $A$. \n",
    "To be more precise, this matrix is the *multiplicative* identity matrix. But the adjective *multiplicative* is usually dropped. \n",
    "\n",
    "#### The inverse matrix\n",
    "The **inverse** of a matrix $A$---$A^{-1}$---is a matrix such that, if $A$ has the same number of rows and columns (called square) then\n",
    "\\begin{align}\n",
    "    A A^{-1} = A^{-1}A = I\n",
    "\\end{align}\n",
    "\n",
    "The idea of a matrix inverse is the same as in algebra. \n",
    "If we have a variable $a$ then the inverse of $a$, called $a^{-1}$ is the unique number such that \n",
    "$$ a \\cdot a^{-1} = a^{-1} \\cdot a = 1. $$\n",
    "\n",
    "In matrix algebra, the identity matrix takes the place of the \"1\" in algebra.\n",
    "\n",
    "We can compute the inverse of a matrix $A$ in R using the ``solve`` function. "
   ]
  },
  {
   "cell_type": "code",
   "execution_count": 41,
   "metadata": {},
   "outputs": [
    {
     "name": "stdout",
     "output_type": "stream",
     "text": [
      "[1] \"A\"\n",
      "     [,1] [,2]\n",
      "[1,]    3    5\n",
      "[2,]    4    6\n",
      "[1] \"A inverse\"\n",
      "     [,1] [,2]\n",
      "[1,]   -3  2.5\n",
      "[2,]    2 -1.5\n"
     ]
    }
   ],
   "source": [
    "A = matrix(c(3,4,5,6),ncol=2)\n",
    "\n",
    "print(\"A\")\n",
    "print(A)\n",
    "\n",
    "print(\"A inverse\")\n",
    "Ainverse = solve(A)\n",
    "print(Ainverse)"
   ]
  },
  {
   "cell_type": "markdown",
   "metadata": {},
   "source": [
    "## Assignment\n",
    "\n",
    "1. Define the vector v of length 3 with the following numbers: -1,0,1\n",
    "2. Define the matrix A with dimension (2,3) by filling, column wise, the values: 1,2,3,4,5,6 \n",
    "3. Multiply A by v (Av)\n",
    "4. Multiply v by A (vA). Why does R return an error?\n",
    "5. Write a function that takes two argument which are both matrices and returns the product of these matrices. "
   ]
  }
 ],
 "metadata": {
  "kernelspec": {
   "display_name": "R",
   "language": "R",
   "name": "ir"
  },
  "language_info": {
   "codemirror_mode": "r",
   "file_extension": ".r",
   "mimetype": "text/x-r-source",
   "name": "R",
   "pygments_lexer": "r",
   "version": "4.1.2"
  }
 },
 "nbformat": 4,
 "nbformat_minor": 4
}
