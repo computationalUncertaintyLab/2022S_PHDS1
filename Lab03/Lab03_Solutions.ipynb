{
 "cells": [
  {
   "cell_type": "markdown",
   "id": "908b5142",
   "metadata": {},
   "source": [
    "# Lab03 Solutions"
   ]
  },
  {
   "cell_type": "markdown",
   "id": "7b45b01d",
   "metadata": {},
   "source": [
    "### Assignment \n",
    "\n",
    "Lets explore how functions can help us organize our work, clarify code for others, and repeat similar operations on objects of the same type.  \n",
    "\n",
    "#### Unnamed and named arguments\n",
    "1. Declare a function ``subtract`` that takes two arguments: ``x`` and ``y``. Inside the code block assign the variable ``z`` to be ``x`` minus ``y`` and return the variable ``z``. \n",
    "2. Call the function ``subtract`` on the values 2 and 6.\n",
    "3. Call the function ``subtract`` on the values 2 and 6 but bind 2 to the argument ``y`` and 6 to the argument ``x``.\n",
    "4. Why did the results for 2. and for 3. change?\n",
    "\n"
   ]
  },
  {
   "cell_type": "markdown",
   "id": "9b4ec5f9",
   "metadata": {},
   "source": [
    "**Question 1**  \n",
    "Structure of defining a function:  \n",
    "```\n",
    "name_of_function = function(input_argument1, input_argument2) {\n",
    "    ## code to execute in function\n",
    "    \n",
    "    \n",
    "    return(output)\n",
    "}\n",
    "```"
   ]
  },
  {
   "cell_type": "code",
   "execution_count": 2,
   "id": "00bb510b",
   "metadata": {},
   "outputs": [],
   "source": [
    "subtract = function(x, y) {\n",
    "    z = x - y\n",
    "    return(z)\n",
    "}"
   ]
  },
  {
   "cell_type": "markdown",
   "id": "e64273b2",
   "metadata": {},
   "source": [
    "**Question 2**  \n",
    "Structure of calling a function\n",
    "`function_name(input_argument1, input_argument2)`"
   ]
  },
  {
   "cell_type": "code",
   "execution_count": 4,
   "id": "ff9a8e11",
   "metadata": {},
   "outputs": [
    {
     "data": {
      "text/html": [
       "-4"
      ],
      "text/latex": [
       "-4"
      ],
      "text/markdown": [
       "-4"
      ],
      "text/plain": [
       "[1] -4"
      ]
     },
     "metadata": {},
     "output_type": "display_data"
    }
   ],
   "source": [
    "subtract(2,6)"
   ]
  },
  {
   "cell_type": "markdown",
   "id": "385c0948",
   "metadata": {},
   "source": [
    "**Question 3**  "
   ]
  },
  {
   "cell_type": "code",
   "execution_count": 6,
   "id": "aaf5447a",
   "metadata": {},
   "outputs": [
    {
     "data": {
      "text/html": [
       "4"
      ],
      "text/latex": [
       "4"
      ],
      "text/markdown": [
       "4"
      ],
      "text/plain": [
       "[1] 4"
      ]
     },
     "metadata": {},
     "output_type": "display_data"
    }
   ],
   "source": [
    "subtract(y = 2, x = 6)"
   ]
  },
  {
   "cell_type": "markdown",
   "id": "281e7f14",
   "metadata": {},
   "source": [
    "**Question 4**  \n",
    "The answer changed because, in question 2 where we don't bind the arguments to specific variables, the function has to rely on the order of our inputs to determine which should be `x` and which should be `y` (in the case of question 2, the function implicitly binds `x=2` and `y=6`). When we specify the bindings explicitly in question 3, there's no ambiguity about which variable we want to be binded to which variable."
   ]
  },
  {
   "cell_type": "markdown",
   "id": "ba58847f",
   "metadata": {},
   "source": [
    "#### Successive subtraction\n",
    "1. Declare a function ``vec_subtract`` that takes a vector argument that we will bind to ``v``. Inside the code block compute the first item minus the second item minus the third item and so on. Store this subtarction in the variable ``s`` and return the variable ``s``. \n",
    "2. Call the function on the vector [1,2,3,4,5]\n"
   ]
  },
  {
   "cell_type": "markdown",
   "id": "227e00ce",
   "metadata": {},
   "source": [
    "I know this was a difficult one, and those who reached out to me I told you that you could make the simplifying assumption that the input vector `v` will always be of length $5$. Let's look at solutions with and without using this simplifying assumption:"
   ]
  },
  {
   "cell_type": "markdown",
   "id": "a8b0dd1a",
   "metadata": {},
   "source": [
    "**With the simplifying assumption:**"
   ]
  },
  {
   "cell_type": "code",
   "execution_count": 7,
   "id": "efe7efd7",
   "metadata": {},
   "outputs": [
    {
     "data": {
      "text/html": [
       "-13"
      ],
      "text/latex": [
       "-13"
      ],
      "text/markdown": [
       "-13"
      ],
      "text/plain": [
       "[1] -13"
      ]
     },
     "metadata": {},
     "output_type": "display_data"
    }
   ],
   "source": [
    "vec_subtract = function(v) {\n",
    "    s = v[1] - v[2] - v[3] - v[4] - v[5]\n",
    "    return(s)\n",
    "}\n",
    "vec_subtract(1:5)"
   ]
  },
  {
   "cell_type": "markdown",
   "id": "8c226927",
   "metadata": {},
   "source": [
    "If we assume the length of `v` will always be $5$, then we can just index each element of the vector using the bracket notation `[]` to compute our subtraction. "
   ]
  },
  {
   "cell_type": "markdown",
   "id": "adb0074b",
   "metadata": {},
   "source": [
    "**Without the simplifying assumption:**  \n",
    "Let's imagine that we can't assume anything about the length of `v`, but that we need this function to work for vectors of all different lengths.  \n",
    "\n",
    "We can use a for loop to go through the vector and subtract each successive element from the previous element. Remember that for summation operations, we've done something similar by starting with a variable that's equal to zero, and, on each loop, adding each element to this variable that started at zero. But that won't work for subtraction. We need to *start* that variable with the first element of the vector. There are many ways to implement this; here is one possibility:"
   ]
  },
  {
   "cell_type": "code",
   "execution_count": 8,
   "id": "019f9e35",
   "metadata": {},
   "outputs": [
    {
     "data": {
      "text/html": [
       "-13"
      ],
      "text/latex": [
       "-13"
      ],
      "text/markdown": [
       "-13"
      ],
      "text/plain": [
       "[1] -13"
      ]
     },
     "metadata": {},
     "output_type": "display_data"
    }
   ],
   "source": [
    "vec_subtract = function(v) {\n",
    "    N = length(v)\n",
    "    \n",
    "    for (i in 1:N) {\n",
    "        if (i == 1) {\n",
    "            ## if it's the first iteration, use the first element in v as the starting value of s\n",
    "            s = v[i]\n",
    "        } else {\n",
    "            ## otherwise, subtract the current element in v from the value of s and update s\n",
    "            s = s - v[i]\n",
    "        }\n",
    "    }\n",
    "    return(s)\n",
    "}\n",
    "\n",
    "vec_subtract(1:5)"
   ]
  },
  {
   "cell_type": "markdown",
   "id": "72b10091",
   "metadata": {},
   "source": [
    "We can be somewhat confident that this function is doing what it's supposed to be doing because the simple and more complicated functions are giving us the same answers."
   ]
  },
  {
   "cell_type": "markdown",
   "id": "5a252e45",
   "metadata": {},
   "source": [
    "#### Frequentist approach to probability assignment\n",
    "1. Run the code below called ``random_vector``. This is a function that creates a vector of length 1000 filled with numbers between 0 and 1. The second line calls the function with no arguments and creates a variable called ``rand_vec``.\n",
    "2. Declare a function ``freq_assign`` that takes two arguments: ``v`` and ``outcome``. \n",
    "3. Inside the code block perform the following operations\n",
    "  1. Use the ``length`` function (pre-built by R) to compute the length of ``v`` and store this value in the variable ``N``. \n",
    "  2. Create a variable called ``outcome_of_interest`` and assign to it an empty vector ``c()``.\n",
    "  3. Create a for loop that iterates the variable ``i`` from the value 1 to the value ``N``. \n",
    "  4. Inside the for loop use an if/else to identify if each item in ``v`` is less than or equal to ``outcome``. If the item is less than or equal to ``outcome`` then append the value 1 to ``outcome_of_interest`` else append the value 0. We should expect a vector ``outcome_of_interest`` that is the same length as ``v`` which contains 1s for every value less than outcome and 0s otherwise. \n",
    "4. Use the sum function in R (pre-built) to compute the sum of ``outcome_of_interest`` and assign this value the name ``count``\n",
    "5. return ``count/N``\n",
    "6. Call the function on ``rand_vec`` and record the result. Use $0.5$ as the input value for `outcome`."
   ]
  },
  {
   "cell_type": "markdown",
   "id": "2f8985c1",
   "metadata": {},
   "source": [
    "I'm going to breeze through the first few of these because we've seen these steps many times by now."
   ]
  },
  {
   "cell_type": "markdown",
   "id": "8e87ba27",
   "metadata": {},
   "source": [
    "**Question 1**"
   ]
  },
  {
   "cell_type": "code",
   "execution_count": 1,
   "id": "bb708343",
   "metadata": {},
   "outputs": [],
   "source": [
    "random_vector = function(N=1000){\n",
    "    return(runif(N))\n",
    "}\n",
    "rand_vec = random_vector()"
   ]
  },
  {
   "cell_type": "markdown",
   "id": "f7074523",
   "metadata": {},
   "source": [
    "**Question 2**"
   ]
  },
  {
   "cell_type": "code",
   "execution_count": null,
   "id": "c714e61a",
   "metadata": {},
   "outputs": [],
   "source": [
    "freq_assign = function(v, outcome) {\n",
    "    ## code for function goes here\n",
    "}"
   ]
  },
  {
   "cell_type": "markdown",
   "id": "0cbcb4e1",
   "metadata": {},
   "source": [
    "**Question 3A**"
   ]
  },
  {
   "cell_type": "code",
   "execution_count": null,
   "id": "eab112f1",
   "metadata": {},
   "outputs": [],
   "source": [
    "freq_assign = function(v, outcome) {\n",
    "    N = length(v)\n",
    "}"
   ]
  },
  {
   "cell_type": "markdown",
   "id": "b1f402eb",
   "metadata": {},
   "source": [
    "**Question 3B**"
   ]
  },
  {
   "cell_type": "code",
   "execution_count": null,
   "id": "f4336ae5",
   "metadata": {},
   "outputs": [],
   "source": [
    "freq_assign = function(v, outcome) {\n",
    "    N = length(v)\n",
    "    outcome_of_interest = c()\n",
    "}"
   ]
  },
  {
   "cell_type": "markdown",
   "id": "3405e1bf",
   "metadata": {},
   "source": [
    "**Question 3C**"
   ]
  },
  {
   "cell_type": "code",
   "execution_count": 3,
   "id": "f4eeaeb7",
   "metadata": {},
   "outputs": [],
   "source": [
    "freq_assign = function(v, outcome) {\n",
    "    N = length(v)\n",
    "    outcome_of_interest = c()\n",
    "    \n",
    "    ## for (new_iterator in some_vector)\n",
    "    for (i in 1:N) {\n",
    "        ## code to iterate over\n",
    "    }\n",
    "}"
   ]
  },
  {
   "cell_type": "markdown",
   "id": "231bbd81",
   "metadata": {},
   "source": [
    "**Question 3D**  \n",
    "\n",
    "For this part, we need to use vector appending (ie, concatenation). On each iteration, we're looking at one element in our input vector `v` and comparing it to `outcome`. Remember, `v` and `outcome` are *general* variables that can be bound to *any* input. When creating a function, we're making a tool---like a hammer that can be used on any nails."
   ]
  },
  {
   "cell_type": "code",
   "execution_count": null,
   "id": "77fef151",
   "metadata": {},
   "outputs": [],
   "source": [
    "freq_assign = function(v, outcome) {\n",
    "    N = length(v)\n",
    "    outcome_of_interest = c()\n",
    "    \n",
    "    for (i in 1:N) {\n",
    "        if (v[i] <= outcome) {\n",
    "            ## vector appending\n",
    "            outcome_of_interest = c(outcome_of_interest, 1)\n",
    "        } else {\n",
    "            outcome_of_interest = c(outcome_of_interest, 0)\n",
    "        }\n",
    "    }\n",
    "    \n",
    "}"
   ]
  },
  {
   "cell_type": "markdown",
   "id": "5a33f5d2",
   "metadata": {},
   "source": [
    "**Question 4 & 5**  \n",
    "\n",
    "By the end of the for loop above, we have a vector `outcome_of_interest` that is filled with 0s and 1s, where 1s reflect those elements in `v` that are less than or equal to `outcome`, and 0s reflect those elements that are greater than `outcome`. Think back to the point of this function. We want to use this function to take in some vector and determine the probability that each element in vector `v` is less than or equal to `outcome`. With a vector of zeros and ones, this situation becomes a lot like what we dealt with in assignment 1---given a vector of 0s and 1s, what is the probability of observing a 1? To compute this, we find the frequency of the outcome we care about (ie, observing a 1) and divide it by the total outcomes in the vector (ie, `length(v)` or `N`)."
   ]
  },
  {
   "cell_type": "code",
   "execution_count": 4,
   "id": "12b15250",
   "metadata": {},
   "outputs": [],
   "source": [
    "freq_assign = function(v, outcome) {\n",
    "    N = length(v)\n",
    "    outcome_of_interest = c()\n",
    "    \n",
    "    for (i in 1:N) {\n",
    "        if (v[i] <= outcome) {\n",
    "            ## vector appending\n",
    "            outcome_of_interest = c(outcome_of_interest, 1)\n",
    "        } else {\n",
    "            outcome_of_interest = c(outcome_of_interest, 0)\n",
    "        }\n",
    "    }\n",
    "    \n",
    "    ## we sum over outcome_of_interest, which is essentially counting the number of ones\n",
    "    count = sum(outcome_of_interest)\n",
    "    ## to compute the frequentist probability, we divide the count by the total and return it\n",
    "    return(count/N)\n",
    "}"
   ]
  },
  {
   "cell_type": "markdown",
   "id": "d4273159",
   "metadata": {},
   "source": [
    "**Question 6**  \n",
    "\n",
    "Remember, the code above only *creates* a tool that computes frequentist probability given some inputs `v` and `outcome`. We haven't actually *used* this tool yet. In order to use this tool, we need to call it and specify exact inputs. This is like taking the hammer out of the toolbox, finding specific nails, and using the hammer to wind up with a piece of wood with a nail in it."
   ]
  },
  {
   "cell_type": "code",
   "execution_count": 5,
   "id": "ed53a47a",
   "metadata": {},
   "outputs": [
    {
     "data": {
      "text/html": [
       "0.497"
      ],
      "text/latex": [
       "0.497"
      ],
      "text/markdown": [
       "0.497"
      ],
      "text/plain": [
       "[1] 0.497"
      ]
     },
     "metadata": {},
     "output_type": "display_data"
    }
   ],
   "source": [
    "freq_assign(rand_vec, 0.5)"
   ]
  }
 ],
 "metadata": {
  "kernelspec": {
   "display_name": "R",
   "language": "R",
   "name": "ir"
  },
  "language_info": {
   "codemirror_mode": "r",
   "file_extension": ".r",
   "mimetype": "text/x-r-source",
   "name": "R",
   "pygments_lexer": "r",
   "version": "3.6.3"
  }
 },
 "nbformat": 4,
 "nbformat_minor": 5
}
