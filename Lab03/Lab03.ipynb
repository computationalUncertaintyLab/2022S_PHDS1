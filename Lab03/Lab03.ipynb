{
 "cells": [
  {
   "cell_type": "markdown",
   "metadata": {},
   "source": [
    "## Functions\n",
    "\n",
    "Functions in R are used to organize our work, clarify code for others, and allows us to apply the same finite steps to many different objects. \n",
    "\n",
    "**Example:** Suppose we want to use the frequentist approach to assign probabilities to a sample space $\\mathcal{G} = \\{-1,0,1\\}$ based on a dataset $\\mathcal{D}$. Our dataset may look like $\\mathcal{D} = (-1,0,0,1,-1,1,1,1,-1)$.\n",
    "To assign a probability to the event $\\{-1\\}$ we can write R code to count the number of times the outcome $-1$ appears in our data and divide by the number of data points in our data set. For the event $\\{0\\}$ we can write R code to perform the *same steps* for 0 as we performed for the event $\\{-1\\}$. Because we are repeating the same steps for the event $\\{-1\\}$ and for event $\\{0\\}$, a function may simplify our code.\n",
    "\n",
    "**Example:** We are asked to support a clinical team that collected data on patients who are current smokers and outcomes thought to be linked to smoking. The code needs (i) to be processed, (ii) analyzed, and (iii) reported. Though we can write our code in sequence to perform all three steps, we may be able to better organize our work into three functions: one that processes the data, a function that analyses the data, and a third to report."
   ]
  },
  {
   "cell_type": "markdown",
   "metadata": {},
   "source": [
    "### Anatomy of a function\n",
    "\n",
    "A function in R has the following X parts:\n",
    "\n",
    "- *Assignment:* We create a function by assigning a variable name to the function\n",
    "- *Function* :  Next we need to use the reserved word \"function\" so that R knows we are creating a function. \n",
    "- *Arguments*:  After the workd function we will include open and closed parentheses. Inside these parentheses we can include one or more arguments for the function. An argument is an input to our function. \n",
    "- *Code block*: We write a sequence of steps to execute R code inside two curly brackets {}. **Important: Any variables that were created inside this code block are deleted after the function is finished.**\n",
    "- *Return*: Inside the code block we can also include a return statement. This statement includes variables that were generated inside the code block that we wish to keep when the function is finished executing."
   ]
  },
  {
   "cell_type": "markdown",
   "metadata": {},
   "source": [
    "### Declaring a function\n",
    "\n",
    "When store a function in memory, we call this **declaring a function**. \n",
    "\n",
    "Lets declare a function called ``sum_two_numbers``.\n",
    "This function will have two arguments: one called ``x`` and one called ``y``. \n",
    "Arguments are names that we use to identify specific inputs to our function---they are placeholders for variables outside of our function that we may want to use as inputs. \n",
    "In the code block we will write a line of code that stores the sum of ``x`` and ``y`` as the variable ``z``.\n",
    "The second line in the code block will ``return(z)``. \n",
    "Because we did not return ``x`` or ``y`` they will be deleted from memory after the function is finished executing."
   ]
  },
  {
   "cell_type": "code",
   "execution_count": 10,
   "metadata": {},
   "outputs": [],
   "source": [
    "sum_two_numbers = function(x,y){\n",
    "    z = x+y      # line of code in the code block. This uses our x,y arguments (place holders)\n",
    "    return(z)    # Return the variable z \n",
    "}"
   ]
  },
  {
   "cell_type": "markdown",
   "metadata": {},
   "source": [
    "### Calling a function\n",
    "\n",
    "When we declare a function it is stored in memory. \n",
    "If we want to apply our function to a set of arguments (inputs) then we **call** our function. \n",
    "\n",
    "Lets call our function ``sum_to_numbers`` with the arguments 2 and 4. "
   ]
  },
  {
   "cell_type": "code",
   "execution_count": 11,
   "metadata": {},
   "outputs": [],
   "source": [
    "result = sum_two_numbers(2,4)"
   ]
  },
  {
   "cell_type": "markdown",
   "metadata": {},
   "source": [
    "We **called** our function by typing the name of the function and supplying the function with two arguments: 2 and 4. \n",
    "When we called the function, the followign took place. \n",
    "1. The variable ``x`` was assigned the value 2.\n",
    "2. the variable ``y`` was assigned the value 4.\n",
    "3. The first line of the code block was executed.\n",
    "4. The second line of the code block was executed, returning the variable ``z``.\n",
    "5. The returned variable (``z``) was stored in the variable ``result``. \n",
    "\n",
    "Watch"
   ]
  },
  {
   "cell_type": "code",
   "execution_count": 12,
   "metadata": {},
   "outputs": [
    {
     "name": "stdout",
     "output_type": "stream",
     "text": [
      "[1] 6\n"
     ]
    }
   ],
   "source": [
    "print(result)"
   ]
  },
  {
   "cell_type": "markdown",
   "metadata": {},
   "source": [
    "### Named vs unnamed arguments\n",
    "\n",
    "When we input our argument 2 and 4 into the function ``sum_to_numbers`` we did not specify which value should be assigned to the argument ``x`` and which should be assigned to ``y``. \n",
    "When we do not specify the argument names we are proving a function **unnamed arguments**. \n",
    "\n",
    "We could have called the function ``sum_to_numbers`` by specifying which arguments correspond to which values. \n",
    "When we supply a name and the value to the argument we are providing **named arguments**."
   ]
  },
  {
   "cell_type": "code",
   "execution_count": 13,
   "metadata": {},
   "outputs": [
    {
     "data": {
      "text/html": [
       "6"
      ],
      "text/latex": [
       "6"
      ],
      "text/markdown": [
       "6"
      ],
      "text/plain": [
       "[1] 6"
      ]
     },
     "metadata": {},
     "output_type": "display_data"
    }
   ],
   "source": [
    "sum_to_numbers(y=2,x=4) # named arguments"
   ]
  },
  {
   "cell_type": "markdown",
   "metadata": {},
   "source": [
    "### Default arguments\n",
    "\n",
    "When we declare a function we specify which arguments are needed for the function to execute all the lines in the coded block. \n",
    "We expect all these arguments to have values, but there may be a time when we do not necessarily need someone who uses our function to specify all the arguments. Instead, we can provide **default** argument values. \n",
    "\n",
    "Lets create a function called ``sumMult`` that takes as input a vector that we will assign the name ``v`` and a logical value called ``sum_or_mult``. \n",
    "If the value of ``sum_or_mult`` is TRUE then we will add all the items in the vector.\n",
    "If the value of ``sum_or_mult`` is FALSE then we will multiply all the values. \n",
    "\n",
    "By default, we will add all the items. This means that is the user does not supply a value for the argument ``sum_or_mult`` then we automatically assign to ``sum_or_mult`` the value TRUE. \n",
    "To give the function ``sumMult`` a default value for the argument ``sumMult`` we will include after ``sum_or_mult`` an equals sign and our desired default value.  "
   ]
  },
  {
   "cell_type": "code",
   "execution_count": 14,
   "metadata": {},
   "outputs": [],
   "source": [
    "sumMult = function(v,sum_or_mult=TRUE){ # This assigns the sum_or_mult a default value of TRUE\n",
    "    if (sum_or_mult==TRUE){\n",
    "        summation=0\n",
    "        for (item in 1:length(v)){\n",
    "            summation = summation + item\n",
    "        }\n",
    "        return(summation)\n",
    "    }\n",
    "    else{\n",
    "        product = 1\n",
    "        for (item in 1:length(v)){\n",
    "            product = product * item\n",
    "        }\n",
    "        return(product)\n",
    "    }\n",
    "}"
   ]
  },
  {
   "cell_type": "markdown",
   "metadata": {},
   "source": [
    "Lets create a vector called ``fun_vector`` and assign to it ``c(4,2,-2,9,10,11,-0.3)`` and lets call the function ``sumMult``. "
   ]
  },
  {
   "cell_type": "code",
   "execution_count": 20,
   "metadata": {},
   "outputs": [],
   "source": [
    "fun_vector = c(4,2,-2,9,10,11,-0.3)\n",
    "\n",
    "result1 = sumMult(fun_vector)                  # Default for sum_or_mult is TRUE\n",
    "\n",
    "result2 = sumMult(fun_vector,sum_or_mult=TRUE) # We are always allowed to assign this argument a value \n",
    "\n",
    "result3 = sumMult(fun_vector,sum_or_mult=FALSE) # and we can assign this argument a different value then the default"
   ]
  },
  {
   "cell_type": "code",
   "execution_count": 21,
   "metadata": {},
   "outputs": [
    {
     "name": "stdout",
     "output_type": "stream",
     "text": [
      "[1] 28\n",
      "[1] 28\n",
      "[1] 5040\n"
     ]
    }
   ],
   "source": [
    "print(result1)\n",
    "print(result2)\n",
    "print(result3)"
   ]
  },
  {
   "cell_type": "markdown",
   "metadata": {},
   "source": [
    "### Binding and Scope\n",
    "\n",
    "To show that the variables summation and product are deleted after we call the function, lets try to print the variable ``summation``.  "
   ]
  },
  {
   "cell_type": "code",
   "execution_count": 23,
   "metadata": {},
   "outputs": [
    {
     "ename": "ERROR",
     "evalue": "Error in print(summation): object 'summation' not found\n",
     "output_type": "error",
     "traceback": [
      "Error in print(summation): object 'summation' not found\nTraceback:\n",
      "1. print(summation)"
     ]
    }
   ],
   "source": [
    "print(summation)"
   ]
  },
  {
   "cell_type": "markdown",
   "metadata": {},
   "source": [
    "R replies that it looked but cannot find the object summation.\n",
    "The function ``sumMult`` created a variable called ``summation`` operated with it inside the code block of our function and then deleted this variable.\n",
    "\n",
    "When a variable name is assigned an object in R the name the object are associated with one another in the computer. The process of associating an object to a name in the computer is called **binding**.\n",
    "\n",
    "When we call a function the values we provide are bound to each argument name, the function is executed, and those variables are deleted. \n",
    "Which variables we can access during the exedcuting of an R program is called **lexical scope**. \n",
    "Varables created inside a function can only be accessed and used by lines of code inside the code block. \n",
    "These variables are \"in scope\" of the function. "
   ]
  },
  {
   "cell_type": "markdown",
   "metadata": {},
   "source": [
    "### Assignment \n",
    "\n",
    "Lets explore how functions can help use organize our work, clarify code for others, and repeat similar operations on objects of the same type.  \n",
    "\n",
    "#### Unnamed and named arguments\n",
    "1. Declare a function ``subtract`` that takes two arguments: ``x`` and ``y``. Inside the code block assign the variable ``z`` to be ``x`` minus ``y`` and return the variable ``z``. \n",
    "2. Call the function ``subtract`` on the values 2 and 6.\n",
    "3. Call the function ``subtract`` on the values 2 and 6 but bind 2 to the argument ``y`` and 6 to the argument ``x``.\n",
    "4. Why did the results for 2. and for 3. change?\n",
    "\n",
    "#### Successive subtraction\n",
    "1. Declare a function ``vec_subtract`` that takes a vector argument that we will bind to ``v``. Inside the code block compute the first item minus the second item minus the third item and so on. Store this subtarction in the variable ``s`` and return the variable ``s``. \n",
    "2. Call the function on the vector [1,2,3,4,5]\n",
    "\n",
    "#### Frequentist approach to probability assignment\n",
    "1. Run the code below called ``random_vector``. This is a function that creates a vector of length 100 filled with numbers between 0 and 1. The second line calls the function with no arguments and creates a variable called ``rand_vec``.\n",
    "2. Declare a function ``freq_assign`` that takes two arguments: ``v`` and ``outcome``. \n",
    "3. Inside the code block perform the following operations\n",
    "  1. Use the ``length`` function (pre-built by R) to compute the length of ``v`` and store this value in the variable ``N``. \n",
    "  2. Create a variable called ``outcome_of_interest`` and assign to it an empty vector ``c()``.\n",
    "  3. Create a for loop that iterates the variable ``i`` from the value 1 to the value ``N``. \n",
    "  4. Inside the for loop use an if/else to identify if each item in ``v`` is less than or equal to ``outcome``. If the item is less than or equal to ``outcome`` than append the value 1 to ``outcome_of_interest`` else append the value 0. We should expect a vector ``outcome_of_interest`` that is the same length as ``v`` which contains 1s for every value less tan outcome and 0s otherwise. \n",
    "4. Use the sum function in R (pre-built) to compute the sum of ``outcome_of_interest`` and assign this value the name ``count``\n",
    "5. return ``count/N``\n",
    "6. Call the function on ``rand_vec`` and record the result. "
   ]
  },
  {
   "cell_type": "code",
   "execution_count": 28,
   "metadata": {},
   "outputs": [],
   "source": [
    "random_vector = function(N=1000){\n",
    "    return(runif(1000))\n",
    "}\n",
    "rand_vec = random_vector()"
   ]
  }
 ],
 "metadata": {
  "kernelspec": {
   "display_name": "R",
   "language": "R",
   "name": "ir"
  },
  "language_info": {
   "codemirror_mode": "r",
   "file_extension": ".r",
   "mimetype": "text/x-r-source",
   "name": "R",
   "pygments_lexer": "r",
   "version": "4.1.2"
  }
 },
 "nbformat": 4,
 "nbformat_minor": 4
}
