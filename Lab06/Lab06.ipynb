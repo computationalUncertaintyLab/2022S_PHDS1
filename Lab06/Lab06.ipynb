{
 "cells": [
  {
   "cell_type": "markdown",
   "metadata": {},
   "source": [
    "## Data Frames (Part II) Split-Apply-Combine\n",
    "\n",
    "A common task in computer programming is to apply the same function to many sets of similar rows in a dataframe, and compile the results. \n",
    "For example, we could run a randomized control trial in different countries.\n",
    "Within each country we woud randomize patients to a treatment and control group.\n",
    "Our goal may be to compare the rate of adverse events between treated and control patients, ignoring the country where they were treated.\n",
    "A common secondary analysis is to apply the same comparison for each country and investigate if there were any differences. \n",
    "The split-apply-combine paradigm would work well here. \n",
    "\n",
    "### Split-Apply-Combine\n",
    "Suppose you have stored a data frame $D$ with column $c_{1},c_{2},\\cdots,c_{n}$. \n",
    "In addition to these columns we have one extra column $C$ that contains the values $v_{1},v_{2},\\cdots,v_{p}$ that **split** the rows of our dataframe. \n",
    "\n",
    "We also have a function $f$ that takes as input a dataframe and returns a result.\n",
    "\n",
    "Our goal is to **apply** our function $f$ to the rows of our dataframe that correspond to $C == v_{1}$, and then **apply** our function to the rowd of our dataframe that correpond to $C==v_{2}$, and so on. \n",
    "After we gather our results for each subset, we finally would like to **combine** all the results into a single dataframe. \n",
    "\n",
    "R has a natural way to perform this operation. \n",
    "\n",
    "But first a dataset. "
   ]
  },
  {
   "cell_type": "code",
   "execution_count": 3,
   "metadata": {},
   "outputs": [
    {
     "data": {
      "text/html": [
       "<table class=\"dataframe\">\n",
       "<caption>A data.frame: 6 × 13</caption>\n",
       "<thead>\n",
       "\t<tr><th></th><th scope=col>X</th><th scope=col>visits</th><th scope=col>gender</th><th scope=col>age</th><th scope=col>income</th><th scope=col>illness</th><th scope=col>reduced</th><th scope=col>health</th><th scope=col>private</th><th scope=col>freepoor</th><th scope=col>freerepat</th><th scope=col>nchronic</th><th scope=col>lchronic</th></tr>\n",
       "\t<tr><th></th><th scope=col>&lt;int&gt;</th><th scope=col>&lt;int&gt;</th><th scope=col>&lt;fct&gt;</th><th scope=col>&lt;dbl&gt;</th><th scope=col>&lt;dbl&gt;</th><th scope=col>&lt;int&gt;</th><th scope=col>&lt;int&gt;</th><th scope=col>&lt;int&gt;</th><th scope=col>&lt;fct&gt;</th><th scope=col>&lt;fct&gt;</th><th scope=col>&lt;fct&gt;</th><th scope=col>&lt;fct&gt;</th><th scope=col>&lt;fct&gt;</th></tr>\n",
       "</thead>\n",
       "<tbody>\n",
       "\t<tr><th scope=row>1</th><td>1</td><td>1</td><td>female</td><td>0.19</td><td>0.55</td><td>1</td><td>4</td><td>1</td><td>yes</td><td>no</td><td>no</td><td>no </td><td>no</td></tr>\n",
       "\t<tr><th scope=row>2</th><td>2</td><td>1</td><td>female</td><td>0.19</td><td>0.45</td><td>1</td><td>2</td><td>1</td><td>yes</td><td>no</td><td>no</td><td>no </td><td>no</td></tr>\n",
       "\t<tr><th scope=row>3</th><td>3</td><td>1</td><td>male  </td><td>0.19</td><td>0.90</td><td>3</td><td>0</td><td>0</td><td>no </td><td>no</td><td>no</td><td>no </td><td>no</td></tr>\n",
       "\t<tr><th scope=row>4</th><td>4</td><td>1</td><td>male  </td><td>0.19</td><td>0.15</td><td>1</td><td>0</td><td>0</td><td>no </td><td>no</td><td>no</td><td>no </td><td>no</td></tr>\n",
       "\t<tr><th scope=row>5</th><td>5</td><td>1</td><td>male  </td><td>0.19</td><td>0.45</td><td>2</td><td>5</td><td>1</td><td>no </td><td>no</td><td>no</td><td>yes</td><td>no</td></tr>\n",
       "\t<tr><th scope=row>6</th><td>6</td><td>1</td><td>female</td><td>0.19</td><td>0.35</td><td>5</td><td>1</td><td>9</td><td>no </td><td>no</td><td>no</td><td>yes</td><td>no</td></tr>\n",
       "</tbody>\n",
       "</table>\n"
      ],
      "text/latex": [
       "A data.frame: 6 × 13\n",
       "\\begin{tabular}{r|lllllllllllll}\n",
       "  & X & visits & gender & age & income & illness & reduced & health & private & freepoor & freerepat & nchronic & lchronic\\\\\n",
       "  & <int> & <int> & <fct> & <dbl> & <dbl> & <int> & <int> & <int> & <fct> & <fct> & <fct> & <fct> & <fct>\\\\\n",
       "\\hline\n",
       "\t1 & 1 & 1 & female & 0.19 & 0.55 & 1 & 4 & 1 & yes & no & no & no  & no\\\\\n",
       "\t2 & 2 & 1 & female & 0.19 & 0.45 & 1 & 2 & 1 & yes & no & no & no  & no\\\\\n",
       "\t3 & 3 & 1 & male   & 0.19 & 0.90 & 3 & 0 & 0 & no  & no & no & no  & no\\\\\n",
       "\t4 & 4 & 1 & male   & 0.19 & 0.15 & 1 & 0 & 0 & no  & no & no & no  & no\\\\\n",
       "\t5 & 5 & 1 & male   & 0.19 & 0.45 & 2 & 5 & 1 & no  & no & no & yes & no\\\\\n",
       "\t6 & 6 & 1 & female & 0.19 & 0.35 & 5 & 1 & 9 & no  & no & no & yes & no\\\\\n",
       "\\end{tabular}\n"
      ],
      "text/markdown": [
       "\n",
       "A data.frame: 6 × 13\n",
       "\n",
       "| <!--/--> | X &lt;int&gt; | visits &lt;int&gt; | gender &lt;fct&gt; | age &lt;dbl&gt; | income &lt;dbl&gt; | illness &lt;int&gt; | reduced &lt;int&gt; | health &lt;int&gt; | private &lt;fct&gt; | freepoor &lt;fct&gt; | freerepat &lt;fct&gt; | nchronic &lt;fct&gt; | lchronic &lt;fct&gt; |\n",
       "|---|---|---|---|---|---|---|---|---|---|---|---|---|---|\n",
       "| 1 | 1 | 1 | female | 0.19 | 0.55 | 1 | 4 | 1 | yes | no | no | no  | no |\n",
       "| 2 | 2 | 1 | female | 0.19 | 0.45 | 1 | 2 | 1 | yes | no | no | no  | no |\n",
       "| 3 | 3 | 1 | male   | 0.19 | 0.90 | 3 | 0 | 0 | no  | no | no | no  | no |\n",
       "| 4 | 4 | 1 | male   | 0.19 | 0.15 | 1 | 0 | 0 | no  | no | no | no  | no |\n",
       "| 5 | 5 | 1 | male   | 0.19 | 0.45 | 2 | 5 | 1 | no  | no | no | yes | no |\n",
       "| 6 | 6 | 1 | female | 0.19 | 0.35 | 5 | 1 | 9 | no  | no | no | yes | no |\n",
       "\n"
      ],
      "text/plain": [
       "  X visits gender age  income illness reduced health private freepoor freerepat\n",
       "1 1 1      female 0.19 0.55   1       4       1      yes     no       no       \n",
       "2 2 1      female 0.19 0.45   1       2       1      yes     no       no       \n",
       "3 3 1      male   0.19 0.90   3       0       0      no      no       no       \n",
       "4 4 1      male   0.19 0.15   1       0       0      no      no       no       \n",
       "5 5 1      male   0.19 0.45   2       5       1      no      no       no       \n",
       "6 6 1      female 0.19 0.35   5       1       9      no      no       no       \n",
       "  nchronic lchronic\n",
       "1 no       no      \n",
       "2 no       no      \n",
       "3 no       no      \n",
       "4 no       no      \n",
       "5 yes      no      \n",
       "6 yes      no      "
      ]
     },
     "metadata": {},
     "output_type": "display_data"
    }
   ],
   "source": [
    "doctorVisits = read.csv(\"https://vincentarelbundock.github.io/Rdatasets/csv/AER/DoctorVisits.csv\")\n",
    "head(doctorVisits)\n"
   ]
  },
  {
   "cell_type": "markdown",
   "metadata": {},
   "source": [
    "The description for this data set reads as follows \"The sample consists of 5,190 observations and is from the 1977-78 Australian Health Survey and contains information on health service utilization and covariates describing factors that affect health care utilization propensities.\" \n",
    "\n",
    "A description of what each column represents can be found [here](https://vincentarelbundock.github.io/Rdatasets/doc/AER/DoctorVisits.html)."
   ]
  },
  {
   "cell_type": "markdown",
   "metadata": {},
   "source": [
    "We see that each row represents a single patient studied from a Austrialian Health survey. \n",
    "They collected information about patients' gender, number of visits to a hospital, annual income divided by 10,000, whether the patient has private health insurance, the number of illnesses in the past two weeks and so on.\n",
    "\n",
    "Suppose we want to compute the average number of illnesses in the past two weeks among patients with and without private healthcare. \n",
    "Our first step is to declare a function that takes as input a dataframe and returns a data frame that contains the average number of illnesses. \n",
    "\n",
    "We will call our function ``averageIllness``. "
   ]
  },
  {
   "cell_type": "code",
   "execution_count": 17,
   "metadata": {},
   "outputs": [],
   "source": [
    "averageIllness = function(d){       # the argument d is a dataframe\n",
    "    mean_illness = mean(d$illness)  # select the column illness and compute the mean\n",
    "    return( data.frame( \"average_illness\" = mean_illness) ) # return a data frame with this computation\n",
    "}"
   ]
  },
  {
   "cell_type": "markdown",
   "metadata": {},
   "source": [
    "We can apply our function to the entire Austrailan Health Survey to compute the average number of illnesses reported by patients in the past two weeks "
   ]
  },
  {
   "cell_type": "code",
   "execution_count": 18,
   "metadata": {},
   "outputs": [
    {
     "data": {
      "text/html": [
       "<table class=\"dataframe\">\n",
       "<caption>A data.frame: 1 × 1</caption>\n",
       "<thead>\n",
       "\t<tr><th scope=col>average_illness</th></tr>\n",
       "\t<tr><th scope=col>&lt;dbl&gt;</th></tr>\n",
       "</thead>\n",
       "<tbody>\n",
       "\t<tr><td>1.431985</td></tr>\n",
       "</tbody>\n",
       "</table>\n"
      ],
      "text/latex": [
       "A data.frame: 1 × 1\n",
       "\\begin{tabular}{l}\n",
       " average\\_illness\\\\\n",
       " <dbl>\\\\\n",
       "\\hline\n",
       "\t 1.431985\\\\\n",
       "\\end{tabular}\n"
      ],
      "text/markdown": [
       "\n",
       "A data.frame: 1 × 1\n",
       "\n",
       "| average_illness &lt;dbl&gt; |\n",
       "|---|\n",
       "| 1.431985 |\n",
       "\n"
      ],
      "text/plain": [
       "  average_illness\n",
       "1 1.431985       "
      ]
     },
     "metadata": {},
     "output_type": "display_data"
    }
   ],
   "source": [
    "averageIlness(doctorVisits)"
   ]
  },
  {
   "cell_type": "markdown",
   "metadata": {},
   "source": [
    "However, we wanted to compute the number of illnesses for those with private health insurance (when the column private==1) and for those without private health insurance. \n",
    "\n",
    "A more laborious way to compute the mean number of illnessess for each value of the variable private is to subset our dataframe by private and then apply our function. "
   ]
  },
  {
   "cell_type": "code",
   "execution_count": 19,
   "metadata": {},
   "outputs": [
    {
     "data": {
      "text/html": [
       "<table class=\"dataframe\">\n",
       "<caption>A data.frame: 1 × 1</caption>\n",
       "<thead>\n",
       "\t<tr><th scope=col>average_illness</th></tr>\n",
       "\t<tr><th scope=col>&lt;dbl&gt;</th></tr>\n",
       "</thead>\n",
       "<tbody>\n",
       "\t<tr><td>1.359443</td></tr>\n",
       "</tbody>\n",
       "</table>\n"
      ],
      "text/latex": [
       "A data.frame: 1 × 1\n",
       "\\begin{tabular}{l}\n",
       " average\\_illness\\\\\n",
       " <dbl>\\\\\n",
       "\\hline\n",
       "\t 1.359443\\\\\n",
       "\\end{tabular}\n"
      ],
      "text/markdown": [
       "\n",
       "A data.frame: 1 × 1\n",
       "\n",
       "| average_illness &lt;dbl&gt; |\n",
       "|---|\n",
       "| 1.359443 |\n",
       "\n"
      ],
      "text/plain": [
       "  average_illness\n",
       "1 1.359443       "
      ]
     },
     "metadata": {},
     "output_type": "display_data"
    },
    {
     "data": {
      "text/html": [
       "<table class=\"dataframe\">\n",
       "<caption>A data.frame: 1 × 1</caption>\n",
       "<thead>\n",
       "\t<tr><th scope=col>average_illness</th></tr>\n",
       "\t<tr><th scope=col>&lt;dbl&gt;</th></tr>\n",
       "</thead>\n",
       "<tbody>\n",
       "\t<tr><td>1.489627</td></tr>\n",
       "</tbody>\n",
       "</table>\n"
      ],
      "text/latex": [
       "A data.frame: 1 × 1\n",
       "\\begin{tabular}{l}\n",
       " average\\_illness\\\\\n",
       " <dbl>\\\\\n",
       "\\hline\n",
       "\t 1.489627\\\\\n",
       "\\end{tabular}\n"
      ],
      "text/markdown": [
       "\n",
       "A data.frame: 1 × 1\n",
       "\n",
       "| average_illness &lt;dbl&gt; |\n",
       "|---|\n",
       "| 1.489627 |\n",
       "\n"
      ],
      "text/plain": [
       "  average_illness\n",
       "1 1.489627       "
      ]
     },
     "metadata": {},
     "output_type": "display_data"
    }
   ],
   "source": [
    "privateSubset = doctorVisits[ doctorVisits$private==\"yes\",] #logical index to select rows\n",
    "averageIlness(privateSubset)\n",
    "\n",
    "no_privateSubset = doctorVisits[ doctorVisits$private==\"no\",] #logical index to select rows\n",
    "averageIlness(no_privateSubset)"
   ]
  },
  {
   "cell_type": "markdown",
   "metadata": {},
   "source": [
    "But we can compute these two numbers more efficiently by using split-apply-combine. "
   ]
  },
  {
   "cell_type": "markdown",
   "metadata": {},
   "source": [
    "## Split-apply-combine needs to use a package\n",
    "\n",
    "A package is a set of functions that were written by a team.\n",
    "Packages are often avalable for download and installation. \n",
    "\n",
    "The package we will need is called ``plyr``. \n",
    "The ``plyr`` package includes functions that allow us to split-apply-combine.\n",
    "\n",
    "There are two ways to access the functions in an installed package in R. \n",
    "One way uses the ``library`` command and the second way uses the ``require`` command. \n",
    "Both methods are ok to use. "
   ]
  },
  {
   "cell_type": "code",
   "execution_count": 20,
   "metadata": {},
   "outputs": [],
   "source": [
    "require(plyr)"
   ]
  },
  {
   "cell_type": "markdown",
   "metadata": {},
   "source": [
    "When the above ``require(plyr)`` is executed by R, all the functions that are inside of the ``plyr`` package are available for you to use. \n",
    "\n",
    "### ddply\n",
    "The ``ddply`` function takes three arguments: the data frame you wish to operate on, a variable or set of variables to used to split your data frame into many subsets, and a function that will be applied to each subset. \n",
    "\n",
    "The second argument, the variables to split our data frame by, requires that we enclose all variables with a ``.(var1,var2,var3)``. \n",
    "\n",
    "Lets look at our above example. \n",
    "We could supply the function ``ddply`` with the data frame ``doctorVisits``, the argument ``.(private)`` to split the data frame on the condition that ``private=\"yes\"`` and ``private=no``, and our function to compute the mean number of illnesses in the past two weeks. "
   ]
  },
  {
   "cell_type": "code",
   "execution_count": 21,
   "metadata": {},
   "outputs": [
    {
     "data": {
      "text/html": [
       "<table class=\"dataframe\">\n",
       "<caption>A data.frame: 2 × 2</caption>\n",
       "<thead>\n",
       "\t<tr><th scope=col>private</th><th scope=col>average_illness</th></tr>\n",
       "\t<tr><th scope=col>&lt;chr&gt;</th><th scope=col>&lt;dbl&gt;</th></tr>\n",
       "</thead>\n",
       "<tbody>\n",
       "\t<tr><td>no </td><td>1.489627</td></tr>\n",
       "\t<tr><td>yes</td><td>1.359443</td></tr>\n",
       "</tbody>\n",
       "</table>\n"
      ],
      "text/latex": [
       "A data.frame: 2 × 2\n",
       "\\begin{tabular}{ll}\n",
       " private & average\\_illness\\\\\n",
       " <chr> & <dbl>\\\\\n",
       "\\hline\n",
       "\t no  & 1.489627\\\\\n",
       "\t yes & 1.359443\\\\\n",
       "\\end{tabular}\n"
      ],
      "text/markdown": [
       "\n",
       "A data.frame: 2 × 2\n",
       "\n",
       "| private &lt;chr&gt; | average_illness &lt;dbl&gt; |\n",
       "|---|---|\n",
       "| no  | 1.489627 |\n",
       "| yes | 1.359443 |\n",
       "\n"
      ],
      "text/plain": [
       "  private average_illness\n",
       "1 no      1.489627       \n",
       "2 yes     1.359443       "
      ]
     },
     "metadata": {},
     "output_type": "display_data"
    }
   ],
   "source": [
    "ddply(doctorVisits, .(private), averageIllness )"
   ]
  },
  {
   "cell_type": "markdown",
   "metadata": {},
   "source": [
    "Above, the dataframe ``doctorVisits`` was split into two dataframes: one data frame $(D_{1})$ where the variable ``patient=\"yes\"`` and a second data frame $(D_{2})$ where ``patient=\"no\"``.\n",
    "Then the function ``averageIllness`` is applied to $D_{1}$ and $D_{2}$, and the results are combined into a single data frame."
   ]
  },
  {
   "cell_type": "markdown",
   "metadata": {},
   "source": [
    "We can provide more than one variable to split our dataframe. \n",
    "For example, we could split (or stratify) by whether patients have private health insurance and the number of days the patient has had reduced mobility (the reduced variable). "
   ]
  },
  {
   "cell_type": "code",
   "execution_count": 25,
   "metadata": {},
   "outputs": [
    {
     "data": {
      "text/html": [
       "<table class=\"dataframe\">\n",
       "<caption>A data.frame: 30 × 3</caption>\n",
       "<thead>\n",
       "\t<tr><th scope=col>private</th><th scope=col>reduced</th><th scope=col>average_illness</th></tr>\n",
       "\t<tr><th scope=col>&lt;chr&gt;</th><th scope=col>&lt;int&gt;</th><th scope=col>&lt;dbl&gt;</th></tr>\n",
       "</thead>\n",
       "<tbody>\n",
       "\t<tr><td>no </td><td> 0</td><td>1.343386</td></tr>\n",
       "\t<tr><td>no </td><td> 1</td><td>2.011628</td></tr>\n",
       "\t<tr><td>no </td><td> 2</td><td>2.327273</td></tr>\n",
       "\t<tr><td>no </td><td> 3</td><td>2.666667</td></tr>\n",
       "\t<tr><td>no </td><td> 4</td><td>2.285714</td></tr>\n",
       "\t<tr><td>no </td><td> 5</td><td>2.619048</td></tr>\n",
       "\t<tr><td>no </td><td> 6</td><td>2.461538</td></tr>\n",
       "\t<tr><td>no </td><td> 7</td><td>2.631579</td></tr>\n",
       "\t<tr><td>no </td><td> 8</td><td>2.461538</td></tr>\n",
       "\t<tr><td>no </td><td> 9</td><td>3.250000</td></tr>\n",
       "\t<tr><td>no </td><td>10</td><td>2.888889</td></tr>\n",
       "\t<tr><td>no </td><td>11</td><td>1.000000</td></tr>\n",
       "\t<tr><td>no </td><td>12</td><td>1.333333</td></tr>\n",
       "\t<tr><td>no </td><td>13</td><td>3.500000</td></tr>\n",
       "\t<tr><td>no </td><td>14</td><td>2.475410</td></tr>\n",
       "\t<tr><td>yes</td><td> 0</td><td>1.212506</td></tr>\n",
       "\t<tr><td>yes</td><td> 1</td><td>2.010989</td></tr>\n",
       "\t<tr><td>yes</td><td> 2</td><td>2.264151</td></tr>\n",
       "\t<tr><td>yes</td><td> 3</td><td>2.342105</td></tr>\n",
       "\t<tr><td>yes</td><td> 4</td><td>2.041667</td></tr>\n",
       "\t<tr><td>yes</td><td> 5</td><td>1.842105</td></tr>\n",
       "\t<tr><td>yes</td><td> 6</td><td>2.250000</td></tr>\n",
       "\t<tr><td>yes</td><td> 7</td><td>2.631579</td></tr>\n",
       "\t<tr><td>yes</td><td> 8</td><td>2.000000</td></tr>\n",
       "\t<tr><td>yes</td><td> 9</td><td>1.666667</td></tr>\n",
       "\t<tr><td>yes</td><td>10</td><td>1.666667</td></tr>\n",
       "\t<tr><td>yes</td><td>11</td><td>2.000000</td></tr>\n",
       "\t<tr><td>yes</td><td>12</td><td>3.000000</td></tr>\n",
       "\t<tr><td>yes</td><td>13</td><td>4.000000</td></tr>\n",
       "\t<tr><td>yes</td><td>14</td><td>2.469697</td></tr>\n",
       "</tbody>\n",
       "</table>\n"
      ],
      "text/latex": [
       "A data.frame: 30 × 3\n",
       "\\begin{tabular}{lll}\n",
       " private & reduced & average\\_illness\\\\\n",
       " <chr> & <int> & <dbl>\\\\\n",
       "\\hline\n",
       "\t no  &  0 & 1.343386\\\\\n",
       "\t no  &  1 & 2.011628\\\\\n",
       "\t no  &  2 & 2.327273\\\\\n",
       "\t no  &  3 & 2.666667\\\\\n",
       "\t no  &  4 & 2.285714\\\\\n",
       "\t no  &  5 & 2.619048\\\\\n",
       "\t no  &  6 & 2.461538\\\\\n",
       "\t no  &  7 & 2.631579\\\\\n",
       "\t no  &  8 & 2.461538\\\\\n",
       "\t no  &  9 & 3.250000\\\\\n",
       "\t no  & 10 & 2.888889\\\\\n",
       "\t no  & 11 & 1.000000\\\\\n",
       "\t no  & 12 & 1.333333\\\\\n",
       "\t no  & 13 & 3.500000\\\\\n",
       "\t no  & 14 & 2.475410\\\\\n",
       "\t yes &  0 & 1.212506\\\\\n",
       "\t yes &  1 & 2.010989\\\\\n",
       "\t yes &  2 & 2.264151\\\\\n",
       "\t yes &  3 & 2.342105\\\\\n",
       "\t yes &  4 & 2.041667\\\\\n",
       "\t yes &  5 & 1.842105\\\\\n",
       "\t yes &  6 & 2.250000\\\\\n",
       "\t yes &  7 & 2.631579\\\\\n",
       "\t yes &  8 & 2.000000\\\\\n",
       "\t yes &  9 & 1.666667\\\\\n",
       "\t yes & 10 & 1.666667\\\\\n",
       "\t yes & 11 & 2.000000\\\\\n",
       "\t yes & 12 & 3.000000\\\\\n",
       "\t yes & 13 & 4.000000\\\\\n",
       "\t yes & 14 & 2.469697\\\\\n",
       "\\end{tabular}\n"
      ],
      "text/markdown": [
       "\n",
       "A data.frame: 30 × 3\n",
       "\n",
       "| private &lt;chr&gt; | reduced &lt;int&gt; | average_illness &lt;dbl&gt; |\n",
       "|---|---|---|\n",
       "| no  |  0 | 1.343386 |\n",
       "| no  |  1 | 2.011628 |\n",
       "| no  |  2 | 2.327273 |\n",
       "| no  |  3 | 2.666667 |\n",
       "| no  |  4 | 2.285714 |\n",
       "| no  |  5 | 2.619048 |\n",
       "| no  |  6 | 2.461538 |\n",
       "| no  |  7 | 2.631579 |\n",
       "| no  |  8 | 2.461538 |\n",
       "| no  |  9 | 3.250000 |\n",
       "| no  | 10 | 2.888889 |\n",
       "| no  | 11 | 1.000000 |\n",
       "| no  | 12 | 1.333333 |\n",
       "| no  | 13 | 3.500000 |\n",
       "| no  | 14 | 2.475410 |\n",
       "| yes |  0 | 1.212506 |\n",
       "| yes |  1 | 2.010989 |\n",
       "| yes |  2 | 2.264151 |\n",
       "| yes |  3 | 2.342105 |\n",
       "| yes |  4 | 2.041667 |\n",
       "| yes |  5 | 1.842105 |\n",
       "| yes |  6 | 2.250000 |\n",
       "| yes |  7 | 2.631579 |\n",
       "| yes |  8 | 2.000000 |\n",
       "| yes |  9 | 1.666667 |\n",
       "| yes | 10 | 1.666667 |\n",
       "| yes | 11 | 2.000000 |\n",
       "| yes | 12 | 3.000000 |\n",
       "| yes | 13 | 4.000000 |\n",
       "| yes | 14 | 2.469697 |\n",
       "\n"
      ],
      "text/plain": [
       "   private reduced average_illness\n",
       "1  no       0      1.343386       \n",
       "2  no       1      2.011628       \n",
       "3  no       2      2.327273       \n",
       "4  no       3      2.666667       \n",
       "5  no       4      2.285714       \n",
       "6  no       5      2.619048       \n",
       "7  no       6      2.461538       \n",
       "8  no       7      2.631579       \n",
       "9  no       8      2.461538       \n",
       "10 no       9      3.250000       \n",
       "11 no      10      2.888889       \n",
       "12 no      11      1.000000       \n",
       "13 no      12      1.333333       \n",
       "14 no      13      3.500000       \n",
       "15 no      14      2.475410       \n",
       "16 yes      0      1.212506       \n",
       "17 yes      1      2.010989       \n",
       "18 yes      2      2.264151       \n",
       "19 yes      3      2.342105       \n",
       "20 yes      4      2.041667       \n",
       "21 yes      5      1.842105       \n",
       "22 yes      6      2.250000       \n",
       "23 yes      7      2.631579       \n",
       "24 yes      8      2.000000       \n",
       "25 yes      9      1.666667       \n",
       "26 yes     10      1.666667       \n",
       "27 yes     11      2.000000       \n",
       "28 yes     12      3.000000       \n",
       "29 yes     13      4.000000       \n",
       "30 yes     14      2.469697       "
      ]
     },
     "metadata": {},
     "output_type": "display_data"
    }
   ],
   "source": [
    "results = ddply(doctorVisits, .(private,reduced), averageIllness )\n",
    "results"
   ]
  },
  {
   "cell_type": "markdown",
   "metadata": {},
   "source": [
    "The ``split-apply-combine`` paradigm is a powerful way to apply a function to many different subsets of a dataframe and simplifies our code. "
   ]
  },
  {
   "cell_type": "markdown",
   "metadata": {},
   "source": [
    "### Assignment:\n",
    "\n",
    "Remember that the first step is always to understand the data you are working with. Look [here](https://vincentarelbundock.github.io/Rdatasets/doc/AER/DoctorVisits.html) for more information about the columns in the data.\n",
    "\n",
    "1. Write a function called ``outline`` that takes as an argument a dataframe\n",
    "    - The function will compute the sample mean, variance, and standard deviation for the variable age. \n",
    "    - The function should return a data frame with columns for each of these above three statistics. \n",
    "2. Apply our ``outline`` function to the Australian Health Survey (AHS)\n",
    "3. Apply our ``outline`` function to patients in the AHS with and without private health insurance. \n",
    "4. Apply our ``outline`` function to patients in the AHS for all combination of presenance and absence of private health insurance (``private``) and number of illnesses in the past two weeks (``illness`` variable). "
   ]
  },
  {
   "cell_type": "code",
   "execution_count": null,
   "metadata": {},
   "outputs": [],
   "source": []
  }
 ],
 "metadata": {
  "kernelspec": {
   "display_name": "R",
   "language": "R",
   "name": "ir"
  },
  "language_info": {
   "codemirror_mode": "r",
   "file_extension": ".r",
   "mimetype": "text/x-r-source",
   "name": "R",
   "pygments_lexer": "r",
   "version": "3.6.3"
  }
 },
 "nbformat": 4,
 "nbformat_minor": 4
}
