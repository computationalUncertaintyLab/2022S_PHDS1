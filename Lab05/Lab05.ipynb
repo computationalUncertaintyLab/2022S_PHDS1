{
 "cells": [
  {
   "cell_type": "markdown",
   "metadata": {},
   "source": [
    "## Data Frame\n",
    "\n",
    "We learned in lecture that a dataframe is a specific way to organize data points sampled from a sample space $\\mathcal{G}$.\n",
    "A dataframe supposes a dataset $\\mathcal{D} = ( d_{1},d_{2},\\cdots,d_{N})$ should be organized so that each row is a single outcome $d_{i}$ and each column is a position in the tuple $d_{i} = ( x,y,z,...  )$\n",
    "\n",
    "The dataframe is a common way computational scientists think about data. "
   ]
  },
  {
   "cell_type": "markdown",
   "metadata": {},
   "source": [
    "### How to read a CSV file into a data frame\n",
    "\n",
    "The function ``read.csv`` takes as an argument a string that indicates a file on your local computer OR a URL online.\n",
    "Below the ``read.csv`` function is used to import into memory a **dataframe** related to bad drivers from the statsitcal news outlet called *FiveThirtyEight*.\n",
    "\n",
    "The news article is here https://fivethirtyeight.com/features/which-state-has-the-worst-drivers/\n"
   ]
  },
  {
   "cell_type": "code",
   "execution_count": 34,
   "metadata": {},
   "outputs": [
    {
     "name": "stdout",
     "output_type": "stream",
     "text": [
      "[1] \"Column names and descriptions:\"\n"
     ]
    },
    {
     "data": {
      "text/html": [
       "<table class=\"dataframe\">\n",
       "<caption>A data.frame: 8 × 2</caption>\n",
       "<thead>\n",
       "\t<tr><th scope=col>column_names</th><th scope=col>column_descriptions</th></tr>\n",
       "\t<tr><th scope=col>&lt;fct&gt;</th><th scope=col>&lt;fct&gt;</th></tr>\n",
       "</thead>\n",
       "<tbody>\n",
       "\t<tr><td>state             </td><td>State                                                                                                 </td></tr>\n",
       "\t<tr><td>total             </td><td>Number.of.drivers.involved.in.fatal.collisions.per.billion.miles                                      </td></tr>\n",
       "\t<tr><td>speeding          </td><td>Percentage.Of.Drivers.Involved.In.Fatal.Collisions.Who.Were.Speeding                                  </td></tr>\n",
       "\t<tr><td>alcohol           </td><td>Percentage.Of.Drivers.Involved.In.Fatal.Collisions.Who.Were.Alcohol.Impaired                          </td></tr>\n",
       "\t<tr><td>not_distracted    </td><td>Percentage.Of.Drivers.Involved.In.Fatal.Collisions.Who.Were.Not.Distracted                            </td></tr>\n",
       "\t<tr><td>previous_accidents</td><td>Percentage.Of.Drivers.Involved.In.Fatal.Collisions.Who.Had.Not.Been.Involved.In.Any.Previous.Accidents</td></tr>\n",
       "\t<tr><td>insurance_premium </td><td>Car.Insurance.Premiums....                                                                            </td></tr>\n",
       "\t<tr><td>insurance_loss    </td><td>Losses.incurred.by.insurance.companies.for.collisions.per.insured.driver....                          </td></tr>\n",
       "</tbody>\n",
       "</table>\n"
      ],
      "text/latex": [
       "A data.frame: 8 × 2\n",
       "\\begin{tabular}{ll}\n",
       " column\\_names & column\\_descriptions\\\\\n",
       " <fct> & <fct>\\\\\n",
       "\\hline\n",
       "\t state              & State                                                                                                 \\\\\n",
       "\t total              & Number.of.drivers.involved.in.fatal.collisions.per.billion.miles                                      \\\\\n",
       "\t speeding           & Percentage.Of.Drivers.Involved.In.Fatal.Collisions.Who.Were.Speeding                                  \\\\\n",
       "\t alcohol            & Percentage.Of.Drivers.Involved.In.Fatal.Collisions.Who.Were.Alcohol.Impaired                          \\\\\n",
       "\t not\\_distracted     & Percentage.Of.Drivers.Involved.In.Fatal.Collisions.Who.Were.Not.Distracted                            \\\\\n",
       "\t previous\\_accidents & Percentage.Of.Drivers.Involved.In.Fatal.Collisions.Who.Had.Not.Been.Involved.In.Any.Previous.Accidents\\\\\n",
       "\t insurance\\_premium  & Car.Insurance.Premiums....                                                                            \\\\\n",
       "\t insurance\\_loss     & Losses.incurred.by.insurance.companies.for.collisions.per.insured.driver....                          \\\\\n",
       "\\end{tabular}\n"
      ],
      "text/markdown": [
       "\n",
       "A data.frame: 8 × 2\n",
       "\n",
       "| column_names &lt;fct&gt; | column_descriptions &lt;fct&gt; |\n",
       "|---|---|\n",
       "| state              | State                                                                                                  |\n",
       "| total              | Number.of.drivers.involved.in.fatal.collisions.per.billion.miles                                       |\n",
       "| speeding           | Percentage.Of.Drivers.Involved.In.Fatal.Collisions.Who.Were.Speeding                                   |\n",
       "| alcohol            | Percentage.Of.Drivers.Involved.In.Fatal.Collisions.Who.Were.Alcohol.Impaired                           |\n",
       "| not_distracted     | Percentage.Of.Drivers.Involved.In.Fatal.Collisions.Who.Were.Not.Distracted                             |\n",
       "| previous_accidents | Percentage.Of.Drivers.Involved.In.Fatal.Collisions.Who.Had.Not.Been.Involved.In.Any.Previous.Accidents |\n",
       "| insurance_premium  | Car.Insurance.Premiums....                                                                             |\n",
       "| insurance_loss     | Losses.incurred.by.insurance.companies.for.collisions.per.insured.driver....                           |\n",
       "\n"
      ],
      "text/plain": [
       "  column_names      \n",
       "1 state             \n",
       "2 total             \n",
       "3 speeding          \n",
       "4 alcohol           \n",
       "5 not_distracted    \n",
       "6 previous_accidents\n",
       "7 insurance_premium \n",
       "8 insurance_loss    \n",
       "  column_descriptions                                                                                   \n",
       "1 State                                                                                                 \n",
       "2 Number.of.drivers.involved.in.fatal.collisions.per.billion.miles                                      \n",
       "3 Percentage.Of.Drivers.Involved.In.Fatal.Collisions.Who.Were.Speeding                                  \n",
       "4 Percentage.Of.Drivers.Involved.In.Fatal.Collisions.Who.Were.Alcohol.Impaired                          \n",
       "5 Percentage.Of.Drivers.Involved.In.Fatal.Collisions.Who.Were.Not.Distracted                            \n",
       "6 Percentage.Of.Drivers.Involved.In.Fatal.Collisions.Who.Had.Not.Been.Involved.In.Any.Previous.Accidents\n",
       "7 Car.Insurance.Premiums....                                                                            \n",
       "8 Losses.incurred.by.insurance.companies.for.collisions.per.insured.driver....                          "
      ]
     },
     "metadata": {},
     "output_type": "display_data"
    }
   ],
   "source": [
    "## the line below is how you read in a csv\n",
    "d = read.csv(\"https://raw.githubusercontent.com/fivethirtyeight/data/master/bad-drivers/bad-drivers.csv\")\n",
    "\n",
    "## this is just me making the column names a little easier to handle\n",
    "new_cols <- c('state', 'total', 'speeding', 'alcohol', 'not_distracted', 'previous_accidents', 'insurance_premium', 'insurance_loss')\n",
    "print('Column names and descriptions:')\n",
    "data.frame(column_names = new_cols, column_descriptions = colnames(d))\n",
    "colnames(d) = new_cols\n",
    "\n"
   ]
  },
  {
   "cell_type": "code",
   "execution_count": 35,
   "metadata": {},
   "outputs": [
    {
     "name": "stdout",
     "output_type": "stream",
     "text": [
      "[1] \"The actual data:\"\n"
     ]
    },
    {
     "data": {
      "text/html": [
       "<table class=\"dataframe\">\n",
       "<caption>A data.frame: 51 × 8</caption>\n",
       "<thead>\n",
       "\t<tr><th scope=col>state</th><th scope=col>total</th><th scope=col>speeding</th><th scope=col>alcohol</th><th scope=col>not_distracted</th><th scope=col>previous_accidents</th><th scope=col>insurance_premium</th><th scope=col>insurance_loss</th></tr>\n",
       "\t<tr><th scope=col>&lt;fct&gt;</th><th scope=col>&lt;dbl&gt;</th><th scope=col>&lt;int&gt;</th><th scope=col>&lt;int&gt;</th><th scope=col>&lt;int&gt;</th><th scope=col>&lt;int&gt;</th><th scope=col>&lt;dbl&gt;</th><th scope=col>&lt;dbl&gt;</th></tr>\n",
       "</thead>\n",
       "<tbody>\n",
       "\t<tr><td>Alabama             </td><td>18.8</td><td>39</td><td>30</td><td> 96</td><td> 80</td><td> 784.55</td><td>145.08</td></tr>\n",
       "\t<tr><td>Alaska              </td><td>18.1</td><td>41</td><td>25</td><td> 90</td><td> 94</td><td>1053.48</td><td>133.93</td></tr>\n",
       "\t<tr><td>Arizona             </td><td>18.6</td><td>35</td><td>28</td><td> 84</td><td> 96</td><td> 899.47</td><td>110.35</td></tr>\n",
       "\t<tr><td>Arkansas            </td><td>22.4</td><td>18</td><td>26</td><td> 94</td><td> 95</td><td> 827.34</td><td>142.39</td></tr>\n",
       "\t<tr><td>California          </td><td>12.0</td><td>35</td><td>28</td><td> 91</td><td> 89</td><td> 878.41</td><td>165.63</td></tr>\n",
       "\t<tr><td>Colorado            </td><td>13.6</td><td>37</td><td>28</td><td> 79</td><td> 95</td><td> 835.50</td><td>139.91</td></tr>\n",
       "\t<tr><td>Connecticut         </td><td>10.8</td><td>46</td><td>36</td><td> 87</td><td> 82</td><td>1068.73</td><td>167.02</td></tr>\n",
       "\t<tr><td>Delaware            </td><td>16.2</td><td>38</td><td>30</td><td> 87</td><td> 99</td><td>1137.87</td><td>151.48</td></tr>\n",
       "\t<tr><td>District of Columbia</td><td> 5.9</td><td>34</td><td>27</td><td>100</td><td>100</td><td>1273.89</td><td>136.05</td></tr>\n",
       "\t<tr><td>Florida             </td><td>17.9</td><td>21</td><td>29</td><td> 92</td><td> 94</td><td>1160.13</td><td>144.18</td></tr>\n",
       "\t<tr><td>Georgia             </td><td>15.6</td><td>19</td><td>25</td><td> 95</td><td> 93</td><td> 913.15</td><td>142.80</td></tr>\n",
       "\t<tr><td>Hawaii              </td><td>17.5</td><td>54</td><td>41</td><td> 82</td><td> 87</td><td> 861.18</td><td>120.92</td></tr>\n",
       "\t<tr><td>Idaho               </td><td>15.3</td><td>36</td><td>29</td><td> 85</td><td> 98</td><td> 641.96</td><td> 82.75</td></tr>\n",
       "\t<tr><td>Illinois            </td><td>12.8</td><td>36</td><td>34</td><td> 94</td><td> 96</td><td> 803.11</td><td>139.15</td></tr>\n",
       "\t<tr><td>Indiana             </td><td>14.5</td><td>25</td><td>29</td><td> 95</td><td> 95</td><td> 710.46</td><td>108.92</td></tr>\n",
       "\t<tr><td>Iowa                </td><td>15.7</td><td>17</td><td>25</td><td> 97</td><td> 87</td><td> 649.06</td><td>114.47</td></tr>\n",
       "\t<tr><td>Kansas              </td><td>17.8</td><td>27</td><td>24</td><td> 77</td><td> 85</td><td> 780.45</td><td>133.80</td></tr>\n",
       "\t<tr><td>Kentucky            </td><td>21.4</td><td>19</td><td>23</td><td> 78</td><td> 76</td><td> 872.51</td><td>137.13</td></tr>\n",
       "\t<tr><td>Louisiana           </td><td>20.5</td><td>35</td><td>33</td><td> 73</td><td> 98</td><td>1281.55</td><td>194.78</td></tr>\n",
       "\t<tr><td>Maine               </td><td>15.1</td><td>38</td><td>30</td><td> 87</td><td> 84</td><td> 661.88</td><td> 96.57</td></tr>\n",
       "\t<tr><td>Maryland            </td><td>12.5</td><td>34</td><td>32</td><td> 71</td><td> 99</td><td>1048.78</td><td>192.70</td></tr>\n",
       "\t<tr><td>Massachusetts       </td><td> 8.2</td><td>23</td><td>35</td><td> 87</td><td> 80</td><td>1011.14</td><td>135.63</td></tr>\n",
       "\t<tr><td>Michigan            </td><td>14.1</td><td>24</td><td>28</td><td> 95</td><td> 77</td><td>1110.61</td><td>152.26</td></tr>\n",
       "\t<tr><td>Minnesota           </td><td> 9.6</td><td>23</td><td>29</td><td> 88</td><td> 88</td><td> 777.18</td><td>133.35</td></tr>\n",
       "\t<tr><td>Mississippi         </td><td>17.6</td><td>15</td><td>31</td><td> 10</td><td>100</td><td> 896.07</td><td>155.77</td></tr>\n",
       "\t<tr><td>Missouri            </td><td>16.1</td><td>43</td><td>34</td><td> 92</td><td> 84</td><td> 790.32</td><td>144.45</td></tr>\n",
       "\t<tr><td>Montana             </td><td>21.4</td><td>39</td><td>44</td><td> 84</td><td> 85</td><td> 816.21</td><td> 85.15</td></tr>\n",
       "\t<tr><td>Nebraska            </td><td>14.9</td><td>13</td><td>35</td><td> 93</td><td> 90</td><td> 732.28</td><td>114.82</td></tr>\n",
       "\t<tr><td>Nevada              </td><td>14.7</td><td>37</td><td>32</td><td> 95</td><td> 99</td><td>1029.87</td><td>138.71</td></tr>\n",
       "\t<tr><td>New Hampshire       </td><td>11.6</td><td>35</td><td>30</td><td> 87</td><td> 83</td><td> 746.54</td><td>120.21</td></tr>\n",
       "\t<tr><td>New Jersey          </td><td>11.2</td><td>16</td><td>28</td><td> 86</td><td> 78</td><td>1301.52</td><td>159.85</td></tr>\n",
       "\t<tr><td>New Mexico          </td><td>18.4</td><td>19</td><td>27</td><td> 67</td><td> 98</td><td> 869.85</td><td>120.75</td></tr>\n",
       "\t<tr><td>New York            </td><td>12.3</td><td>32</td><td>29</td><td> 88</td><td> 80</td><td>1234.31</td><td>150.01</td></tr>\n",
       "\t<tr><td>North Carolina      </td><td>16.8</td><td>39</td><td>31</td><td> 94</td><td> 81</td><td> 708.24</td><td>127.82</td></tr>\n",
       "\t<tr><td>North Dakota        </td><td>23.9</td><td>23</td><td>42</td><td> 99</td><td> 86</td><td> 688.75</td><td>109.72</td></tr>\n",
       "\t<tr><td>Ohio                </td><td>14.1</td><td>28</td><td>34</td><td> 99</td><td> 82</td><td> 697.73</td><td>133.52</td></tr>\n",
       "\t<tr><td>Oklahoma            </td><td>19.9</td><td>32</td><td>29</td><td> 92</td><td> 94</td><td> 881.51</td><td>178.86</td></tr>\n",
       "\t<tr><td>Oregon              </td><td>12.8</td><td>33</td><td>26</td><td> 67</td><td> 90</td><td> 804.71</td><td>104.61</td></tr>\n",
       "\t<tr><td>Pennsylvania        </td><td>18.2</td><td>50</td><td>31</td><td> 96</td><td> 88</td><td> 905.99</td><td>153.86</td></tr>\n",
       "\t<tr><td>Rhode Island        </td><td>11.1</td><td>34</td><td>38</td><td> 92</td><td> 79</td><td>1148.99</td><td>148.58</td></tr>\n",
       "\t<tr><td>South Carolina      </td><td>23.9</td><td>38</td><td>41</td><td> 96</td><td> 81</td><td> 858.97</td><td>116.29</td></tr>\n",
       "\t<tr><td>South Dakota        </td><td>19.4</td><td>31</td><td>33</td><td> 98</td><td> 86</td><td> 669.31</td><td> 96.87</td></tr>\n",
       "\t<tr><td>Tennessee           </td><td>19.5</td><td>21</td><td>29</td><td> 82</td><td> 81</td><td> 767.91</td><td>155.57</td></tr>\n",
       "\t<tr><td>Texas               </td><td>19.4</td><td>40</td><td>38</td><td> 91</td><td> 87</td><td>1004.75</td><td>156.83</td></tr>\n",
       "\t<tr><td>Utah                </td><td>11.3</td><td>43</td><td>16</td><td> 88</td><td> 96</td><td> 809.38</td><td>109.48</td></tr>\n",
       "\t<tr><td>Vermont             </td><td>13.6</td><td>30</td><td>30</td><td> 96</td><td> 95</td><td> 716.20</td><td>109.61</td></tr>\n",
       "\t<tr><td>Virginia            </td><td>12.7</td><td>19</td><td>27</td><td> 87</td><td> 88</td><td> 768.95</td><td>153.72</td></tr>\n",
       "\t<tr><td>Washington          </td><td>10.6</td><td>42</td><td>33</td><td> 82</td><td> 86</td><td> 890.03</td><td>111.62</td></tr>\n",
       "\t<tr><td>West Virginia       </td><td>23.8</td><td>34</td><td>28</td><td> 97</td><td> 87</td><td> 992.61</td><td>152.56</td></tr>\n",
       "\t<tr><td>Wisconsin           </td><td>13.8</td><td>36</td><td>33</td><td> 39</td><td> 84</td><td> 670.31</td><td>106.62</td></tr>\n",
       "\t<tr><td>Wyoming             </td><td>17.4</td><td>42</td><td>32</td><td> 81</td><td> 90</td><td> 791.14</td><td>122.04</td></tr>\n",
       "</tbody>\n",
       "</table>\n"
      ],
      "text/latex": [
       "A data.frame: 51 × 8\n",
       "\\begin{tabular}{llllllll}\n",
       " state & total & speeding & alcohol & not\\_distracted & previous\\_accidents & insurance\\_premium & insurance\\_loss\\\\\n",
       " <fct> & <dbl> & <int> & <int> & <int> & <int> & <dbl> & <dbl>\\\\\n",
       "\\hline\n",
       "\t Alabama              & 18.8 & 39 & 30 &  96 &  80 &  784.55 & 145.08\\\\\n",
       "\t Alaska               & 18.1 & 41 & 25 &  90 &  94 & 1053.48 & 133.93\\\\\n",
       "\t Arizona              & 18.6 & 35 & 28 &  84 &  96 &  899.47 & 110.35\\\\\n",
       "\t Arkansas             & 22.4 & 18 & 26 &  94 &  95 &  827.34 & 142.39\\\\\n",
       "\t California           & 12.0 & 35 & 28 &  91 &  89 &  878.41 & 165.63\\\\\n",
       "\t Colorado             & 13.6 & 37 & 28 &  79 &  95 &  835.50 & 139.91\\\\\n",
       "\t Connecticut          & 10.8 & 46 & 36 &  87 &  82 & 1068.73 & 167.02\\\\\n",
       "\t Delaware             & 16.2 & 38 & 30 &  87 &  99 & 1137.87 & 151.48\\\\\n",
       "\t District of Columbia &  5.9 & 34 & 27 & 100 & 100 & 1273.89 & 136.05\\\\\n",
       "\t Florida              & 17.9 & 21 & 29 &  92 &  94 & 1160.13 & 144.18\\\\\n",
       "\t Georgia              & 15.6 & 19 & 25 &  95 &  93 &  913.15 & 142.80\\\\\n",
       "\t Hawaii               & 17.5 & 54 & 41 &  82 &  87 &  861.18 & 120.92\\\\\n",
       "\t Idaho                & 15.3 & 36 & 29 &  85 &  98 &  641.96 &  82.75\\\\\n",
       "\t Illinois             & 12.8 & 36 & 34 &  94 &  96 &  803.11 & 139.15\\\\\n",
       "\t Indiana              & 14.5 & 25 & 29 &  95 &  95 &  710.46 & 108.92\\\\\n",
       "\t Iowa                 & 15.7 & 17 & 25 &  97 &  87 &  649.06 & 114.47\\\\\n",
       "\t Kansas               & 17.8 & 27 & 24 &  77 &  85 &  780.45 & 133.80\\\\\n",
       "\t Kentucky             & 21.4 & 19 & 23 &  78 &  76 &  872.51 & 137.13\\\\\n",
       "\t Louisiana            & 20.5 & 35 & 33 &  73 &  98 & 1281.55 & 194.78\\\\\n",
       "\t Maine                & 15.1 & 38 & 30 &  87 &  84 &  661.88 &  96.57\\\\\n",
       "\t Maryland             & 12.5 & 34 & 32 &  71 &  99 & 1048.78 & 192.70\\\\\n",
       "\t Massachusetts        &  8.2 & 23 & 35 &  87 &  80 & 1011.14 & 135.63\\\\\n",
       "\t Michigan             & 14.1 & 24 & 28 &  95 &  77 & 1110.61 & 152.26\\\\\n",
       "\t Minnesota            &  9.6 & 23 & 29 &  88 &  88 &  777.18 & 133.35\\\\\n",
       "\t Mississippi          & 17.6 & 15 & 31 &  10 & 100 &  896.07 & 155.77\\\\\n",
       "\t Missouri             & 16.1 & 43 & 34 &  92 &  84 &  790.32 & 144.45\\\\\n",
       "\t Montana              & 21.4 & 39 & 44 &  84 &  85 &  816.21 &  85.15\\\\\n",
       "\t Nebraska             & 14.9 & 13 & 35 &  93 &  90 &  732.28 & 114.82\\\\\n",
       "\t Nevada               & 14.7 & 37 & 32 &  95 &  99 & 1029.87 & 138.71\\\\\n",
       "\t New Hampshire        & 11.6 & 35 & 30 &  87 &  83 &  746.54 & 120.21\\\\\n",
       "\t New Jersey           & 11.2 & 16 & 28 &  86 &  78 & 1301.52 & 159.85\\\\\n",
       "\t New Mexico           & 18.4 & 19 & 27 &  67 &  98 &  869.85 & 120.75\\\\\n",
       "\t New York             & 12.3 & 32 & 29 &  88 &  80 & 1234.31 & 150.01\\\\\n",
       "\t North Carolina       & 16.8 & 39 & 31 &  94 &  81 &  708.24 & 127.82\\\\\n",
       "\t North Dakota         & 23.9 & 23 & 42 &  99 &  86 &  688.75 & 109.72\\\\\n",
       "\t Ohio                 & 14.1 & 28 & 34 &  99 &  82 &  697.73 & 133.52\\\\\n",
       "\t Oklahoma             & 19.9 & 32 & 29 &  92 &  94 &  881.51 & 178.86\\\\\n",
       "\t Oregon               & 12.8 & 33 & 26 &  67 &  90 &  804.71 & 104.61\\\\\n",
       "\t Pennsylvania         & 18.2 & 50 & 31 &  96 &  88 &  905.99 & 153.86\\\\\n",
       "\t Rhode Island         & 11.1 & 34 & 38 &  92 &  79 & 1148.99 & 148.58\\\\\n",
       "\t South Carolina       & 23.9 & 38 & 41 &  96 &  81 &  858.97 & 116.29\\\\\n",
       "\t South Dakota         & 19.4 & 31 & 33 &  98 &  86 &  669.31 &  96.87\\\\\n",
       "\t Tennessee            & 19.5 & 21 & 29 &  82 &  81 &  767.91 & 155.57\\\\\n",
       "\t Texas                & 19.4 & 40 & 38 &  91 &  87 & 1004.75 & 156.83\\\\\n",
       "\t Utah                 & 11.3 & 43 & 16 &  88 &  96 &  809.38 & 109.48\\\\\n",
       "\t Vermont              & 13.6 & 30 & 30 &  96 &  95 &  716.20 & 109.61\\\\\n",
       "\t Virginia             & 12.7 & 19 & 27 &  87 &  88 &  768.95 & 153.72\\\\\n",
       "\t Washington           & 10.6 & 42 & 33 &  82 &  86 &  890.03 & 111.62\\\\\n",
       "\t West Virginia        & 23.8 & 34 & 28 &  97 &  87 &  992.61 & 152.56\\\\\n",
       "\t Wisconsin            & 13.8 & 36 & 33 &  39 &  84 &  670.31 & 106.62\\\\\n",
       "\t Wyoming              & 17.4 & 42 & 32 &  81 &  90 &  791.14 & 122.04\\\\\n",
       "\\end{tabular}\n"
      ],
      "text/markdown": [
       "\n",
       "A data.frame: 51 × 8\n",
       "\n",
       "| state &lt;fct&gt; | total &lt;dbl&gt; | speeding &lt;int&gt; | alcohol &lt;int&gt; | not_distracted &lt;int&gt; | previous_accidents &lt;int&gt; | insurance_premium &lt;dbl&gt; | insurance_loss &lt;dbl&gt; |\n",
       "|---|---|---|---|---|---|---|---|\n",
       "| Alabama              | 18.8 | 39 | 30 |  96 |  80 |  784.55 | 145.08 |\n",
       "| Alaska               | 18.1 | 41 | 25 |  90 |  94 | 1053.48 | 133.93 |\n",
       "| Arizona              | 18.6 | 35 | 28 |  84 |  96 |  899.47 | 110.35 |\n",
       "| Arkansas             | 22.4 | 18 | 26 |  94 |  95 |  827.34 | 142.39 |\n",
       "| California           | 12.0 | 35 | 28 |  91 |  89 |  878.41 | 165.63 |\n",
       "| Colorado             | 13.6 | 37 | 28 |  79 |  95 |  835.50 | 139.91 |\n",
       "| Connecticut          | 10.8 | 46 | 36 |  87 |  82 | 1068.73 | 167.02 |\n",
       "| Delaware             | 16.2 | 38 | 30 |  87 |  99 | 1137.87 | 151.48 |\n",
       "| District of Columbia |  5.9 | 34 | 27 | 100 | 100 | 1273.89 | 136.05 |\n",
       "| Florida              | 17.9 | 21 | 29 |  92 |  94 | 1160.13 | 144.18 |\n",
       "| Georgia              | 15.6 | 19 | 25 |  95 |  93 |  913.15 | 142.80 |\n",
       "| Hawaii               | 17.5 | 54 | 41 |  82 |  87 |  861.18 | 120.92 |\n",
       "| Idaho                | 15.3 | 36 | 29 |  85 |  98 |  641.96 |  82.75 |\n",
       "| Illinois             | 12.8 | 36 | 34 |  94 |  96 |  803.11 | 139.15 |\n",
       "| Indiana              | 14.5 | 25 | 29 |  95 |  95 |  710.46 | 108.92 |\n",
       "| Iowa                 | 15.7 | 17 | 25 |  97 |  87 |  649.06 | 114.47 |\n",
       "| Kansas               | 17.8 | 27 | 24 |  77 |  85 |  780.45 | 133.80 |\n",
       "| Kentucky             | 21.4 | 19 | 23 |  78 |  76 |  872.51 | 137.13 |\n",
       "| Louisiana            | 20.5 | 35 | 33 |  73 |  98 | 1281.55 | 194.78 |\n",
       "| Maine                | 15.1 | 38 | 30 |  87 |  84 |  661.88 |  96.57 |\n",
       "| Maryland             | 12.5 | 34 | 32 |  71 |  99 | 1048.78 | 192.70 |\n",
       "| Massachusetts        |  8.2 | 23 | 35 |  87 |  80 | 1011.14 | 135.63 |\n",
       "| Michigan             | 14.1 | 24 | 28 |  95 |  77 | 1110.61 | 152.26 |\n",
       "| Minnesota            |  9.6 | 23 | 29 |  88 |  88 |  777.18 | 133.35 |\n",
       "| Mississippi          | 17.6 | 15 | 31 |  10 | 100 |  896.07 | 155.77 |\n",
       "| Missouri             | 16.1 | 43 | 34 |  92 |  84 |  790.32 | 144.45 |\n",
       "| Montana              | 21.4 | 39 | 44 |  84 |  85 |  816.21 |  85.15 |\n",
       "| Nebraska             | 14.9 | 13 | 35 |  93 |  90 |  732.28 | 114.82 |\n",
       "| Nevada               | 14.7 | 37 | 32 |  95 |  99 | 1029.87 | 138.71 |\n",
       "| New Hampshire        | 11.6 | 35 | 30 |  87 |  83 |  746.54 | 120.21 |\n",
       "| New Jersey           | 11.2 | 16 | 28 |  86 |  78 | 1301.52 | 159.85 |\n",
       "| New Mexico           | 18.4 | 19 | 27 |  67 |  98 |  869.85 | 120.75 |\n",
       "| New York             | 12.3 | 32 | 29 |  88 |  80 | 1234.31 | 150.01 |\n",
       "| North Carolina       | 16.8 | 39 | 31 |  94 |  81 |  708.24 | 127.82 |\n",
       "| North Dakota         | 23.9 | 23 | 42 |  99 |  86 |  688.75 | 109.72 |\n",
       "| Ohio                 | 14.1 | 28 | 34 |  99 |  82 |  697.73 | 133.52 |\n",
       "| Oklahoma             | 19.9 | 32 | 29 |  92 |  94 |  881.51 | 178.86 |\n",
       "| Oregon               | 12.8 | 33 | 26 |  67 |  90 |  804.71 | 104.61 |\n",
       "| Pennsylvania         | 18.2 | 50 | 31 |  96 |  88 |  905.99 | 153.86 |\n",
       "| Rhode Island         | 11.1 | 34 | 38 |  92 |  79 | 1148.99 | 148.58 |\n",
       "| South Carolina       | 23.9 | 38 | 41 |  96 |  81 |  858.97 | 116.29 |\n",
       "| South Dakota         | 19.4 | 31 | 33 |  98 |  86 |  669.31 |  96.87 |\n",
       "| Tennessee            | 19.5 | 21 | 29 |  82 |  81 |  767.91 | 155.57 |\n",
       "| Texas                | 19.4 | 40 | 38 |  91 |  87 | 1004.75 | 156.83 |\n",
       "| Utah                 | 11.3 | 43 | 16 |  88 |  96 |  809.38 | 109.48 |\n",
       "| Vermont              | 13.6 | 30 | 30 |  96 |  95 |  716.20 | 109.61 |\n",
       "| Virginia             | 12.7 | 19 | 27 |  87 |  88 |  768.95 | 153.72 |\n",
       "| Washington           | 10.6 | 42 | 33 |  82 |  86 |  890.03 | 111.62 |\n",
       "| West Virginia        | 23.8 | 34 | 28 |  97 |  87 |  992.61 | 152.56 |\n",
       "| Wisconsin            | 13.8 | 36 | 33 |  39 |  84 |  670.31 | 106.62 |\n",
       "| Wyoming              | 17.4 | 42 | 32 |  81 |  90 |  791.14 | 122.04 |\n",
       "\n"
      ],
      "text/plain": [
       "   state                total speeding alcohol not_distracted\n",
       "1  Alabama              18.8  39       30       96           \n",
       "2  Alaska               18.1  41       25       90           \n",
       "3  Arizona              18.6  35       28       84           \n",
       "4  Arkansas             22.4  18       26       94           \n",
       "5  California           12.0  35       28       91           \n",
       "6  Colorado             13.6  37       28       79           \n",
       "7  Connecticut          10.8  46       36       87           \n",
       "8  Delaware             16.2  38       30       87           \n",
       "9  District of Columbia  5.9  34       27      100           \n",
       "10 Florida              17.9  21       29       92           \n",
       "11 Georgia              15.6  19       25       95           \n",
       "12 Hawaii               17.5  54       41       82           \n",
       "13 Idaho                15.3  36       29       85           \n",
       "14 Illinois             12.8  36       34       94           \n",
       "15 Indiana              14.5  25       29       95           \n",
       "16 Iowa                 15.7  17       25       97           \n",
       "17 Kansas               17.8  27       24       77           \n",
       "18 Kentucky             21.4  19       23       78           \n",
       "19 Louisiana            20.5  35       33       73           \n",
       "20 Maine                15.1  38       30       87           \n",
       "21 Maryland             12.5  34       32       71           \n",
       "22 Massachusetts         8.2  23       35       87           \n",
       "23 Michigan             14.1  24       28       95           \n",
       "24 Minnesota             9.6  23       29       88           \n",
       "25 Mississippi          17.6  15       31       10           \n",
       "26 Missouri             16.1  43       34       92           \n",
       "27 Montana              21.4  39       44       84           \n",
       "28 Nebraska             14.9  13       35       93           \n",
       "29 Nevada               14.7  37       32       95           \n",
       "30 New Hampshire        11.6  35       30       87           \n",
       "31 New Jersey           11.2  16       28       86           \n",
       "32 New Mexico           18.4  19       27       67           \n",
       "33 New York             12.3  32       29       88           \n",
       "34 North Carolina       16.8  39       31       94           \n",
       "35 North Dakota         23.9  23       42       99           \n",
       "36 Ohio                 14.1  28       34       99           \n",
       "37 Oklahoma             19.9  32       29       92           \n",
       "38 Oregon               12.8  33       26       67           \n",
       "39 Pennsylvania         18.2  50       31       96           \n",
       "40 Rhode Island         11.1  34       38       92           \n",
       "41 South Carolina       23.9  38       41       96           \n",
       "42 South Dakota         19.4  31       33       98           \n",
       "43 Tennessee            19.5  21       29       82           \n",
       "44 Texas                19.4  40       38       91           \n",
       "45 Utah                 11.3  43       16       88           \n",
       "46 Vermont              13.6  30       30       96           \n",
       "47 Virginia             12.7  19       27       87           \n",
       "48 Washington           10.6  42       33       82           \n",
       "49 West Virginia        23.8  34       28       97           \n",
       "50 Wisconsin            13.8  36       33       39           \n",
       "51 Wyoming              17.4  42       32       81           \n",
       "   previous_accidents insurance_premium insurance_loss\n",
       "1   80                 784.55           145.08        \n",
       "2   94                1053.48           133.93        \n",
       "3   96                 899.47           110.35        \n",
       "4   95                 827.34           142.39        \n",
       "5   89                 878.41           165.63        \n",
       "6   95                 835.50           139.91        \n",
       "7   82                1068.73           167.02        \n",
       "8   99                1137.87           151.48        \n",
       "9  100                1273.89           136.05        \n",
       "10  94                1160.13           144.18        \n",
       "11  93                 913.15           142.80        \n",
       "12  87                 861.18           120.92        \n",
       "13  98                 641.96            82.75        \n",
       "14  96                 803.11           139.15        \n",
       "15  95                 710.46           108.92        \n",
       "16  87                 649.06           114.47        \n",
       "17  85                 780.45           133.80        \n",
       "18  76                 872.51           137.13        \n",
       "19  98                1281.55           194.78        \n",
       "20  84                 661.88            96.57        \n",
       "21  99                1048.78           192.70        \n",
       "22  80                1011.14           135.63        \n",
       "23  77                1110.61           152.26        \n",
       "24  88                 777.18           133.35        \n",
       "25 100                 896.07           155.77        \n",
       "26  84                 790.32           144.45        \n",
       "27  85                 816.21            85.15        \n",
       "28  90                 732.28           114.82        \n",
       "29  99                1029.87           138.71        \n",
       "30  83                 746.54           120.21        \n",
       "31  78                1301.52           159.85        \n",
       "32  98                 869.85           120.75        \n",
       "33  80                1234.31           150.01        \n",
       "34  81                 708.24           127.82        \n",
       "35  86                 688.75           109.72        \n",
       "36  82                 697.73           133.52        \n",
       "37  94                 881.51           178.86        \n",
       "38  90                 804.71           104.61        \n",
       "39  88                 905.99           153.86        \n",
       "40  79                1148.99           148.58        \n",
       "41  81                 858.97           116.29        \n",
       "42  86                 669.31            96.87        \n",
       "43  81                 767.91           155.57        \n",
       "44  87                1004.75           156.83        \n",
       "45  96                 809.38           109.48        \n",
       "46  95                 716.20           109.61        \n",
       "47  88                 768.95           153.72        \n",
       "48  86                 890.03           111.62        \n",
       "49  87                 992.61           152.56        \n",
       "50  84                 670.31           106.62        \n",
       "51  90                 791.14           122.04        "
      ]
     },
     "metadata": {},
     "output_type": "display_data"
    }
   ],
   "source": [
    "print('The actual data:')\n",
    "d # Jupyter will by default print any variable "
   ]
  },
  {
   "cell_type": "markdown",
   "metadata": {},
   "source": [
    "### Selecting a column and the $ operator\n",
    "\n",
    "With a dataframe you can select rows by asking R to return the number column where the first column in the dataframe is 1, the second column 2, and so on. \n",
    "You can also ask R to return a column of your dataframe by column name.\n",
    "\n",
    "The 3rd column of the dataframe that we read records, by state, the percentage of fatal collision that involved a driver who was impaired by alcohol. \n",
    "\n",
    "We can ask R for the 3rd column by using square brackets in the same way that we used square brackets to select rows and columns of matrices. "
   ]
  },
  {
   "cell_type": "code",
   "execution_count": 36,
   "metadata": {},
   "outputs": [
    {
     "data": {
      "text/html": [
       "<style>\n",
       ".list-inline {list-style: none; margin:0; padding: 0}\n",
       ".list-inline>li {display: inline-block}\n",
       ".list-inline>li:not(:last-child)::after {content: \"\\00b7\"; padding: 0 .5ex}\n",
       "</style>\n",
       "<ol class=list-inline><li>39</li><li>41</li><li>35</li><li>18</li><li>35</li><li>37</li><li>46</li><li>38</li><li>34</li><li>21</li><li>19</li><li>54</li><li>36</li><li>36</li><li>25</li><li>17</li><li>27</li><li>19</li><li>35</li><li>38</li><li>34</li><li>23</li><li>24</li><li>23</li><li>15</li><li>43</li><li>39</li><li>13</li><li>37</li><li>35</li><li>16</li><li>19</li><li>32</li><li>39</li><li>23</li><li>28</li><li>32</li><li>33</li><li>50</li><li>34</li><li>38</li><li>31</li><li>21</li><li>40</li><li>43</li><li>30</li><li>19</li><li>42</li><li>34</li><li>36</li><li>42</li></ol>\n"
      ],
      "text/latex": [
       "\\begin{enumerate*}\n",
       "\\item 39\n",
       "\\item 41\n",
       "\\item 35\n",
       "\\item 18\n",
       "\\item 35\n",
       "\\item 37\n",
       "\\item 46\n",
       "\\item 38\n",
       "\\item 34\n",
       "\\item 21\n",
       "\\item 19\n",
       "\\item 54\n",
       "\\item 36\n",
       "\\item 36\n",
       "\\item 25\n",
       "\\item 17\n",
       "\\item 27\n",
       "\\item 19\n",
       "\\item 35\n",
       "\\item 38\n",
       "\\item 34\n",
       "\\item 23\n",
       "\\item 24\n",
       "\\item 23\n",
       "\\item 15\n",
       "\\item 43\n",
       "\\item 39\n",
       "\\item 13\n",
       "\\item 37\n",
       "\\item 35\n",
       "\\item 16\n",
       "\\item 19\n",
       "\\item 32\n",
       "\\item 39\n",
       "\\item 23\n",
       "\\item 28\n",
       "\\item 32\n",
       "\\item 33\n",
       "\\item 50\n",
       "\\item 34\n",
       "\\item 38\n",
       "\\item 31\n",
       "\\item 21\n",
       "\\item 40\n",
       "\\item 43\n",
       "\\item 30\n",
       "\\item 19\n",
       "\\item 42\n",
       "\\item 34\n",
       "\\item 36\n",
       "\\item 42\n",
       "\\end{enumerate*}\n"
      ],
      "text/markdown": [
       "1. 39\n",
       "2. 41\n",
       "3. 35\n",
       "4. 18\n",
       "5. 35\n",
       "6. 37\n",
       "7. 46\n",
       "8. 38\n",
       "9. 34\n",
       "10. 21\n",
       "11. 19\n",
       "12. 54\n",
       "13. 36\n",
       "14. 36\n",
       "15. 25\n",
       "16. 17\n",
       "17. 27\n",
       "18. 19\n",
       "19. 35\n",
       "20. 38\n",
       "21. 34\n",
       "22. 23\n",
       "23. 24\n",
       "24. 23\n",
       "25. 15\n",
       "26. 43\n",
       "27. 39\n",
       "28. 13\n",
       "29. 37\n",
       "30. 35\n",
       "31. 16\n",
       "32. 19\n",
       "33. 32\n",
       "34. 39\n",
       "35. 23\n",
       "36. 28\n",
       "37. 32\n",
       "38. 33\n",
       "39. 50\n",
       "40. 34\n",
       "41. 38\n",
       "42. 31\n",
       "43. 21\n",
       "44. 40\n",
       "45. 43\n",
       "46. 30\n",
       "47. 19\n",
       "48. 42\n",
       "49. 34\n",
       "50. 36\n",
       "51. 42\n",
       "\n",
       "\n"
      ],
      "text/plain": [
       " [1] 39 41 35 18 35 37 46 38 34 21 19 54 36 36 25 17 27 19 35 38 34 23 24 23 15\n",
       "[26] 43 39 13 37 35 16 19 32 39 23 28 32 33 50 34 38 31 21 40 43 30 19 42 34 36\n",
       "[51] 42"
      ]
     },
     "metadata": {},
     "output_type": "display_data"
    }
   ],
   "source": [
    "d[,3]"
   ]
  },
  {
   "cell_type": "markdown",
   "metadata": {},
   "source": [
    "We can request a column from a dataframe by asking for \n",
    "1. The dataframe\n",
    "2. square brackets\n",
    "Inside the square brackets you divide the rows you want selected and the columns you want selected by a comma.\n",
    "\n",
    "For example, if we wanted to look at the 10th row and 3rd column we can write"
   ]
  },
  {
   "cell_type": "code",
   "execution_count": 37,
   "metadata": {},
   "outputs": [
    {
     "data": {
      "text/html": [
       "21"
      ],
      "text/latex": [
       "21"
      ],
      "text/markdown": [
       "21"
      ],
      "text/plain": [
       "[1] 21"
      ]
     },
     "metadata": {},
     "output_type": "display_data"
    }
   ],
   "source": [
    "d[10,3]"
   ]
  },
  {
   "cell_type": "markdown",
   "metadata": {},
   "source": [
    "If instead we wanted to view rows 10,11,12 and columns 3 and 4 we could write"
   ]
  },
  {
   "cell_type": "code",
   "execution_count": 38,
   "metadata": {},
   "outputs": [
    {
     "data": {
      "text/html": [
       "<table class=\"dataframe\">\n",
       "<caption>A data.frame: 3 × 2</caption>\n",
       "<thead>\n",
       "\t<tr><th></th><th scope=col>speeding</th><th scope=col>alcohol</th></tr>\n",
       "\t<tr><th></th><th scope=col>&lt;int&gt;</th><th scope=col>&lt;int&gt;</th></tr>\n",
       "</thead>\n",
       "<tbody>\n",
       "\t<tr><th scope=row>10</th><td>21</td><td>29</td></tr>\n",
       "\t<tr><th scope=row>11</th><td>19</td><td>25</td></tr>\n",
       "\t<tr><th scope=row>12</th><td>54</td><td>41</td></tr>\n",
       "</tbody>\n",
       "</table>\n"
      ],
      "text/latex": [
       "A data.frame: 3 × 2\n",
       "\\begin{tabular}{r|ll}\n",
       "  & speeding & alcohol\\\\\n",
       "  & <int> & <int>\\\\\n",
       "\\hline\n",
       "\t10 & 21 & 29\\\\\n",
       "\t11 & 19 & 25\\\\\n",
       "\t12 & 54 & 41\\\\\n",
       "\\end{tabular}\n"
      ],
      "text/markdown": [
       "\n",
       "A data.frame: 3 × 2\n",
       "\n",
       "| <!--/--> | speeding &lt;int&gt; | alcohol &lt;int&gt; |\n",
       "|---|---|---|\n",
       "| 10 | 21 | 29 |\n",
       "| 11 | 19 | 25 |\n",
       "| 12 | 54 | 41 |\n",
       "\n"
      ],
      "text/plain": [
       "   speeding alcohol\n",
       "10 21       29     \n",
       "11 19       25     \n",
       "12 54       41     "
      ]
     },
     "metadata": {},
     "output_type": "display_data"
    }
   ],
   "source": [
    "d[ 10:12, c(3,4)  ]"
   ]
  },
  {
   "cell_type": "markdown",
   "metadata": {},
   "source": [
    "The above examples select columns and rows by number. \n",
    "One advantage of a dataframe is that we can select columns **by name**. \n",
    "\n",
    "\n",
    "For example, we may be interested in rows 10-12 of the column \"Percentage.Of.Drivers.Involved.In.Fatal.Collisions.Who.Were.Speeding\""
   ]
  },
  {
   "cell_type": "code",
   "execution_count": 39,
   "metadata": {},
   "outputs": [
    {
     "data": {
      "text/html": [
       "<style>\n",
       ".list-inline {list-style: none; margin:0; padding: 0}\n",
       ".list-inline>li {display: inline-block}\n",
       ".list-inline>li:not(:last-child)::after {content: \"\\00b7\"; padding: 0 .5ex}\n",
       "</style>\n",
       "<ol class=list-inline><li>21</li><li>19</li><li>54</li></ol>\n"
      ],
      "text/latex": [
       "\\begin{enumerate*}\n",
       "\\item 21\n",
       "\\item 19\n",
       "\\item 54\n",
       "\\end{enumerate*}\n"
      ],
      "text/markdown": [
       "1. 21\n",
       "2. 19\n",
       "3. 54\n",
       "\n",
       "\n"
      ],
      "text/plain": [
       "[1] 21 19 54"
      ]
     },
     "metadata": {},
     "output_type": "display_data"
    }
   ],
   "source": [
    "d[10:12,\"speeding\"]"
   ]
  },
  {
   "cell_type": "markdown",
   "metadata": {},
   "source": [
    "We can ask for **all** rows that correspond to a column by leaving the entry to the left of the comma blank."
   ]
  },
  {
   "cell_type": "code",
   "execution_count": 40,
   "metadata": {},
   "outputs": [
    {
     "data": {
      "text/html": [
       "<style>\n",
       ".list-inline {list-style: none; margin:0; padding: 0}\n",
       ".list-inline>li {display: inline-block}\n",
       ".list-inline>li:not(:last-child)::after {content: \"\\00b7\"; padding: 0 .5ex}\n",
       "</style>\n",
       "<ol class=list-inline><li>39</li><li>41</li><li>35</li><li>18</li><li>35</li><li>37</li><li>46</li><li>38</li><li>34</li><li>21</li><li>19</li><li>54</li><li>36</li><li>36</li><li>25</li><li>17</li><li>27</li><li>19</li><li>35</li><li>38</li><li>34</li><li>23</li><li>24</li><li>23</li><li>15</li><li>43</li><li>39</li><li>13</li><li>37</li><li>35</li><li>16</li><li>19</li><li>32</li><li>39</li><li>23</li><li>28</li><li>32</li><li>33</li><li>50</li><li>34</li><li>38</li><li>31</li><li>21</li><li>40</li><li>43</li><li>30</li><li>19</li><li>42</li><li>34</li><li>36</li><li>42</li></ol>\n"
      ],
      "text/latex": [
       "\\begin{enumerate*}\n",
       "\\item 39\n",
       "\\item 41\n",
       "\\item 35\n",
       "\\item 18\n",
       "\\item 35\n",
       "\\item 37\n",
       "\\item 46\n",
       "\\item 38\n",
       "\\item 34\n",
       "\\item 21\n",
       "\\item 19\n",
       "\\item 54\n",
       "\\item 36\n",
       "\\item 36\n",
       "\\item 25\n",
       "\\item 17\n",
       "\\item 27\n",
       "\\item 19\n",
       "\\item 35\n",
       "\\item 38\n",
       "\\item 34\n",
       "\\item 23\n",
       "\\item 24\n",
       "\\item 23\n",
       "\\item 15\n",
       "\\item 43\n",
       "\\item 39\n",
       "\\item 13\n",
       "\\item 37\n",
       "\\item 35\n",
       "\\item 16\n",
       "\\item 19\n",
       "\\item 32\n",
       "\\item 39\n",
       "\\item 23\n",
       "\\item 28\n",
       "\\item 32\n",
       "\\item 33\n",
       "\\item 50\n",
       "\\item 34\n",
       "\\item 38\n",
       "\\item 31\n",
       "\\item 21\n",
       "\\item 40\n",
       "\\item 43\n",
       "\\item 30\n",
       "\\item 19\n",
       "\\item 42\n",
       "\\item 34\n",
       "\\item 36\n",
       "\\item 42\n",
       "\\end{enumerate*}\n"
      ],
      "text/markdown": [
       "1. 39\n",
       "2. 41\n",
       "3. 35\n",
       "4. 18\n",
       "5. 35\n",
       "6. 37\n",
       "7. 46\n",
       "8. 38\n",
       "9. 34\n",
       "10. 21\n",
       "11. 19\n",
       "12. 54\n",
       "13. 36\n",
       "14. 36\n",
       "15. 25\n",
       "16. 17\n",
       "17. 27\n",
       "18. 19\n",
       "19. 35\n",
       "20. 38\n",
       "21. 34\n",
       "22. 23\n",
       "23. 24\n",
       "24. 23\n",
       "25. 15\n",
       "26. 43\n",
       "27. 39\n",
       "28. 13\n",
       "29. 37\n",
       "30. 35\n",
       "31. 16\n",
       "32. 19\n",
       "33. 32\n",
       "34. 39\n",
       "35. 23\n",
       "36. 28\n",
       "37. 32\n",
       "38. 33\n",
       "39. 50\n",
       "40. 34\n",
       "41. 38\n",
       "42. 31\n",
       "43. 21\n",
       "44. 40\n",
       "45. 43\n",
       "46. 30\n",
       "47. 19\n",
       "48. 42\n",
       "49. 34\n",
       "50. 36\n",
       "51. 42\n",
       "\n",
       "\n"
      ],
      "text/plain": [
       " [1] 39 41 35 18 35 37 46 38 34 21 19 54 36 36 25 17 27 19 35 38 34 23 24 23 15\n",
       "[26] 43 39 13 37 35 16 19 32 39 23 28 32 33 50 34 38 31 21 40 43 30 19 42 34 36\n",
       "[51] 42"
      ]
     },
     "metadata": {},
     "output_type": "display_data"
    }
   ],
   "source": [
    "d[,\"speeding\"]"
   ]
  },
  {
   "cell_type": "markdown",
   "metadata": {},
   "source": [
    "Finally, there is a shorthand for the code ``d[,\"speeding\"]`` using the dollarsign operator.\n",
    "The dollar sign operator can be thought of as a function that takes a column name as input and returns the column of data inside your data frame corresponding to that column."
   ]
  },
  {
   "cell_type": "code",
   "execution_count": 41,
   "metadata": {},
   "outputs": [
    {
     "data": {
      "text/html": [
       "<style>\n",
       ".list-inline {list-style: none; margin:0; padding: 0}\n",
       ".list-inline>li {display: inline-block}\n",
       ".list-inline>li:not(:last-child)::after {content: \"\\00b7\"; padding: 0 .5ex}\n",
       "</style>\n",
       "<ol class=list-inline><li>39</li><li>41</li><li>35</li><li>18</li><li>35</li><li>37</li><li>46</li><li>38</li><li>34</li><li>21</li><li>19</li><li>54</li><li>36</li><li>36</li><li>25</li><li>17</li><li>27</li><li>19</li><li>35</li><li>38</li><li>34</li><li>23</li><li>24</li><li>23</li><li>15</li><li>43</li><li>39</li><li>13</li><li>37</li><li>35</li><li>16</li><li>19</li><li>32</li><li>39</li><li>23</li><li>28</li><li>32</li><li>33</li><li>50</li><li>34</li><li>38</li><li>31</li><li>21</li><li>40</li><li>43</li><li>30</li><li>19</li><li>42</li><li>34</li><li>36</li><li>42</li></ol>\n"
      ],
      "text/latex": [
       "\\begin{enumerate*}\n",
       "\\item 39\n",
       "\\item 41\n",
       "\\item 35\n",
       "\\item 18\n",
       "\\item 35\n",
       "\\item 37\n",
       "\\item 46\n",
       "\\item 38\n",
       "\\item 34\n",
       "\\item 21\n",
       "\\item 19\n",
       "\\item 54\n",
       "\\item 36\n",
       "\\item 36\n",
       "\\item 25\n",
       "\\item 17\n",
       "\\item 27\n",
       "\\item 19\n",
       "\\item 35\n",
       "\\item 38\n",
       "\\item 34\n",
       "\\item 23\n",
       "\\item 24\n",
       "\\item 23\n",
       "\\item 15\n",
       "\\item 43\n",
       "\\item 39\n",
       "\\item 13\n",
       "\\item 37\n",
       "\\item 35\n",
       "\\item 16\n",
       "\\item 19\n",
       "\\item 32\n",
       "\\item 39\n",
       "\\item 23\n",
       "\\item 28\n",
       "\\item 32\n",
       "\\item 33\n",
       "\\item 50\n",
       "\\item 34\n",
       "\\item 38\n",
       "\\item 31\n",
       "\\item 21\n",
       "\\item 40\n",
       "\\item 43\n",
       "\\item 30\n",
       "\\item 19\n",
       "\\item 42\n",
       "\\item 34\n",
       "\\item 36\n",
       "\\item 42\n",
       "\\end{enumerate*}\n"
      ],
      "text/markdown": [
       "1. 39\n",
       "2. 41\n",
       "3. 35\n",
       "4. 18\n",
       "5. 35\n",
       "6. 37\n",
       "7. 46\n",
       "8. 38\n",
       "9. 34\n",
       "10. 21\n",
       "11. 19\n",
       "12. 54\n",
       "13. 36\n",
       "14. 36\n",
       "15. 25\n",
       "16. 17\n",
       "17. 27\n",
       "18. 19\n",
       "19. 35\n",
       "20. 38\n",
       "21. 34\n",
       "22. 23\n",
       "23. 24\n",
       "24. 23\n",
       "25. 15\n",
       "26. 43\n",
       "27. 39\n",
       "28. 13\n",
       "29. 37\n",
       "30. 35\n",
       "31. 16\n",
       "32. 19\n",
       "33. 32\n",
       "34. 39\n",
       "35. 23\n",
       "36. 28\n",
       "37. 32\n",
       "38. 33\n",
       "39. 50\n",
       "40. 34\n",
       "41. 38\n",
       "42. 31\n",
       "43. 21\n",
       "44. 40\n",
       "45. 43\n",
       "46. 30\n",
       "47. 19\n",
       "48. 42\n",
       "49. 34\n",
       "50. 36\n",
       "51. 42\n",
       "\n",
       "\n"
      ],
      "text/plain": [
       " [1] 39 41 35 18 35 37 46 38 34 21 19 54 36 36 25 17 27 19 35 38 34 23 24 23 15\n",
       "[26] 43 39 13 37 35 16 19 32 39 23 28 32 33 50 34 38 31 21 40 43 30 19 42 34 36\n",
       "[51] 42"
      ]
     },
     "metadata": {},
     "output_type": "display_data"
    }
   ],
   "source": [
    "d$speeding"
   ]
  },
  {
   "cell_type": "markdown",
   "metadata": {},
   "source": [
    "### Logical indexing\n",
    "We are allowed to use logical indexing like we learned when selecting items in vectors and matrices to select rows and columns of a data frame.\n",
    "For example, suppose we are interested in **all** columns of our data frame where the Percentage Of Drivers Involved In Fatal Collisions Who Were Speeding is above 40\\%."
   ]
  },
  {
   "cell_type": "code",
   "execution_count": 42,
   "metadata": {},
   "outputs": [
    {
     "data": {
      "text/html": [
       "<table class=\"dataframe\">\n",
       "<caption>A data.frame: 8 × 8</caption>\n",
       "<thead>\n",
       "\t<tr><th></th><th scope=col>state</th><th scope=col>total</th><th scope=col>speeding</th><th scope=col>alcohol</th><th scope=col>not_distracted</th><th scope=col>previous_accidents</th><th scope=col>insurance_premium</th><th scope=col>insurance_loss</th></tr>\n",
       "\t<tr><th></th><th scope=col>&lt;fct&gt;</th><th scope=col>&lt;dbl&gt;</th><th scope=col>&lt;int&gt;</th><th scope=col>&lt;int&gt;</th><th scope=col>&lt;int&gt;</th><th scope=col>&lt;int&gt;</th><th scope=col>&lt;dbl&gt;</th><th scope=col>&lt;dbl&gt;</th></tr>\n",
       "</thead>\n",
       "<tbody>\n",
       "\t<tr><th scope=row>2</th><td>Alaska      </td><td>18.1</td><td>41</td><td>25</td><td>90</td><td>94</td><td>1053.48</td><td>133.93</td></tr>\n",
       "\t<tr><th scope=row>7</th><td>Connecticut </td><td>10.8</td><td>46</td><td>36</td><td>87</td><td>82</td><td>1068.73</td><td>167.02</td></tr>\n",
       "\t<tr><th scope=row>12</th><td>Hawaii      </td><td>17.5</td><td>54</td><td>41</td><td>82</td><td>87</td><td> 861.18</td><td>120.92</td></tr>\n",
       "\t<tr><th scope=row>26</th><td>Missouri    </td><td>16.1</td><td>43</td><td>34</td><td>92</td><td>84</td><td> 790.32</td><td>144.45</td></tr>\n",
       "\t<tr><th scope=row>39</th><td>Pennsylvania</td><td>18.2</td><td>50</td><td>31</td><td>96</td><td>88</td><td> 905.99</td><td>153.86</td></tr>\n",
       "\t<tr><th scope=row>45</th><td>Utah        </td><td>11.3</td><td>43</td><td>16</td><td>88</td><td>96</td><td> 809.38</td><td>109.48</td></tr>\n",
       "\t<tr><th scope=row>48</th><td>Washington  </td><td>10.6</td><td>42</td><td>33</td><td>82</td><td>86</td><td> 890.03</td><td>111.62</td></tr>\n",
       "\t<tr><th scope=row>51</th><td>Wyoming     </td><td>17.4</td><td>42</td><td>32</td><td>81</td><td>90</td><td> 791.14</td><td>122.04</td></tr>\n",
       "</tbody>\n",
       "</table>\n"
      ],
      "text/latex": [
       "A data.frame: 8 × 8\n",
       "\\begin{tabular}{r|llllllll}\n",
       "  & state & total & speeding & alcohol & not\\_distracted & previous\\_accidents & insurance\\_premium & insurance\\_loss\\\\\n",
       "  & <fct> & <dbl> & <int> & <int> & <int> & <int> & <dbl> & <dbl>\\\\\n",
       "\\hline\n",
       "\t2 & Alaska       & 18.1 & 41 & 25 & 90 & 94 & 1053.48 & 133.93\\\\\n",
       "\t7 & Connecticut  & 10.8 & 46 & 36 & 87 & 82 & 1068.73 & 167.02\\\\\n",
       "\t12 & Hawaii       & 17.5 & 54 & 41 & 82 & 87 &  861.18 & 120.92\\\\\n",
       "\t26 & Missouri     & 16.1 & 43 & 34 & 92 & 84 &  790.32 & 144.45\\\\\n",
       "\t39 & Pennsylvania & 18.2 & 50 & 31 & 96 & 88 &  905.99 & 153.86\\\\\n",
       "\t45 & Utah         & 11.3 & 43 & 16 & 88 & 96 &  809.38 & 109.48\\\\\n",
       "\t48 & Washington   & 10.6 & 42 & 33 & 82 & 86 &  890.03 & 111.62\\\\\n",
       "\t51 & Wyoming      & 17.4 & 42 & 32 & 81 & 90 &  791.14 & 122.04\\\\\n",
       "\\end{tabular}\n"
      ],
      "text/markdown": [
       "\n",
       "A data.frame: 8 × 8\n",
       "\n",
       "| <!--/--> | state &lt;fct&gt; | total &lt;dbl&gt; | speeding &lt;int&gt; | alcohol &lt;int&gt; | not_distracted &lt;int&gt; | previous_accidents &lt;int&gt; | insurance_premium &lt;dbl&gt; | insurance_loss &lt;dbl&gt; |\n",
       "|---|---|---|---|---|---|---|---|---|\n",
       "| 2 | Alaska       | 18.1 | 41 | 25 | 90 | 94 | 1053.48 | 133.93 |\n",
       "| 7 | Connecticut  | 10.8 | 46 | 36 | 87 | 82 | 1068.73 | 167.02 |\n",
       "| 12 | Hawaii       | 17.5 | 54 | 41 | 82 | 87 |  861.18 | 120.92 |\n",
       "| 26 | Missouri     | 16.1 | 43 | 34 | 92 | 84 |  790.32 | 144.45 |\n",
       "| 39 | Pennsylvania | 18.2 | 50 | 31 | 96 | 88 |  905.99 | 153.86 |\n",
       "| 45 | Utah         | 11.3 | 43 | 16 | 88 | 96 |  809.38 | 109.48 |\n",
       "| 48 | Washington   | 10.6 | 42 | 33 | 82 | 86 |  890.03 | 111.62 |\n",
       "| 51 | Wyoming      | 17.4 | 42 | 32 | 81 | 90 |  791.14 | 122.04 |\n",
       "\n"
      ],
      "text/plain": [
       "   state        total speeding alcohol not_distracted previous_accidents\n",
       "2  Alaska       18.1  41       25      90             94                \n",
       "7  Connecticut  10.8  46       36      87             82                \n",
       "12 Hawaii       17.5  54       41      82             87                \n",
       "26 Missouri     16.1  43       34      92             84                \n",
       "39 Pennsylvania 18.2  50       31      96             88                \n",
       "45 Utah         11.3  43       16      88             96                \n",
       "48 Washington   10.6  42       33      82             86                \n",
       "51 Wyoming      17.4  42       32      81             90                \n",
       "   insurance_premium insurance_loss\n",
       "2  1053.48           133.93        \n",
       "7  1068.73           167.02        \n",
       "12  861.18           120.92        \n",
       "26  790.32           144.45        \n",
       "39  905.99           153.86        \n",
       "45  809.38           109.48        \n",
       "48  890.03           111.62        \n",
       "51  791.14           122.04        "
      ]
     },
     "metadata": {},
     "output_type": "display_data"
    }
   ],
   "source": [
    "d[ d$speeding > 40, ] "
   ]
  },
  {
   "cell_type": "markdown",
   "metadata": {},
   "source": [
    "or maybe we are interested in not all columns, but just the states where this percentage is above 40\\%.\n",
    "We can subset to a specific column by including in square brackets the name of the column"
   ]
  },
  {
   "cell_type": "code",
   "execution_count": 43,
   "metadata": {},
   "outputs": [
    {
     "data": {
      "text/html": [
       "<style>\n",
       ".list-inline {list-style: none; margin:0; padding: 0}\n",
       ".list-inline>li {display: inline-block}\n",
       ".list-inline>li:not(:last-child)::after {content: \"\\00b7\"; padding: 0 .5ex}\n",
       "</style>\n",
       "<ol class=list-inline><li>Alaska</li><li>Connecticut</li><li>Hawaii</li><li>Missouri</li><li>Pennsylvania</li><li>Utah</li><li>Washington</li><li>Wyoming</li></ol>\n",
       "\n",
       "<details>\n",
       "\t<summary style=display:list-item;cursor:pointer>\n",
       "\t\t<strong>Levels</strong>:\n",
       "\t</summary>\n",
       "\t<style>\n",
       "\t.list-inline {list-style: none; margin:0; padding: 0}\n",
       "\t.list-inline>li {display: inline-block}\n",
       "\t.list-inline>li:not(:last-child)::after {content: \"\\00b7\"; padding: 0 .5ex}\n",
       "\t</style>\n",
       "\t<ol class=list-inline><li>'Alabama'</li><li>'Alaska'</li><li>'Arizona'</li><li>'Arkansas'</li><li>'California'</li><li>'Colorado'</li><li>'Connecticut'</li><li>'Delaware'</li><li>'District of Columbia'</li><li>'Florida'</li><li>'Georgia'</li><li>'Hawaii'</li><li>'Idaho'</li><li>'Illinois'</li><li>'Indiana'</li><li>'Iowa'</li><li>'Kansas'</li><li>'Kentucky'</li><li>'Louisiana'</li><li>'Maine'</li><li>'Maryland'</li><li>'Massachusetts'</li><li>'Michigan'</li><li>'Minnesota'</li><li>'Mississippi'</li><li>'Missouri'</li><li>'Montana'</li><li>'Nebraska'</li><li>'Nevada'</li><li>'New Hampshire'</li><li>'New Jersey'</li><li>'New Mexico'</li><li>'New York'</li><li>'North Carolina'</li><li>'North Dakota'</li><li>'Ohio'</li><li>'Oklahoma'</li><li>'Oregon'</li><li>'Pennsylvania'</li><li>'Rhode Island'</li><li>'South Carolina'</li><li>'South Dakota'</li><li>'Tennessee'</li><li>'Texas'</li><li>'Utah'</li><li>'Vermont'</li><li>'Virginia'</li><li>'Washington'</li><li>'West Virginia'</li><li>'Wisconsin'</li><li>'Wyoming'</li></ol>\n",
       "</details>"
      ],
      "text/latex": [
       "\\begin{enumerate*}\n",
       "\\item Alaska\n",
       "\\item Connecticut\n",
       "\\item Hawaii\n",
       "\\item Missouri\n",
       "\\item Pennsylvania\n",
       "\\item Utah\n",
       "\\item Washington\n",
       "\\item Wyoming\n",
       "\\end{enumerate*}\n",
       "\n",
       "\\emph{Levels}: \\begin{enumerate*}\n",
       "\\item 'Alabama'\n",
       "\\item 'Alaska'\n",
       "\\item 'Arizona'\n",
       "\\item 'Arkansas'\n",
       "\\item 'California'\n",
       "\\item 'Colorado'\n",
       "\\item 'Connecticut'\n",
       "\\item 'Delaware'\n",
       "\\item 'District of Columbia'\n",
       "\\item 'Florida'\n",
       "\\item 'Georgia'\n",
       "\\item 'Hawaii'\n",
       "\\item 'Idaho'\n",
       "\\item 'Illinois'\n",
       "\\item 'Indiana'\n",
       "\\item 'Iowa'\n",
       "\\item 'Kansas'\n",
       "\\item 'Kentucky'\n",
       "\\item 'Louisiana'\n",
       "\\item 'Maine'\n",
       "\\item 'Maryland'\n",
       "\\item 'Massachusetts'\n",
       "\\item 'Michigan'\n",
       "\\item 'Minnesota'\n",
       "\\item 'Mississippi'\n",
       "\\item 'Missouri'\n",
       "\\item 'Montana'\n",
       "\\item 'Nebraska'\n",
       "\\item 'Nevada'\n",
       "\\item 'New Hampshire'\n",
       "\\item 'New Jersey'\n",
       "\\item 'New Mexico'\n",
       "\\item 'New York'\n",
       "\\item 'North Carolina'\n",
       "\\item 'North Dakota'\n",
       "\\item 'Ohio'\n",
       "\\item 'Oklahoma'\n",
       "\\item 'Oregon'\n",
       "\\item 'Pennsylvania'\n",
       "\\item 'Rhode Island'\n",
       "\\item 'South Carolina'\n",
       "\\item 'South Dakota'\n",
       "\\item 'Tennessee'\n",
       "\\item 'Texas'\n",
       "\\item 'Utah'\n",
       "\\item 'Vermont'\n",
       "\\item 'Virginia'\n",
       "\\item 'Washington'\n",
       "\\item 'West Virginia'\n",
       "\\item 'Wisconsin'\n",
       "\\item 'Wyoming'\n",
       "\\end{enumerate*}\n"
      ],
      "text/markdown": [
       "1. Alaska\n",
       "2. Connecticut\n",
       "3. Hawaii\n",
       "4. Missouri\n",
       "5. Pennsylvania\n",
       "6. Utah\n",
       "7. Washington\n",
       "8. Wyoming\n",
       "\n",
       "\n",
       "\n",
       "**Levels**: 1. 'Alabama'\n",
       "2. 'Alaska'\n",
       "3. 'Arizona'\n",
       "4. 'Arkansas'\n",
       "5. 'California'\n",
       "6. 'Colorado'\n",
       "7. 'Connecticut'\n",
       "8. 'Delaware'\n",
       "9. 'District of Columbia'\n",
       "10. 'Florida'\n",
       "11. 'Georgia'\n",
       "12. 'Hawaii'\n",
       "13. 'Idaho'\n",
       "14. 'Illinois'\n",
       "15. 'Indiana'\n",
       "16. 'Iowa'\n",
       "17. 'Kansas'\n",
       "18. 'Kentucky'\n",
       "19. 'Louisiana'\n",
       "20. 'Maine'\n",
       "21. 'Maryland'\n",
       "22. 'Massachusetts'\n",
       "23. 'Michigan'\n",
       "24. 'Minnesota'\n",
       "25. 'Mississippi'\n",
       "26. 'Missouri'\n",
       "27. 'Montana'\n",
       "28. 'Nebraska'\n",
       "29. 'Nevada'\n",
       "30. 'New Hampshire'\n",
       "31. 'New Jersey'\n",
       "32. 'New Mexico'\n",
       "33. 'New York'\n",
       "34. 'North Carolina'\n",
       "35. 'North Dakota'\n",
       "36. 'Ohio'\n",
       "37. 'Oklahoma'\n",
       "38. 'Oregon'\n",
       "39. 'Pennsylvania'\n",
       "40. 'Rhode Island'\n",
       "41. 'South Carolina'\n",
       "42. 'South Dakota'\n",
       "43. 'Tennessee'\n",
       "44. 'Texas'\n",
       "45. 'Utah'\n",
       "46. 'Vermont'\n",
       "47. 'Virginia'\n",
       "48. 'Washington'\n",
       "49. 'West Virginia'\n",
       "50. 'Wisconsin'\n",
       "51. 'Wyoming'\n",
       "\n",
       "\n"
      ],
      "text/plain": [
       "[1] Alaska       Connecticut  Hawaii       Missouri     Pennsylvania\n",
       "[6] Utah         Washington   Wyoming     \n",
       "51 Levels: Alabama Alaska Arizona Arkansas California Colorado ... Wyoming"
      ]
     },
     "metadata": {},
     "output_type": "display_data"
    }
   ],
   "source": [
    "d[ d$speeding > 40, \"state\" ] "
   ]
  },
  {
   "cell_type": "markdown",
   "metadata": {},
   "source": [
    "If we wanted to include more than one column then we can include a vector that contains each column we want to select."
   ]
  },
  {
   "cell_type": "code",
   "execution_count": 44,
   "metadata": {},
   "outputs": [
    {
     "data": {
      "text/html": [
       "<table class=\"dataframe\">\n",
       "<caption>A data.frame: 8 × 2</caption>\n",
       "<thead>\n",
       "\t<tr><th></th><th scope=col>state</th><th scope=col>insurance_premium</th></tr>\n",
       "\t<tr><th></th><th scope=col>&lt;fct&gt;</th><th scope=col>&lt;dbl&gt;</th></tr>\n",
       "</thead>\n",
       "<tbody>\n",
       "\t<tr><th scope=row>2</th><td>Alaska      </td><td>1053.48</td></tr>\n",
       "\t<tr><th scope=row>7</th><td>Connecticut </td><td>1068.73</td></tr>\n",
       "\t<tr><th scope=row>12</th><td>Hawaii      </td><td> 861.18</td></tr>\n",
       "\t<tr><th scope=row>26</th><td>Missouri    </td><td> 790.32</td></tr>\n",
       "\t<tr><th scope=row>39</th><td>Pennsylvania</td><td> 905.99</td></tr>\n",
       "\t<tr><th scope=row>45</th><td>Utah        </td><td> 809.38</td></tr>\n",
       "\t<tr><th scope=row>48</th><td>Washington  </td><td> 890.03</td></tr>\n",
       "\t<tr><th scope=row>51</th><td>Wyoming     </td><td> 791.14</td></tr>\n",
       "</tbody>\n",
       "</table>\n"
      ],
      "text/latex": [
       "A data.frame: 8 × 2\n",
       "\\begin{tabular}{r|ll}\n",
       "  & state & insurance\\_premium\\\\\n",
       "  & <fct> & <dbl>\\\\\n",
       "\\hline\n",
       "\t2 & Alaska       & 1053.48\\\\\n",
       "\t7 & Connecticut  & 1068.73\\\\\n",
       "\t12 & Hawaii       &  861.18\\\\\n",
       "\t26 & Missouri     &  790.32\\\\\n",
       "\t39 & Pennsylvania &  905.99\\\\\n",
       "\t45 & Utah         &  809.38\\\\\n",
       "\t48 & Washington   &  890.03\\\\\n",
       "\t51 & Wyoming      &  791.14\\\\\n",
       "\\end{tabular}\n"
      ],
      "text/markdown": [
       "\n",
       "A data.frame: 8 × 2\n",
       "\n",
       "| <!--/--> | state &lt;fct&gt; | insurance_premium &lt;dbl&gt; |\n",
       "|---|---|---|\n",
       "| 2 | Alaska       | 1053.48 |\n",
       "| 7 | Connecticut  | 1068.73 |\n",
       "| 12 | Hawaii       |  861.18 |\n",
       "| 26 | Missouri     |  790.32 |\n",
       "| 39 | Pennsylvania |  905.99 |\n",
       "| 45 | Utah         |  809.38 |\n",
       "| 48 | Washington   |  890.03 |\n",
       "| 51 | Wyoming      |  791.14 |\n",
       "\n"
      ],
      "text/plain": [
       "   state        insurance_premium\n",
       "2  Alaska       1053.48          \n",
       "7  Connecticut  1068.73          \n",
       "12 Hawaii        861.18          \n",
       "26 Missouri      790.32          \n",
       "39 Pennsylvania  905.99          \n",
       "45 Utah          809.38          \n",
       "48 Washington    890.03          \n",
       "51 Wyoming       791.14          "
      ]
     },
     "metadata": {},
     "output_type": "display_data"
    }
   ],
   "source": [
    "d[ d$speeding > 40, c(\"state\",\"insurance_premium\") ] "
   ]
  },
  {
   "cell_type": "markdown",
   "metadata": {},
   "source": [
    "### Functions for data frames\n",
    "\n",
    "There are several useful functions that take as an argument a data frame.\n",
    "The ``nrow`` function takes a data frame as an argument and returns the number of rows (i.e. the number of data points) in the data frame. \n",
    "The ``ncol`` function takes a data frame as an argument and returns the number of columns in the data frame. "
   ]
  },
  {
   "cell_type": "code",
   "execution_count": 45,
   "metadata": {},
   "outputs": [
    {
     "name": "stdout",
     "output_type": "stream",
     "text": [
      "[1] 51\n",
      "[1] 8\n"
     ]
    }
   ],
   "source": [
    "number_of_rows = nrow(d)\n",
    "number_of_columns = ncol(d)\n",
    "\n",
    "print(number_of_rows)\n",
    "print(number_of_columns)"
   ]
  },
  {
   "cell_type": "markdown",
   "metadata": {},
   "source": [
    "The ``colnames`` function takes as an argument a data frame and returns a vector that contains the name of each column in the data frame."
   ]
  },
  {
   "cell_type": "code",
   "execution_count": 46,
   "metadata": {},
   "outputs": [
    {
     "name": "stdout",
     "output_type": "stream",
     "text": [
      "[1] \"state\"              \"total\"              \"speeding\"          \n",
      "[4] \"alcohol\"            \"not_distracted\"     \"previous_accidents\"\n",
      "[7] \"insurance_premium\"  \"insurance_loss\"    \n"
     ]
    }
   ],
   "source": [
    "column_names = colnames(d)\n",
    "print(column_names)"
   ]
  },
  {
   "cell_type": "markdown",
   "metadata": {},
   "source": [
    "The ``summary`` function is a function that takes as an argument a data frame and returns, for each column in the data frame, the minimum value, maximum value, mean (average), median, 25th percentile (called the 1st quartile), and the 75th percentile (called the 3rd quartile)."
   ]
  },
  {
   "cell_type": "code",
   "execution_count": 47,
   "metadata": {},
   "outputs": [
    {
     "data": {
      "text/plain": [
       "        state        total          speeding        alcohol     \n",
       " Alabama   : 1   Min.   : 5.90   Min.   :13.00   Min.   :16.00  \n",
       " Alaska    : 1   1st Qu.:12.75   1st Qu.:23.00   1st Qu.:28.00  \n",
       " Arizona   : 1   Median :15.60   Median :34.00   Median :30.00  \n",
       " Arkansas  : 1   Mean   :15.79   Mean   :31.73   Mean   :30.69  \n",
       " California: 1   3rd Qu.:18.50   3rd Qu.:38.00   3rd Qu.:33.00  \n",
       " Colorado  : 1   Max.   :23.90   Max.   :54.00   Max.   :44.00  \n",
       " (Other)   :45                                                  \n",
       " not_distracted   previous_accidents insurance_premium insurance_loss  \n",
       " Min.   : 10.00   Min.   : 76.00     Min.   : 642.0    Min.   : 82.75  \n",
       " 1st Qu.: 83.00   1st Qu.: 83.50     1st Qu.: 768.4    1st Qu.:114.64  \n",
       " Median : 88.00   Median : 88.00     Median : 859.0    Median :136.05  \n",
       " Mean   : 85.92   Mean   : 88.73     Mean   : 887.0    Mean   :134.49  \n",
       " 3rd Qu.: 95.00   3rd Qu.: 95.00     3rd Qu.:1007.9    3rd Qu.:151.87  \n",
       " Max.   :100.00   Max.   :100.00     Max.   :1301.5    Max.   :194.78  \n",
       "                                                                       "
      ]
     },
     "metadata": {},
     "output_type": "display_data"
    }
   ],
   "source": [
    "summary(d)"
   ]
  },
  {
   "cell_type": "markdown",
   "metadata": {},
   "source": [
    "The `str` function is a handy tool that will tell you what type of data each column is (e.g., integer, string), and it will show you the first few elements of each column."
   ]
  },
  {
   "cell_type": "code",
   "execution_count": 48,
   "metadata": {},
   "outputs": [
    {
     "name": "stdout",
     "output_type": "stream",
     "text": [
      "'data.frame':\t51 obs. of  8 variables:\n",
      " $ state             : Factor w/ 51 levels \"Alabama\",\"Alaska\",..: 1 2 3 4 5 6 7 8 9 10 ...\n",
      " $ total             : num  18.8 18.1 18.6 22.4 12 13.6 10.8 16.2 5.9 17.9 ...\n",
      " $ speeding          : int  39 41 35 18 35 37 46 38 34 21 ...\n",
      " $ alcohol           : int  30 25 28 26 28 28 36 30 27 29 ...\n",
      " $ not_distracted    : int  96 90 84 94 91 79 87 87 100 92 ...\n",
      " $ previous_accidents: int  80 94 96 95 89 95 82 99 100 94 ...\n",
      " $ insurance_premium : num  785 1053 899 827 878 ...\n",
      " $ insurance_loss    : num  145 134 110 142 166 ...\n"
     ]
    }
   ],
   "source": [
    "str(d)"
   ]
  },
  {
   "cell_type": "markdown",
   "metadata": {},
   "source": [
    "The `head` function is an *extremely* handy tool that I use all the time. It shows you the first few rows of all columns from your data, like a preview. The `tail` function does the same execpt it shows the last few rows."
   ]
  },
  {
   "cell_type": "code",
   "execution_count": 49,
   "metadata": {},
   "outputs": [
    {
     "data": {
      "text/html": [
       "<table class=\"dataframe\">\n",
       "<caption>A data.frame: 6 × 8</caption>\n",
       "<thead>\n",
       "\t<tr><th></th><th scope=col>state</th><th scope=col>total</th><th scope=col>speeding</th><th scope=col>alcohol</th><th scope=col>not_distracted</th><th scope=col>previous_accidents</th><th scope=col>insurance_premium</th><th scope=col>insurance_loss</th></tr>\n",
       "\t<tr><th></th><th scope=col>&lt;fct&gt;</th><th scope=col>&lt;dbl&gt;</th><th scope=col>&lt;int&gt;</th><th scope=col>&lt;int&gt;</th><th scope=col>&lt;int&gt;</th><th scope=col>&lt;int&gt;</th><th scope=col>&lt;dbl&gt;</th><th scope=col>&lt;dbl&gt;</th></tr>\n",
       "</thead>\n",
       "<tbody>\n",
       "\t<tr><th scope=row>1</th><td>Alabama   </td><td>18.8</td><td>39</td><td>30</td><td>96</td><td>80</td><td> 784.55</td><td>145.08</td></tr>\n",
       "\t<tr><th scope=row>2</th><td>Alaska    </td><td>18.1</td><td>41</td><td>25</td><td>90</td><td>94</td><td>1053.48</td><td>133.93</td></tr>\n",
       "\t<tr><th scope=row>3</th><td>Arizona   </td><td>18.6</td><td>35</td><td>28</td><td>84</td><td>96</td><td> 899.47</td><td>110.35</td></tr>\n",
       "\t<tr><th scope=row>4</th><td>Arkansas  </td><td>22.4</td><td>18</td><td>26</td><td>94</td><td>95</td><td> 827.34</td><td>142.39</td></tr>\n",
       "\t<tr><th scope=row>5</th><td>California</td><td>12.0</td><td>35</td><td>28</td><td>91</td><td>89</td><td> 878.41</td><td>165.63</td></tr>\n",
       "\t<tr><th scope=row>6</th><td>Colorado  </td><td>13.6</td><td>37</td><td>28</td><td>79</td><td>95</td><td> 835.50</td><td>139.91</td></tr>\n",
       "</tbody>\n",
       "</table>\n"
      ],
      "text/latex": [
       "A data.frame: 6 × 8\n",
       "\\begin{tabular}{r|llllllll}\n",
       "  & state & total & speeding & alcohol & not\\_distracted & previous\\_accidents & insurance\\_premium & insurance\\_loss\\\\\n",
       "  & <fct> & <dbl> & <int> & <int> & <int> & <int> & <dbl> & <dbl>\\\\\n",
       "\\hline\n",
       "\t1 & Alabama    & 18.8 & 39 & 30 & 96 & 80 &  784.55 & 145.08\\\\\n",
       "\t2 & Alaska     & 18.1 & 41 & 25 & 90 & 94 & 1053.48 & 133.93\\\\\n",
       "\t3 & Arizona    & 18.6 & 35 & 28 & 84 & 96 &  899.47 & 110.35\\\\\n",
       "\t4 & Arkansas   & 22.4 & 18 & 26 & 94 & 95 &  827.34 & 142.39\\\\\n",
       "\t5 & California & 12.0 & 35 & 28 & 91 & 89 &  878.41 & 165.63\\\\\n",
       "\t6 & Colorado   & 13.6 & 37 & 28 & 79 & 95 &  835.50 & 139.91\\\\\n",
       "\\end{tabular}\n"
      ],
      "text/markdown": [
       "\n",
       "A data.frame: 6 × 8\n",
       "\n",
       "| <!--/--> | state &lt;fct&gt; | total &lt;dbl&gt; | speeding &lt;int&gt; | alcohol &lt;int&gt; | not_distracted &lt;int&gt; | previous_accidents &lt;int&gt; | insurance_premium &lt;dbl&gt; | insurance_loss &lt;dbl&gt; |\n",
       "|---|---|---|---|---|---|---|---|---|\n",
       "| 1 | Alabama    | 18.8 | 39 | 30 | 96 | 80 |  784.55 | 145.08 |\n",
       "| 2 | Alaska     | 18.1 | 41 | 25 | 90 | 94 | 1053.48 | 133.93 |\n",
       "| 3 | Arizona    | 18.6 | 35 | 28 | 84 | 96 |  899.47 | 110.35 |\n",
       "| 4 | Arkansas   | 22.4 | 18 | 26 | 94 | 95 |  827.34 | 142.39 |\n",
       "| 5 | California | 12.0 | 35 | 28 | 91 | 89 |  878.41 | 165.63 |\n",
       "| 6 | Colorado   | 13.6 | 37 | 28 | 79 | 95 |  835.50 | 139.91 |\n",
       "\n"
      ],
      "text/plain": [
       "  state      total speeding alcohol not_distracted previous_accidents\n",
       "1 Alabama    18.8  39       30      96             80                \n",
       "2 Alaska     18.1  41       25      90             94                \n",
       "3 Arizona    18.6  35       28      84             96                \n",
       "4 Arkansas   22.4  18       26      94             95                \n",
       "5 California 12.0  35       28      91             89                \n",
       "6 Colorado   13.6  37       28      79             95                \n",
       "  insurance_premium insurance_loss\n",
       "1  784.55           145.08        \n",
       "2 1053.48           133.93        \n",
       "3  899.47           110.35        \n",
       "4  827.34           142.39        \n",
       "5  878.41           165.63        \n",
       "6  835.50           139.91        "
      ]
     },
     "metadata": {},
     "output_type": "display_data"
    }
   ],
   "source": [
    "head(d)"
   ]
  },
  {
   "cell_type": "markdown",
   "metadata": {},
   "source": [
    "## Assignment\n",
    "\n",
    "We are going to look at a dataset that was collected on University \"Fight Songs\" that are played during sporting events. The article about the data set is here= https://projects.fivethirtyeight.com/college-fight-song-lyrics/\n",
    "\n",
    "1. The data is at the URL (https://raw.githubusercontent.com/fivethirtyeight/data/master/fight-songs/fight-songs.csv). Please read in this raw CSV as a data.frame\n",
    "2. Use the nrow and ncol function to describe the number of fight songs sampled and the number of different characteristics collected about each song. \n",
    "3. How many songs were sampled with a BPM (beats per minute) above 150? \n",
    "4. Select the rows where BPM is greater than 150 and select the column \"nonsense\" (Whether or not the song uses nonsense syllables (e.g. \"Whoo-Rah\" or \"Hooperay\") )\n",
    "5. Summarize the data frame. Why do you think the summary function does not produce useful information for many of the columns? "
   ]
  }
 ],
 "metadata": {
  "kernelspec": {
   "display_name": "R",
   "language": "R",
   "name": "ir"
  },
  "language_info": {
   "codemirror_mode": "r",
   "file_extension": ".r",
   "mimetype": "text/x-r-source",
   "name": "R",
   "pygments_lexer": "r",
   "version": "3.6.3"
  }
 },
 "nbformat": 4,
 "nbformat_minor": 4
}
