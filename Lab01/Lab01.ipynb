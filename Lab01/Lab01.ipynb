{
 "cells": [
  {
   "cell_type": "markdown",
   "metadata": {},
   "source": [
    "# Jupyter Notebooks\n",
    "\n",
    "All of our lab work will take place in Jupyter Notebooks.\n",
    "Jupyter Notebooks are a tool for organizing textual descriptions of work and computer programs.\n",
    "The goal is to produce one document to communicate a set of scientific ideas and allow another to understand exactly how you arrived at yoru conclusions.\n",
    "\n",
    "Jupyter has some important buttons. \n",
    "\n",
    "\n",
    "## File\n",
    "\n",
    "### A new notebook\n",
    "Under file->New->Notebook you can create a new notebook. \n",
    "When asked to \"Select Kernel\" click on the drop down menu and select \"R\"\n",
    "\n",
    "![kernelselect.png](kernelselect.png)\n",
    "\n",
    "### Save your work\n",
    "You can always save your work, and should do so often, by clicking File -> Save Notebook.\n",
    "\n",
    "### Export  for submission\n",
    "In class, we will ask that tyou submit your work on Coursesite as a **PDF**. \n",
    "Work in another format will not be accepted. \n",
    "To export your notebook as a PDF, choose File->Save abd Export Notebook As->PDF\n",
    "![savepdf.png](savepdf.png)\n",
    "After you click PDF, a PDF file will be created and saved in a \"Downloads\" folder on your local machine.\n",
    "Make sure the PDF file contains (1) Your first and surname, the date, and a descriptive title.\n",
    "\n",
    "\n",
    "## Kernel\n",
    "The kernel is the component that executes code inside your notebook. \n",
    "No kernel, no running code.\n",
    "\n",
    "Over the course, you may find that your notebook has disconnected or otherwise will no longer execute the code you wrote.\n",
    "Most often, the kernel has stopped. \n",
    "To restart you kernel select Kernel->Restart Kernel."
   ]
  },
  {
   "cell_type": "markdown",
   "metadata": {},
   "source": []
  },
  {
   "cell_type": "markdown",
   "metadata": {},
   "source": [
    "# Programming languages and R"
   ]
  },
  {
   "cell_type": "markdown",
   "metadata": {},
   "source": []
  },
  {
   "cell_type": "markdown",
   "metadata": {},
   "source": []
  },
  {
   "cell_type": "markdown",
   "metadata": {},
   "source": [
    "# Arithmatic"
   ]
  },
  {
   "cell_type": "markdown",
   "metadata": {},
   "source": [
    "# Vectors"
   ]
  },
  {
   "cell_type": "markdown",
   "metadata": {},
   "source": [
    "# INdexing"
   ]
  },
  {
   "cell_type": "code",
   "execution_count": null,
   "metadata": {},
   "outputs": [],
   "source": []
  },
  {
   "cell_type": "code",
   "execution_count": null,
   "metadata": {},
   "outputs": [],
   "source": []
  },
  {
   "cell_type": "code",
   "execution_count": null,
   "metadata": {},
   "outputs": [],
   "source": []
  },
  {
   "cell_type": "code",
   "execution_count": null,
   "metadata": {},
   "outputs": [],
   "source": []
  }
 ],
 "metadata": {
  "kernelspec": {
   "display_name": "R",
   "language": "R",
   "name": "ir"
  },
  "language_info": {
   "codemirror_mode": "r",
   "file_extension": ".r",
   "mimetype": "text/x-r-source",
   "name": "R",
   "pygments_lexer": "r",
   "version": "4.1.2"
  }
 },
 "nbformat": 4,
 "nbformat_minor": 4
}
