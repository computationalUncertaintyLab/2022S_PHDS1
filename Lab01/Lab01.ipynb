{
 "cells": [
  {
   "cell_type": "markdown",
   "metadata": {},
   "source": [
    "# Jupyter Notebooks\n",
    "\n",
    "All of our lab work will take place in Jupyter Notebooks.\n",
    "Jupyter Notebooks are a tool for organizing textual descriptions of work and computer programs.\n",
    "The goal is to produce one document to communicate a set of scientific ideas and allow another to understand exactly how you arrived at yoru conclusions.\n",
    "\n",
    "Jupyter has some important buttons. \n",
    "\n",
    "\n",
    "## File\n",
    "\n",
    "### A new notebook\n",
    "Under file->New->Notebook you can create a new notebook. \n",
    "When asked to \"Select Kernel\" click on the drop down menu and select \"R\"\n",
    "\n",
    "![kernelselect.png](kernelselect.png)\n",
    "\n",
    "\n",
    "### The notebook\n",
    "\n",
    "A notebook is a collection of cells.\n",
    "A **cell** is a container that can hold text or computer code. \n",
    "Cells in Jupyter looks like gray rectangles.\n",
    "There are three cell types in Jupyter: (i) Code, (ii) Markdown, and (iii) Raw.\n",
    "The two that we will focus on are Code and Markdown. \n",
    "\n",
    "The \"Code\" cell holds computer code that the R kernel (see below about a kernel) can use to compute.\n",
    "We may want to import data, run a statistical analysis, and output results.\n",
    "This is for the \"Code\" cell. \n",
    "\n",
    "\"Markdown\" is itself a special language that a Jupyter Notebook interprets as text. \n",
    "The \"Markdown\" cell is most useful for write ups, descriptions of a Code cell above or below, or scientific conclusions, comments, and thoughts. \n",
    "When you need to write, think Markdown.\n",
    "\n",
    "\n",
    "### Save your work\n",
    "You can always save your work, and should do so often, by clicking File -> Save Notebook.\n",
    "\n",
    "### Export  for submission\n",
    "In class, we will ask that tyou submit your work on Coursesite as a **PDF**. \n",
    "Work in another format will not be accepted. \n",
    "To export your notebook as a PDF, choose File->Save abd Export Notebook As->PDF\n",
    "![savepdf.png](savepdf.png)\n",
    "After you click PDF, a PDF file will be created and saved in a \"Downloads\" folder on your local machine.\n",
    "Make sure the PDF file contains (1) Your first and surname, the date, and a descriptive title.\n",
    "\n",
    "\n",
    "## Kernel\n",
    "The kernel is the component that executes code inside your notebook. \n",
    "No kernel, no running code.\n",
    "\n",
    "Over the course, you may find that your notebook has disconnected or otherwise will no longer execute the code you wrote.\n",
    "Most often, the kernel has stopped. \n",
    "To restart you kernel select Kernel->Restart Kernel."
   ]
  },
  {
   "cell_type": "markdown",
   "metadata": {},
   "source": [
    "# Programming and R\n",
    "\n",
    "The R programming language, while not explictly written for statistics, has a long history as a tool for data analysis, statistics, machine learning, and data science. \n",
    "R supports all of the main paradigms in computing and you will be able to transfer what you learn in R to other programming languages without much difficulty. \n",
    "\n",
    "Programming is difficult.\n",
    "Like any skill, programming take time to master. \n",
    "Error messages will be commonplace, you will find it difficult to ask the computer to calculate what you want. \n",
    "You will be frustrate and that is ok. \n",
    "Over time you will learn to read the error messages, code will flow more easily. \n",
    "The most important part of programming is daily practice.\n",
    "\n",
    "When we **execute** code, we ask the computer to translate what we wrote into binary and return a set of results that may or may not be stored in memory.\n",
    "In the Jupyter environment we execute code by pressing \"Run\" or by using the shortcut \"Shift+Enter\"."
   ]
  },
  {
   "cell_type": "markdown",
   "metadata": {},
   "source": [
    "# Arithmetic\n",
    "\n",
    "R supports all standard artithmetic calculations.\n",
    "Lets \"Run\" our first computation.\n",
    "\n",
    "R can interpret addition "
   ]
  },
  {
   "cell_type": "code",
   "execution_count": 60,
   "metadata": {},
   "outputs": [
    {
     "data": {
      "text/html": [
       "4"
      ],
      "text/latex": [
       "4"
      ],
      "text/markdown": [
       "4"
      ],
      "text/plain": [
       "[1] 4"
      ]
     },
     "metadata": {},
     "output_type": "display_data"
    }
   ],
   "source": [
    "2+2"
   ]
  },
  {
   "cell_type": "markdown",
   "metadata": {},
   "source": [
    "Subtraction"
   ]
  },
  {
   "cell_type": "code",
   "execution_count": 61,
   "metadata": {},
   "outputs": [
    {
     "data": {
      "text/html": [
       "6"
      ],
      "text/latex": [
       "6"
      ],
      "text/markdown": [
       "6"
      ],
      "text/plain": [
       "[1] 6"
      ]
     },
     "metadata": {},
     "output_type": "display_data"
    }
   ],
   "source": [
    "9-3"
   ]
  },
  {
   "cell_type": "markdown",
   "metadata": {},
   "source": [
    "Division"
   ]
  },
  {
   "cell_type": "code",
   "execution_count": 62,
   "metadata": {},
   "outputs": [
    {
     "data": {
      "text/html": [
       "0.75"
      ],
      "text/latex": [
       "0.75"
      ],
      "text/markdown": [
       "0.75"
      ],
      "text/plain": [
       "[1] 0.75"
      ]
     },
     "metadata": {},
     "output_type": "display_data"
    }
   ],
   "source": [
    "3/4"
   ]
  },
  {
   "cell_type": "markdown",
   "metadata": {},
   "source": [
    "multiplication"
   ]
  },
  {
   "cell_type": "code",
   "execution_count": 63,
   "metadata": {},
   "outputs": [
    {
     "data": {
      "text/html": [
       "16"
      ],
      "text/latex": [
       "16"
      ],
      "text/markdown": [
       "16"
      ],
      "text/plain": [
       "[1] 16"
      ]
     },
     "metadata": {},
     "output_type": "display_data"
    }
   ],
   "source": [
    "4*4"
   ]
  },
  {
   "cell_type": "markdown",
   "metadata": {},
   "source": [
    "and exponentiation"
   ]
  },
  {
   "cell_type": "code",
   "execution_count": 64,
   "metadata": {},
   "outputs": [
    {
     "data": {
      "text/html": [
       "19683"
      ],
      "text/latex": [
       "19683"
      ],
      "text/markdown": [
       "19683"
      ],
      "text/plain": [
       "[1] 19683"
      ]
     },
     "metadata": {},
     "output_type": "display_data"
    }
   ],
   "source": [
    "3^9"
   ]
  },
  {
   "cell_type": "markdown",
   "metadata": {},
   "source": [
    "As expected, we can compute more difficult arithemetic expressions."
   ]
  },
  {
   "cell_type": "code",
   "execution_count": 65,
   "metadata": {},
   "outputs": [
    {
     "data": {
      "text/html": [
       "16.5"
      ],
      "text/latex": [
       "16.5"
      ],
      "text/markdown": [
       "16.5"
      ],
      "text/plain": [
       "[1] 16.5"
      ]
     },
     "metadata": {},
     "output_type": "display_data"
    }
   ],
   "source": [
    "(2^4)+3/2 - 1"
   ]
  },
  {
   "cell_type": "markdown",
   "metadata": {},
   "source": [
    "# Vectors\n",
    "\n",
    "The **vector** is the fundemental object in R.\n",
    "\n",
    "A mathematical vector is an ordered list of numbers.\n",
    "They are denoted by a sequence of numbers surrounded by square brackets.\n",
    "\n",
    "\\begin{align}\n",
    "    v = \\begin{bmatrix}\n",
    "         1 \\\\\n",
    "         2 \\\\\n",
    "         3 \\\\\n",
    "        \\end{bmatrix}\n",
    "\\end{align}\n",
    "Above, the vector **v** is a vector of length 3 and contains, in order, the values 1, 2, and 3.\n",
    "\n",
    "In R, vectors are goven a name and stored in the computer in one of two ways: (i) using the **c()** operator or (ii) using the assign function. \n",
    "\n",
    "## Assignment\n",
    "\n",
    "### c()\n",
    "\n",
    "We can store a vector named v with the values 1,2,3 in R as follows"
   ]
  },
  {
   "cell_type": "code",
   "execution_count": 66,
   "metadata": {},
   "outputs": [],
   "source": [
    "v = c(1,2,3)"
   ]
  },
  {
   "cell_type": "markdown",
   "metadata": {},
   "source": [
    "### assign\n",
    "\n",
    "We can also use the assign function to store a vector, named q, with the values 3,2,1 as follows"
   ]
  },
  {
   "cell_type": "code",
   "execution_count": 67,
   "metadata": {},
   "outputs": [],
   "source": [
    "assign(\"q\",c(3,2,1))"
   ]
  },
  {
   "cell_type": "markdown",
   "metadata": {},
   "source": [
    "### equals\n",
    "\n",
    "The equals sign **does not** represent two objects are equal to one another. \n",
    "The equals sign in compiuter programming stands for \"assign\". \n",
    "\n",
    "When we write ``v = c(1,2,3)``, this is understood as \"we assign the variable v to the vector (1,2,3). \n",
    "As an example, lets create a vector ``(4,5,6)`` names ``x`` and then assign the variable ``y`` to be the same as ``x``"
   ]
  },
  {
   "cell_type": "code",
   "execution_count": 68,
   "metadata": {},
   "outputs": [],
   "source": [
    "x = c(4,5,6)\n",
    "y = x"
   ]
  },
  {
   "cell_type": "markdown",
   "metadata": {},
   "source": [
    "The last line above does not ask whether or not ``x`` is the same as ``y``.\n",
    "Instead, this line assigns the variable ``y`` to be the same vecor as ``x``."
   ]
  },
  {
   "cell_type": "markdown",
   "metadata": {},
   "source": [
    "# Print\n",
    "\n",
    "When we created the vectors **v** and **q** \"nothing happened\". \n",
    "Though the vector v and q were created and stored in the computer, R does not display these on your screen by default.\n",
    "One way to view any object in R is to print it. \n",
    "\n",
    "You can print an object, ``x``, R by writing ``print(x)``\n"
   ]
  },
  {
   "cell_type": "code",
   "execution_count": 69,
   "metadata": {},
   "outputs": [
    {
     "name": "stdout",
     "output_type": "stream",
     "text": [
      "[1] 1 2 3\n"
     ]
    }
   ],
   "source": [
    "print(v)"
   ]
  },
  {
   "cell_type": "code",
   "execution_count": 70,
   "metadata": {},
   "outputs": [
    {
     "name": "stdout",
     "output_type": "stream",
     "text": [
      "[1] 3 2 1\n"
     ]
    }
   ],
   "source": [
    "print(q)"
   ]
  },
  {
   "cell_type": "code",
   "execution_count": 71,
   "metadata": {},
   "outputs": [
    {
     "name": "stdout",
     "output_type": "stream",
     "text": [
      "[1] 4 5 6\n",
      "[1] 4 5 6\n"
     ]
    }
   ],
   "source": [
    "print(x)\n",
    "print(y)"
   ]
  },
  {
   "cell_type": "markdown",
   "metadata": {},
   "source": [
    "**You do not need to print any object, ever**.\n",
    "Printing is not necessary. \n",
    "You should use print to explore whether you programmed something write or to communicate scientific results."
   ]
  },
  {
   "cell_type": "markdown",
   "metadata": {},
   "source": [
    "# Combining vectors\n",
    "\n",
    "We can append one vector to another in R by using the c() operator.\n",
    "Suppose we wish to combine the two vectors \n",
    "\\begin{align}\n",
    "    x = \\begin{bmatrix}\n",
    "        1\\\\\n",
    "        2\\\\\n",
    "        3\n",
    "        \\end{bmatrix}; \\;\n",
    "    z = \\begin{bmatrix}\n",
    "        -1\\\\\n",
    "        0.2\\\\\n",
    "        90\n",
    "        \\end{bmatrix}\n",
    "\\end{align}\n",
    "        \n",
    "into one vector\n",
    "\n",
    "\\begin{align}\n",
    "    r = \\begin{bmatrix}\n",
    "        1\\\\\n",
    "        2\\\\\n",
    "        3\\\\\n",
    "        -1\\\\\n",
    "        0.2\\\\\n",
    "        90\n",
    "        \\end{bmatrix}\n",
    "\\end{align}\n",
    "\n",
    "Lets first create the vectors ``x`` and ``z``"
   ]
  },
  {
   "cell_type": "code",
   "execution_count": 72,
   "metadata": {},
   "outputs": [],
   "source": [
    "x = c(1,2,3)\n",
    "z = c(-1,0.2,90)"
   ]
  },
  {
   "cell_type": "markdown",
   "metadata": {},
   "source": [
    "Now we can create the vector ``r``"
   ]
  },
  {
   "cell_type": "code",
   "execution_count": 73,
   "metadata": {},
   "outputs": [],
   "source": [
    "r = c(x,z)"
   ]
  },
  {
   "cell_type": "markdown",
   "metadata": {},
   "source": [
    "If we want to check our work, we can print out ``r``."
   ]
  },
  {
   "cell_type": "code",
   "execution_count": 74,
   "metadata": {},
   "outputs": [
    {
     "name": "stdout",
     "output_type": "stream",
     "text": [
      "[1]  1.0  2.0  3.0 -1.0  0.2 90.0\n"
     ]
    }
   ],
   "source": [
    "print(r)"
   ]
  },
  {
   "cell_type": "markdown",
   "metadata": {},
   "source": [
    "# Indexing and access\n",
    "\n",
    "Vectors are useful for storing several different numbers.\n",
    "We can access single elements, or several elements inside a vector by (i) naming the vector we want to access, (ii) typing square brackets \"[]\". \n",
    "\n",
    "## Numeric indexing\n",
    "\n",
    "If we want to access the 4th element in ``r``, we can type"
   ]
  },
  {
   "cell_type": "code",
   "execution_count": 75,
   "metadata": {},
   "outputs": [
    {
     "data": {
      "text/html": [
       "-1"
      ],
      "text/latex": [
       "-1"
      ],
      "text/markdown": [
       "-1"
      ],
      "text/plain": [
       "[1] -1"
      ]
     },
     "metadata": {},
     "output_type": "display_data"
    }
   ],
   "source": [
    "r[4]"
   ]
  },
  {
   "cell_type": "markdown",
   "metadata": {},
   "source": [
    "If we want to access, the 2nd, 4th, and then the first element of ``r`` we can include in square brackets the vector ``c(2,4,1)``"
   ]
  },
  {
   "cell_type": "code",
   "execution_count": 76,
   "metadata": {},
   "outputs": [
    {
     "data": {
      "text/html": [
       "<style>\n",
       ".list-inline {list-style: none; margin:0; padding: 0}\n",
       ".list-inline>li {display: inline-block}\n",
       ".list-inline>li:not(:last-child)::after {content: \"\\00b7\"; padding: 0 .5ex}\n",
       "</style>\n",
       "<ol class=list-inline><li>2</li><li>-1</li><li>1</li></ol>\n"
      ],
      "text/latex": [
       "\\begin{enumerate*}\n",
       "\\item 2\n",
       "\\item -1\n",
       "\\item 1\n",
       "\\end{enumerate*}\n"
      ],
      "text/markdown": [
       "1. 2\n",
       "2. -1\n",
       "3. 1\n",
       "\n",
       "\n"
      ],
      "text/plain": [
       "[1]  2 -1  1"
      ]
     },
     "metadata": {},
     "output_type": "display_data"
    }
   ],
   "source": [
    "r[c(2,4,1)]"
   ]
  },
  {
   "cell_type": "markdown",
   "metadata": {},
   "source": [
    "We can access the 1st,2nd, and 3rd elements in ``r`` using the vector ``c(1,2,3)``, however a shortcut is to use the **colon** operator. \n",
    "The colon operator takes as input two integers (a,b) separated by a colon (a:b) and expands to the vector `c(a,a+1,a+2,a+3,...,b)`. \n",
    "\n",
    "Watch"
   ]
  },
  {
   "cell_type": "code",
   "execution_count": 77,
   "metadata": {},
   "outputs": [],
   "source": [
    "z = 3:5"
   ]
  },
  {
   "cell_type": "code",
   "execution_count": 78,
   "metadata": {},
   "outputs": [
    {
     "name": "stdout",
     "output_type": "stream",
     "text": [
      "[1] 3 4 5\n"
     ]
    }
   ],
   "source": [
    "print(z)"
   ]
  },
  {
   "cell_type": "markdown",
   "metadata": {},
   "source": [
    "The colon operator is useful for accessing items in a vector "
   ]
  },
  {
   "cell_type": "code",
   "execution_count": 79,
   "metadata": {},
   "outputs": [
    {
     "data": {
      "text/html": [
       "<style>\n",
       ".list-inline {list-style: none; margin:0; padding: 0}\n",
       ".list-inline>li {display: inline-block}\n",
       ".list-inline>li:not(:last-child)::after {content: \"\\00b7\"; padding: 0 .5ex}\n",
       "</style>\n",
       "<ol class=list-inline><li>2</li><li>3</li><li>-1</li><li>0.2</li></ol>\n"
      ],
      "text/latex": [
       "\\begin{enumerate*}\n",
       "\\item 2\n",
       "\\item 3\n",
       "\\item -1\n",
       "\\item 0.2\n",
       "\\end{enumerate*}\n"
      ],
      "text/markdown": [
       "1. 2\n",
       "2. 3\n",
       "3. -1\n",
       "4. 0.2\n",
       "\n",
       "\n"
      ],
      "text/plain": [
       "[1]  2.0  3.0 -1.0  0.2"
      ]
     },
     "metadata": {},
     "output_type": "display_data"
    }
   ],
   "source": [
    "r[2:5]"
   ]
  },
  {
   "cell_type": "code",
   "execution_count": 80,
   "metadata": {},
   "outputs": [],
   "source": [
    "\n",
    "\n",
    "### Positive numbers\n",
    "\n",
    "### Negative numbers\n",
    "\n",
    "## Logical indexing\n"
   ]
  },
  {
   "cell_type": "code",
   "execution_count": null,
   "metadata": {},
   "outputs": [],
   "source": []
  }
 ],
 "metadata": {
  "kernelspec": {
   "display_name": "R",
   "language": "R",
   "name": "ir"
  },
  "language_info": {
   "codemirror_mode": "r",
   "file_extension": ".r",
   "mimetype": "text/x-r-source",
   "name": "R",
   "pygments_lexer": "r",
   "version": "4.1.2"
  }
 },
 "nbformat": 4,
 "nbformat_minor": 4
}
