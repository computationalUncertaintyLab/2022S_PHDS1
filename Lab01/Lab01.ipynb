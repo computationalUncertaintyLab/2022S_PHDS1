{
 "cells": [
  {
   "cell_type": "markdown",
   "metadata": {},
   "source": [
    "# Jupyter Notebooks\n",
    "\n",
    "All of our lab work will take place in Jupyter Notebooks.\n",
    "Jupyter Notebooks are a tool for organizing textual descriptions of work and computer programs.\n",
    "The goal is to produce one document to communicate a set of scientific ideas and allow another to understand exactly how you arrived at yoru conclusions.\n",
    "\n",
    "Jupyter has some important buttons. \n",
    "\n",
    "\n",
    "## File\n",
    "\n",
    "### A new notebook\n",
    "Under file->New->Notebook you can create a new notebook. \n",
    "When asked to \"Select Kernel\" click on the drop down menu and select \"R\"\n",
    "\n",
    "![kernelselect.png](kernelselect.png)\n",
    "\n",
    "\n",
    "### The notebook\n",
    "\n",
    "A notebook is a collection of cells.\n",
    "A **cell** is a container that can hold text or computer code. \n",
    "Cells in Jupyter looks like gray rectangles.\n",
    "There are three cell types in Jupyter: (i) Code, (ii) Markdown, and (iii) Raw.\n",
    "The two that we will focus on are Code and Markdown. \n",
    "\n",
    "The \"Code\" cell holds computer code that the R kernel (see below about a kernel) can use to compute.\n",
    "We may want to import data, run a statistical analysis, and output results.\n",
    "This is for the \"Code\" cell. \n",
    "\n",
    "\"Markdown\" is itself a special language that a Jupyter Notebook interprets as text. \n",
    "The \"Markdown\" cell is most useful for write ups, descriptions of a Code cell above or below, or scientific conclusions, comments, and thoughts. \n",
    "When you need to write, think Markdown.\n",
    "\n",
    "\n",
    "### Save your work\n",
    "You can always save your work, and should do so often, by clicking File -> Save Notebook.\n",
    "\n",
    "### Export  for submission\n",
    "In class, we will ask that tyou submit your work on Coursesite as a **PDF**. \n",
    "Work in another format will not be accepted. \n",
    "To export your notebook as a PDF, choose File->Save abd Export Notebook As->PDF\n",
    "![savepdf.png](savepdf.png)\n",
    "After you click PDF, a PDF file will be created and saved in a \"Downloads\" folder on your local machine.\n",
    "Make sure the PDF file contains (1) Your first and surname, the date, and a descriptive title.\n",
    "\n",
    "\n",
    "## Kernel\n",
    "The kernel is the component that executes code inside your notebook. \n",
    "No kernel, no running code.\n",
    "\n",
    "Over the course, you may find that your notebook has disconnected or otherwise will no longer execute the code you wrote.\n",
    "Most often, the kernel has stopped. \n",
    "To restart you kernel select Kernel->Restart Kernel."
   ]
  },
  {
   "cell_type": "markdown",
   "metadata": {},
   "source": [
    "# Programming and R\n",
    "\n",
    "The R programming language, while not explictly written for statistics, has a long history as a tool for data analysis, statistics, machine learning, and data science. \n",
    "R supports all of the main paradigms in computing and you will be able to transfer what you learn in R to other programming languages without much difficulty. \n",
    "\n",
    "Programming is difficult.\n",
    "Like any skill, programming take time to master. \n",
    "Error messages will be commonplace, you will find it difficult to ask the computer to calculate what you want. \n",
    "You will be frustrate and that is ok. \n",
    "Over time you will learn to read the error messages, code will flow more easily. \n",
    "The most important part of programming is daily practice.\n",
    "\n",
    "When we **execute** code, we ask the computer to translate what we wrote into binary and return a set of results that may or may not be stored in memory.\n",
    "In the Jupyter environment we execute code by pressing \"Run\" or by using the shortcut \"Shift+Enter\"."
   ]
  },
  {
   "cell_type": "markdown",
   "metadata": {},
   "source": [
    "# Arithmetic\n",
    "\n",
    "R supports all standard artithmetic calculations.\n",
    "Lets \"Run\" our first computation.\n",
    "\n",
    "R can interpret addition "
   ]
  },
  {
   "cell_type": "code",
   "execution_count": 6,
   "metadata": {},
   "outputs": [
    {
     "data": {
      "text/html": [
       "4"
      ],
      "text/latex": [
       "4"
      ],
      "text/markdown": [
       "4"
      ],
      "text/plain": [
       "[1] 4"
      ]
     },
     "metadata": {},
     "output_type": "display_data"
    }
   ],
   "source": [
    "2+2"
   ]
  },
  {
   "cell_type": "markdown",
   "metadata": {},
   "source": [
    "Subtraction"
   ]
  },
  {
   "cell_type": "code",
   "execution_count": 10,
   "metadata": {},
   "outputs": [
    {
     "data": {
      "text/html": [
       "6"
      ],
      "text/latex": [
       "6"
      ],
      "text/markdown": [
       "6"
      ],
      "text/plain": [
       "[1] 6"
      ]
     },
     "metadata": {},
     "output_type": "display_data"
    }
   ],
   "source": [
    "9-3"
   ]
  },
  {
   "cell_type": "markdown",
   "metadata": {},
   "source": [
    "Division"
   ]
  },
  {
   "cell_type": "code",
   "execution_count": 11,
   "metadata": {},
   "outputs": [
    {
     "data": {
      "text/html": [
       "0.75"
      ],
      "text/latex": [
       "0.75"
      ],
      "text/markdown": [
       "0.75"
      ],
      "text/plain": [
       "[1] 0.75"
      ]
     },
     "metadata": {},
     "output_type": "display_data"
    }
   ],
   "source": [
    "3/4"
   ]
  },
  {
   "cell_type": "markdown",
   "metadata": {},
   "source": [
    "multiplication"
   ]
  },
  {
   "cell_type": "code",
   "execution_count": 12,
   "metadata": {},
   "outputs": [
    {
     "data": {
      "text/html": [
       "16"
      ],
      "text/latex": [
       "16"
      ],
      "text/markdown": [
       "16"
      ],
      "text/plain": [
       "[1] 16"
      ]
     },
     "metadata": {},
     "output_type": "display_data"
    }
   ],
   "source": [
    "4*4"
   ]
  },
  {
   "cell_type": "markdown",
   "metadata": {},
   "source": [
    "and exponentiation"
   ]
  },
  {
   "cell_type": "code",
   "execution_count": 9,
   "metadata": {},
   "outputs": [
    {
     "data": {
      "text/html": [
       "19683"
      ],
      "text/latex": [
       "19683"
      ],
      "text/markdown": [
       "19683"
      ],
      "text/plain": [
       "[1] 19683"
      ]
     },
     "metadata": {},
     "output_type": "display_data"
    }
   ],
   "source": [
    "3^9"
   ]
  },
  {
   "cell_type": "markdown",
   "metadata": {},
   "source": [
    "As expected, we can compute more difficult arithemetic expressions."
   ]
  },
  {
   "cell_type": "code",
   "execution_count": 13,
   "metadata": {},
   "outputs": [
    {
     "data": {
      "text/html": [
       "16.5"
      ],
      "text/latex": [
       "16.5"
      ],
      "text/markdown": [
       "16.5"
      ],
      "text/plain": [
       "[1] 16.5"
      ]
     },
     "metadata": {},
     "output_type": "display_data"
    }
   ],
   "source": [
    "(2^4)+3/2 - 1"
   ]
  },
  {
   "cell_type": "markdown",
   "metadata": {},
   "source": [
    "# Vectors\n",
    "\n",
    "The **vector** is the fundemental object in R.\n",
    "\n",
    "A mathematical vector is an ordered list of numbers.\n",
    "They are denoted by a sequence of numbers surrounded by square brackets.\n",
    "\n",
    "\\begin{align}\n",
    "    v = \\begin{bmatrix}\n",
    "         1 \\\\\n",
    "         2 \\\\\n",
    "         3 \\\\\n",
    "        \\end{bmatrix}\n",
    "\\end{align}\n",
    "Above, the vector **v** is a vector of length 3 and contains, in order, the values 1, 2, and 3.\n",
    "\n",
    "In R, vectors are goven a name and stored in the computer in one of two ways: (i) using the **c()** operator or (ii) using the assign function. \n",
    "\n",
    "## Assignment\n",
    "\n",
    "### c()\n",
    "\n",
    "We can store a vector named v with the values 1,2,3 in R as follows"
   ]
  },
  {
   "cell_type": "code",
   "execution_count": 14,
   "metadata": {},
   "outputs": [],
   "source": [
    "v = c(1,2,3)"
   ]
  },
  {
   "cell_type": "markdown",
   "metadata": {},
   "source": [
    "### assign\n",
    "\n",
    "We can also use the assign function to store a vector, named q, with the values 3,2,1 as follows"
   ]
  },
  {
   "cell_type": "code",
   "execution_count": 16,
   "metadata": {},
   "outputs": [],
   "source": [
    "assign(\"q\",c(3,2,1))"
   ]
  },
  {
   "cell_type": "markdown",
   "metadata": {},
   "source": [
    "### equals\n",
    "\n",
    "The equals sign **does not** represent two objects are equal to one another. \n",
    "The equals sign in compiuter programming stands for \"assign\". \n",
    "\n",
    "When we write ``v = c(1,2,3)``, this is understood as \"we assign the variable v to the vector (1,2,3). \n",
    "As an example, lets create a vector ``(4,5,6)`` names ``x`` and then assign the variable ``y`` to be the same as ``x``"
   ]
  },
  {
   "cell_type": "code",
   "execution_count": 19,
   "metadata": {},
   "outputs": [],
   "source": [
    "x = c(4,5,6)\n",
    "y = x"
   ]
  },
  {
   "cell_type": "markdown",
   "metadata": {},
   "source": [
    "The last line above does not ask whether or not ``x`` is the same as ``y``.\n",
    "Instead, this line assigns the variable ``y`` to be the same vecor as ``x``."
   ]
  },
  {
   "cell_type": "markdown",
   "metadata": {},
   "source": [
    "# Print\n",
    "\n",
    "When we created the vectors **v** and **q** \"nothing happened\". \n",
    "Though the vector v and q were created and stored in the computer, R does not display these on your screen by default.\n",
    "One way to view any object in R is to print it. \n",
    "\n",
    "You can print an object, ``x``, R by writing ``print(x)``\n"
   ]
  },
  {
   "cell_type": "code",
   "execution_count": 21,
   "metadata": {},
   "outputs": [
    {
     "name": "stdout",
     "output_type": "stream",
     "text": [
      "[1] 1 2 3\n"
     ]
    }
   ],
   "source": [
    "print(v)"
   ]
  },
  {
   "cell_type": "code",
   "execution_count": 22,
   "metadata": {},
   "outputs": [
    {
     "name": "stdout",
     "output_type": "stream",
     "text": [
      "[1] 3 2 1\n"
     ]
    }
   ],
   "source": [
    "print(q)"
   ]
  },
  {
   "cell_type": "code",
   "execution_count": 23,
   "metadata": {},
   "outputs": [
    {
     "name": "stdout",
     "output_type": "stream",
     "text": [
      "[1] 4 5 6\n",
      "[1] 4 5 6\n"
     ]
    }
   ],
   "source": [
    "print(x)\n",
    "print(y)"
   ]
  },
  {
   "cell_type": "markdown",
   "metadata": {},
   "source": [
    "**You do not need to print any object, ever**.\n",
    "Printing is not necessary. \n",
    "You should use print to explore whether you programmed something write or to communicate scientific results."
   ]
  },
  {
   "cell_type": "markdown",
   "metadata": {},
   "source": [
    "# Assignment\n",
    "\n",
    "## Using the equals\n",
    "\n",
    "## Using the assign function\n",
    "\n",
    "# Combining vectors\n",
    "\n",
    "\n",
    "# Indexing\n",
    "\n",
    "\n",
    "## Numeric indexing\n",
    "\n",
    "### Positive numbers\n",
    "\n",
    "### Negative numbers\n",
    "\n",
    "## Logical indexing\n"
   ]
  },
  {
   "cell_type": "code",
   "execution_count": null,
   "metadata": {},
   "outputs": [],
   "source": []
  },
  {
   "cell_type": "code",
   "execution_count": null,
   "metadata": {},
   "outputs": [],
   "source": []
  },
  {
   "cell_type": "code",
   "execution_count": null,
   "metadata": {},
   "outputs": [],
   "source": []
  },
  {
   "cell_type": "code",
   "execution_count": null,
   "metadata": {},
   "outputs": [],
   "source": []
  }
 ],
 "metadata": {
  "kernelspec": {
   "display_name": "R",
   "language": "R",
   "name": "ir"
  },
  "language_info": {
   "codemirror_mode": "r",
   "file_extension": ".r",
   "mimetype": "text/x-r-source",
   "name": "R",
   "pygments_lexer": "r",
   "version": "4.1.2"
  }
 },
 "nbformat": 4,
 "nbformat_minor": 4
}
