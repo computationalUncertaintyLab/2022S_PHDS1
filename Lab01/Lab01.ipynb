{
 "cells": [
  {
   "cell_type": "markdown",
   "metadata": {},
   "source": [
    "# Jupyter Notebooks\n",
    "\n",
    "All of our lab work will take place in Jupyter Notebooks.\n",
    "Jupyter Notebooks are a tool for organizing textual descriptions of work and computer programs.\n",
    "The goal is to produce one document to communicate a set of scientific ideas and allow another to understand exactly how you arrived at yoru conclusions.\n",
    "\n",
    "Jupyter has some important buttons. \n",
    "\n",
    "\n",
    "## File\n",
    "\n",
    "### A new notebook\n",
    "Under file->New->Notebook you can create a new notebook. \n",
    "When asked to \"Select Kernel\" click on the drop down menu and select \"R\"\n",
    "\n",
    "![kernelselect.png](kernelselect.png)\n",
    "\n",
    "\n",
    "### The notebook\n",
    "\n",
    "A notebook is a collection of cells.\n",
    "A **cell** is a container that can hold text or computer code. \n",
    "Cells in Jupyter looks like gray rectangles.\n",
    "There are three cell types in Jupyter: (i) Code, (ii) Markdown, and (iii) Raw.\n",
    "The two that we will focus on are Code and Markdown. \n",
    "\n",
    "The \"Code\" cell holds computer code that the R kernel (see below about a kernel) can use to compute.\n",
    "We may want to import data, run a statistical analysis, and output results.\n",
    "This is for the \"Code\" cell. \n",
    "\n",
    "\"Markdown\" is itself a special language that a Jupyter Notebook interprets as text. \n",
    "The \"Markdown\" cell is most useful for write ups, descriptions of a Code cell above or below, or scientific conclusions, comments, and thoughts. \n",
    "When you need to write, think Markdown.\n",
    "\n",
    "\n",
    "### Save your work\n",
    "You can always save your work, and should do so often, by clicking File -> Save Notebook.\n",
    "\n",
    "### Export  for submission\n",
    "In class, we will ask that tyou submit your work on Coursesite as a **PDF**. \n",
    "Work in another format will not be accepted. \n",
    "To export your notebook as a PDF, choose File->Save abd Export Notebook As->PDF\n",
    "![savepdf.png](savepdf.png)\n",
    "After you click PDF, a PDF file will be created and saved in a \"Downloads\" folder on your local machine.\n",
    "Make sure the PDF file contains (1) Your first and surname, the date, and a descriptive title.\n",
    "\n",
    "\n",
    "## Kernel\n",
    "The kernel is the component that executes code inside your notebook. \n",
    "No kernel, no running code.\n",
    "\n",
    "Over the course, you may find that your notebook has disconnected or otherwise will no longer execute the code you wrote.\n",
    "Most often, the kernel has stopped. \n",
    "To restart you kernel select Kernel->Restart Kernel."
   ]
  },
  {
   "cell_type": "markdown",
   "metadata": {},
   "source": [
    "# Programming and R\n",
    "\n",
    "The R programming language, while not explictly written for statistics, has a long history as a tool for data analysis, statistics, machine learning, and data science. \n",
    "R supports all of the main paradigms in computing and you will be able to transfer what you learn in R to other programming languages without much difficulty. \n",
    "\n",
    "Programming is difficult.\n",
    "Like any skill, programming take time to master. \n",
    "Error messages will be commonplace, you will find it difficult to ask the computer to calculate what you want. \n",
    "You will be frustrate and that is ok. \n",
    "Over time you will learn to read the error messages, code will flow more easily. \n",
    "The most important part of programming is daily practice.\n",
    "\n",
    "When we **execute** code, we ask the computer to translate what we wrote into binary and return a set of results that may or may not be stored in memory.\n",
    "In the Jupyter environment we execute code by pressing \"Run\" or by using the shortcut \"Shift+Enter\"."
   ]
  },
  {
   "cell_type": "markdown",
   "metadata": {},
   "source": [
    "# Arithmetic\n",
    "\n",
    "R supports all standard artithmetic calculations.\n",
    "Lets \"Run\" our first computation.\n",
    "\n",
    "R can interpret addition "
   ]
  },
  {
   "cell_type": "code",
   "execution_count": 100,
   "metadata": {},
   "outputs": [
    {
     "data": {
      "text/html": [
       "4"
      ],
      "text/latex": [
       "4"
      ],
      "text/markdown": [
       "4"
      ],
      "text/plain": [
       "[1] 4"
      ]
     },
     "metadata": {},
     "output_type": "display_data"
    }
   ],
   "source": [
    "2+2"
   ]
  },
  {
   "cell_type": "markdown",
   "metadata": {},
   "source": [
    "Subtraction"
   ]
  },
  {
   "cell_type": "code",
   "execution_count": 101,
   "metadata": {},
   "outputs": [
    {
     "data": {
      "text/html": [
       "6"
      ],
      "text/latex": [
       "6"
      ],
      "text/markdown": [
       "6"
      ],
      "text/plain": [
       "[1] 6"
      ]
     },
     "metadata": {},
     "output_type": "display_data"
    }
   ],
   "source": [
    "9-3"
   ]
  },
  {
   "cell_type": "markdown",
   "metadata": {},
   "source": [
    "Division"
   ]
  },
  {
   "cell_type": "code",
   "execution_count": 102,
   "metadata": {},
   "outputs": [
    {
     "data": {
      "text/html": [
       "0.75"
      ],
      "text/latex": [
       "0.75"
      ],
      "text/markdown": [
       "0.75"
      ],
      "text/plain": [
       "[1] 0.75"
      ]
     },
     "metadata": {},
     "output_type": "display_data"
    }
   ],
   "source": [
    "3/4"
   ]
  },
  {
   "cell_type": "markdown",
   "metadata": {},
   "source": [
    "multiplication"
   ]
  },
  {
   "cell_type": "code",
   "execution_count": 103,
   "metadata": {},
   "outputs": [
    {
     "data": {
      "text/html": [
       "16"
      ],
      "text/latex": [
       "16"
      ],
      "text/markdown": [
       "16"
      ],
      "text/plain": [
       "[1] 16"
      ]
     },
     "metadata": {},
     "output_type": "display_data"
    }
   ],
   "source": [
    "4*4"
   ]
  },
  {
   "cell_type": "markdown",
   "metadata": {},
   "source": [
    "and exponentiation"
   ]
  },
  {
   "cell_type": "code",
   "execution_count": 104,
   "metadata": {},
   "outputs": [
    {
     "data": {
      "text/html": [
       "19683"
      ],
      "text/latex": [
       "19683"
      ],
      "text/markdown": [
       "19683"
      ],
      "text/plain": [
       "[1] 19683"
      ]
     },
     "metadata": {},
     "output_type": "display_data"
    }
   ],
   "source": [
    "3^9"
   ]
  },
  {
   "cell_type": "markdown",
   "metadata": {},
   "source": [
    "As expected, we can compute more difficult arithemetic expressions."
   ]
  },
  {
   "cell_type": "code",
   "execution_count": 105,
   "metadata": {},
   "outputs": [
    {
     "data": {
      "text/html": [
       "16.5"
      ],
      "text/latex": [
       "16.5"
      ],
      "text/markdown": [
       "16.5"
      ],
      "text/plain": [
       "[1] 16.5"
      ]
     },
     "metadata": {},
     "output_type": "display_data"
    }
   ],
   "source": [
    "(2^4)+3/2 - 1"
   ]
  },
  {
   "cell_type": "markdown",
   "metadata": {},
   "source": [
    "# Vectors\n",
    "\n",
    "The **vector** is the fundemental object in R.\n",
    "\n",
    "A mathematical vector is an ordered list of numbers.\n",
    "They are denoted by a sequence of numbers surrounded by square brackets.\n",
    "\n",
    "\\begin{align}\n",
    "    v = \\begin{bmatrix}\n",
    "         1 \\\\\n",
    "         2 \\\\\n",
    "         3 \\\\\n",
    "        \\end{bmatrix}\n",
    "\\end{align}\n",
    "Above, the vector **v** is a vector of length 3 and contains, in order, the values 1, 2, and 3.\n",
    "\n",
    "In R, vectors are goven a name and stored in the computer in one of two ways: (i) using the **c()** operator or (ii) using the assign function. \n",
    "\n",
    "## Assignment\n",
    "\n",
    "### c()\n",
    "\n",
    "We can store a vector named v with the values 1,2,3 in R as follows"
   ]
  },
  {
   "cell_type": "code",
   "execution_count": 106,
   "metadata": {},
   "outputs": [],
   "source": [
    "v = c(1,2,3)"
   ]
  },
  {
   "cell_type": "markdown",
   "metadata": {},
   "source": [
    "### assign\n",
    "\n",
    "We can also use the assign function to store a vector, named q, with the values 3,2,1 as follows"
   ]
  },
  {
   "cell_type": "code",
   "execution_count": 107,
   "metadata": {},
   "outputs": [],
   "source": [
    "assign(\"q\",c(3,2,1))"
   ]
  },
  {
   "cell_type": "markdown",
   "metadata": {},
   "source": [
    "### equals\n",
    "\n",
    "The equals sign **does not** represent two objects are equal to one another. \n",
    "The equals sign in compiuter programming stands for \"assign\". \n",
    "\n",
    "When we write ``v = c(1,2,3)``, this is understood as \"we assign the variable v to the vector (1,2,3). \n",
    "As an example, lets create a vector ``(4,5,6)`` names ``x`` and then assign the variable ``y`` to be the same as ``x``"
   ]
  },
  {
   "cell_type": "code",
   "execution_count": 108,
   "metadata": {},
   "outputs": [],
   "source": [
    "x = c(4,5,6)\n",
    "y = x"
   ]
  },
  {
   "cell_type": "markdown",
   "metadata": {},
   "source": [
    "The last line above does not ask whether or not ``x`` is the same as ``y``.\n",
    "Instead, this line assigns the variable ``y`` to be the same vecor as ``x``."
   ]
  },
  {
   "cell_type": "markdown",
   "metadata": {},
   "source": [
    "# Print\n",
    "\n",
    "When we created the vectors **v** and **q** \"nothing happened\". \n",
    "Though the vector v and q were created and stored in the computer, R does not display these on your screen by default.\n",
    "One way to view any object in R is to print it. \n",
    "\n",
    "You can print an object, ``x``, R by writing ``print(x)``\n"
   ]
  },
  {
   "cell_type": "code",
   "execution_count": 109,
   "metadata": {},
   "outputs": [
    {
     "name": "stdout",
     "output_type": "stream",
     "text": [
      "[1] 1 2 3\n"
     ]
    }
   ],
   "source": [
    "print(v)"
   ]
  },
  {
   "cell_type": "code",
   "execution_count": 110,
   "metadata": {},
   "outputs": [
    {
     "name": "stdout",
     "output_type": "stream",
     "text": [
      "[1] 3 2 1\n"
     ]
    }
   ],
   "source": [
    "print(q)"
   ]
  },
  {
   "cell_type": "code",
   "execution_count": 111,
   "metadata": {},
   "outputs": [
    {
     "name": "stdout",
     "output_type": "stream",
     "text": [
      "[1] 4 5 6\n",
      "[1] 4 5 6\n"
     ]
    }
   ],
   "source": [
    "print(x)\n",
    "print(y)"
   ]
  },
  {
   "cell_type": "markdown",
   "metadata": {},
   "source": [
    "**You do not need to print any object, ever**.\n",
    "Printing is not necessary. \n",
    "You should use print to explore whether you programmed something write or to communicate scientific results."
   ]
  },
  {
   "cell_type": "markdown",
   "metadata": {},
   "source": [
    "# Combining vectors\n",
    "\n",
    "We can append one vector to another in R by using the c() operator.\n",
    "Suppose we wish to combine the two vectors \n",
    "\\begin{align}\n",
    "    x = \\begin{bmatrix}\n",
    "        1\\\\\n",
    "        2\\\\\n",
    "        3\n",
    "        \\end{bmatrix}; \\;\n",
    "    z = \\begin{bmatrix}\n",
    "        -1\\\\\n",
    "        0.2\\\\\n",
    "        90\n",
    "        \\end{bmatrix}\n",
    "\\end{align}\n",
    "        \n",
    "into one vector\n",
    "\n",
    "\\begin{align}\n",
    "    r = \\begin{bmatrix}\n",
    "        1\\\\\n",
    "        2\\\\\n",
    "        3\\\\\n",
    "        -1\\\\\n",
    "        0.2\\\\\n",
    "        90\n",
    "        \\end{bmatrix}\n",
    "\\end{align}\n",
    "\n",
    "Lets first create the vectors ``x`` and ``z``"
   ]
  },
  {
   "cell_type": "code",
   "execution_count": 112,
   "metadata": {},
   "outputs": [],
   "source": [
    "x = c(1,2,3)\n",
    "z = c(-1,0.2,90)"
   ]
  },
  {
   "cell_type": "markdown",
   "metadata": {},
   "source": [
    "Now we can create the vector ``r``"
   ]
  },
  {
   "cell_type": "code",
   "execution_count": 113,
   "metadata": {},
   "outputs": [],
   "source": [
    "r = c(x,z)"
   ]
  },
  {
   "cell_type": "markdown",
   "metadata": {},
   "source": [
    "If we want to check our work, we can print out ``r``."
   ]
  },
  {
   "cell_type": "code",
   "execution_count": 114,
   "metadata": {},
   "outputs": [
    {
     "name": "stdout",
     "output_type": "stream",
     "text": [
      "[1]  1.0  2.0  3.0 -1.0  0.2 90.0\n"
     ]
    }
   ],
   "source": [
    "print(r)"
   ]
  },
  {
   "cell_type": "markdown",
   "metadata": {},
   "source": [
    "# Indexing and access\n",
    "\n",
    "Vectors are useful for storing several different numbers.\n",
    "We can access single elements, or several elements inside a vector by (i) naming the vector we want to access, (ii) typing square brackets \"[]\". \n",
    "\n",
    "## Numeric indexing\n",
    "\n",
    "If we want to access the 4th element in ``r``, we can type"
   ]
  },
  {
   "cell_type": "code",
   "execution_count": 115,
   "metadata": {},
   "outputs": [
    {
     "data": {
      "text/html": [
       "-1"
      ],
      "text/latex": [
       "-1"
      ],
      "text/markdown": [
       "-1"
      ],
      "text/plain": [
       "[1] -1"
      ]
     },
     "metadata": {},
     "output_type": "display_data"
    }
   ],
   "source": [
    "r[4]"
   ]
  },
  {
   "cell_type": "markdown",
   "metadata": {},
   "source": [
    "If we want to access, the 2nd, 4th, and then the first element of ``r`` we can include in square brackets the vector ``c(2,4,1)``"
   ]
  },
  {
   "cell_type": "code",
   "execution_count": 116,
   "metadata": {},
   "outputs": [
    {
     "data": {
      "text/html": [
       "<style>\n",
       ".list-inline {list-style: none; margin:0; padding: 0}\n",
       ".list-inline>li {display: inline-block}\n",
       ".list-inline>li:not(:last-child)::after {content: \"\\00b7\"; padding: 0 .5ex}\n",
       "</style>\n",
       "<ol class=list-inline><li>2</li><li>-1</li><li>1</li></ol>\n"
      ],
      "text/latex": [
       "\\begin{enumerate*}\n",
       "\\item 2\n",
       "\\item -1\n",
       "\\item 1\n",
       "\\end{enumerate*}\n"
      ],
      "text/markdown": [
       "1. 2\n",
       "2. -1\n",
       "3. 1\n",
       "\n",
       "\n"
      ],
      "text/plain": [
       "[1]  2 -1  1"
      ]
     },
     "metadata": {},
     "output_type": "display_data"
    }
   ],
   "source": [
    "r[c(2,4,1)]"
   ]
  },
  {
   "cell_type": "markdown",
   "metadata": {},
   "source": [
    "We can access the 1st,2nd, and 3rd elements in ``r`` using the vector ``c(1,2,3)``, however a shortcut is to use the **colon** operator. \n",
    "The colon operator takes as input two integers (a,b) separated by a colon (a:b) and expands to the vector `c(a,a+1,a+2,a+3,...,b)`. \n",
    "\n",
    "Watch"
   ]
  },
  {
   "cell_type": "code",
   "execution_count": 117,
   "metadata": {},
   "outputs": [],
   "source": [
    "z = 3:5"
   ]
  },
  {
   "cell_type": "code",
   "execution_count": 118,
   "metadata": {},
   "outputs": [
    {
     "name": "stdout",
     "output_type": "stream",
     "text": [
      "[1] 3 4 5\n"
     ]
    }
   ],
   "source": [
    "print(z)"
   ]
  },
  {
   "cell_type": "markdown",
   "metadata": {},
   "source": [
    "The colon operator is useful for accessing items in a vector "
   ]
  },
  {
   "cell_type": "code",
   "execution_count": 119,
   "metadata": {},
   "outputs": [
    {
     "data": {
      "text/html": [
       "<style>\n",
       ".list-inline {list-style: none; margin:0; padding: 0}\n",
       ".list-inline>li {display: inline-block}\n",
       ".list-inline>li:not(:last-child)::after {content: \"\\00b7\"; padding: 0 .5ex}\n",
       "</style>\n",
       "<ol class=list-inline><li>2</li><li>3</li><li>-1</li><li>0.2</li></ol>\n"
      ],
      "text/latex": [
       "\\begin{enumerate*}\n",
       "\\item 2\n",
       "\\item 3\n",
       "\\item -1\n",
       "\\item 0.2\n",
       "\\end{enumerate*}\n"
      ],
      "text/markdown": [
       "1. 2\n",
       "2. 3\n",
       "3. -1\n",
       "4. 0.2\n",
       "\n",
       "\n"
      ],
      "text/plain": [
       "[1]  2.0  3.0 -1.0  0.2"
      ]
     },
     "metadata": {},
     "output_type": "display_data"
    }
   ],
   "source": [
    "r[2:5]"
   ]
  },
  {
   "cell_type": "markdown",
   "metadata": {},
   "source": [
    "The above is called **numeric indexing**.\n",
    "Numeric indexing is the access of elements in an object (here a vector) by inputting a single number, or vector of numbers.\n",
    "Indices are always integers. \n",
    "Fractional or decimal numbers cannot be used as indices. \n",
    "Up until now we only used *positive* integers to access elements of a vector.\n",
    "\n",
    "R also accepts negative integers as indices.\n",
    "Warning: R handles negative indices different than the majority of other progamming languages. \n",
    "A negative index in R standard for **exclude**. \n",
    "\n",
    "For example, if we want to return all the elements of a vector `q = c(1,4,6,10,0.5)` except for the 2nd element, we can write ``q[-2]``"
   ]
  },
  {
   "cell_type": "code",
   "execution_count": 120,
   "metadata": {},
   "outputs": [
    {
     "data": {
      "text/html": [
       "<style>\n",
       ".list-inline {list-style: none; margin:0; padding: 0}\n",
       ".list-inline>li {display: inline-block}\n",
       ".list-inline>li:not(:last-child)::after {content: \"\\00b7\"; padding: 0 .5ex}\n",
       "</style>\n",
       "<ol class=list-inline><li>1</li><li>6</li><li>10</li><li>0.5</li></ol>\n"
      ],
      "text/latex": [
       "\\begin{enumerate*}\n",
       "\\item 1\n",
       "\\item 6\n",
       "\\item 10\n",
       "\\item 0.5\n",
       "\\end{enumerate*}\n"
      ],
      "text/markdown": [
       "1. 1\n",
       "2. 6\n",
       "3. 10\n",
       "4. 0.5\n",
       "\n",
       "\n"
      ],
      "text/plain": [
       "[1]  1.0  6.0 10.0  0.5"
      ]
     },
     "metadata": {},
     "output_type": "display_data"
    }
   ],
   "source": [
    "q = c(1,4,6,10,0.5)\n",
    "q[-2]"
   ]
  },
  {
   "cell_type": "markdown",
   "metadata": {},
   "source": [
    "## Logical vectors and logical indexing\n",
    "\n",
    "### True and False\n",
    "R, like all programming languages, understands how to operate with binary logic (aside: binary logic is not the only type. If interested, google the tetralemma). \n",
    "True in R is represeted as the word ``TRUE`` in all capitals.\n",
    "False in R is represented as the word ``FALSE`` in all capitals. \n",
    "The symbols ``TRUE`` and ``FALSE`` are reserved, special symbols in R. \n",
    "You cannot assign a variable to ``TRUE`` or ``FALSE``."
   ]
  },
  {
   "cell_type": "code",
   "execution_count": 121,
   "metadata": {},
   "outputs": [
    {
     "data": {
      "text/html": [
       "TRUE"
      ],
      "text/latex": [
       "TRUE"
      ],
      "text/markdown": [
       "TRUE"
      ],
      "text/plain": [
       "[1] TRUE"
      ]
     },
     "metadata": {},
     "output_type": "display_data"
    }
   ],
   "source": [
    "TRUE"
   ]
  },
  {
   "cell_type": "code",
   "execution_count": 122,
   "metadata": {},
   "outputs": [
    {
     "data": {
      "text/html": [
       "FALSE"
      ],
      "text/latex": [
       "FALSE"
      ],
      "text/markdown": [
       "FALSE"
      ],
      "text/plain": [
       "[1] FALSE"
      ]
     },
     "metadata": {},
     "output_type": "display_data"
    }
   ],
   "source": [
    "FALSE"
   ]
  },
  {
   "cell_type": "markdown",
   "metadata": {},
   "source": [
    "### Logical comparisons\n",
    "\n",
    "R understand the following logical operators:\n",
    "- ``>``  \"Greater than\"\n",
    "- ``>=`` \"Greater than or equal to\"\n",
    "- ``<``  \"Less than\"\n",
    "- ``<=`` \"Less than or equal to\"\n",
    "- ``==`` \"Is equal to\"\n",
    "- ``!=`` \"Not equal\"\n",
    "- ``|`` \"OR\"\n",
    "- ``&`` \"AND\"\n",
    "\n",
    "\n",
    "### Logic\n",
    "Logic is a method to evaluate statements, sometimes called propositions as either True or False. \n",
    "The above symbols are used to evaluate statements. \n",
    "\n",
    "When you pose a proposition to R, such as ``v > -1`` R will evaluate that propositon for each individual element in the vector ``v``.\n",
    "Lets create the vector ``v = c(-10,10,4)`` and ask R to evaluate the proposition ``v>-1``.   "
   ]
  },
  {
   "cell_type": "code",
   "execution_count": 123,
   "metadata": {},
   "outputs": [
    {
     "data": {
      "text/html": [
       "<style>\n",
       ".list-inline {list-style: none; margin:0; padding: 0}\n",
       ".list-inline>li {display: inline-block}\n",
       ".list-inline>li:not(:last-child)::after {content: \"\\00b7\"; padding: 0 .5ex}\n",
       "</style>\n",
       "<ol class=list-inline><li>FALSE</li><li>TRUE</li><li>TRUE</li></ol>\n"
      ],
      "text/latex": [
       "\\begin{enumerate*}\n",
       "\\item FALSE\n",
       "\\item TRUE\n",
       "\\item TRUE\n",
       "\\end{enumerate*}\n"
      ],
      "text/markdown": [
       "1. FALSE\n",
       "2. TRUE\n",
       "3. TRUE\n",
       "\n",
       "\n"
      ],
      "text/plain": [
       "[1] FALSE  TRUE  TRUE"
      ]
     },
     "metadata": {},
     "output_type": "display_data"
    }
   ],
   "source": [
    "v = c(-10,10,4)\n",
    "v > -1"
   ]
  },
  {
   "cell_type": "markdown",
   "metadata": {},
   "source": [
    "We see that R returns a vector with the same numebr of elements as in v containing the values TRUE or FALSE.\n",
    "A vector that contains values TRUE/FALSE is called a **logical vector**. \n",
    "Like any other vector we can store a logical vector. "
   ]
  },
  {
   "cell_type": "code",
   "execution_count": 124,
   "metadata": {},
   "outputs": [],
   "source": [
    "log = v>-1"
   ]
  },
  {
   "cell_type": "code",
   "execution_count": 125,
   "metadata": {},
   "outputs": [
    {
     "name": "stdout",
     "output_type": "stream",
     "text": [
      "[1] FALSE  TRUE  TRUE\n"
     ]
    }
   ],
   "source": [
    "print(log)"
   ]
  },
  {
   "cell_type": "markdown",
   "metadata": {},
   "source": [
    "### AND, OR, and NOT\n",
    "\n",
    "AND, OR, and NOT are **logical operators**, they allow us to combine one or more propositions.\n",
    "Given two propositions $p_{1}$ and $p_{2}$, the AND, OR, and NOT operator will evaluate to the following\n",
    "\n",
    "| $p_{1}$     | $p_{2}$ | $p_{1}$ AND $p_{2}$| $p_{1}$ OR $p_{2}$| NOT $p_{1}$\n",
    "| ----------- | ----------- | ----------- | ----------- | ----------- |\n",
    "| TRUE        | TRUE        | TRUE        | TRUE        | FALSE \n",
    "| TRUE        | FALSE       | FALSE       | TRUE        | FALSE\n",
    "| FALSE       | TRUE        | FALSE       | TRUE        | TRUE\n",
    "| FALSE       | FALSE       | FALSE       | FALSE       | TRUE\n",
    "\n",
    "\n",
    "Logical operators come in handy in **logical indexing**.\n",
    "When we write ``r[l]`` where ``l`` is a logical vector, R will return the the values in ``r`` where ``l`` is TRUE. "
   ]
  },
  {
   "cell_type": "code",
   "execution_count": 126,
   "metadata": {},
   "outputs": [
    {
     "data": {
      "text/html": [
       "<style>\n",
       ".list-inline {list-style: none; margin:0; padding: 0}\n",
       ".list-inline>li {display: inline-block}\n",
       ".list-inline>li:not(:last-child)::after {content: \"\\00b7\"; padding: 0 .5ex}\n",
       "</style>\n",
       "<ol class=list-inline><li>-10</li><li>10</li><li>0.34</li><li>-0.97</li></ol>\n"
      ],
      "text/latex": [
       "\\begin{enumerate*}\n",
       "\\item -10\n",
       "\\item 10\n",
       "\\item 0.34\n",
       "\\item -0.97\n",
       "\\end{enumerate*}\n"
      ],
      "text/markdown": [
       "1. -10\n",
       "2. 10\n",
       "3. 0.34\n",
       "4. -0.97\n",
       "\n",
       "\n"
      ],
      "text/plain": [
       "[1] -10.00  10.00   0.34  -0.97"
      ]
     },
     "metadata": {},
     "output_type": "display_data"
    }
   ],
   "source": [
    "r = c(-10,0,10,55,0.34,-0.97)\n",
    "l = c(TRUE,FALSE,TRUE,FALSE,TRUE,TRUE)\n",
    "\n",
    "r[l]"
   ]
  },
  {
   "cell_type": "markdown",
   "metadata": {},
   "source": [
    "More often we will include the logical statement directly inside the square brackets"
   ]
  },
  {
   "cell_type": "code",
   "execution_count": 127,
   "metadata": {},
   "outputs": [
    {
     "data": {
      "text/html": [
       "<style>\n",
       ".list-inline {list-style: none; margin:0; padding: 0}\n",
       ".list-inline>li {display: inline-block}\n",
       ".list-inline>li:not(:last-child)::after {content: \"\\00b7\"; padding: 0 .5ex}\n",
       "</style>\n",
       "<ol class=list-inline><li>10</li><li>55</li><li>0.34</li></ol>\n"
      ],
      "text/latex": [
       "\\begin{enumerate*}\n",
       "\\item 10\n",
       "\\item 55\n",
       "\\item 0.34\n",
       "\\end{enumerate*}\n"
      ],
      "text/markdown": [
       "1. 10\n",
       "2. 55\n",
       "3. 0.34\n",
       "\n",
       "\n"
      ],
      "text/plain": [
       "[1] 10.00 55.00  0.34"
      ]
     },
     "metadata": {},
     "output_type": "display_data"
    }
   ],
   "source": [
    "r[ r>0 ]"
   ]
  },
  {
   "cell_type": "markdown",
   "metadata": {},
   "source": [
    "### Equivalence of TRUE and FALSE to 1 and 0"
   ]
  },
  {
   "cell_type": "markdown",
   "metadata": {},
   "source": [
    "The symbol ``TRUE`` in R is understood to be the same as the value ``1``, and the symbol ``FALSE`` in R is understood to be the same value as ``0``."
   ]
  },
  {
   "cell_type": "code",
   "execution_count": 128,
   "metadata": {},
   "outputs": [
    {
     "data": {
      "text/html": [
       "TRUE"
      ],
      "text/latex": [
       "TRUE"
      ],
      "text/markdown": [
       "TRUE"
      ],
      "text/plain": [
       "[1] TRUE"
      ]
     },
     "metadata": {},
     "output_type": "display_data"
    }
   ],
   "source": [
    "TRUE==1"
   ]
  },
  {
   "cell_type": "code",
   "execution_count": 129,
   "metadata": {},
   "outputs": [
    {
     "data": {
      "text/html": [
       "TRUE"
      ],
      "text/latex": [
       "TRUE"
      ],
      "text/markdown": [
       "TRUE"
      ],
      "text/plain": [
       "[1] TRUE"
      ]
     },
     "metadata": {},
     "output_type": "display_data"
    }
   ],
   "source": [
    "FALSE==0 "
   ]
  },
  {
   "cell_type": "code",
   "execution_count": 130,
   "metadata": {},
   "outputs": [
    {
     "data": {
      "text/html": [
       "FALSE"
      ],
      "text/latex": [
       "FALSE"
      ],
      "text/markdown": [
       "FALSE"
      ],
      "text/plain": [
       "[1] FALSE"
      ]
     },
     "metadata": {},
     "output_type": "display_data"
    }
   ],
   "source": [
    "TRUE==0"
   ]
  },
  {
   "cell_type": "code",
   "execution_count": 131,
   "metadata": {},
   "outputs": [
    {
     "data": {
      "text/html": [
       "FALSE"
      ],
      "text/latex": [
       "FALSE"
      ],
      "text/markdown": [
       "FALSE"
      ],
      "text/plain": [
       "[1] FALSE"
      ]
     },
     "metadata": {},
     "output_type": "display_data"
    }
   ],
   "source": [
    "FALSE==1"
   ]
  },
  {
   "cell_type": "markdown",
   "metadata": {},
   "source": [
    "## Two functions that are useul for operating on vectors\n",
    "\n",
    "Functions in mathematics take as input a list of objects and return a unique object.\n",
    "The same is true of functions in programming and so in R. \n",
    "\n",
    "We can create our own functions in R (this will come later), but R also has a large library of built-in functions that are automatically included once you start R. Two very sueful ones are the ``sum`` function and the ``length`` function.\n",
    "\n",
    "The ``sum`` function takes as input a vector and returns the sum of each element in the function."
   ]
  },
  {
   "cell_type": "code",
   "execution_count": 133,
   "metadata": {},
   "outputs": [
    {
     "data": {
      "text/html": [
       "6"
      ],
      "text/latex": [
       "6"
      ],
      "text/markdown": [
       "6"
      ],
      "text/plain": [
       "[1] 6"
      ]
     },
     "metadata": {},
     "output_type": "display_data"
    }
   ],
   "source": [
    "v = c(3,2,1)\n",
    "sum(v)"
   ]
  },
  {
   "cell_type": "markdown",
   "metadata": {},
   "source": [
    "The ``length`` function takes as input a vector and returns the number of elements in the vector"
   ]
  },
  {
   "cell_type": "code",
   "execution_count": 134,
   "metadata": {},
   "outputs": [
    {
     "data": {
      "text/html": [
       "3"
      ],
      "text/latex": [
       "3"
      ],
      "text/markdown": [
       "3"
      ],
      "text/plain": [
       "[1] 3"
      ]
     },
     "metadata": {},
     "output_type": "display_data"
    }
   ],
   "source": [
    "length(v)"
   ]
  },
  {
   "cell_type": "markdown",
   "metadata": {},
   "source": [
    "# Assignment 01\n",
    "\n",
    "We are recruited to track the evolution of an infectious agent for a team of public health officials (PHOs).\n",
    "To support future strategic planning the PHOs want to know the impact of intervention $X$ on increases or decreases in the incidence of this infectious agent. The PHO team collected for each county in their state whether the intervention was enacted, and whether the incidence of case counts of this infectious agent increased or decreased 60 days after the intervention was in place data.\n",
    "\n",
    "Using R, we will assign probabiltiies to the four events in our sample space { (intervention,raise),(intervention, no raise),(no intervention, raise),(no intervention, no raise)  }\n",
    "\n",
    "## The data\n",
    "In the below cell there is a few lines of code pre-programmed. \n",
    "Please runs this cell below. \n",
    "\n",
    "This cell will create two vectors. \n",
    "\n",
    "The first vector is called ``intervention_rise`` and contains one element for each county that has intervention $X$ collected by the PHO team. \n",
    "An element is the value ``1`` if there was a rise in incidence for the infectious agent and ``0`` if there was a fall in incidence. \n",
    "\n",
    "The second vector is called ``nointervention_rise`` and contains one element for each county that did not have intervention $X$ collected by the PHO team. An element is the value ``1`` if there was a rise in incidence for the infectious agent and ``0`` if there was a fall in incidence. \n",
    "\n",
    "\n",
    "## Please complete the following\n",
    "\n",
    "1. Use the ``length`` function to count the number of counties where intervention $X$ took place\n",
    "2. Use the ``length`` function to count the number of counties where no intervention $X$ took place\n",
    "3. Use the ``sum`` function to count the number of counties that observed a rise in incidence. \n",
    "4. Use the ``sum`` function and the ``not (!)`` operator to count the number of counties that observed a fall in incidence. \n",
    "5. Use the frequentist approach to compute the probability\n",
    "   - that an intervention would take place in a county\n",
    "   - that a rise in incidence was observed in a county\n",
    "   - of a rise in incidence given a county implemented intervention $X$\n",
    "   - of a rise in incidence given a county has not implemented intervention $X$\n",
    "6. Use the multiplication rule to compute the probability\n",
    "   - that an intervention and rise is observed   (Hint: P(Intervention) * P(Rise|Intervention))\n",
    "   - that an intervention and fall is observed\n",
    "   - that no intervention and rise is observed\n",
    "   - that no intervention and fall is observed"
   ]
  },
  {
   "cell_type": "code",
   "execution_count": 178,
   "metadata": {},
   "outputs": [],
   "source": [
    "#RUN THIS CODE. DO NOT WORRY WHAT IT SAYS. \n",
    "nums = runif(10^3,0,1)\n",
    "\n",
    "intervention_rise   = c()\n",
    "nointervention_rise = c()\n",
    "for (i in nums){\n",
    "    if (runif(1)> 0.4){\n",
    "        if ( i>0.800 ){\n",
    "           risefall = 1   \n",
    "        } else{risefall=0}\n",
    "        intervention_rise = c(intervention_rise, risefall)\n",
    "    }\n",
    "    else {\n",
    "        if ( i>0.325 ){\n",
    "           risefall = 1   \n",
    "        } else{risefall=0}\n",
    "        nointervention_rise = c(nointervention_rise, risefall)\n",
    "    }\n",
    "}"
   ]
  },
  {
   "cell_type": "code",
   "execution_count": 179,
   "metadata": {},
   "outputs": [
    {
     "data": {
      "text/html": [
       "0.216723549488055"
      ],
      "text/latex": [
       "0.216723549488055"
      ],
      "text/markdown": [
       "0.216723549488055"
      ],
      "text/plain": [
       "[1] 0.2167235"
      ]
     },
     "metadata": {},
     "output_type": "display_data"
    },
    {
     "data": {
      "text/html": [
       "0.693236714975845"
      ],
      "text/latex": [
       "0.693236714975845"
      ],
      "text/markdown": [
       "0.693236714975845"
      ],
      "text/plain": [
       "[1] 0.6932367"
      ]
     },
     "metadata": {},
     "output_type": "display_data"
    }
   ],
   "source": []
  },
  {
   "cell_type": "code",
   "execution_count": null,
   "metadata": {},
   "outputs": [],
   "source": []
  },
  {
   "cell_type": "code",
   "execution_count": null,
   "metadata": {},
   "outputs": [],
   "source": []
  }
 ],
 "metadata": {
  "kernelspec": {
   "display_name": "R",
   "language": "R",
   "name": "ir"
  },
  "language_info": {
   "codemirror_mode": "r",
   "file_extension": ".r",
   "mimetype": "text/x-r-source",
   "name": "R",
   "pygments_lexer": "r",
   "version": "4.1.2"
  }
 },
 "nbformat": 4,
 "nbformat_minor": 4
}
