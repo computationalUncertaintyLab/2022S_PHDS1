{
 "cells": [
  {
   "cell_type": "markdown",
   "metadata": {},
   "source": [
    "# Assignment 01 -- Solutions\n",
    "\n",
    "We are recruited to track the evolution of an infectious agent for a team of public health officials (PHOs).\n",
    "To support future strategic planning the PHOs want to know the impact of intervention $X$ on increases or decreases in the incidence of this infectious agent. The PHO team collected for each county in their state whether the intervention was enacted, and whether the incidence of case counts of this infectious agent increased or decreased 60 days after the intervention was in place data.\n",
    "\n",
    "Using R, we will assign probabiltiies to the four events in our sample space { (intervention,raise),(intervention, no raise),(no intervention, raise),(no intervention, no raise)  }\n",
    "\n",
    "## The data\n",
    "In the below cell there are a few lines of code pre-programmed.  \n",
    "Please run this cell below. \n",
    "\n",
    "This cell will create two vectors. \n",
    "\n",
    "The first vector is called ``intervention_rise`` and contains one element for each county that has intervention $X$ collected by the PHO team. \n",
    "An element is the value ``1`` if there was a rise in incidence for the infectious agent and ``0`` if there was a fall in incidence. \n",
    "\n",
    "The second vector is called ``nointervention_rise`` and contains one element for each county that did not have intervention $X$ collected by the PHO team. An element is the value ``1`` if there was a rise in incidence for the infectious agent and ``0`` if there was a fall in incidence. \n",
    "\n",
    "\n",
    "## Please complete the following\n",
    "\n",
    "1. Use the ``length`` function to count the number of counties where intervention $X$ took place\n",
    "2. Use the ``length`` function to count the number of counties where no intervention $X$ took place\n",
    "3. Use the ``sum`` function to count the number of counties that observed a rise in incidence. \n",
    "4. Use the ``sum`` function and the ``not (!)`` operator to count the number of counties that observed a fall in incidence. \n",
    "5. Use the frequentist approach to compute the probability\n",
    "   - that an intervention would take place in a county\n",
    "   - that a rise in incidence was observed in a county\n",
    "   - of a rise in incidence given a county implemented intervention $X$\n",
    "   - of a rise in incidence given a county has not implemented intervention $X$\n",
    "6. Use the multiplication rule to compute the probability\n",
    "   - that an intervention and rise is observed   (Hint: P(Intervention) * P(Rise|Intervention))\n",
    "   - that an intervention and fall is observed\n",
    "   - that no intervention and rise is observed\n",
    "   - that no intervention and fall is observed\n",
    "7. Compute the probability of the below events, assuming intervention and rise/fall. are independent\n",
    "   - Intervention and Rise\n",
    "   - Intervention and Fall\n",
    "   - No Intervention and Rise  \n",
    "   - No Intervention and Fall\n",
    "8. Do you think intervention $X$ is effective at preventing the spread of our infectious agent?"
   ]
  },
  {
   "cell_type": "code",
   "execution_count": 1,
   "metadata": {},
   "outputs": [],
   "source": [
    "#RUN THIS CODE. DO NOT WORRY WHAT IT SAYS. \n",
    "nums = runif(10^3,0,1)\n",
    "\n",
    "intervention_rise   = c()\n",
    "nointervention_rise = c()\n",
    "for (i in nums){\n",
    "    if (runif(1)> 0.4){\n",
    "        if ( i>0.800 ){\n",
    "           risefall = 1   \n",
    "        } else{risefall=0}\n",
    "        intervention_rise = c(intervention_rise, risefall)\n",
    "    }\n",
    "    else {\n",
    "        if ( i>0.325 ){\n",
    "           risefall = 1   \n",
    "        } else{risefall=0}\n",
    "        nointervention_rise = c(nointervention_rise, risefall)\n",
    "    }\n",
    "}"
   ]
  },
  {
   "cell_type": "markdown",
   "metadata": {},
   "source": [
    "### Before working on the questions\n",
    "\n",
    "Some general tips for approaching programming problems:\n",
    "\n",
    "* Understand your data  \n",
    "    * `intervention_rise`: A vector of zeros and ones where *each element* represents a county that received an intervention, where ones correspond to a rise in incidence and zeros correspond to no rise.  \n",
    "    * `nointervention_rise`: A vector of zeros and ones where *each element* represents a county that did not receive an intervention, where ones correspond to a rise in incidence and zeros correspond to no rise.  \n",
    "* Understand in ordinary terms what the question is asking you to compute (eg, I need to count the number of elements in this vector).  \n",
    "* Think about the tools available to you in R and brainstorm ways to approach the problem."
   ]
  },
  {
   "cell_type": "markdown",
   "metadata": {},
   "source": [
    "**Question 1**  \n",
    "1. Use the ``length`` function to count the number of counties where intervention $X$ took place  \n",
    "\n",
    "I know from thinking about how my data is represented that `intervention_rise` has one element per county that received intervention $X$. I understand that if I were to count all these elements, I would arrive at the solution to this problem. I also know about the tool available to me in R called the `length()` function that can be used to count the number of elements in a vector."
   ]
  },
  {
   "cell_type": "code",
   "execution_count": 2,
   "metadata": {},
   "outputs": [
    {
     "data": {
      "text/html": [
       "586"
      ],
      "text/latex": [
       "586"
      ],
      "text/markdown": [
       "586"
      ],
      "text/plain": [
       "[1] 586"
      ]
     },
     "metadata": {},
     "output_type": "display_data"
    }
   ],
   "source": [
    "length(intervention_rise)"
   ]
  },
  {
   "cell_type": "markdown",
   "metadata": {},
   "source": [
    "**Question 2**  \n",
    "2. Use the ``length`` function to count the number of counties where no intervention $X$ took place  \n",
    "\n",
    "Same logic as above but now for the `nointervention_rise` vector."
   ]
  },
  {
   "cell_type": "code",
   "execution_count": 4,
   "metadata": {},
   "outputs": [
    {
     "data": {
      "text/html": [
       "414"
      ],
      "text/latex": [
       "414"
      ],
      "text/markdown": [
       "414"
      ],
      "text/plain": [
       "[1] 414"
      ]
     },
     "metadata": {},
     "output_type": "display_data"
    }
   ],
   "source": [
    "length(nointervention_rise)"
   ]
  },
  {
   "cell_type": "markdown",
   "metadata": {},
   "source": [
    "**Question 3**  \n",
    "3. Use the ``sum`` function to count the number of counties that observed a rise in incidence.  \n",
    "\n",
    "I know that every 'one' in my data reflects a county that observed a rise in incidence. So I know that counting up all the ones across both vectors will give me my answer. I know that the `sum()` function can sum up all the elements in a vector, and I know that, for binary vectors (ie, vectors having only zeros and ones as elements), the sum of all the elements is the same as counting the number of ones in the vector."
   ]
  },
  {
   "cell_type": "code",
   "execution_count": 5,
   "metadata": {},
   "outputs": [
    {
     "data": {
      "text/html": [
       "378"
      ],
      "text/latex": [
       "378"
      ],
      "text/markdown": [
       "378"
      ],
      "text/plain": [
       "[1] 378"
      ]
     },
     "metadata": {},
     "output_type": "display_data"
    }
   ],
   "source": [
    "sum(intervention_rise) + sum(nointervention_rise)"
   ]
  },
  {
   "cell_type": "markdown",
   "metadata": {},
   "source": [
    "**Question 4**  \n",
    "4. Use the ``sum`` function and the ``not (!)`` operator to count the number of counties that observed a fall in incidence.  \n",
    "\n",
    "I know that every 'zero' in my data reflects a county that observed a fall in incidence. I can use the same logic I used in the previous question if I convert the zeros in my data to ones and my ones to zeros. I remember from the lecture notes that `1 == TRUE` and `0 == FALSE`, and that the NOT logical operator (`!`) can convert a `TRUE` into a `FALSE` and vice versa."
   ]
  },
  {
   "cell_type": "code",
   "execution_count": 7,
   "metadata": {},
   "outputs": [
    {
     "data": {
      "text/html": [
       "622"
      ],
      "text/latex": [
       "622"
      ],
      "text/markdown": [
       "622"
      ],
      "text/plain": [
       "[1] 622"
      ]
     },
     "metadata": {},
     "output_type": "display_data"
    }
   ],
   "source": [
    "sum(!intervention_rise) + sum(!nointervention_rise)"
   ]
  },
  {
   "cell_type": "markdown",
   "metadata": {},
   "source": [
    "**Question 5**  \n",
    "5. Use the frequentist approach to compute the probability  \n",
    "\n",
    "I know that one way to think about frequentist probability is:  \n",
    "\n",
    "$$\n",
    "\\frac{\\text{Number of Things I Care About}}{\\text{Total Number of Things}}\n",
    "$$\n",
    "\n",
    "Imagine a real simple scenario. There are four marbles in a bag- one of them is blue, the rest are red. What's the probability of closing your eyes, reaching in and randomly grabbing the blue marble?  \n",
    "\n",
    "$$\n",
    "P(ChooseBlue) = \\frac{\\text{Number of Things I Care About}}{\\text{Total Number of Things}}\\\\\n",
    "\\\\\n",
    "P(ChooseBlue) = \\frac{\\text{Number of Blue Marbles}}{\\text{Number of Total Marbles}}\\\\\n",
    "\\\\\n",
    "P(ChooseBlue) = \\frac{1}{4}\\\\\n",
    "\\\\\n",
    "P(ChooseBlue) = 0.25\n",
    "$$"
   ]
  },
  {
   "cell_type": "markdown",
   "metadata": {},
   "source": [
    "- that an intervention would take place in a county  \n",
    "\n",
    "$$\n",
    "P(Intervention) = \\frac{\\text{Number of Counties Receiving Intervention}}{\\text{Total Number of Counties}}\n",
    "$$\n",
    "\n",
    "We use the `length()` function from before:"
   ]
  },
  {
   "cell_type": "code",
   "execution_count": 9,
   "metadata": {},
   "outputs": [
    {
     "data": {
      "text/html": [
       "0.586"
      ],
      "text/latex": [
       "0.586"
      ],
      "text/markdown": [
       "0.586"
      ],
      "text/plain": [
       "[1] 0.586"
      ]
     },
     "metadata": {},
     "output_type": "display_data"
    }
   ],
   "source": [
    "number_interventions = length(intervention_rise)\n",
    "total_counties = length(intervention_rise) + length(nointervention_rise)\n",
    "number_interventions / total_counties"
   ]
  },
  {
   "cell_type": "markdown",
   "metadata": {},
   "source": [
    "- that a rise in incidence was observed in a county"
   ]
  },
  {
   "cell_type": "code",
   "execution_count": 10,
   "metadata": {},
   "outputs": [
    {
     "data": {
      "text/html": [
       "0.378"
      ],
      "text/latex": [
       "0.378"
      ],
      "text/markdown": [
       "0.378"
      ],
      "text/plain": [
       "[1] 0.378"
      ]
     },
     "metadata": {},
     "output_type": "display_data"
    }
   ],
   "source": [
    "number_incidence = sum(intervention_rise) + sum(nointervention_rise)\n",
    "number_incidence / total_counties"
   ]
  },
  {
   "cell_type": "markdown",
   "metadata": {},
   "source": [
    "- of a rise in incidence given a county implemented intervention $X$"
   ]
  },
  {
   "cell_type": "code",
   "execution_count": 12,
   "metadata": {},
   "outputs": [
    {
     "data": {
      "text/html": [
       "0.175767918088737"
      ],
      "text/latex": [
       "0.175767918088737"
      ],
      "text/markdown": [
       "0.175767918088737"
      ],
      "text/plain": [
       "[1] 0.1757679"
      ]
     },
     "metadata": {},
     "output_type": "display_data"
    }
   ],
   "source": [
    "rise_for_interventions = sum(intervention_rise)\n",
    "total_interventions = length(intervention_rise)\n",
    "rise_for_interventions / total_interventions"
   ]
  },
  {
   "cell_type": "markdown",
   "metadata": {},
   "source": [
    "- of a rise in incidence given a county has not implemented intervention $X$"
   ]
  },
  {
   "cell_type": "code",
   "execution_count": 13,
   "metadata": {},
   "outputs": [
    {
     "data": {
      "text/html": [
       "0.664251207729469"
      ],
      "text/latex": [
       "0.664251207729469"
      ],
      "text/markdown": [
       "0.664251207729469"
      ],
      "text/plain": [
       "[1] 0.6642512"
      ]
     },
     "metadata": {},
     "output_type": "display_data"
    }
   ],
   "source": [
    "rise_without_intervention = sum(nointervention_rise)\n",
    "total_without_intervention = length(nointervention_rise)\n",
    "rise_without_intervention / total_without_intervention"
   ]
  },
  {
   "cell_type": "markdown",
   "metadata": {},
   "source": [
    "**Question 6**\n",
    "\n",
    "6. Use the multiplication rule to compute the probability  \n",
    "\n",
    "We use the multiplication rule to compute the probability of two events happening (ie, their intersection):  \n",
    "\n",
    "$$\n",
    "P(A \\cap B) = P(A) \\cdot P(B|A)\n",
    "$$\n",
    "\n",
    "We'll use the frequentist approach to compute both $P(A)$ and $P(B|A)$, and then multiply these together to find the intersection."
   ]
  },
  {
   "cell_type": "markdown",
   "metadata": {},
   "source": [
    "- that an intervention and rise is observed  \n",
    "\n",
    "$$\n",
    "P(Intervention \\cap Rise) = P(Intervention) \\cdot P(Rise | Intervention)\n",
    "$$"
   ]
  },
  {
   "cell_type": "code",
   "execution_count": 24,
   "metadata": {},
   "outputs": [
    {
     "data": {
      "text/html": [
       "0.103"
      ],
      "text/latex": [
       "0.103"
      ],
      "text/markdown": [
       "0.103"
      ],
      "text/plain": [
       "[1] 0.103"
      ]
     },
     "metadata": {},
     "output_type": "display_data"
    }
   ],
   "source": [
    "## compute p(intervention)\n",
    "total_intervention = length(intervention_rise)\n",
    "total_counties = length(intervention_rise) + length(nointervention_rise)\n",
    "\n",
    "p_intervention = total_intervention / total_counties\n",
    "\n",
    "## compute rise | intervention\n",
    "rise_for_intervention = sum(intervention_rise)\n",
    "total_intervention = length(intervention_rise)\n",
    "\n",
    "p_rise_given_intervention = rise_for_intervention / total_intervention\n",
    "\n",
    "## compute intersection\n",
    "intersection = p_intervention * p_rise_given_intervention\n",
    "intersection\n"
   ]
  },
  {
   "cell_type": "markdown",
   "metadata": {},
   "source": [
    "We can cross reference the answer above against a frequentist approach for calculating the intersection, which is the frequency of the outcome divided by the frequency of all outcomes."
   ]
  },
  {
   "cell_type": "code",
   "execution_count": 20,
   "metadata": {},
   "outputs": [
    {
     "data": {
      "text/html": [
       "TRUE"
      ],
      "text/latex": [
       "TRUE"
      ],
      "text/markdown": [
       "TRUE"
      ],
      "text/plain": [
       "[1] TRUE"
      ]
     },
     "metadata": {},
     "output_type": "display_data"
    }
   ],
   "source": [
    "## frequentist_approach\n",
    "intersection_frequentist = sum(intervention_rise) / total_counties\n",
    "\n",
    "intersection == intersection_frequentist"
   ]
  },
  {
   "cell_type": "markdown",
   "metadata": {},
   "source": [
    "- that an intervention and fall is observed  \n",
    "\n",
    "$$\n",
    "P(Intervention \\cap Fall) = P(Intervention) \\cdot P(Fall | Intervention)\n",
    "$$"
   ]
  },
  {
   "cell_type": "code",
   "execution_count": 21,
   "metadata": {},
   "outputs": [
    {
     "data": {
      "text/html": [
       "0.483"
      ],
      "text/latex": [
       "0.483"
      ],
      "text/markdown": [
       "0.483"
      ],
      "text/plain": [
       "[1] 0.483"
      ]
     },
     "metadata": {},
     "output_type": "display_data"
    }
   ],
   "source": [
    "p_fall_given_intervention = sum(!intervention_rise) / length(intervention_rise)\n",
    "## taking P(intervention) from above\n",
    "p_intervention * p_fall_given_intervention"
   ]
  },
  {
   "cell_type": "markdown",
   "metadata": {},
   "source": [
    "- that no intervention and rise is observed  \n",
    "\n",
    "$$\n",
    "P(NoIntervention \\cap Rise) = P(NoIntervention) \\cdot P(Rise | NoIntervention)\n",
    "$$"
   ]
  },
  {
   "cell_type": "code",
   "execution_count": 22,
   "metadata": {},
   "outputs": [
    {
     "data": {
      "text/html": [
       "0.275"
      ],
      "text/latex": [
       "0.275"
      ],
      "text/markdown": [
       "0.275"
      ],
      "text/plain": [
       "[1] 0.275"
      ]
     },
     "metadata": {},
     "output_type": "display_data"
    }
   ],
   "source": [
    "p_rise_given_nointervention = sum(nointervention_rise) / length(nointervention_rise)\n",
    "p_nointervention = length(nointervention_rise) / (length(nointervention_rise) + length(intervention_rise))\n",
    "p_rise_given_nointervention * p_nointervention"
   ]
  },
  {
   "cell_type": "markdown",
   "metadata": {},
   "source": [
    "- that no intervention and fall is observed\n",
    "\n",
    "$$\n",
    "P(NoIntervention \\cap Fall) = P(NoIntervention) \\cdot P(Fall|NoIntervention)\n",
    "$$"
   ]
  },
  {
   "cell_type": "code",
   "execution_count": 23,
   "metadata": {},
   "outputs": [
    {
     "data": {
      "text/html": [
       "0.139"
      ],
      "text/latex": [
       "0.139"
      ],
      "text/markdown": [
       "0.139"
      ],
      "text/plain": [
       "[1] 0.139"
      ]
     },
     "metadata": {},
     "output_type": "display_data"
    }
   ],
   "source": [
    "p_fall_given_nointervention = sum(!nointervention_rise) / length(nointervention_rise)\n",
    "p_fall_given_nointervention * p_nointervention"
   ]
  },
  {
   "cell_type": "markdown",
   "metadata": {},
   "source": [
    "**Question 7**  \n",
    "7. Compute the probability of the below events, assuming intervention and rise/fall. are independent  \n",
    "\n",
    "Computing intersection for independent events:  \n",
    "\n",
    "$$\n",
    "P(A \\cap B) = P(A) \\cdot P(B)\n",
    "$$"
   ]
  },
  {
   "cell_type": "markdown",
   "metadata": {},
   "source": [
    "- Intervention and Rise"
   ]
  },
  {
   "cell_type": "code",
   "execution_count": 26,
   "metadata": {},
   "outputs": [
    {
     "data": {
      "text/html": [
       "0.221508"
      ],
      "text/latex": [
       "0.221508"
      ],
      "text/markdown": [
       "0.221508"
      ],
      "text/plain": [
       "[1] 0.221508"
      ]
     },
     "metadata": {},
     "output_type": "display_data"
    }
   ],
   "source": [
    "total_counties = sum(length(intervention_rise), length(nointervention_rise))\n",
    "p_intervention = length(intervention_rise) / total_counties\n",
    "p_rise = sum(intervention_rise, nointervention_rise) / total_counties\n",
    "p_rise * p_intervention"
   ]
  },
  {
   "cell_type": "markdown",
   "metadata": {},
   "source": [
    "- Intervention and Fall"
   ]
  },
  {
   "cell_type": "code",
   "execution_count": 27,
   "metadata": {},
   "outputs": [
    {
     "data": {
      "text/html": [
       "0.364492"
      ],
      "text/latex": [
       "0.364492"
      ],
      "text/markdown": [
       "0.364492"
      ],
      "text/plain": [
       "[1] 0.364492"
      ]
     },
     "metadata": {},
     "output_type": "display_data"
    }
   ],
   "source": [
    "p_fall = sum(!intervention_rise, !nointervention_rise) / total_counties\n",
    "p_fall * p_intervention"
   ]
  },
  {
   "cell_type": "markdown",
   "metadata": {},
   "source": [
    "- No Intervention and Rise  "
   ]
  },
  {
   "cell_type": "code",
   "execution_count": 29,
   "metadata": {},
   "outputs": [
    {
     "data": {
      "text/html": [
       "0.156492"
      ],
      "text/latex": [
       "0.156492"
      ],
      "text/markdown": [
       "0.156492"
      ],
      "text/plain": [
       "[1] 0.156492"
      ]
     },
     "metadata": {},
     "output_type": "display_data"
    }
   ],
   "source": [
    "p_nointervention = length(nointervention_rise) / total_counties\n",
    "p_nointervention * p_rise"
   ]
  },
  {
   "cell_type": "markdown",
   "metadata": {},
   "source": [
    "- No Intervention and Fall"
   ]
  },
  {
   "cell_type": "code",
   "execution_count": 31,
   "metadata": {},
   "outputs": [
    {
     "data": {
      "text/html": [
       "0.257508"
      ],
      "text/latex": [
       "0.257508"
      ],
      "text/markdown": [
       "0.257508"
      ],
      "text/plain": [
       "[1] 0.257508"
      ]
     },
     "metadata": {},
     "output_type": "display_data"
    }
   ],
   "source": [
    "p_nointervention * p_fall"
   ]
  },
  {
   "cell_type": "markdown",
   "metadata": {},
   "source": [
    "**Question 8**  \n",
    "8. Do you think intervention $X$ is effective at preventing the spread of our infectious agent?\n",
    "\n",
    "To answer this question, we should look at our responses to question 6 and not question 7. That is because question 7 assumes that intervention and levels of incidence are independent, and we know that's a not at all a sound assumption because the intervention was implemented *in order to* influence the intervention.  \n",
    "\n",
    "\n"
   ]
  },
  {
   "cell_type": "markdown",
   "metadata": {},
   "source": [
    "|  | Rise | No Rise |\n",
    "|:------|:---:|:----:|\n",
    "|**Intervention** | $.10$ | $.48$|\n",
    "|**No Intervention** | $.28$ | $.14$|"
   ]
  },
  {
   "cell_type": "markdown",
   "metadata": {},
   "source": [
    "I wanted to show you how to visualize these results (we will explore visualization more in a future lab towards the end of the semester):"
   ]
  },
  {
   "cell_type": "code",
   "execution_count": 39,
   "metadata": {},
   "outputs": [
    {
     "data": {
      "image/png": "[encoded data removed]",
      "text/plain": [
       "plot without title"
      ]
     },
     "metadata": {
      "image/png": {
       "height": 420,
       "width": 420
      }
     },
     "output_type": "display_data"
    }
   ],
   "source": [
    "## dont worry about how this code works... yet\n",
    "suppressMessages(library(tidyverse))\n",
    "d = data.frame(Intervention = c(rep('Intervention', 2), rep('No Intervention', 2)),\n",
    "              Incidence = rep(c('Rise', 'No Rise'), 2),\n",
    "              values = c(.10, .48, .28, .14))\n",
    "d %>%\n",
    "ggplot(aes(x = Intervention, y = values)) + \n",
    "geom_bar(stat = 'identity', aes(fill = Incidence), position = position_dodge(width = .9)) + \n",
    "labs(\n",
    "    y = 'Probability'\n",
    ") + \n",
    "theme_bw() + \n",
    "theme(text = element_text(size = 20))"
   ]
  },
  {
   "cell_type": "markdown",
   "metadata": {},
   "source": [
    "We see from this plot that Intervention $X$ was highly effective in reducing the rise of the infectious disease."
   ]
  }
 ],
 "metadata": {
  "kernelspec": {
   "display_name": "R",
   "language": "R",
   "name": "ir"
  },
  "language_info": {
   "codemirror_mode": "r",
   "file_extension": ".r",
   "mimetype": "text/x-r-source",
   "name": "R",
   "pygments_lexer": "r",
   "version": "4.0.2"
  }
 },
 "nbformat": 4,
 "nbformat_minor": 5
}
