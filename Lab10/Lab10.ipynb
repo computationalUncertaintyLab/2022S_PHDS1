{
 "cells": [
  {
   "cell_type": "markdown",
   "metadata": {},
   "source": [
    "# Data Reshaping and Joining\n",
    "\n",
    "## Reshaping\n",
    "\n",
    "The same data can be represented in many different ways. Imagine we have some dataset that records how far different students can throw a ball at three different time points. Two common ways that data can be organized in a `.csv` file are called *wide* and *long*. Look at the difference in organization in the two datasets below:"
   ]
  },
  {
   "cell_type": "code",
   "execution_count": 14,
   "metadata": {},
   "outputs": [
    {
     "data": {
      "text/html": [
       "<table class=\"dataframe\">\n",
       "<caption>A data.frame: 9 × 3</caption>\n",
       "<thead>\n",
       "\t<tr><th scope=col>student</th><th scope=col>timepoint</th><th scope=col>distance</th></tr>\n",
       "\t<tr><th scope=col>&lt;fct&gt;</th><th scope=col>&lt;fct&gt;</th><th scope=col>&lt;dbl&gt;</th></tr>\n",
       "</thead>\n",
       "<tbody>\n",
       "\t<tr><td>Amy </td><td>Time1</td><td>74.29328</td></tr>\n",
       "\t<tr><td>Amy </td><td>Time2</td><td>80.63865</td></tr>\n",
       "\t<tr><td>Amy </td><td>Time3</td><td>90.91206</td></tr>\n",
       "\t<tr><td>Jack</td><td>Time1</td><td>71.34743</td></tr>\n",
       "\t<tr><td>Jack</td><td>Time2</td><td>74.17298</td></tr>\n",
       "\t<tr><td>Jack</td><td>Time3</td><td>88.02991</td></tr>\n",
       "\t<tr><td>Ben </td><td>Time1</td><td>74.69437</td></tr>\n",
       "\t<tr><td>Ben </td><td>Time2</td><td>87.21723</td></tr>\n",
       "\t<tr><td>Ben </td><td>Time3</td><td>71.75157</td></tr>\n",
       "</tbody>\n",
       "</table>\n"
      ],
      "text/latex": [
       "A data.frame: 9 × 3\n",
       "\\begin{tabular}{lll}\n",
       " student & timepoint & distance\\\\\n",
       " <fct> & <fct> & <dbl>\\\\\n",
       "\\hline\n",
       "\t Amy  & Time1 & 74.29328\\\\\n",
       "\t Amy  & Time2 & 80.63865\\\\\n",
       "\t Amy  & Time3 & 90.91206\\\\\n",
       "\t Jack & Time1 & 71.34743\\\\\n",
       "\t Jack & Time2 & 74.17298\\\\\n",
       "\t Jack & Time3 & 88.02991\\\\\n",
       "\t Ben  & Time1 & 74.69437\\\\\n",
       "\t Ben  & Time2 & 87.21723\\\\\n",
       "\t Ben  & Time3 & 71.75157\\\\\n",
       "\\end{tabular}\n"
      ],
      "text/markdown": [
       "\n",
       "A data.frame: 9 × 3\n",
       "\n",
       "| student &lt;fct&gt; | timepoint &lt;fct&gt; | distance &lt;dbl&gt; |\n",
       "|---|---|---|\n",
       "| Amy  | Time1 | 74.29328 |\n",
       "| Amy  | Time2 | 80.63865 |\n",
       "| Amy  | Time3 | 90.91206 |\n",
       "| Jack | Time1 | 71.34743 |\n",
       "| Jack | Time2 | 74.17298 |\n",
       "| Jack | Time3 | 88.02991 |\n",
       "| Ben  | Time1 | 74.69437 |\n",
       "| Ben  | Time2 | 87.21723 |\n",
       "| Ben  | Time3 | 71.75157 |\n",
       "\n"
      ],
      "text/plain": [
       "  student timepoint distance\n",
       "1 Amy     Time1     74.29328\n",
       "2 Amy     Time2     80.63865\n",
       "3 Amy     Time3     90.91206\n",
       "4 Jack    Time1     71.34743\n",
       "5 Jack    Time2     74.17298\n",
       "6 Jack    Time3     88.02991\n",
       "7 Ben     Time1     74.69437\n",
       "8 Ben     Time2     87.21723\n",
       "9 Ben     Time3     71.75157"
      ]
     },
     "metadata": {},
     "output_type": "display_data"
    },
    {
     "data": {
      "text/html": [
       "<table class=\"dataframe\">\n",
       "<caption>A data.frame: 3 × 4</caption>\n",
       "<thead>\n",
       "\t<tr><th scope=col>student</th><th scope=col>Time1</th><th scope=col>Time2</th><th scope=col>Time3</th></tr>\n",
       "\t<tr><th scope=col>&lt;fct&gt;</th><th scope=col>&lt;dbl&gt;</th><th scope=col>&lt;dbl&gt;</th><th scope=col>&lt;dbl&gt;</th></tr>\n",
       "</thead>\n",
       "<tbody>\n",
       "\t<tr><td>Amy </td><td>74.29328</td><td>80.63865</td><td>90.91206</td></tr>\n",
       "\t<tr><td>Jack</td><td>71.34743</td><td>74.17298</td><td>88.02991</td></tr>\n",
       "\t<tr><td>Ben </td><td>74.69437</td><td>87.21723</td><td>71.75157</td></tr>\n",
       "</tbody>\n",
       "</table>\n"
      ],
      "text/latex": [
       "A data.frame: 3 × 4\n",
       "\\begin{tabular}{llll}\n",
       " student & Time1 & Time2 & Time3\\\\\n",
       " <fct> & <dbl> & <dbl> & <dbl>\\\\\n",
       "\\hline\n",
       "\t Amy  & 74.29328 & 80.63865 & 90.91206\\\\\n",
       "\t Jack & 71.34743 & 74.17298 & 88.02991\\\\\n",
       "\t Ben  & 74.69437 & 87.21723 & 71.75157\\\\\n",
       "\\end{tabular}\n"
      ],
      "text/markdown": [
       "\n",
       "A data.frame: 3 × 4\n",
       "\n",
       "| student &lt;fct&gt; | Time1 &lt;dbl&gt; | Time2 &lt;dbl&gt; | Time3 &lt;dbl&gt; |\n",
       "|---|---|---|---|\n",
       "| Amy  | 74.29328 | 80.63865 | 90.91206 |\n",
       "| Jack | 71.34743 | 74.17298 | 88.02991 |\n",
       "| Ben  | 74.69437 | 87.21723 | 71.75157 |\n",
       "\n"
      ],
      "text/plain": [
       "  student Time1    Time2    Time3   \n",
       "1 Amy     74.29328 80.63865 90.91206\n",
       "2 Jack    71.34743 74.17298 88.02991\n",
       "3 Ben     74.69437 87.21723 71.75157"
      ]
     },
     "metadata": {},
     "output_type": "display_data"
    }
   ],
   "source": [
    "library(tidyr)\n",
    "library(dplyr)\n",
    "d = expand.grid(student = c('Amy', 'Jack', 'Ben'), timepoint = paste0('Time', 1:3))\n",
    "d$distance = rnorm(nrow(d), 80, 10)\n",
    "d = arrange(d, student)\n",
    "d\n",
    "spread(d, timepoint, distance)"
   ]
  },
  {
   "cell_type": "markdown",
   "metadata": {},
   "source": [
    "Many functions in R will expect your data to be in the first format (ie, long format). You will sometimes encounter data in the second format (ie, wide format) and you will need to translate it to long format in order to analyze it. More specifically, many functions in R will expect that your data is organized such that:\n",
    "\n",
    "1. Every column is a variable.  \n",
    "2. Every row is an observation.  \n",
    "3. Every cell is a single value.\n",
    "\n",
    "This definition is a bit abstract, and what counts as a \"variable\" or \"observation\" in a given situation can be tricky, but we'll look at examples later that will hopefully make this more clear.\n",
    "\n",
    "Even though it's not recommended to use wide data for analysis in R, sometimes wide format is useful for presenting analysis summaries in a table, so you may want to convert from long to wide to present results in the form of a table. \n",
    "\n",
    "Reshaping data can get quite tricky. We'll go over a framework in R for reshaping that will add valuable tools to your analysis toolkit."
   ]
  },
  {
   "cell_type": "markdown",
   "metadata": {},
   "source": [
    "## tidyr\n",
    "\n",
    "The library of code called `tidyr` contains many functions needed to reshape data. The image below nicely summarizes the four functions we'll be working with:\n",
    "\n",
    "<img src='reshaping.png' height=75% width=75%>"
   ]
  },
  {
   "cell_type": "markdown",
   "metadata": {},
   "source": [
    "* `spread(data, key, value)`  \n",
    "    * Used for converting from long to wide data  \n",
    "    * `data`: Name of data frame that you want to manipulate  \n",
    "    * `key`: The column that stores as its values the *names* you want to use for the new wide columns  \n",
    "    * `value`: The column that stores as its values the *values* you want to use for the new wide columns\n",
    "    \n",
    "\n",
    "* `gather(data, key, value, column_to_gather_1:column_to_gather_3)`  \n",
    "    * Used for converting from wide to long data  \n",
    "    * `data`: Name of data frame that you want to manipulate  \n",
    "    * `key`: The name of the new column that will store the column *names* of the wide data  \n",
    "    * `value`: The name of the new column that will store the column *values* of the wide data  \n",
    "    * `column_to_gather_`: Names of all columns to convert from wide to long\n",
    "    \n",
    "    \n",
    "* `separate(data, col, into = c('new_column_1', 'new_column_2' ... ), sep)`  \n",
    "    * Used to split one column into several  \n",
    "    * When do you want to use this?  \n",
    "        * It's most handy after gathering columns that represent different types of data.  \n",
    "    * `data`: Name of the data frame that you want to manipulate  \n",
    "    * `col`: Name of the column that you want to divide into many columns  \n",
    "    * `into`: Desired names of new columns  \n",
    "    * `sep`: What character to split the values in the old column on to form new columns  \n",
    "\n",
    "\n",
    "* `unite(data, col, column_to_unite_1:column_to_unite_3, sep)`  \n",
    "    * Used to unite many columns into one\n",
    "    * When do you want to use this?  \n",
    "        * It's most handy before spreading columns when you want to spread across columns that represent many different types of data.  \n",
    "    * `data`: Name of the data frame that you want to manipulate  \n",
    "    * `col`: Desired name of the new column created after uniting  \n",
    "    * `column_to_unite_`: Name of columns to unite into one column  \n",
    "    * `sep`: Character to separate the values in the new column"
   ]
  },
  {
   "cell_type": "markdown",
   "metadata": {},
   "source": [
    "### Examples\n",
    "\n",
    "**Spreading to wide**\n",
    "\n",
    "Imagine we have some data in long format and we want to spread to wide. \n",
    "\n",
    "***How do I know if my data is in wide or long format?*** A key giveaway that our data is in long format is if an identifier for the observation (eg, participant name or number) is repeated within a column. Take the following example from before:"
   ]
  },
  {
   "cell_type": "code",
   "execution_count": 2,
   "metadata": {},
   "outputs": [
    {
     "data": {
      "text/html": [
       "<table class=\"dataframe\">\n",
       "<caption>A data.frame: 9 × 3</caption>\n",
       "<thead>\n",
       "\t<tr><th scope=col>student</th><th scope=col>timepoint</th><th scope=col>distance</th></tr>\n",
       "\t<tr><th scope=col>&lt;fct&gt;</th><th scope=col>&lt;fct&gt;</th><th scope=col>&lt;dbl&gt;</th></tr>\n",
       "</thead>\n",
       "<tbody>\n",
       "\t<tr><td>Amy </td><td>Time1</td><td>100.23316</td></tr>\n",
       "\t<tr><td>Amy </td><td>Time2</td><td> 90.10438</td></tr>\n",
       "\t<tr><td>Amy </td><td>Time3</td><td> 86.36776</td></tr>\n",
       "\t<tr><td>Jack</td><td>Time1</td><td> 58.96709</td></tr>\n",
       "\t<tr><td>Jack</td><td>Time2</td><td> 83.49879</td></tr>\n",
       "\t<tr><td>Jack</td><td>Time3</td><td> 69.53046</td></tr>\n",
       "\t<tr><td>Ben </td><td>Time1</td><td> 63.68355</td></tr>\n",
       "\t<tr><td>Ben </td><td>Time2</td><td> 90.18758</td></tr>\n",
       "\t<tr><td>Ben </td><td>Time3</td><td> 95.53796</td></tr>\n",
       "</tbody>\n",
       "</table>\n"
      ],
      "text/latex": [
       "A data.frame: 9 × 3\n",
       "\\begin{tabular}{lll}\n",
       " student & timepoint & distance\\\\\n",
       " <fct> & <fct> & <dbl>\\\\\n",
       "\\hline\n",
       "\t Amy  & Time1 & 100.23316\\\\\n",
       "\t Amy  & Time2 &  90.10438\\\\\n",
       "\t Amy  & Time3 &  86.36776\\\\\n",
       "\t Jack & Time1 &  58.96709\\\\\n",
       "\t Jack & Time2 &  83.49879\\\\\n",
       "\t Jack & Time3 &  69.53046\\\\\n",
       "\t Ben  & Time1 &  63.68355\\\\\n",
       "\t Ben  & Time2 &  90.18758\\\\\n",
       "\t Ben  & Time3 &  95.53796\\\\\n",
       "\\end{tabular}\n"
      ],
      "text/markdown": [
       "\n",
       "A data.frame: 9 × 3\n",
       "\n",
       "| student &lt;fct&gt; | timepoint &lt;fct&gt; | distance &lt;dbl&gt; |\n",
       "|---|---|---|\n",
       "| Amy  | Time1 | 100.23316 |\n",
       "| Amy  | Time2 |  90.10438 |\n",
       "| Amy  | Time3 |  86.36776 |\n",
       "| Jack | Time1 |  58.96709 |\n",
       "| Jack | Time2 |  83.49879 |\n",
       "| Jack | Time3 |  69.53046 |\n",
       "| Ben  | Time1 |  63.68355 |\n",
       "| Ben  | Time2 |  90.18758 |\n",
       "| Ben  | Time3 |  95.53796 |\n",
       "\n"
      ],
      "text/plain": [
       "  student timepoint distance \n",
       "1 Amy     Time1     100.23316\n",
       "2 Amy     Time2      90.10438\n",
       "3 Amy     Time3      86.36776\n",
       "4 Jack    Time1      58.96709\n",
       "5 Jack    Time2      83.49879\n",
       "6 Jack    Time3      69.53046\n",
       "7 Ben     Time1      63.68355\n",
       "8 Ben     Time2      90.18758\n",
       "9 Ben     Time3      95.53796"
      ]
     },
     "metadata": {},
     "output_type": "display_data"
    }
   ],
   "source": [
    "d"
   ]
  },
  {
   "cell_type": "markdown",
   "metadata": {},
   "source": [
    "Here we see that each student is represented on several rows, so it's a good indication that our data is in long format. Wide format, in this example, would be if each student's data occupied only a single row. \n",
    "\n",
    "***What do I want the new data to look like?*** Before trying to reshape data, it's always a good exercise to ask yourself: what is it that you want the new data to look like? What variables should be columns, what information should be represented as rows?\n",
    "\n",
    "So here, we want one row per student (ie, three rows), we want to use the values in the `timepoint` variable as our new column names, and we want to use the values in the `distance` column to be the new values in the spread out columns. \n",
    "\n",
    "To do this, we use the `spread` function:"
   ]
  },
  {
   "cell_type": "code",
   "execution_count": 3,
   "metadata": {},
   "outputs": [
    {
     "data": {
      "text/html": [
       "<table class=\"dataframe\">\n",
       "<caption>A data.frame: 3 × 4</caption>\n",
       "<thead>\n",
       "\t<tr><th scope=col>student</th><th scope=col>Time1</th><th scope=col>Time2</th><th scope=col>Time3</th></tr>\n",
       "\t<tr><th scope=col>&lt;fct&gt;</th><th scope=col>&lt;dbl&gt;</th><th scope=col>&lt;dbl&gt;</th><th scope=col>&lt;dbl&gt;</th></tr>\n",
       "</thead>\n",
       "<tbody>\n",
       "\t<tr><td>Amy </td><td>100.23316</td><td>90.10438</td><td>86.36776</td></tr>\n",
       "\t<tr><td>Jack</td><td> 58.96709</td><td>83.49879</td><td>69.53046</td></tr>\n",
       "\t<tr><td>Ben </td><td> 63.68355</td><td>90.18758</td><td>95.53796</td></tr>\n",
       "</tbody>\n",
       "</table>\n"
      ],
      "text/latex": [
       "A data.frame: 3 × 4\n",
       "\\begin{tabular}{llll}\n",
       " student & Time1 & Time2 & Time3\\\\\n",
       " <fct> & <dbl> & <dbl> & <dbl>\\\\\n",
       "\\hline\n",
       "\t Amy  & 100.23316 & 90.10438 & 86.36776\\\\\n",
       "\t Jack &  58.96709 & 83.49879 & 69.53046\\\\\n",
       "\t Ben  &  63.68355 & 90.18758 & 95.53796\\\\\n",
       "\\end{tabular}\n"
      ],
      "text/markdown": [
       "\n",
       "A data.frame: 3 × 4\n",
       "\n",
       "| student &lt;fct&gt; | Time1 &lt;dbl&gt; | Time2 &lt;dbl&gt; | Time3 &lt;dbl&gt; |\n",
       "|---|---|---|---|\n",
       "| Amy  | 100.23316 | 90.10438 | 86.36776 |\n",
       "| Jack |  58.96709 | 83.49879 | 69.53046 |\n",
       "| Ben  |  63.68355 | 90.18758 | 95.53796 |\n",
       "\n"
      ],
      "text/plain": [
       "  student Time1     Time2    Time3   \n",
       "1 Amy     100.23316 90.10438 86.36776\n",
       "2 Jack     58.96709 83.49879 69.53046\n",
       "3 Ben      63.68355 90.18758 95.53796"
      ]
     },
     "metadata": {},
     "output_type": "display_data"
    }
   ],
   "source": [
    "wide_data = spread(d, timepoint, distance)\n",
    "\n",
    "wide_data"
   ]
  },
  {
   "cell_type": "markdown",
   "metadata": {},
   "source": [
    "**Gathering to long**\n",
    "\n",
    "Let's say we want to do some analyses on the wide data frame above. We'll need to convert it back to long format. To do this, we need to really visualize what we want that new data frame to look like. I see that there's one variable spread out across all columns two through four (ie, time) and each of the values in these columns represent on variable (ie, distance). So, in my `gather` function, I need to specify these two new columns (time and distance) as well as the existing columns that I want to gather:"
   ]
  },
  {
   "cell_type": "code",
   "execution_count": 4,
   "metadata": {},
   "outputs": [
    {
     "data": {
      "text/html": [
       "<table class=\"dataframe\">\n",
       "<caption>A data.frame: 9 × 3</caption>\n",
       "<thead>\n",
       "\t<tr><th scope=col>student</th><th scope=col>time</th><th scope=col>distance</th></tr>\n",
       "\t<tr><th scope=col>&lt;fct&gt;</th><th scope=col>&lt;chr&gt;</th><th scope=col>&lt;dbl&gt;</th></tr>\n",
       "</thead>\n",
       "<tbody>\n",
       "\t<tr><td>Amy </td><td>Time1</td><td>100.23316</td></tr>\n",
       "\t<tr><td>Amy </td><td>Time2</td><td> 90.10438</td></tr>\n",
       "\t<tr><td>Amy </td><td>Time3</td><td> 86.36776</td></tr>\n",
       "\t<tr><td>Jack</td><td>Time1</td><td> 58.96709</td></tr>\n",
       "\t<tr><td>Jack</td><td>Time2</td><td> 83.49879</td></tr>\n",
       "\t<tr><td>Jack</td><td>Time3</td><td> 69.53046</td></tr>\n",
       "\t<tr><td>Ben </td><td>Time1</td><td> 63.68355</td></tr>\n",
       "\t<tr><td>Ben </td><td>Time2</td><td> 90.18758</td></tr>\n",
       "\t<tr><td>Ben </td><td>Time3</td><td> 95.53796</td></tr>\n",
       "</tbody>\n",
       "</table>\n"
      ],
      "text/latex": [
       "A data.frame: 9 × 3\n",
       "\\begin{tabular}{lll}\n",
       " student & time & distance\\\\\n",
       " <fct> & <chr> & <dbl>\\\\\n",
       "\\hline\n",
       "\t Amy  & Time1 & 100.23316\\\\\n",
       "\t Amy  & Time2 &  90.10438\\\\\n",
       "\t Amy  & Time3 &  86.36776\\\\\n",
       "\t Jack & Time1 &  58.96709\\\\\n",
       "\t Jack & Time2 &  83.49879\\\\\n",
       "\t Jack & Time3 &  69.53046\\\\\n",
       "\t Ben  & Time1 &  63.68355\\\\\n",
       "\t Ben  & Time2 &  90.18758\\\\\n",
       "\t Ben  & Time3 &  95.53796\\\\\n",
       "\\end{tabular}\n"
      ],
      "text/markdown": [
       "\n",
       "A data.frame: 9 × 3\n",
       "\n",
       "| student &lt;fct&gt; | time &lt;chr&gt; | distance &lt;dbl&gt; |\n",
       "|---|---|---|\n",
       "| Amy  | Time1 | 100.23316 |\n",
       "| Amy  | Time2 |  90.10438 |\n",
       "| Amy  | Time3 |  86.36776 |\n",
       "| Jack | Time1 |  58.96709 |\n",
       "| Jack | Time2 |  83.49879 |\n",
       "| Jack | Time3 |  69.53046 |\n",
       "| Ben  | Time1 |  63.68355 |\n",
       "| Ben  | Time2 |  90.18758 |\n",
       "| Ben  | Time3 |  95.53796 |\n",
       "\n"
      ],
      "text/plain": [
       "  student time  distance \n",
       "1 Amy     Time1 100.23316\n",
       "2 Amy     Time2  90.10438\n",
       "3 Amy     Time3  86.36776\n",
       "4 Jack    Time1  58.96709\n",
       "5 Jack    Time2  83.49879\n",
       "6 Jack    Time3  69.53046\n",
       "7 Ben     Time1  63.68355\n",
       "8 Ben     Time2  90.18758\n",
       "9 Ben     Time3  95.53796"
      ]
     },
     "metadata": {},
     "output_type": "display_data"
    }
   ],
   "source": [
    "long_data = gather(wide_data, time, distance, Time1:Time3)\n",
    "long_data = arrange(long_data, student) ## sorting the data by a particular variable\n",
    "long_data"
   ]
  },
  {
   "cell_type": "markdown",
   "metadata": {},
   "source": [
    "**Uniting and spreading to wide**\n",
    "\n",
    "What we've seen above so far are the simplest examples, where we're really only dealing with spreading or gathering two variables. But this can get more complicated. For example imagine we have another independent measure (ie, thing that we manipulated in our experiment) in the data:"
   ]
  },
  {
   "cell_type": "code",
   "execution_count": 5,
   "metadata": {},
   "outputs": [
    {
     "data": {
      "text/html": [
       "<table class=\"dataframe\">\n",
       "<caption>A data.frame: 18 × 4</caption>\n",
       "<thead>\n",
       "\t<tr><th scope=col>student</th><th scope=col>time</th><th scope=col>weather</th><th scope=col>distance</th></tr>\n",
       "\t<tr><th scope=col>&lt;fct&gt;</th><th scope=col>&lt;fct&gt;</th><th scope=col>&lt;fct&gt;</th><th scope=col>&lt;dbl&gt;</th></tr>\n",
       "</thead>\n",
       "<tbody>\n",
       "\t<tr><td>Amy </td><td>Time1</td><td>Sunny</td><td> 67.26723</td></tr>\n",
       "\t<tr><td>Amy </td><td>Time2</td><td>Sunny</td><td>100.47912</td></tr>\n",
       "\t<tr><td>Amy </td><td>Time3</td><td>Sunny</td><td> 79.53061</td></tr>\n",
       "\t<tr><td>Amy </td><td>Time1</td><td>Rainy</td><td> 89.15834</td></tr>\n",
       "\t<tr><td>Amy </td><td>Time2</td><td>Rainy</td><td> 78.03313</td></tr>\n",
       "\t<tr><td>Amy </td><td>Time3</td><td>Rainy</td><td> 67.87005</td></tr>\n",
       "\t<tr><td>Jack</td><td>Time1</td><td>Sunny</td><td> 69.06735</td></tr>\n",
       "\t<tr><td>Jack</td><td>Time2</td><td>Sunny</td><td> 82.19153</td></tr>\n",
       "\t<tr><td>Jack</td><td>Time3</td><td>Sunny</td><td> 92.37277</td></tr>\n",
       "\t<tr><td>Jack</td><td>Time1</td><td>Rainy</td><td> 64.27249</td></tr>\n",
       "\t<tr><td>Jack</td><td>Time2</td><td>Rainy</td><td> 90.20537</td></tr>\n",
       "\t<tr><td>Jack</td><td>Time3</td><td>Rainy</td><td> 80.42154</td></tr>\n",
       "\t<tr><td>Ben </td><td>Time1</td><td>Sunny</td><td> 77.79877</td></tr>\n",
       "\t<tr><td>Ben </td><td>Time2</td><td>Sunny</td><td>106.46793</td></tr>\n",
       "\t<tr><td>Ben </td><td>Time3</td><td>Sunny</td><td> 87.71887</td></tr>\n",
       "\t<tr><td>Ben </td><td>Time1</td><td>Rainy</td><td> 92.98254</td></tr>\n",
       "\t<tr><td>Ben </td><td>Time2</td><td>Rainy</td><td> 69.65149</td></tr>\n",
       "\t<tr><td>Ben </td><td>Time3</td><td>Rainy</td><td> 79.15999</td></tr>\n",
       "</tbody>\n",
       "</table>\n"
      ],
      "text/latex": [
       "A data.frame: 18 × 4\n",
       "\\begin{tabular}{llll}\n",
       " student & time & weather & distance\\\\\n",
       " <fct> & <fct> & <fct> & <dbl>\\\\\n",
       "\\hline\n",
       "\t Amy  & Time1 & Sunny &  67.26723\\\\\n",
       "\t Amy  & Time2 & Sunny & 100.47912\\\\\n",
       "\t Amy  & Time3 & Sunny &  79.53061\\\\\n",
       "\t Amy  & Time1 & Rainy &  89.15834\\\\\n",
       "\t Amy  & Time2 & Rainy &  78.03313\\\\\n",
       "\t Amy  & Time3 & Rainy &  67.87005\\\\\n",
       "\t Jack & Time1 & Sunny &  69.06735\\\\\n",
       "\t Jack & Time2 & Sunny &  82.19153\\\\\n",
       "\t Jack & Time3 & Sunny &  92.37277\\\\\n",
       "\t Jack & Time1 & Rainy &  64.27249\\\\\n",
       "\t Jack & Time2 & Rainy &  90.20537\\\\\n",
       "\t Jack & Time3 & Rainy &  80.42154\\\\\n",
       "\t Ben  & Time1 & Sunny &  77.79877\\\\\n",
       "\t Ben  & Time2 & Sunny & 106.46793\\\\\n",
       "\t Ben  & Time3 & Sunny &  87.71887\\\\\n",
       "\t Ben  & Time1 & Rainy &  92.98254\\\\\n",
       "\t Ben  & Time2 & Rainy &  69.65149\\\\\n",
       "\t Ben  & Time3 & Rainy &  79.15999\\\\\n",
       "\\end{tabular}\n"
      ],
      "text/markdown": [
       "\n",
       "A data.frame: 18 × 4\n",
       "\n",
       "| student &lt;fct&gt; | time &lt;fct&gt; | weather &lt;fct&gt; | distance &lt;dbl&gt; |\n",
       "|---|---|---|---|\n",
       "| Amy  | Time1 | Sunny |  67.26723 |\n",
       "| Amy  | Time2 | Sunny | 100.47912 |\n",
       "| Amy  | Time3 | Sunny |  79.53061 |\n",
       "| Amy  | Time1 | Rainy |  89.15834 |\n",
       "| Amy  | Time2 | Rainy |  78.03313 |\n",
       "| Amy  | Time3 | Rainy |  67.87005 |\n",
       "| Jack | Time1 | Sunny |  69.06735 |\n",
       "| Jack | Time2 | Sunny |  82.19153 |\n",
       "| Jack | Time3 | Sunny |  92.37277 |\n",
       "| Jack | Time1 | Rainy |  64.27249 |\n",
       "| Jack | Time2 | Rainy |  90.20537 |\n",
       "| Jack | Time3 | Rainy |  80.42154 |\n",
       "| Ben  | Time1 | Sunny |  77.79877 |\n",
       "| Ben  | Time2 | Sunny | 106.46793 |\n",
       "| Ben  | Time3 | Sunny |  87.71887 |\n",
       "| Ben  | Time1 | Rainy |  92.98254 |\n",
       "| Ben  | Time2 | Rainy |  69.65149 |\n",
       "| Ben  | Time3 | Rainy |  79.15999 |\n",
       "\n"
      ],
      "text/plain": [
       "   student time  weather distance \n",
       "1  Amy     Time1 Sunny    67.26723\n",
       "2  Amy     Time2 Sunny   100.47912\n",
       "3  Amy     Time3 Sunny    79.53061\n",
       "4  Amy     Time1 Rainy    89.15834\n",
       "5  Amy     Time2 Rainy    78.03313\n",
       "6  Amy     Time3 Rainy    67.87005\n",
       "7  Jack    Time1 Sunny    69.06735\n",
       "8  Jack    Time2 Sunny    82.19153\n",
       "9  Jack    Time3 Sunny    92.37277\n",
       "10 Jack    Time1 Rainy    64.27249\n",
       "11 Jack    Time2 Rainy    90.20537\n",
       "12 Jack    Time3 Rainy    80.42154\n",
       "13 Ben     Time1 Sunny    77.79877\n",
       "14 Ben     Time2 Sunny   106.46793\n",
       "15 Ben     Time3 Sunny    87.71887\n",
       "16 Ben     Time1 Rainy    92.98254\n",
       "17 Ben     Time2 Rainy    69.65149\n",
       "18 Ben     Time3 Rainy    79.15999"
      ]
     },
     "metadata": {},
     "output_type": "display_data"
    }
   ],
   "source": [
    "d <- expand.grid(student = c('Amy', 'Jack', 'Ben'), time = paste0('Time', 1:3), weather = c('Sunny', 'Rainy'))\n",
    "d$distance <- rnorm(nrow(d), 80, 10)\n",
    "d = arrange(d, student)\n",
    "d"
   ]
  },
  {
   "cell_type": "markdown",
   "metadata": {},
   "source": [
    "For each student, we now have three time points, and two types of weather per time point. We can spread the variables `time` and `weather` out as columns and fill in the values with `distance`.  \n",
    "\n",
    "***How do I know if a certain variable can be spread in the column names from long to wide?*** If all participants saw *all* levels of that variable, then that variable can be spread to wide. For example, because all participants experienced both rainy and sunny weather across all time points, we can spread along that variable.\n",
    "\n",
    "Besides the input data, spreading only takes two arguments: column to use as column names, and column to use as values. So we need to condense the data above to get it to that format first before we can spread it. `time` and `weather` are both the columns we want to use as column names, so we need to put those together (ie, unite!)."
   ]
  },
  {
   "cell_type": "code",
   "execution_count": 6,
   "metadata": {},
   "outputs": [
    {
     "data": {
      "text/html": [
       "<table class=\"dataframe\">\n",
       "<caption>A data.frame: 18 × 3</caption>\n",
       "<thead>\n",
       "\t<tr><th scope=col>student</th><th scope=col>new_col_names</th><th scope=col>distance</th></tr>\n",
       "\t<tr><th scope=col>&lt;fct&gt;</th><th scope=col>&lt;chr&gt;</th><th scope=col>&lt;dbl&gt;</th></tr>\n",
       "</thead>\n",
       "<tbody>\n",
       "\t<tr><td>Amy </td><td>Time1_Sunny</td><td> 67.26723</td></tr>\n",
       "\t<tr><td>Amy </td><td>Time2_Sunny</td><td>100.47912</td></tr>\n",
       "\t<tr><td>Amy </td><td>Time3_Sunny</td><td> 79.53061</td></tr>\n",
       "\t<tr><td>Amy </td><td>Time1_Rainy</td><td> 89.15834</td></tr>\n",
       "\t<tr><td>Amy </td><td>Time2_Rainy</td><td> 78.03313</td></tr>\n",
       "\t<tr><td>Amy </td><td>Time3_Rainy</td><td> 67.87005</td></tr>\n",
       "\t<tr><td>Jack</td><td>Time1_Sunny</td><td> 69.06735</td></tr>\n",
       "\t<tr><td>Jack</td><td>Time2_Sunny</td><td> 82.19153</td></tr>\n",
       "\t<tr><td>Jack</td><td>Time3_Sunny</td><td> 92.37277</td></tr>\n",
       "\t<tr><td>Jack</td><td>Time1_Rainy</td><td> 64.27249</td></tr>\n",
       "\t<tr><td>Jack</td><td>Time2_Rainy</td><td> 90.20537</td></tr>\n",
       "\t<tr><td>Jack</td><td>Time3_Rainy</td><td> 80.42154</td></tr>\n",
       "\t<tr><td>Ben </td><td>Time1_Sunny</td><td> 77.79877</td></tr>\n",
       "\t<tr><td>Ben </td><td>Time2_Sunny</td><td>106.46793</td></tr>\n",
       "\t<tr><td>Ben </td><td>Time3_Sunny</td><td> 87.71887</td></tr>\n",
       "\t<tr><td>Ben </td><td>Time1_Rainy</td><td> 92.98254</td></tr>\n",
       "\t<tr><td>Ben </td><td>Time2_Rainy</td><td> 69.65149</td></tr>\n",
       "\t<tr><td>Ben </td><td>Time3_Rainy</td><td> 79.15999</td></tr>\n",
       "</tbody>\n",
       "</table>\n"
      ],
      "text/latex": [
       "A data.frame: 18 × 3\n",
       "\\begin{tabular}{lll}\n",
       " student & new\\_col\\_names & distance\\\\\n",
       " <fct> & <chr> & <dbl>\\\\\n",
       "\\hline\n",
       "\t Amy  & Time1\\_Sunny &  67.26723\\\\\n",
       "\t Amy  & Time2\\_Sunny & 100.47912\\\\\n",
       "\t Amy  & Time3\\_Sunny &  79.53061\\\\\n",
       "\t Amy  & Time1\\_Rainy &  89.15834\\\\\n",
       "\t Amy  & Time2\\_Rainy &  78.03313\\\\\n",
       "\t Amy  & Time3\\_Rainy &  67.87005\\\\\n",
       "\t Jack & Time1\\_Sunny &  69.06735\\\\\n",
       "\t Jack & Time2\\_Sunny &  82.19153\\\\\n",
       "\t Jack & Time3\\_Sunny &  92.37277\\\\\n",
       "\t Jack & Time1\\_Rainy &  64.27249\\\\\n",
       "\t Jack & Time2\\_Rainy &  90.20537\\\\\n",
       "\t Jack & Time3\\_Rainy &  80.42154\\\\\n",
       "\t Ben  & Time1\\_Sunny &  77.79877\\\\\n",
       "\t Ben  & Time2\\_Sunny & 106.46793\\\\\n",
       "\t Ben  & Time3\\_Sunny &  87.71887\\\\\n",
       "\t Ben  & Time1\\_Rainy &  92.98254\\\\\n",
       "\t Ben  & Time2\\_Rainy &  69.65149\\\\\n",
       "\t Ben  & Time3\\_Rainy &  79.15999\\\\\n",
       "\\end{tabular}\n"
      ],
      "text/markdown": [
       "\n",
       "A data.frame: 18 × 3\n",
       "\n",
       "| student &lt;fct&gt; | new_col_names &lt;chr&gt; | distance &lt;dbl&gt; |\n",
       "|---|---|---|\n",
       "| Amy  | Time1_Sunny |  67.26723 |\n",
       "| Amy  | Time2_Sunny | 100.47912 |\n",
       "| Amy  | Time3_Sunny |  79.53061 |\n",
       "| Amy  | Time1_Rainy |  89.15834 |\n",
       "| Amy  | Time2_Rainy |  78.03313 |\n",
       "| Amy  | Time3_Rainy |  67.87005 |\n",
       "| Jack | Time1_Sunny |  69.06735 |\n",
       "| Jack | Time2_Sunny |  82.19153 |\n",
       "| Jack | Time3_Sunny |  92.37277 |\n",
       "| Jack | Time1_Rainy |  64.27249 |\n",
       "| Jack | Time2_Rainy |  90.20537 |\n",
       "| Jack | Time3_Rainy |  80.42154 |\n",
       "| Ben  | Time1_Sunny |  77.79877 |\n",
       "| Ben  | Time2_Sunny | 106.46793 |\n",
       "| Ben  | Time3_Sunny |  87.71887 |\n",
       "| Ben  | Time1_Rainy |  92.98254 |\n",
       "| Ben  | Time2_Rainy |  69.65149 |\n",
       "| Ben  | Time3_Rainy |  79.15999 |\n",
       "\n"
      ],
      "text/plain": [
       "   student new_col_names distance \n",
       "1  Amy     Time1_Sunny    67.26723\n",
       "2  Amy     Time2_Sunny   100.47912\n",
       "3  Amy     Time3_Sunny    79.53061\n",
       "4  Amy     Time1_Rainy    89.15834\n",
       "5  Amy     Time2_Rainy    78.03313\n",
       "6  Amy     Time3_Rainy    67.87005\n",
       "7  Jack    Time1_Sunny    69.06735\n",
       "8  Jack    Time2_Sunny    82.19153\n",
       "9  Jack    Time3_Sunny    92.37277\n",
       "10 Jack    Time1_Rainy    64.27249\n",
       "11 Jack    Time2_Rainy    90.20537\n",
       "12 Jack    Time3_Rainy    80.42154\n",
       "13 Ben     Time1_Sunny    77.79877\n",
       "14 Ben     Time2_Sunny   106.46793\n",
       "15 Ben     Time3_Sunny    87.71887\n",
       "16 Ben     Time1_Rainy    92.98254\n",
       "17 Ben     Time2_Rainy    69.65149\n",
       "18 Ben     Time3_Rainy    79.15999"
      ]
     },
     "metadata": {},
     "output_type": "display_data"
    }
   ],
   "source": [
    "d1 <- unite(d, new_col_names, time:weather, sep = '_')\n",
    "d1"
   ]
  },
  {
   "cell_type": "markdown",
   "metadata": {},
   "source": [
    "This is like an intermediary data frame, we're inbetween long and preparing to go to wide here. We joined `time` and `weather` together and separated them with a `_` in order to keep things organized. Now we just spread like we did before:"
   ]
  },
  {
   "cell_type": "code",
   "execution_count": 7,
   "metadata": {},
   "outputs": [
    {
     "data": {
      "text/html": [
       "<table class=\"dataframe\">\n",
       "<caption>A data.frame: 3 × 7</caption>\n",
       "<thead>\n",
       "\t<tr><th scope=col>student</th><th scope=col>Time1_Rainy</th><th scope=col>Time1_Sunny</th><th scope=col>Time2_Rainy</th><th scope=col>Time2_Sunny</th><th scope=col>Time3_Rainy</th><th scope=col>Time3_Sunny</th></tr>\n",
       "\t<tr><th scope=col>&lt;fct&gt;</th><th scope=col>&lt;dbl&gt;</th><th scope=col>&lt;dbl&gt;</th><th scope=col>&lt;dbl&gt;</th><th scope=col>&lt;dbl&gt;</th><th scope=col>&lt;dbl&gt;</th><th scope=col>&lt;dbl&gt;</th></tr>\n",
       "</thead>\n",
       "<tbody>\n",
       "\t<tr><td>Amy </td><td>89.15834</td><td>67.26723</td><td>78.03313</td><td>100.47912</td><td>67.87005</td><td>79.53061</td></tr>\n",
       "\t<tr><td>Jack</td><td>64.27249</td><td>69.06735</td><td>90.20537</td><td> 82.19153</td><td>80.42154</td><td>92.37277</td></tr>\n",
       "\t<tr><td>Ben </td><td>92.98254</td><td>77.79877</td><td>69.65149</td><td>106.46793</td><td>79.15999</td><td>87.71887</td></tr>\n",
       "</tbody>\n",
       "</table>\n"
      ],
      "text/latex": [
       "A data.frame: 3 × 7\n",
       "\\begin{tabular}{lllllll}\n",
       " student & Time1\\_Rainy & Time1\\_Sunny & Time2\\_Rainy & Time2\\_Sunny & Time3\\_Rainy & Time3\\_Sunny\\\\\n",
       " <fct> & <dbl> & <dbl> & <dbl> & <dbl> & <dbl> & <dbl>\\\\\n",
       "\\hline\n",
       "\t Amy  & 89.15834 & 67.26723 & 78.03313 & 100.47912 & 67.87005 & 79.53061\\\\\n",
       "\t Jack & 64.27249 & 69.06735 & 90.20537 &  82.19153 & 80.42154 & 92.37277\\\\\n",
       "\t Ben  & 92.98254 & 77.79877 & 69.65149 & 106.46793 & 79.15999 & 87.71887\\\\\n",
       "\\end{tabular}\n"
      ],
      "text/markdown": [
       "\n",
       "A data.frame: 3 × 7\n",
       "\n",
       "| student &lt;fct&gt; | Time1_Rainy &lt;dbl&gt; | Time1_Sunny &lt;dbl&gt; | Time2_Rainy &lt;dbl&gt; | Time2_Sunny &lt;dbl&gt; | Time3_Rainy &lt;dbl&gt; | Time3_Sunny &lt;dbl&gt; |\n",
       "|---|---|---|---|---|---|---|\n",
       "| Amy  | 89.15834 | 67.26723 | 78.03313 | 100.47912 | 67.87005 | 79.53061 |\n",
       "| Jack | 64.27249 | 69.06735 | 90.20537 |  82.19153 | 80.42154 | 92.37277 |\n",
       "| Ben  | 92.98254 | 77.79877 | 69.65149 | 106.46793 | 79.15999 | 87.71887 |\n",
       "\n"
      ],
      "text/plain": [
       "  student Time1_Rainy Time1_Sunny Time2_Rainy Time2_Sunny Time3_Rainy\n",
       "1 Amy     89.15834    67.26723    78.03313    100.47912   67.87005   \n",
       "2 Jack    64.27249    69.06735    90.20537     82.19153   80.42154   \n",
       "3 Ben     92.98254    77.79877    69.65149    106.46793   79.15999   \n",
       "  Time3_Sunny\n",
       "1 79.53061   \n",
       "2 92.37277   \n",
       "3 87.71887   "
      ]
     },
     "metadata": {},
     "output_type": "display_data"
    }
   ],
   "source": [
    "long_data = spread(d1, new_col_names, distance)\n",
    "long_data"
   ]
  },
  {
   "cell_type": "markdown",
   "metadata": {},
   "source": [
    "And we've achieved our final wide shape: each participant has only one row, and all those variables that each participant saw every level of are represented as different columns.\n",
    "\n",
    "***What if there's a variable in the data that each participant did not see each level of?*** We just leave that one out of the uniting and spreading function calls. I'll do the same operations but add in what's called a *between* subjects variable."
   ]
  },
  {
   "cell_type": "code",
   "execution_count": 8,
   "metadata": {},
   "outputs": [
    {
     "data": {
      "text/html": [
       "<table class=\"dataframe\">\n",
       "<caption>A data.frame: 18 × 5</caption>\n",
       "<thead>\n",
       "\t<tr><th scope=col>student</th><th scope=col>training_condition</th><th scope=col>time</th><th scope=col>weather</th><th scope=col>distance</th></tr>\n",
       "\t<tr><th scope=col>&lt;fct&gt;</th><th scope=col>&lt;chr&gt;</th><th scope=col>&lt;fct&gt;</th><th scope=col>&lt;fct&gt;</th><th scope=col>&lt;dbl&gt;</th></tr>\n",
       "</thead>\n",
       "<tbody>\n",
       "\t<tr><td>Amy </td><td>trained</td><td>Time1</td><td>Sunny</td><td> 67.26723</td></tr>\n",
       "\t<tr><td>Amy </td><td>trained</td><td>Time2</td><td>Sunny</td><td>100.47912</td></tr>\n",
       "\t<tr><td>Amy </td><td>trained</td><td>Time3</td><td>Sunny</td><td> 79.53061</td></tr>\n",
       "\t<tr><td>Amy </td><td>trained</td><td>Time1</td><td>Rainy</td><td> 89.15834</td></tr>\n",
       "\t<tr><td>Amy </td><td>trained</td><td>Time2</td><td>Rainy</td><td> 78.03313</td></tr>\n",
       "\t<tr><td>Amy </td><td>trained</td><td>Time3</td><td>Rainy</td><td> 67.87005</td></tr>\n",
       "\t<tr><td>Jack</td><td>trained</td><td>Time1</td><td>Sunny</td><td> 69.06735</td></tr>\n",
       "\t<tr><td>Jack</td><td>trained</td><td>Time2</td><td>Sunny</td><td> 82.19153</td></tr>\n",
       "\t<tr><td>Jack</td><td>trained</td><td>Time3</td><td>Sunny</td><td> 92.37277</td></tr>\n",
       "\t<tr><td>Jack</td><td>trained</td><td>Time1</td><td>Rainy</td><td> 64.27249</td></tr>\n",
       "\t<tr><td>Jack</td><td>trained</td><td>Time2</td><td>Rainy</td><td> 90.20537</td></tr>\n",
       "\t<tr><td>Jack</td><td>trained</td><td>Time3</td><td>Rainy</td><td> 80.42154</td></tr>\n",
       "\t<tr><td>Ben </td><td>control</td><td>Time1</td><td>Sunny</td><td> 77.79877</td></tr>\n",
       "\t<tr><td>Ben </td><td>control</td><td>Time2</td><td>Sunny</td><td>106.46793</td></tr>\n",
       "\t<tr><td>Ben </td><td>control</td><td>Time3</td><td>Sunny</td><td> 87.71887</td></tr>\n",
       "\t<tr><td>Ben </td><td>control</td><td>Time1</td><td>Rainy</td><td> 92.98254</td></tr>\n",
       "\t<tr><td>Ben </td><td>control</td><td>Time2</td><td>Rainy</td><td> 69.65149</td></tr>\n",
       "\t<tr><td>Ben </td><td>control</td><td>Time3</td><td>Rainy</td><td> 79.15999</td></tr>\n",
       "</tbody>\n",
       "</table>\n"
      ],
      "text/latex": [
       "A data.frame: 18 × 5\n",
       "\\begin{tabular}{lllll}\n",
       " student & training\\_condition & time & weather & distance\\\\\n",
       " <fct> & <chr> & <fct> & <fct> & <dbl>\\\\\n",
       "\\hline\n",
       "\t Amy  & trained & Time1 & Sunny &  67.26723\\\\\n",
       "\t Amy  & trained & Time2 & Sunny & 100.47912\\\\\n",
       "\t Amy  & trained & Time3 & Sunny &  79.53061\\\\\n",
       "\t Amy  & trained & Time1 & Rainy &  89.15834\\\\\n",
       "\t Amy  & trained & Time2 & Rainy &  78.03313\\\\\n",
       "\t Amy  & trained & Time3 & Rainy &  67.87005\\\\\n",
       "\t Jack & trained & Time1 & Sunny &  69.06735\\\\\n",
       "\t Jack & trained & Time2 & Sunny &  82.19153\\\\\n",
       "\t Jack & trained & Time3 & Sunny &  92.37277\\\\\n",
       "\t Jack & trained & Time1 & Rainy &  64.27249\\\\\n",
       "\t Jack & trained & Time2 & Rainy &  90.20537\\\\\n",
       "\t Jack & trained & Time3 & Rainy &  80.42154\\\\\n",
       "\t Ben  & control & Time1 & Sunny &  77.79877\\\\\n",
       "\t Ben  & control & Time2 & Sunny & 106.46793\\\\\n",
       "\t Ben  & control & Time3 & Sunny &  87.71887\\\\\n",
       "\t Ben  & control & Time1 & Rainy &  92.98254\\\\\n",
       "\t Ben  & control & Time2 & Rainy &  69.65149\\\\\n",
       "\t Ben  & control & Time3 & Rainy &  79.15999\\\\\n",
       "\\end{tabular}\n"
      ],
      "text/markdown": [
       "\n",
       "A data.frame: 18 × 5\n",
       "\n",
       "| student &lt;fct&gt; | training_condition &lt;chr&gt; | time &lt;fct&gt; | weather &lt;fct&gt; | distance &lt;dbl&gt; |\n",
       "|---|---|---|---|---|\n",
       "| Amy  | trained | Time1 | Sunny |  67.26723 |\n",
       "| Amy  | trained | Time2 | Sunny | 100.47912 |\n",
       "| Amy  | trained | Time3 | Sunny |  79.53061 |\n",
       "| Amy  | trained | Time1 | Rainy |  89.15834 |\n",
       "| Amy  | trained | Time2 | Rainy |  78.03313 |\n",
       "| Amy  | trained | Time3 | Rainy |  67.87005 |\n",
       "| Jack | trained | Time1 | Sunny |  69.06735 |\n",
       "| Jack | trained | Time2 | Sunny |  82.19153 |\n",
       "| Jack | trained | Time3 | Sunny |  92.37277 |\n",
       "| Jack | trained | Time1 | Rainy |  64.27249 |\n",
       "| Jack | trained | Time2 | Rainy |  90.20537 |\n",
       "| Jack | trained | Time3 | Rainy |  80.42154 |\n",
       "| Ben  | control | Time1 | Sunny |  77.79877 |\n",
       "| Ben  | control | Time2 | Sunny | 106.46793 |\n",
       "| Ben  | control | Time3 | Sunny |  87.71887 |\n",
       "| Ben  | control | Time1 | Rainy |  92.98254 |\n",
       "| Ben  | control | Time2 | Rainy |  69.65149 |\n",
       "| Ben  | control | Time3 | Rainy |  79.15999 |\n",
       "\n"
      ],
      "text/plain": [
       "   student training_condition time  weather distance \n",
       "1  Amy     trained            Time1 Sunny    67.26723\n",
       "2  Amy     trained            Time2 Sunny   100.47912\n",
       "3  Amy     trained            Time3 Sunny    79.53061\n",
       "4  Amy     trained            Time1 Rainy    89.15834\n",
       "5  Amy     trained            Time2 Rainy    78.03313\n",
       "6  Amy     trained            Time3 Rainy    67.87005\n",
       "7  Jack    trained            Time1 Sunny    69.06735\n",
       "8  Jack    trained            Time2 Sunny    82.19153\n",
       "9  Jack    trained            Time3 Sunny    92.37277\n",
       "10 Jack    trained            Time1 Rainy    64.27249\n",
       "11 Jack    trained            Time2 Rainy    90.20537\n",
       "12 Jack    trained            Time3 Rainy    80.42154\n",
       "13 Ben     control            Time1 Sunny    77.79877\n",
       "14 Ben     control            Time2 Sunny   106.46793\n",
       "15 Ben     control            Time3 Sunny    87.71887\n",
       "16 Ben     control            Time1 Rainy    92.98254\n",
       "17 Ben     control            Time2 Rainy    69.65149\n",
       "18 Ben     control            Time3 Rainy    79.15999"
      ]
     },
     "metadata": {},
     "output_type": "display_data"
    }
   ],
   "source": [
    "d$training_condition <- ifelse(d$student=='Amy' | d$student=='Jack', 'trained', 'control')\n",
    "d1 = d[,c(1,5,2:4)]\n",
    "d1"
   ]
  },
  {
   "cell_type": "code",
   "execution_count": 9,
   "metadata": {},
   "outputs": [
    {
     "data": {
      "text/html": [
       "<table class=\"dataframe\">\n",
       "<caption>A data.frame: 3 × 8</caption>\n",
       "<thead>\n",
       "\t<tr><th scope=col>student</th><th scope=col>training_condition</th><th scope=col>Time1_Rainy</th><th scope=col>Time1_Sunny</th><th scope=col>Time2_Rainy</th><th scope=col>Time2_Sunny</th><th scope=col>Time3_Rainy</th><th scope=col>Time3_Sunny</th></tr>\n",
       "\t<tr><th scope=col>&lt;fct&gt;</th><th scope=col>&lt;chr&gt;</th><th scope=col>&lt;dbl&gt;</th><th scope=col>&lt;dbl&gt;</th><th scope=col>&lt;dbl&gt;</th><th scope=col>&lt;dbl&gt;</th><th scope=col>&lt;dbl&gt;</th><th scope=col>&lt;dbl&gt;</th></tr>\n",
       "</thead>\n",
       "<tbody>\n",
       "\t<tr><td>Amy </td><td>trained</td><td>89.15834</td><td>67.26723</td><td>78.03313</td><td>100.47912</td><td>67.87005</td><td>79.53061</td></tr>\n",
       "\t<tr><td>Jack</td><td>trained</td><td>64.27249</td><td>69.06735</td><td>90.20537</td><td> 82.19153</td><td>80.42154</td><td>92.37277</td></tr>\n",
       "\t<tr><td>Ben </td><td>control</td><td>92.98254</td><td>77.79877</td><td>69.65149</td><td>106.46793</td><td>79.15999</td><td>87.71887</td></tr>\n",
       "</tbody>\n",
       "</table>\n"
      ],
      "text/latex": [
       "A data.frame: 3 × 8\n",
       "\\begin{tabular}{llllllll}\n",
       " student & training\\_condition & Time1\\_Rainy & Time1\\_Sunny & Time2\\_Rainy & Time2\\_Sunny & Time3\\_Rainy & Time3\\_Sunny\\\\\n",
       " <fct> & <chr> & <dbl> & <dbl> & <dbl> & <dbl> & <dbl> & <dbl>\\\\\n",
       "\\hline\n",
       "\t Amy  & trained & 89.15834 & 67.26723 & 78.03313 & 100.47912 & 67.87005 & 79.53061\\\\\n",
       "\t Jack & trained & 64.27249 & 69.06735 & 90.20537 &  82.19153 & 80.42154 & 92.37277\\\\\n",
       "\t Ben  & control & 92.98254 & 77.79877 & 69.65149 & 106.46793 & 79.15999 & 87.71887\\\\\n",
       "\\end{tabular}\n"
      ],
      "text/markdown": [
       "\n",
       "A data.frame: 3 × 8\n",
       "\n",
       "| student &lt;fct&gt; | training_condition &lt;chr&gt; | Time1_Rainy &lt;dbl&gt; | Time1_Sunny &lt;dbl&gt; | Time2_Rainy &lt;dbl&gt; | Time2_Sunny &lt;dbl&gt; | Time3_Rainy &lt;dbl&gt; | Time3_Sunny &lt;dbl&gt; |\n",
       "|---|---|---|---|---|---|---|---|\n",
       "| Amy  | trained | 89.15834 | 67.26723 | 78.03313 | 100.47912 | 67.87005 | 79.53061 |\n",
       "| Jack | trained | 64.27249 | 69.06735 | 90.20537 |  82.19153 | 80.42154 | 92.37277 |\n",
       "| Ben  | control | 92.98254 | 77.79877 | 69.65149 | 106.46793 | 79.15999 | 87.71887 |\n",
       "\n"
      ],
      "text/plain": [
       "  student training_condition Time1_Rainy Time1_Sunny Time2_Rainy Time2_Sunny\n",
       "1 Amy     trained            89.15834    67.26723    78.03313    100.47912  \n",
       "2 Jack    trained            64.27249    69.06735    90.20537     82.19153  \n",
       "3 Ben     control            92.98254    77.79877    69.65149    106.46793  \n",
       "  Time3_Rainy Time3_Sunny\n",
       "1 67.87005    79.53061   \n",
       "2 80.42154    92.37277   \n",
       "3 79.15999    87.71887   "
      ]
     },
     "metadata": {},
     "output_type": "display_data"
    }
   ],
   "source": [
    "d2 = unite(d1, new_col_names, time:weather)\n",
    "wide_data = spread(d2, new_col_names, distance)\n",
    "wide_data"
   ]
  },
  {
   "cell_type": "markdown",
   "metadata": {},
   "source": [
    "We still satisfy the requirement that each student have only one row, even though we didn't spread the `training_condition` variable."
   ]
  },
  {
   "cell_type": "markdown",
   "metadata": {},
   "source": [
    "**Gathering to long and separating**\n",
    "\n",
    "Let's go from the data frame above back to a long data frame. We just invert the operations that we just did. So first we `gather`:"
   ]
  },
  {
   "cell_type": "code",
   "execution_count": 10,
   "metadata": {},
   "outputs": [
    {
     "data": {
      "text/html": [
       "<table class=\"dataframe\">\n",
       "<caption>A data.frame: 18 × 4</caption>\n",
       "<thead>\n",
       "\t<tr><th scope=col>student</th><th scope=col>training_condition</th><th scope=col>gathered_names</th><th scope=col>distance</th></tr>\n",
       "\t<tr><th scope=col>&lt;fct&gt;</th><th scope=col>&lt;chr&gt;</th><th scope=col>&lt;chr&gt;</th><th scope=col>&lt;dbl&gt;</th></tr>\n",
       "</thead>\n",
       "<tbody>\n",
       "\t<tr><td>Amy </td><td>trained</td><td>Time1_Rainy</td><td> 89.15834</td></tr>\n",
       "\t<tr><td>Amy </td><td>trained</td><td>Time1_Sunny</td><td> 67.26723</td></tr>\n",
       "\t<tr><td>Amy </td><td>trained</td><td>Time2_Rainy</td><td> 78.03313</td></tr>\n",
       "\t<tr><td>Amy </td><td>trained</td><td>Time2_Sunny</td><td>100.47912</td></tr>\n",
       "\t<tr><td>Amy </td><td>trained</td><td>Time3_Rainy</td><td> 67.87005</td></tr>\n",
       "\t<tr><td>Amy </td><td>trained</td><td>Time3_Sunny</td><td> 79.53061</td></tr>\n",
       "\t<tr><td>Jack</td><td>trained</td><td>Time1_Rainy</td><td> 64.27249</td></tr>\n",
       "\t<tr><td>Jack</td><td>trained</td><td>Time1_Sunny</td><td> 69.06735</td></tr>\n",
       "\t<tr><td>Jack</td><td>trained</td><td>Time2_Rainy</td><td> 90.20537</td></tr>\n",
       "\t<tr><td>Jack</td><td>trained</td><td>Time2_Sunny</td><td> 82.19153</td></tr>\n",
       "\t<tr><td>Jack</td><td>trained</td><td>Time3_Rainy</td><td> 80.42154</td></tr>\n",
       "\t<tr><td>Jack</td><td>trained</td><td>Time3_Sunny</td><td> 92.37277</td></tr>\n",
       "\t<tr><td>Ben </td><td>control</td><td>Time1_Rainy</td><td> 92.98254</td></tr>\n",
       "\t<tr><td>Ben </td><td>control</td><td>Time1_Sunny</td><td> 77.79877</td></tr>\n",
       "\t<tr><td>Ben </td><td>control</td><td>Time2_Rainy</td><td> 69.65149</td></tr>\n",
       "\t<tr><td>Ben </td><td>control</td><td>Time2_Sunny</td><td>106.46793</td></tr>\n",
       "\t<tr><td>Ben </td><td>control</td><td>Time3_Rainy</td><td> 79.15999</td></tr>\n",
       "\t<tr><td>Ben </td><td>control</td><td>Time3_Sunny</td><td> 87.71887</td></tr>\n",
       "</tbody>\n",
       "</table>\n"
      ],
      "text/latex": [
       "A data.frame: 18 × 4\n",
       "\\begin{tabular}{llll}\n",
       " student & training\\_condition & gathered\\_names & distance\\\\\n",
       " <fct> & <chr> & <chr> & <dbl>\\\\\n",
       "\\hline\n",
       "\t Amy  & trained & Time1\\_Rainy &  89.15834\\\\\n",
       "\t Amy  & trained & Time1\\_Sunny &  67.26723\\\\\n",
       "\t Amy  & trained & Time2\\_Rainy &  78.03313\\\\\n",
       "\t Amy  & trained & Time2\\_Sunny & 100.47912\\\\\n",
       "\t Amy  & trained & Time3\\_Rainy &  67.87005\\\\\n",
       "\t Amy  & trained & Time3\\_Sunny &  79.53061\\\\\n",
       "\t Jack & trained & Time1\\_Rainy &  64.27249\\\\\n",
       "\t Jack & trained & Time1\\_Sunny &  69.06735\\\\\n",
       "\t Jack & trained & Time2\\_Rainy &  90.20537\\\\\n",
       "\t Jack & trained & Time2\\_Sunny &  82.19153\\\\\n",
       "\t Jack & trained & Time3\\_Rainy &  80.42154\\\\\n",
       "\t Jack & trained & Time3\\_Sunny &  92.37277\\\\\n",
       "\t Ben  & control & Time1\\_Rainy &  92.98254\\\\\n",
       "\t Ben  & control & Time1\\_Sunny &  77.79877\\\\\n",
       "\t Ben  & control & Time2\\_Rainy &  69.65149\\\\\n",
       "\t Ben  & control & Time2\\_Sunny & 106.46793\\\\\n",
       "\t Ben  & control & Time3\\_Rainy &  79.15999\\\\\n",
       "\t Ben  & control & Time3\\_Sunny &  87.71887\\\\\n",
       "\\end{tabular}\n"
      ],
      "text/markdown": [
       "\n",
       "A data.frame: 18 × 4\n",
       "\n",
       "| student &lt;fct&gt; | training_condition &lt;chr&gt; | gathered_names &lt;chr&gt; | distance &lt;dbl&gt; |\n",
       "|---|---|---|---|\n",
       "| Amy  | trained | Time1_Rainy |  89.15834 |\n",
       "| Amy  | trained | Time1_Sunny |  67.26723 |\n",
       "| Amy  | trained | Time2_Rainy |  78.03313 |\n",
       "| Amy  | trained | Time2_Sunny | 100.47912 |\n",
       "| Amy  | trained | Time3_Rainy |  67.87005 |\n",
       "| Amy  | trained | Time3_Sunny |  79.53061 |\n",
       "| Jack | trained | Time1_Rainy |  64.27249 |\n",
       "| Jack | trained | Time1_Sunny |  69.06735 |\n",
       "| Jack | trained | Time2_Rainy |  90.20537 |\n",
       "| Jack | trained | Time2_Sunny |  82.19153 |\n",
       "| Jack | trained | Time3_Rainy |  80.42154 |\n",
       "| Jack | trained | Time3_Sunny |  92.37277 |\n",
       "| Ben  | control | Time1_Rainy |  92.98254 |\n",
       "| Ben  | control | Time1_Sunny |  77.79877 |\n",
       "| Ben  | control | Time2_Rainy |  69.65149 |\n",
       "| Ben  | control | Time2_Sunny | 106.46793 |\n",
       "| Ben  | control | Time3_Rainy |  79.15999 |\n",
       "| Ben  | control | Time3_Sunny |  87.71887 |\n",
       "\n"
      ],
      "text/plain": [
       "   student training_condition gathered_names distance \n",
       "1  Amy     trained            Time1_Rainy     89.15834\n",
       "2  Amy     trained            Time1_Sunny     67.26723\n",
       "3  Amy     trained            Time2_Rainy     78.03313\n",
       "4  Amy     trained            Time2_Sunny    100.47912\n",
       "5  Amy     trained            Time3_Rainy     67.87005\n",
       "6  Amy     trained            Time3_Sunny     79.53061\n",
       "7  Jack    trained            Time1_Rainy     64.27249\n",
       "8  Jack    trained            Time1_Sunny     69.06735\n",
       "9  Jack    trained            Time2_Rainy     90.20537\n",
       "10 Jack    trained            Time2_Sunny     82.19153\n",
       "11 Jack    trained            Time3_Rainy     80.42154\n",
       "12 Jack    trained            Time3_Sunny     92.37277\n",
       "13 Ben     control            Time1_Rainy     92.98254\n",
       "14 Ben     control            Time1_Sunny     77.79877\n",
       "15 Ben     control            Time2_Rainy     69.65149\n",
       "16 Ben     control            Time2_Sunny    106.46793\n",
       "17 Ben     control            Time3_Rainy     79.15999\n",
       "18 Ben     control            Time3_Sunny     87.71887"
      ]
     },
     "metadata": {},
     "output_type": "display_data"
    }
   ],
   "source": [
    "d1 = gather(wide_data, gathered_names, distance, Time1_Rainy:Time3_Sunny)\n",
    "arrange(d1, student)\n"
   ]
  },
  {
   "cell_type": "markdown",
   "metadata": {},
   "source": [
    "We're almost already there. But remember our three rules from the beginning of the notebook. Rule 1 says every column must be *one* variable. Right now, `gathered_names` is representing two variables. To correct for this, we spread it into two and split the values on the `_` character:"
   ]
  },
  {
   "cell_type": "code",
   "execution_count": 11,
   "metadata": {},
   "outputs": [
    {
     "data": {
      "text/html": [
       "<table class=\"dataframe\">\n",
       "<caption>A data.frame: 18 × 5</caption>\n",
       "<thead>\n",
       "\t<tr><th scope=col>student</th><th scope=col>training_condition</th><th scope=col>time</th><th scope=col>weather</th><th scope=col>distance</th></tr>\n",
       "\t<tr><th scope=col>&lt;fct&gt;</th><th scope=col>&lt;chr&gt;</th><th scope=col>&lt;chr&gt;</th><th scope=col>&lt;chr&gt;</th><th scope=col>&lt;dbl&gt;</th></tr>\n",
       "</thead>\n",
       "<tbody>\n",
       "\t<tr><td>Amy </td><td>trained</td><td>Time1</td><td>Rainy</td><td> 89.15834</td></tr>\n",
       "\t<tr><td>Amy </td><td>trained</td><td>Time1</td><td>Sunny</td><td> 67.26723</td></tr>\n",
       "\t<tr><td>Amy </td><td>trained</td><td>Time2</td><td>Rainy</td><td> 78.03313</td></tr>\n",
       "\t<tr><td>Amy </td><td>trained</td><td>Time2</td><td>Sunny</td><td>100.47912</td></tr>\n",
       "\t<tr><td>Amy </td><td>trained</td><td>Time3</td><td>Rainy</td><td> 67.87005</td></tr>\n",
       "\t<tr><td>Amy </td><td>trained</td><td>Time3</td><td>Sunny</td><td> 79.53061</td></tr>\n",
       "\t<tr><td>Jack</td><td>trained</td><td>Time1</td><td>Rainy</td><td> 64.27249</td></tr>\n",
       "\t<tr><td>Jack</td><td>trained</td><td>Time1</td><td>Sunny</td><td> 69.06735</td></tr>\n",
       "\t<tr><td>Jack</td><td>trained</td><td>Time2</td><td>Rainy</td><td> 90.20537</td></tr>\n",
       "\t<tr><td>Jack</td><td>trained</td><td>Time2</td><td>Sunny</td><td> 82.19153</td></tr>\n",
       "\t<tr><td>Jack</td><td>trained</td><td>Time3</td><td>Rainy</td><td> 80.42154</td></tr>\n",
       "\t<tr><td>Jack</td><td>trained</td><td>Time3</td><td>Sunny</td><td> 92.37277</td></tr>\n",
       "\t<tr><td>Ben </td><td>control</td><td>Time1</td><td>Rainy</td><td> 92.98254</td></tr>\n",
       "\t<tr><td>Ben </td><td>control</td><td>Time1</td><td>Sunny</td><td> 77.79877</td></tr>\n",
       "\t<tr><td>Ben </td><td>control</td><td>Time2</td><td>Rainy</td><td> 69.65149</td></tr>\n",
       "\t<tr><td>Ben </td><td>control</td><td>Time2</td><td>Sunny</td><td>106.46793</td></tr>\n",
       "\t<tr><td>Ben </td><td>control</td><td>Time3</td><td>Rainy</td><td> 79.15999</td></tr>\n",
       "\t<tr><td>Ben </td><td>control</td><td>Time3</td><td>Sunny</td><td> 87.71887</td></tr>\n",
       "</tbody>\n",
       "</table>\n"
      ],
      "text/latex": [
       "A data.frame: 18 × 5\n",
       "\\begin{tabular}{lllll}\n",
       " student & training\\_condition & time & weather & distance\\\\\n",
       " <fct> & <chr> & <chr> & <chr> & <dbl>\\\\\n",
       "\\hline\n",
       "\t Amy  & trained & Time1 & Rainy &  89.15834\\\\\n",
       "\t Amy  & trained & Time1 & Sunny &  67.26723\\\\\n",
       "\t Amy  & trained & Time2 & Rainy &  78.03313\\\\\n",
       "\t Amy  & trained & Time2 & Sunny & 100.47912\\\\\n",
       "\t Amy  & trained & Time3 & Rainy &  67.87005\\\\\n",
       "\t Amy  & trained & Time3 & Sunny &  79.53061\\\\\n",
       "\t Jack & trained & Time1 & Rainy &  64.27249\\\\\n",
       "\t Jack & trained & Time1 & Sunny &  69.06735\\\\\n",
       "\t Jack & trained & Time2 & Rainy &  90.20537\\\\\n",
       "\t Jack & trained & Time2 & Sunny &  82.19153\\\\\n",
       "\t Jack & trained & Time3 & Rainy &  80.42154\\\\\n",
       "\t Jack & trained & Time3 & Sunny &  92.37277\\\\\n",
       "\t Ben  & control & Time1 & Rainy &  92.98254\\\\\n",
       "\t Ben  & control & Time1 & Sunny &  77.79877\\\\\n",
       "\t Ben  & control & Time2 & Rainy &  69.65149\\\\\n",
       "\t Ben  & control & Time2 & Sunny & 106.46793\\\\\n",
       "\t Ben  & control & Time3 & Rainy &  79.15999\\\\\n",
       "\t Ben  & control & Time3 & Sunny &  87.71887\\\\\n",
       "\\end{tabular}\n"
      ],
      "text/markdown": [
       "\n",
       "A data.frame: 18 × 5\n",
       "\n",
       "| student &lt;fct&gt; | training_condition &lt;chr&gt; | time &lt;chr&gt; | weather &lt;chr&gt; | distance &lt;dbl&gt; |\n",
       "|---|---|---|---|---|\n",
       "| Amy  | trained | Time1 | Rainy |  89.15834 |\n",
       "| Amy  | trained | Time1 | Sunny |  67.26723 |\n",
       "| Amy  | trained | Time2 | Rainy |  78.03313 |\n",
       "| Amy  | trained | Time2 | Sunny | 100.47912 |\n",
       "| Amy  | trained | Time3 | Rainy |  67.87005 |\n",
       "| Amy  | trained | Time3 | Sunny |  79.53061 |\n",
       "| Jack | trained | Time1 | Rainy |  64.27249 |\n",
       "| Jack | trained | Time1 | Sunny |  69.06735 |\n",
       "| Jack | trained | Time2 | Rainy |  90.20537 |\n",
       "| Jack | trained | Time2 | Sunny |  82.19153 |\n",
       "| Jack | trained | Time3 | Rainy |  80.42154 |\n",
       "| Jack | trained | Time3 | Sunny |  92.37277 |\n",
       "| Ben  | control | Time1 | Rainy |  92.98254 |\n",
       "| Ben  | control | Time1 | Sunny |  77.79877 |\n",
       "| Ben  | control | Time2 | Rainy |  69.65149 |\n",
       "| Ben  | control | Time2 | Sunny | 106.46793 |\n",
       "| Ben  | control | Time3 | Rainy |  79.15999 |\n",
       "| Ben  | control | Time3 | Sunny |  87.71887 |\n",
       "\n"
      ],
      "text/plain": [
       "   student training_condition time  weather distance \n",
       "1  Amy     trained            Time1 Rainy    89.15834\n",
       "2  Amy     trained            Time1 Sunny    67.26723\n",
       "3  Amy     trained            Time2 Rainy    78.03313\n",
       "4  Amy     trained            Time2 Sunny   100.47912\n",
       "5  Amy     trained            Time3 Rainy    67.87005\n",
       "6  Amy     trained            Time3 Sunny    79.53061\n",
       "7  Jack    trained            Time1 Rainy    64.27249\n",
       "8  Jack    trained            Time1 Sunny    69.06735\n",
       "9  Jack    trained            Time2 Rainy    90.20537\n",
       "10 Jack    trained            Time2 Sunny    82.19153\n",
       "11 Jack    trained            Time3 Rainy    80.42154\n",
       "12 Jack    trained            Time3 Sunny    92.37277\n",
       "13 Ben     control            Time1 Rainy    92.98254\n",
       "14 Ben     control            Time1 Sunny    77.79877\n",
       "15 Ben     control            Time2 Rainy    69.65149\n",
       "16 Ben     control            Time2 Sunny   106.46793\n",
       "17 Ben     control            Time3 Rainy    79.15999\n",
       "18 Ben     control            Time3 Sunny    87.71887"
      ]
     },
     "metadata": {},
     "output_type": "display_data"
    }
   ],
   "source": [
    "long_data = separate(d1, gathered_names, into = c('time', 'weather'), sep = '_')\n",
    "arrange(long_data, student)"
   ]
  },
  {
   "cell_type": "markdown",
   "metadata": {},
   "source": [
    "## Joining\n",
    "\n",
    "The joining functions we'll be using come from a data library called `dplyr`.\n",
    "\n",
    "You'll often have multiple data frames containing information about the same observations. In order to analyze all the information relating to the observations, you'll need to join them together into one data frame. There are many different types of joining methods depending on how you want to join (mostly with how to handle mis matches). This image goes over a subset of some of the more common types:\n",
    "\n",
    "<img src='joins.png' height=40% width=40%>\n",
    "\n",
    "Today we'll look only at `inner_join`, where groups are fully represented across two data frames. \n",
    "\n",
    "Imagine that, in addition to the data frame we have above about Jack, Ben, and Amy, we also have for each of these students in a different data frame their middle school grade level:"
   ]
  },
  {
   "cell_type": "code",
   "execution_count": 12,
   "metadata": {},
   "outputs": [
    {
     "data": {
      "text/html": [
       "<table class=\"dataframe\">\n",
       "<caption>A data.frame: 3 × 2</caption>\n",
       "<thead>\n",
       "\t<tr><th scope=col>student</th><th scope=col>grade</th></tr>\n",
       "\t<tr><th scope=col>&lt;chr&gt;</th><th scope=col>&lt;chr&gt;</th></tr>\n",
       "</thead>\n",
       "<tbody>\n",
       "\t<tr><td>Amy </td><td>Sixth Grade </td></tr>\n",
       "\t<tr><td>Jack</td><td>Eighth Grade</td></tr>\n",
       "\t<tr><td>Ben </td><td>Eighth Grade</td></tr>\n",
       "</tbody>\n",
       "</table>\n"
      ],
      "text/latex": [
       "A data.frame: 3 × 2\n",
       "\\begin{tabular}{ll}\n",
       " student & grade\\\\\n",
       " <chr> & <chr>\\\\\n",
       "\\hline\n",
       "\t Amy  & Sixth Grade \\\\\n",
       "\t Jack & Eighth Grade\\\\\n",
       "\t Ben  & Eighth Grade\\\\\n",
       "\\end{tabular}\n"
      ],
      "text/markdown": [
       "\n",
       "A data.frame: 3 × 2\n",
       "\n",
       "| student &lt;chr&gt; | grade &lt;chr&gt; |\n",
       "|---|---|\n",
       "| Amy  | Sixth Grade  |\n",
       "| Jack | Eighth Grade |\n",
       "| Ben  | Eighth Grade |\n",
       "\n"
      ],
      "text/plain": [
       "  student grade       \n",
       "1 Amy     Sixth Grade \n",
       "2 Jack    Eighth Grade\n",
       "3 Ben     Eighth Grade"
      ]
     },
     "metadata": {},
     "output_type": "display_data"
    }
   ],
   "source": [
    "d_grade = data.frame(student = c('Amy', 'Jack', 'Ben'), grade = c('Sixth Grade', 'Eighth Grade', 'Eighth Grade'))\n",
    "d_grade"
   ]
  },
  {
   "cell_type": "markdown",
   "metadata": {},
   "source": [
    "In order to analyze a question like whether throwing distance depends on grade level, for example, I'll need all of this data in one data frame. To do that, we use `inner_join`:"
   ]
  },
  {
   "cell_type": "code",
   "execution_count": 13,
   "metadata": {},
   "outputs": [
    {
     "data": {
      "text/html": [
       "<table class=\"dataframe\">\n",
       "<caption>A data.frame: 18 × 6</caption>\n",
       "<thead>\n",
       "\t<tr><th scope=col>student</th><th scope=col>training_condition</th><th scope=col>time</th><th scope=col>weather</th><th scope=col>distance</th><th scope=col>grade</th></tr>\n",
       "\t<tr><th scope=col>&lt;chr&gt;</th><th scope=col>&lt;chr&gt;</th><th scope=col>&lt;chr&gt;</th><th scope=col>&lt;chr&gt;</th><th scope=col>&lt;dbl&gt;</th><th scope=col>&lt;chr&gt;</th></tr>\n",
       "</thead>\n",
       "<tbody>\n",
       "\t<tr><td>Amy </td><td>trained</td><td>Time1</td><td>Rainy</td><td> 89.15834</td><td>Sixth Grade </td></tr>\n",
       "\t<tr><td>Amy </td><td>trained</td><td>Time1</td><td>Sunny</td><td> 67.26723</td><td>Sixth Grade </td></tr>\n",
       "\t<tr><td>Amy </td><td>trained</td><td>Time2</td><td>Rainy</td><td> 78.03313</td><td>Sixth Grade </td></tr>\n",
       "\t<tr><td>Amy </td><td>trained</td><td>Time2</td><td>Sunny</td><td>100.47912</td><td>Sixth Grade </td></tr>\n",
       "\t<tr><td>Amy </td><td>trained</td><td>Time3</td><td>Rainy</td><td> 67.87005</td><td>Sixth Grade </td></tr>\n",
       "\t<tr><td>Amy </td><td>trained</td><td>Time3</td><td>Sunny</td><td> 79.53061</td><td>Sixth Grade </td></tr>\n",
       "\t<tr><td>Ben </td><td>control</td><td>Time1</td><td>Rainy</td><td> 92.98254</td><td>Eighth Grade</td></tr>\n",
       "\t<tr><td>Ben </td><td>control</td><td>Time1</td><td>Sunny</td><td> 77.79877</td><td>Eighth Grade</td></tr>\n",
       "\t<tr><td>Ben </td><td>control</td><td>Time2</td><td>Rainy</td><td> 69.65149</td><td>Eighth Grade</td></tr>\n",
       "\t<tr><td>Ben </td><td>control</td><td>Time2</td><td>Sunny</td><td>106.46793</td><td>Eighth Grade</td></tr>\n",
       "\t<tr><td>Ben </td><td>control</td><td>Time3</td><td>Rainy</td><td> 79.15999</td><td>Eighth Grade</td></tr>\n",
       "\t<tr><td>Ben </td><td>control</td><td>Time3</td><td>Sunny</td><td> 87.71887</td><td>Eighth Grade</td></tr>\n",
       "\t<tr><td>Jack</td><td>trained</td><td>Time1</td><td>Rainy</td><td> 64.27249</td><td>Eighth Grade</td></tr>\n",
       "\t<tr><td>Jack</td><td>trained</td><td>Time1</td><td>Sunny</td><td> 69.06735</td><td>Eighth Grade</td></tr>\n",
       "\t<tr><td>Jack</td><td>trained</td><td>Time2</td><td>Rainy</td><td> 90.20537</td><td>Eighth Grade</td></tr>\n",
       "\t<tr><td>Jack</td><td>trained</td><td>Time2</td><td>Sunny</td><td> 82.19153</td><td>Eighth Grade</td></tr>\n",
       "\t<tr><td>Jack</td><td>trained</td><td>Time3</td><td>Rainy</td><td> 80.42154</td><td>Eighth Grade</td></tr>\n",
       "\t<tr><td>Jack</td><td>trained</td><td>Time3</td><td>Sunny</td><td> 92.37277</td><td>Eighth Grade</td></tr>\n",
       "</tbody>\n",
       "</table>\n"
      ],
      "text/latex": [
       "A data.frame: 18 × 6\n",
       "\\begin{tabular}{llllll}\n",
       " student & training\\_condition & time & weather & distance & grade\\\\\n",
       " <chr> & <chr> & <chr> & <chr> & <dbl> & <chr>\\\\\n",
       "\\hline\n",
       "\t Amy  & trained & Time1 & Rainy &  89.15834 & Sixth Grade \\\\\n",
       "\t Amy  & trained & Time1 & Sunny &  67.26723 & Sixth Grade \\\\\n",
       "\t Amy  & trained & Time2 & Rainy &  78.03313 & Sixth Grade \\\\\n",
       "\t Amy  & trained & Time2 & Sunny & 100.47912 & Sixth Grade \\\\\n",
       "\t Amy  & trained & Time3 & Rainy &  67.87005 & Sixth Grade \\\\\n",
       "\t Amy  & trained & Time3 & Sunny &  79.53061 & Sixth Grade \\\\\n",
       "\t Ben  & control & Time1 & Rainy &  92.98254 & Eighth Grade\\\\\n",
       "\t Ben  & control & Time1 & Sunny &  77.79877 & Eighth Grade\\\\\n",
       "\t Ben  & control & Time2 & Rainy &  69.65149 & Eighth Grade\\\\\n",
       "\t Ben  & control & Time2 & Sunny & 106.46793 & Eighth Grade\\\\\n",
       "\t Ben  & control & Time3 & Rainy &  79.15999 & Eighth Grade\\\\\n",
       "\t Ben  & control & Time3 & Sunny &  87.71887 & Eighth Grade\\\\\n",
       "\t Jack & trained & Time1 & Rainy &  64.27249 & Eighth Grade\\\\\n",
       "\t Jack & trained & Time1 & Sunny &  69.06735 & Eighth Grade\\\\\n",
       "\t Jack & trained & Time2 & Rainy &  90.20537 & Eighth Grade\\\\\n",
       "\t Jack & trained & Time2 & Sunny &  82.19153 & Eighth Grade\\\\\n",
       "\t Jack & trained & Time3 & Rainy &  80.42154 & Eighth Grade\\\\\n",
       "\t Jack & trained & Time3 & Sunny &  92.37277 & Eighth Grade\\\\\n",
       "\\end{tabular}\n"
      ],
      "text/markdown": [
       "\n",
       "A data.frame: 18 × 6\n",
       "\n",
       "| student &lt;chr&gt; | training_condition &lt;chr&gt; | time &lt;chr&gt; | weather &lt;chr&gt; | distance &lt;dbl&gt; | grade &lt;chr&gt; |\n",
       "|---|---|---|---|---|---|\n",
       "| Amy  | trained | Time1 | Rainy |  89.15834 | Sixth Grade  |\n",
       "| Amy  | trained | Time1 | Sunny |  67.26723 | Sixth Grade  |\n",
       "| Amy  | trained | Time2 | Rainy |  78.03313 | Sixth Grade  |\n",
       "| Amy  | trained | Time2 | Sunny | 100.47912 | Sixth Grade  |\n",
       "| Amy  | trained | Time3 | Rainy |  67.87005 | Sixth Grade  |\n",
       "| Amy  | trained | Time3 | Sunny |  79.53061 | Sixth Grade  |\n",
       "| Ben  | control | Time1 | Rainy |  92.98254 | Eighth Grade |\n",
       "| Ben  | control | Time1 | Sunny |  77.79877 | Eighth Grade |\n",
       "| Ben  | control | Time2 | Rainy |  69.65149 | Eighth Grade |\n",
       "| Ben  | control | Time2 | Sunny | 106.46793 | Eighth Grade |\n",
       "| Ben  | control | Time3 | Rainy |  79.15999 | Eighth Grade |\n",
       "| Ben  | control | Time3 | Sunny |  87.71887 | Eighth Grade |\n",
       "| Jack | trained | Time1 | Rainy |  64.27249 | Eighth Grade |\n",
       "| Jack | trained | Time1 | Sunny |  69.06735 | Eighth Grade |\n",
       "| Jack | trained | Time2 | Rainy |  90.20537 | Eighth Grade |\n",
       "| Jack | trained | Time2 | Sunny |  82.19153 | Eighth Grade |\n",
       "| Jack | trained | Time3 | Rainy |  80.42154 | Eighth Grade |\n",
       "| Jack | trained | Time3 | Sunny |  92.37277 | Eighth Grade |\n",
       "\n"
      ],
      "text/plain": [
       "   student training_condition time  weather distance  grade       \n",
       "1  Amy     trained            Time1 Rainy    89.15834 Sixth Grade \n",
       "2  Amy     trained            Time1 Sunny    67.26723 Sixth Grade \n",
       "3  Amy     trained            Time2 Rainy    78.03313 Sixth Grade \n",
       "4  Amy     trained            Time2 Sunny   100.47912 Sixth Grade \n",
       "5  Amy     trained            Time3 Rainy    67.87005 Sixth Grade \n",
       "6  Amy     trained            Time3 Sunny    79.53061 Sixth Grade \n",
       "7  Ben     control            Time1 Rainy    92.98254 Eighth Grade\n",
       "8  Ben     control            Time1 Sunny    77.79877 Eighth Grade\n",
       "9  Ben     control            Time2 Rainy    69.65149 Eighth Grade\n",
       "10 Ben     control            Time2 Sunny   106.46793 Eighth Grade\n",
       "11 Ben     control            Time3 Rainy    79.15999 Eighth Grade\n",
       "12 Ben     control            Time3 Sunny    87.71887 Eighth Grade\n",
       "13 Jack    trained            Time1 Rainy    64.27249 Eighth Grade\n",
       "14 Jack    trained            Time1 Sunny    69.06735 Eighth Grade\n",
       "15 Jack    trained            Time2 Rainy    90.20537 Eighth Grade\n",
       "16 Jack    trained            Time2 Sunny    82.19153 Eighth Grade\n",
       "17 Jack    trained            Time3 Rainy    80.42154 Eighth Grade\n",
       "18 Jack    trained            Time3 Sunny    92.37277 Eighth Grade"
      ]
     },
     "metadata": {},
     "output_type": "display_data"
    }
   ],
   "source": [
    "d = inner_join(long_data, d_grade, by = 'student')\n",
    "d = arrange(d, student)\n",
    "d"
   ]
  },
  {
   "cell_type": "markdown",
   "metadata": {},
   "source": [
    "We can see that grade level automatically matches up relative to each student in the longer data frame."
   ]
  },
  {
   "cell_type": "markdown",
   "metadata": {},
   "source": [
    "# Assignment\n",
    "\n",
    "For this assignment, you will perform many steps typically involved in a data analysis pipeline, culminating with summarizing, plotting, and reporting a result.\n",
    "\n",
    "We'll be working with a dataset about grades from 10,000 students over the course of a year. The data are stored in two csv files in the same directory as this notebook, titled `wide_grades.csv` and `special_program.csv`. In each quarter of the year (1-4) each student was in both a basic materials class and an advanced materials class. The number of days absent and the average grade were recorded for each quarter for each class type. The format of the columns in `wide_grades.csv` is as follows:\n",
    "\n",
    "`QuarterNumber_ClassType_Outcome`\n",
    "\n",
    "Where `Outcome` is either days absent or average grade.\n",
    "\n",
    "Some students were selected to be enrolled in a special program, where they were pulled out of class often to study at a more advanced level. Whether or not each student was enrolled in the special program is represented in the data from `special_program.csv`."
   ]
  },
  {
   "cell_type": "markdown",
   "metadata": {},
   "source": [
    "**Step 0:**  \n",
    "Load in the following pacakges:\n",
    "\n",
    "```\n",
    "library(plyr)\n",
    "library(dplyr)\n",
    "library(tidyr)\n",
    "library(ggplot2)\n",
    "```\n",
    "\n",
    "*If you get a big pink message saying, \"You have loaded plyr after dplyr - this is likely to cause problems.\", restart your kernel and then import these libraries. You might get other big pink messages, but these are usually fine.*\n",
    "\n",
    "*Hint: You can get more info on the functions included in tidyr and dplyr [here](https://www.rstudio.com/wp-content/uploads/2015/02/data-wrangling-cheatsheet.pdf).*\n",
    "\n",
    "**Step 1:**  \n",
    "Read in the data and store the data in two different data frames.  \n",
    "\n",
    "\n",
    "**Step 2:**  \n",
    "Look at the first few rows and summary statistics in the main data frame (the one with the grades and days absent).  \n",
    "\n",
    "**Step 3:**  \n",
    "Convert this wide dataset to long data. \n",
    "\n",
    "*Remember*: long data should have the following three properties  \n",
    "\n",
    "1. Every column is a variable.  \n",
    "2. Every row is an observation.  \n",
    "3. Every cell is a single value.\n",
    "\n",
    "*Hint 1*: You can do this using the following three functions: `gather`, `spread`, and `separate`.  \n",
    "*Hint 2*: You can select multiple columns with the colon notation (eg, Column1:Column13).  \n",
    "*Hint 3*: Try to imagine what the long data format will look like before you begin. What will each column and row represent?  \n",
    "*Hint 4*: If you're struggling with Hint 3, I put a sample of what this long data might look like in `long_preview.png` in the same directory as this notebook.  \n",
    "\n",
    "\n",
    "**Step 4:**  \n",
    "We will want to analyze the trend between number of days absent and average grade. Because the students enrolled in the special program are missing class for systematic reasons that are different from why other students are missing class, we'll want to remove from the analysis all students enrolled in the special program.  \n",
    "\n",
    "Join the data frame storing whether students are enrolled in the special program with the data frame storing average grades.  \n",
    "\n",
    "\n",
    "**Step 5:**  \n",
    "Drop all students who are enrolled in the special program from the data frame.  \n",
    "\n",
    "\n",
    "**Step 6:**  \n",
    "Use a custom summarization function and the `ddply` function to calculate the sum of days absent and the average grade for each student (see Lab 06). *Note: there are $10,000$ students in the dataset, so I wouldn't print the entire output of this summarization to the screen.*\n",
    "\n",
    "\n",
    "**Step 7:**  \n",
    "Use the `ggplot` syntax to make a scatter plot showing the relationship between number of days absent (x-axis) and grade (y-axis). \n",
    "\n",
    "\n",
    "**Step 8:**  \n",
    "What can you infer about the relationship between days absent and average grades based on the plot?"
   ]
  }
 ],
 "metadata": {
  "kernelspec": {
   "display_name": "R",
   "language": "R",
   "name": "ir"
  },
  "language_info": {
   "codemirror_mode": "r",
   "file_extension": ".r",
   "mimetype": "text/x-r-source",
   "name": "R",
   "pygments_lexer": "r",
   "version": "3.6.3"
  }
 },
 "nbformat": 4,
 "nbformat_minor": 4
}
