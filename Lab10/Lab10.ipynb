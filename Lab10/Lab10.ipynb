{
 "cells": [
  {
   "cell_type": "markdown",
   "metadata": {},
   "source": [
    "# Data Reshaping and Joining\n",
    "\n",
    "## Reshaping\n",
    "\n",
    "The same data can be represented in many different ways. Imagine we have some dataset that records how far different students can throw a ball at three different time points. Two common ways that data can be organized in a `.csv` file are called *wide* and *long*. Look at the difference in organization in the two datasets below:"
   ]
  },
  {
   "cell_type": "code",
   "execution_count": 1,
   "metadata": {},
   "outputs": [
    {
     "name": "stderr",
     "output_type": "stream",
     "text": [
      "Registered S3 methods overwritten by 'tibble':\n",
      "  method     from  \n",
      "  format.tbl pillar\n",
      "  print.tbl  pillar\n",
      "\n",
      "\n",
      "Attaching package: ‘dplyr’\n",
      "\n",
      "\n",
      "The following objects are masked from ‘package:stats’:\n",
      "\n",
      "    filter, lag\n",
      "\n",
      "\n",
      "The following objects are masked from ‘package:base’:\n",
      "\n",
      "    intersect, setdiff, setequal, union\n",
      "\n",
      "\n"
     ]
    },
    {
     "data": {
      "text/html": [
       "<table class=\"dataframe\">\n",
       "<caption>A data.frame: 9 × 3</caption>\n",
       "<thead>\n",
       "\t<tr><th scope=col>student</th><th scope=col>timepoint</th><th scope=col>distance</th></tr>\n",
       "\t<tr><th scope=col>&lt;fct&gt;</th><th scope=col>&lt;fct&gt;</th><th scope=col>&lt;dbl&gt;</th></tr>\n",
       "</thead>\n",
       "<tbody>\n",
       "\t<tr><td>Amy </td><td>Time1</td><td>71.85203</td></tr>\n",
       "\t<tr><td>Amy </td><td>Time2</td><td>71.27479</td></tr>\n",
       "\t<tr><td>Amy </td><td>Time3</td><td>73.37898</td></tr>\n",
       "\t<tr><td>Jack</td><td>Time1</td><td>81.48638</td></tr>\n",
       "\t<tr><td>Jack</td><td>Time2</td><td>69.18497</td></tr>\n",
       "\t<tr><td>Jack</td><td>Time3</td><td>91.50606</td></tr>\n",
       "\t<tr><td>Ben </td><td>Time1</td><td>78.17250</td></tr>\n",
       "\t<tr><td>Ben </td><td>Time2</td><td>95.42802</td></tr>\n",
       "\t<tr><td>Ben </td><td>Time3</td><td>85.10368</td></tr>\n",
       "</tbody>\n",
       "</table>\n"
      ],
      "text/latex": [
       "A data.frame: 9 × 3\n",
       "\\begin{tabular}{lll}\n",
       " student & timepoint & distance\\\\\n",
       " <fct> & <fct> & <dbl>\\\\\n",
       "\\hline\n",
       "\t Amy  & Time1 & 71.85203\\\\\n",
       "\t Amy  & Time2 & 71.27479\\\\\n",
       "\t Amy  & Time3 & 73.37898\\\\\n",
       "\t Jack & Time1 & 81.48638\\\\\n",
       "\t Jack & Time2 & 69.18497\\\\\n",
       "\t Jack & Time3 & 91.50606\\\\\n",
       "\t Ben  & Time1 & 78.17250\\\\\n",
       "\t Ben  & Time2 & 95.42802\\\\\n",
       "\t Ben  & Time3 & 85.10368\\\\\n",
       "\\end{tabular}\n"
      ],
      "text/markdown": [
       "\n",
       "A data.frame: 9 × 3\n",
       "\n",
       "| student &lt;fct&gt; | timepoint &lt;fct&gt; | distance &lt;dbl&gt; |\n",
       "|---|---|---|\n",
       "| Amy  | Time1 | 71.85203 |\n",
       "| Amy  | Time2 | 71.27479 |\n",
       "| Amy  | Time3 | 73.37898 |\n",
       "| Jack | Time1 | 81.48638 |\n",
       "| Jack | Time2 | 69.18497 |\n",
       "| Jack | Time3 | 91.50606 |\n",
       "| Ben  | Time1 | 78.17250 |\n",
       "| Ben  | Time2 | 95.42802 |\n",
       "| Ben  | Time3 | 85.10368 |\n",
       "\n"
      ],
      "text/plain": [
       "  student timepoint distance\n",
       "1 Amy     Time1     71.85203\n",
       "2 Amy     Time2     71.27479\n",
       "3 Amy     Time3     73.37898\n",
       "4 Jack    Time1     81.48638\n",
       "5 Jack    Time2     69.18497\n",
       "6 Jack    Time3     91.50606\n",
       "7 Ben     Time1     78.17250\n",
       "8 Ben     Time2     95.42802\n",
       "9 Ben     Time3     85.10368"
      ]
     },
     "metadata": {},
     "output_type": "display_data"
    },
    {
     "data": {
      "text/html": [
       "<table class=\"dataframe\">\n",
       "<caption>A data.frame: 3 × 4</caption>\n",
       "<thead>\n",
       "\t<tr><th scope=col>student</th><th scope=col>Time1</th><th scope=col>Time2</th><th scope=col>Time3</th></tr>\n",
       "\t<tr><th scope=col>&lt;fct&gt;</th><th scope=col>&lt;dbl&gt;</th><th scope=col>&lt;dbl&gt;</th><th scope=col>&lt;dbl&gt;</th></tr>\n",
       "</thead>\n",
       "<tbody>\n",
       "\t<tr><td>Amy </td><td>71.85203</td><td>71.27479</td><td>73.37898</td></tr>\n",
       "\t<tr><td>Jack</td><td>81.48638</td><td>69.18497</td><td>91.50606</td></tr>\n",
       "\t<tr><td>Ben </td><td>78.17250</td><td>95.42802</td><td>85.10368</td></tr>\n",
       "</tbody>\n",
       "</table>\n"
      ],
      "text/latex": [
       "A data.frame: 3 × 4\n",
       "\\begin{tabular}{llll}\n",
       " student & Time1 & Time2 & Time3\\\\\n",
       " <fct> & <dbl> & <dbl> & <dbl>\\\\\n",
       "\\hline\n",
       "\t Amy  & 71.85203 & 71.27479 & 73.37898\\\\\n",
       "\t Jack & 81.48638 & 69.18497 & 91.50606\\\\\n",
       "\t Ben  & 78.17250 & 95.42802 & 85.10368\\\\\n",
       "\\end{tabular}\n"
      ],
      "text/markdown": [
       "\n",
       "A data.frame: 3 × 4\n",
       "\n",
       "| student &lt;fct&gt; | Time1 &lt;dbl&gt; | Time2 &lt;dbl&gt; | Time3 &lt;dbl&gt; |\n",
       "|---|---|---|---|\n",
       "| Amy  | 71.85203 | 71.27479 | 73.37898 |\n",
       "| Jack | 81.48638 | 69.18497 | 91.50606 |\n",
       "| Ben  | 78.17250 | 95.42802 | 85.10368 |\n",
       "\n"
      ],
      "text/plain": [
       "  student Time1    Time2    Time3   \n",
       "1 Amy     71.85203 71.27479 73.37898\n",
       "2 Jack    81.48638 69.18497 91.50606\n",
       "3 Ben     78.17250 95.42802 85.10368"
      ]
     },
     "metadata": {},
     "output_type": "display_data"
    }
   ],
   "source": [
    "library(tidyr)\n",
    "library(dplyr)\n",
    "d = expand.grid(student = c('Amy', 'Jack', 'Ben'), timepoint = paste0('Time', 1:3))\n",
    "d$distance = rnorm(nrow(d), 80, 10)\n",
    "d = arrange(d, student)\n",
    "d\n",
    "spread(d, timepoint, distance)"
   ]
  },
  {
   "cell_type": "markdown",
   "metadata": {},
   "source": [
    "Many functions in R will expect your data to be in the first format (ie, long format). You will sometimes encounter data in the second format (ie, wide format) and you will need to translate it to long format in order to analyze it. More specifically, many functions in R will expect that your data is organized such that:\n",
    "\n",
    "1. Every column is a variable.  \n",
    "2. Every row is an observation.  \n",
    "3. Every cell is a single value.\n",
    "\n",
    "This definition is a bit abstract, and what counts as a \"variable\" or \"observation\" in a given situation can be tricky, but we'll look at examples later that will hopefully make this more clear.\n",
    "\n",
    "Even though it's not recommended to use wide data for analysis in R, sometimes wide format is useful for presenting analysis summaries in a table, so you may want to convert from long to wide to present results in the form of a table. \n",
    "\n",
    "Reshaping data can get quite tricky. We'll go over a framework in R for reshaping that will add valuable tools to your analysis toolkit."
   ]
  },
  {
   "cell_type": "markdown",
   "metadata": {},
   "source": [
    "## tidyr\n",
    "\n",
    "The library of code called `tidyr` contains many functions needed to reshape data. The image below nicely summarizes the four functions we'll be working with:\n",
    "\n",
    "<img src='reshaping.png' height=75% width=75%>"
   ]
  },
  {
   "cell_type": "markdown",
   "metadata": {},
   "source": [
    "* `spread(data, key, value)`  \n",
    "    * Used for converting from long to wide data  \n",
    "    * `data`: Name of data frame that you want to manipulate  \n",
    "    * `key`: The column that stores as its values the *names* you want to use for the new wide columns  \n",
    "    * `value`: The column that stores as its values the *values* you want to use for the new wide columns\n",
    "    \n",
    "\n",
    "* `gather(data, key, value, column_to_gather_1:column_to_gather_3)`  \n",
    "    * Used for converting from wide to long data  \n",
    "    * `data`: Name of data frame that you want to manipulate  \n",
    "    * `key`: The name of the new column that will store the column *names* of the wide data  \n",
    "    * `value`: The name of the new column that will store the column *values* of the wide data  \n",
    "    * `column_to_gather_`: Names of all columns to convert from wide to long\n",
    "    \n",
    "    \n",
    "* `separate(data, col, into = c('new_column_1', 'new_column_2' ... ), sep)`  \n",
    "    * Used to split one column into several  \n",
    "    * When do you want to use this?  \n",
    "        * It's most handy after gathering columns that represent different types of data.  \n",
    "    * `data`: Name of the data frame that you want to manipulate  \n",
    "    * `col`: Name of the column that you want to divide into many columns  \n",
    "    * `into`: Desired names of new columns  \n",
    "    * `sep`: What character to split the values in the old column on to form new columns  \n",
    "\n",
    "\n",
    "* `unite(data, col, column_to_unite_1:column_to_unite_3, sep)`  \n",
    "    * Used to unite many columns into one\n",
    "    * When do you want to use this?  \n",
    "        * It's most handy before spreading columns when you want to spread across columns that represent many different types of data.  \n",
    "    * `data`: Name of the data frame that you want to manipulate  \n",
    "    * `col`: Desired name of the new column created after uniting  \n",
    "    * `column_to_unite_`: Name of columns to unite into one column  \n",
    "    * `sep`: Character to separate the values in the new column"
   ]
  },
  {
   "cell_type": "markdown",
   "metadata": {},
   "source": [
    "### Examples\n",
    "\n",
    "**Spreading to wide**\n",
    "\n",
    "Imagine we have some data in long format and we want to spread to wide. \n",
    "\n",
    "***How do I know if my data is in wide or long format?*** A key giveaway that our data is in long format is if an identifier for the observation (eg, participant name or number) is repeated within a column. Take the following example from before:"
   ]
  },
  {
   "cell_type": "code",
   "execution_count": 2,
   "metadata": {},
   "outputs": [
    {
     "data": {
      "text/html": [
       "<table class=\"dataframe\">\n",
       "<caption>A data.frame: 9 × 3</caption>\n",
       "<thead>\n",
       "\t<tr><th scope=col>student</th><th scope=col>timepoint</th><th scope=col>distance</th></tr>\n",
       "\t<tr><th scope=col>&lt;fct&gt;</th><th scope=col>&lt;fct&gt;</th><th scope=col>&lt;dbl&gt;</th></tr>\n",
       "</thead>\n",
       "<tbody>\n",
       "\t<tr><td>Amy </td><td>Time1</td><td>71.85203</td></tr>\n",
       "\t<tr><td>Amy </td><td>Time2</td><td>71.27479</td></tr>\n",
       "\t<tr><td>Amy </td><td>Time3</td><td>73.37898</td></tr>\n",
       "\t<tr><td>Jack</td><td>Time1</td><td>81.48638</td></tr>\n",
       "\t<tr><td>Jack</td><td>Time2</td><td>69.18497</td></tr>\n",
       "\t<tr><td>Jack</td><td>Time3</td><td>91.50606</td></tr>\n",
       "\t<tr><td>Ben </td><td>Time1</td><td>78.17250</td></tr>\n",
       "\t<tr><td>Ben </td><td>Time2</td><td>95.42802</td></tr>\n",
       "\t<tr><td>Ben </td><td>Time3</td><td>85.10368</td></tr>\n",
       "</tbody>\n",
       "</table>\n"
      ],
      "text/latex": [
       "A data.frame: 9 × 3\n",
       "\\begin{tabular}{lll}\n",
       " student & timepoint & distance\\\\\n",
       " <fct> & <fct> & <dbl>\\\\\n",
       "\\hline\n",
       "\t Amy  & Time1 & 71.85203\\\\\n",
       "\t Amy  & Time2 & 71.27479\\\\\n",
       "\t Amy  & Time3 & 73.37898\\\\\n",
       "\t Jack & Time1 & 81.48638\\\\\n",
       "\t Jack & Time2 & 69.18497\\\\\n",
       "\t Jack & Time3 & 91.50606\\\\\n",
       "\t Ben  & Time1 & 78.17250\\\\\n",
       "\t Ben  & Time2 & 95.42802\\\\\n",
       "\t Ben  & Time3 & 85.10368\\\\\n",
       "\\end{tabular}\n"
      ],
      "text/markdown": [
       "\n",
       "A data.frame: 9 × 3\n",
       "\n",
       "| student &lt;fct&gt; | timepoint &lt;fct&gt; | distance &lt;dbl&gt; |\n",
       "|---|---|---|\n",
       "| Amy  | Time1 | 71.85203 |\n",
       "| Amy  | Time2 | 71.27479 |\n",
       "| Amy  | Time3 | 73.37898 |\n",
       "| Jack | Time1 | 81.48638 |\n",
       "| Jack | Time2 | 69.18497 |\n",
       "| Jack | Time3 | 91.50606 |\n",
       "| Ben  | Time1 | 78.17250 |\n",
       "| Ben  | Time2 | 95.42802 |\n",
       "| Ben  | Time3 | 85.10368 |\n",
       "\n"
      ],
      "text/plain": [
       "  student timepoint distance\n",
       "1 Amy     Time1     71.85203\n",
       "2 Amy     Time2     71.27479\n",
       "3 Amy     Time3     73.37898\n",
       "4 Jack    Time1     81.48638\n",
       "5 Jack    Time2     69.18497\n",
       "6 Jack    Time3     91.50606\n",
       "7 Ben     Time1     78.17250\n",
       "8 Ben     Time2     95.42802\n",
       "9 Ben     Time3     85.10368"
      ]
     },
     "metadata": {},
     "output_type": "display_data"
    }
   ],
   "source": [
    "d"
   ]
  },
  {
   "cell_type": "markdown",
   "metadata": {},
   "source": [
    "Here we see that each student is represented on several rows, so it's a good indication that our data is in long format. Wide format, in this example, would be if each student's data occupied only a single row. \n",
    "\n",
    "***What do I want the new data to look like?*** Before trying to reshape data, it's always a good exercise to ask yourself: what is it that you want the new data to look like? What variables should be columns, what information should be represented as rows?\n",
    "\n",
    "So here, we want one row per student (ie, three rows), we want to use the values in the `timepoint` variable as our new column names, and we want to use the values in the `distance` column to be the new values in the spread out columns. \n",
    "\n",
    "To do this, we use the `spread` function:"
   ]
  },
  {
   "cell_type": "code",
   "execution_count": 3,
   "metadata": {},
   "outputs": [
    {
     "data": {
      "text/html": [
       "<table class=\"dataframe\">\n",
       "<caption>A data.frame: 3 × 4</caption>\n",
       "<thead>\n",
       "\t<tr><th scope=col>student</th><th scope=col>Time1</th><th scope=col>Time2</th><th scope=col>Time3</th></tr>\n",
       "\t<tr><th scope=col>&lt;fct&gt;</th><th scope=col>&lt;dbl&gt;</th><th scope=col>&lt;dbl&gt;</th><th scope=col>&lt;dbl&gt;</th></tr>\n",
       "</thead>\n",
       "<tbody>\n",
       "\t<tr><td>Amy </td><td>71.85203</td><td>71.27479</td><td>73.37898</td></tr>\n",
       "\t<tr><td>Jack</td><td>81.48638</td><td>69.18497</td><td>91.50606</td></tr>\n",
       "\t<tr><td>Ben </td><td>78.17250</td><td>95.42802</td><td>85.10368</td></tr>\n",
       "</tbody>\n",
       "</table>\n"
      ],
      "text/latex": [
       "A data.frame: 3 × 4\n",
       "\\begin{tabular}{llll}\n",
       " student & Time1 & Time2 & Time3\\\\\n",
       " <fct> & <dbl> & <dbl> & <dbl>\\\\\n",
       "\\hline\n",
       "\t Amy  & 71.85203 & 71.27479 & 73.37898\\\\\n",
       "\t Jack & 81.48638 & 69.18497 & 91.50606\\\\\n",
       "\t Ben  & 78.17250 & 95.42802 & 85.10368\\\\\n",
       "\\end{tabular}\n"
      ],
      "text/markdown": [
       "\n",
       "A data.frame: 3 × 4\n",
       "\n",
       "| student &lt;fct&gt; | Time1 &lt;dbl&gt; | Time2 &lt;dbl&gt; | Time3 &lt;dbl&gt; |\n",
       "|---|---|---|---|\n",
       "| Amy  | 71.85203 | 71.27479 | 73.37898 |\n",
       "| Jack | 81.48638 | 69.18497 | 91.50606 |\n",
       "| Ben  | 78.17250 | 95.42802 | 85.10368 |\n",
       "\n"
      ],
      "text/plain": [
       "  student Time1    Time2    Time3   \n",
       "1 Amy     71.85203 71.27479 73.37898\n",
       "2 Jack    81.48638 69.18497 91.50606\n",
       "3 Ben     78.17250 95.42802 85.10368"
      ]
     },
     "metadata": {},
     "output_type": "display_data"
    }
   ],
   "source": [
    "wide_data = spread(d, timepoint, distance)\n",
    "\n",
    "wide_data"
   ]
  },
  {
   "cell_type": "markdown",
   "metadata": {},
   "source": [
    "**Gathering to long**\n",
    "\n",
    "Let's say we want to do some analyses on the wide data frame above. We'll need to convert it back to long format. To do this, we need to really visualize what we want that new data frame to look like. I see that there's one variable spread out across all columns two through four (ie, time) and each of the values in these columns represent on variable (ie, distance). So, in my `gather` function, I need to specify these two new columns (time and distance) as well as the existing columns that I want to gather:"
   ]
  },
  {
   "cell_type": "code",
   "execution_count": 4,
   "metadata": {},
   "outputs": [
    {
     "data": {
      "text/html": [
       "<table class=\"dataframe\">\n",
       "<caption>A data.frame: 9 × 3</caption>\n",
       "<thead>\n",
       "\t<tr><th scope=col>student</th><th scope=col>time</th><th scope=col>distance</th></tr>\n",
       "\t<tr><th scope=col>&lt;fct&gt;</th><th scope=col>&lt;chr&gt;</th><th scope=col>&lt;dbl&gt;</th></tr>\n",
       "</thead>\n",
       "<tbody>\n",
       "\t<tr><td>Amy </td><td>Time1</td><td>71.85203</td></tr>\n",
       "\t<tr><td>Amy </td><td>Time2</td><td>71.27479</td></tr>\n",
       "\t<tr><td>Amy </td><td>Time3</td><td>73.37898</td></tr>\n",
       "\t<tr><td>Jack</td><td>Time1</td><td>81.48638</td></tr>\n",
       "\t<tr><td>Jack</td><td>Time2</td><td>69.18497</td></tr>\n",
       "\t<tr><td>Jack</td><td>Time3</td><td>91.50606</td></tr>\n",
       "\t<tr><td>Ben </td><td>Time1</td><td>78.17250</td></tr>\n",
       "\t<tr><td>Ben </td><td>Time2</td><td>95.42802</td></tr>\n",
       "\t<tr><td>Ben </td><td>Time3</td><td>85.10368</td></tr>\n",
       "</tbody>\n",
       "</table>\n"
      ],
      "text/latex": [
       "A data.frame: 9 × 3\n",
       "\\begin{tabular}{lll}\n",
       " student & time & distance\\\\\n",
       " <fct> & <chr> & <dbl>\\\\\n",
       "\\hline\n",
       "\t Amy  & Time1 & 71.85203\\\\\n",
       "\t Amy  & Time2 & 71.27479\\\\\n",
       "\t Amy  & Time3 & 73.37898\\\\\n",
       "\t Jack & Time1 & 81.48638\\\\\n",
       "\t Jack & Time2 & 69.18497\\\\\n",
       "\t Jack & Time3 & 91.50606\\\\\n",
       "\t Ben  & Time1 & 78.17250\\\\\n",
       "\t Ben  & Time2 & 95.42802\\\\\n",
       "\t Ben  & Time3 & 85.10368\\\\\n",
       "\\end{tabular}\n"
      ],
      "text/markdown": [
       "\n",
       "A data.frame: 9 × 3\n",
       "\n",
       "| student &lt;fct&gt; | time &lt;chr&gt; | distance &lt;dbl&gt; |\n",
       "|---|---|---|\n",
       "| Amy  | Time1 | 71.85203 |\n",
       "| Amy  | Time2 | 71.27479 |\n",
       "| Amy  | Time3 | 73.37898 |\n",
       "| Jack | Time1 | 81.48638 |\n",
       "| Jack | Time2 | 69.18497 |\n",
       "| Jack | Time3 | 91.50606 |\n",
       "| Ben  | Time1 | 78.17250 |\n",
       "| Ben  | Time2 | 95.42802 |\n",
       "| Ben  | Time3 | 85.10368 |\n",
       "\n"
      ],
      "text/plain": [
       "  student time  distance\n",
       "1 Amy     Time1 71.85203\n",
       "2 Amy     Time2 71.27479\n",
       "3 Amy     Time3 73.37898\n",
       "4 Jack    Time1 81.48638\n",
       "5 Jack    Time2 69.18497\n",
       "6 Jack    Time3 91.50606\n",
       "7 Ben     Time1 78.17250\n",
       "8 Ben     Time2 95.42802\n",
       "9 Ben     Time3 85.10368"
      ]
     },
     "metadata": {},
     "output_type": "display_data"
    }
   ],
   "source": [
    "long_data = gather(wide_data, time, distance, Time1:Time3)\n",
    "long_data = arrange(long_data, student) ## sorting the data by a particular variable\n",
    "long_data"
   ]
  },
  {
   "cell_type": "markdown",
   "metadata": {},
   "source": [
    "**Uniting and spreading to long**\n",
    "\n",
    "What we've seen above so far are the simplest examples, where we're really only dealing with spreading or gathering two variables. But this can get more complicated. For example imagine we have another independent measure (ie, thing that we manipulated in our experiment) in the data:"
   ]
  },
  {
   "cell_type": "code",
   "execution_count": 5,
   "metadata": {},
   "outputs": [
    {
     "data": {
      "text/html": [
       "<table class=\"dataframe\">\n",
       "<caption>A data.frame: 18 × 4</caption>\n",
       "<thead>\n",
       "\t<tr><th scope=col>student</th><th scope=col>time</th><th scope=col>weather</th><th scope=col>distance</th></tr>\n",
       "\t<tr><th scope=col>&lt;fct&gt;</th><th scope=col>&lt;fct&gt;</th><th scope=col>&lt;fct&gt;</th><th scope=col>&lt;dbl&gt;</th></tr>\n",
       "</thead>\n",
       "<tbody>\n",
       "\t<tr><td>Amy </td><td>Time1</td><td>Sunny</td><td> 85.93075</td></tr>\n",
       "\t<tr><td>Amy </td><td>Time2</td><td>Sunny</td><td> 92.72048</td></tr>\n",
       "\t<tr><td>Amy </td><td>Time3</td><td>Sunny</td><td> 81.93572</td></tr>\n",
       "\t<tr><td>Amy </td><td>Time1</td><td>Rainy</td><td> 75.82715</td></tr>\n",
       "\t<tr><td>Amy </td><td>Time2</td><td>Rainy</td><td> 78.68313</td></tr>\n",
       "\t<tr><td>Amy </td><td>Time3</td><td>Rainy</td><td> 81.02436</td></tr>\n",
       "\t<tr><td>Jack</td><td>Time1</td><td>Sunny</td><td> 90.58728</td></tr>\n",
       "\t<tr><td>Jack</td><td>Time2</td><td>Sunny</td><td> 90.90198</td></tr>\n",
       "\t<tr><td>Jack</td><td>Time3</td><td>Sunny</td><td> 93.31203</td></tr>\n",
       "\t<tr><td>Jack</td><td>Time1</td><td>Rainy</td><td> 82.75194</td></tr>\n",
       "\t<tr><td>Jack</td><td>Time2</td><td>Rainy</td><td> 76.85037</td></tr>\n",
       "\t<tr><td>Jack</td><td>Time3</td><td>Rainy</td><td> 86.65759</td></tr>\n",
       "\t<tr><td>Ben </td><td>Time1</td><td>Sunny</td><td>106.59278</td></tr>\n",
       "\t<tr><td>Ben </td><td>Time2</td><td>Sunny</td><td> 76.81894</td></tr>\n",
       "\t<tr><td>Ben </td><td>Time3</td><td>Sunny</td><td> 78.01260</td></tr>\n",
       "\t<tr><td>Ben </td><td>Time1</td><td>Rainy</td><td> 83.94712</td></tr>\n",
       "\t<tr><td>Ben </td><td>Time2</td><td>Rainy</td><td> 89.49637</td></tr>\n",
       "\t<tr><td>Ben </td><td>Time3</td><td>Rainy</td><td> 72.23034</td></tr>\n",
       "</tbody>\n",
       "</table>\n"
      ],
      "text/latex": [
       "A data.frame: 18 × 4\n",
       "\\begin{tabular}{llll}\n",
       " student & time & weather & distance\\\\\n",
       " <fct> & <fct> & <fct> & <dbl>\\\\\n",
       "\\hline\n",
       "\t Amy  & Time1 & Sunny &  85.93075\\\\\n",
       "\t Amy  & Time2 & Sunny &  92.72048\\\\\n",
       "\t Amy  & Time3 & Sunny &  81.93572\\\\\n",
       "\t Amy  & Time1 & Rainy &  75.82715\\\\\n",
       "\t Amy  & Time2 & Rainy &  78.68313\\\\\n",
       "\t Amy  & Time3 & Rainy &  81.02436\\\\\n",
       "\t Jack & Time1 & Sunny &  90.58728\\\\\n",
       "\t Jack & Time2 & Sunny &  90.90198\\\\\n",
       "\t Jack & Time3 & Sunny &  93.31203\\\\\n",
       "\t Jack & Time1 & Rainy &  82.75194\\\\\n",
       "\t Jack & Time2 & Rainy &  76.85037\\\\\n",
       "\t Jack & Time3 & Rainy &  86.65759\\\\\n",
       "\t Ben  & Time1 & Sunny & 106.59278\\\\\n",
       "\t Ben  & Time2 & Sunny &  76.81894\\\\\n",
       "\t Ben  & Time3 & Sunny &  78.01260\\\\\n",
       "\t Ben  & Time1 & Rainy &  83.94712\\\\\n",
       "\t Ben  & Time2 & Rainy &  89.49637\\\\\n",
       "\t Ben  & Time3 & Rainy &  72.23034\\\\\n",
       "\\end{tabular}\n"
      ],
      "text/markdown": [
       "\n",
       "A data.frame: 18 × 4\n",
       "\n",
       "| student &lt;fct&gt; | time &lt;fct&gt; | weather &lt;fct&gt; | distance &lt;dbl&gt; |\n",
       "|---|---|---|---|\n",
       "| Amy  | Time1 | Sunny |  85.93075 |\n",
       "| Amy  | Time2 | Sunny |  92.72048 |\n",
       "| Amy  | Time3 | Sunny |  81.93572 |\n",
       "| Amy  | Time1 | Rainy |  75.82715 |\n",
       "| Amy  | Time2 | Rainy |  78.68313 |\n",
       "| Amy  | Time3 | Rainy |  81.02436 |\n",
       "| Jack | Time1 | Sunny |  90.58728 |\n",
       "| Jack | Time2 | Sunny |  90.90198 |\n",
       "| Jack | Time3 | Sunny |  93.31203 |\n",
       "| Jack | Time1 | Rainy |  82.75194 |\n",
       "| Jack | Time2 | Rainy |  76.85037 |\n",
       "| Jack | Time3 | Rainy |  86.65759 |\n",
       "| Ben  | Time1 | Sunny | 106.59278 |\n",
       "| Ben  | Time2 | Sunny |  76.81894 |\n",
       "| Ben  | Time3 | Sunny |  78.01260 |\n",
       "| Ben  | Time1 | Rainy |  83.94712 |\n",
       "| Ben  | Time2 | Rainy |  89.49637 |\n",
       "| Ben  | Time3 | Rainy |  72.23034 |\n",
       "\n"
      ],
      "text/plain": [
       "   student time  weather distance \n",
       "1  Amy     Time1 Sunny    85.93075\n",
       "2  Amy     Time2 Sunny    92.72048\n",
       "3  Amy     Time3 Sunny    81.93572\n",
       "4  Amy     Time1 Rainy    75.82715\n",
       "5  Amy     Time2 Rainy    78.68313\n",
       "6  Amy     Time3 Rainy    81.02436\n",
       "7  Jack    Time1 Sunny    90.58728\n",
       "8  Jack    Time2 Sunny    90.90198\n",
       "9  Jack    Time3 Sunny    93.31203\n",
       "10 Jack    Time1 Rainy    82.75194\n",
       "11 Jack    Time2 Rainy    76.85037\n",
       "12 Jack    Time3 Rainy    86.65759\n",
       "13 Ben     Time1 Sunny   106.59278\n",
       "14 Ben     Time2 Sunny    76.81894\n",
       "15 Ben     Time3 Sunny    78.01260\n",
       "16 Ben     Time1 Rainy    83.94712\n",
       "17 Ben     Time2 Rainy    89.49637\n",
       "18 Ben     Time3 Rainy    72.23034"
      ]
     },
     "metadata": {},
     "output_type": "display_data"
    }
   ],
   "source": [
    "d <- expand.grid(student = c('Amy', 'Jack', 'Ben'), time = paste0('Time', 1:3), weather = c('Sunny', 'Rainy'))\n",
    "d$distance <- rnorm(nrow(d), 80, 10)\n",
    "d = arrange(d, student)\n",
    "d"
   ]
  },
  {
   "cell_type": "markdown",
   "metadata": {},
   "source": [
    "For each student, we now have three time points, and two types of weather per time point. We can spread the variables `time` and `weather` out as columns and fill in the values with `distance`.  \n",
    "\n",
    "***How do I know if a certain variable can be spread in the column names from long to wide?*** If all participants saw *all* levels of that variable, then that variable can be spread to wide. For example, because all participants experienced both rainy and sunny weather across all time points, we can spread along that variable.\n",
    "\n",
    "Besides the input data, spreading only takes two arguments: column to use as column names, and column to use as values. So we need to condense the data above to get it to that format first before we can spread it. `time` and `weather` are both the columns we want to use as column names, so we need to put those together (ie, unite!)."
   ]
  },
  {
   "cell_type": "code",
   "execution_count": 6,
   "metadata": {},
   "outputs": [
    {
     "data": {
      "text/html": [
       "<table class=\"dataframe\">\n",
       "<caption>A data.frame: 18 × 3</caption>\n",
       "<thead>\n",
       "\t<tr><th scope=col>student</th><th scope=col>new_col_names</th><th scope=col>distance</th></tr>\n",
       "\t<tr><th scope=col>&lt;fct&gt;</th><th scope=col>&lt;chr&gt;</th><th scope=col>&lt;dbl&gt;</th></tr>\n",
       "</thead>\n",
       "<tbody>\n",
       "\t<tr><td>Amy </td><td>Time1_Sunny</td><td> 85.93075</td></tr>\n",
       "\t<tr><td>Amy </td><td>Time2_Sunny</td><td> 92.72048</td></tr>\n",
       "\t<tr><td>Amy </td><td>Time3_Sunny</td><td> 81.93572</td></tr>\n",
       "\t<tr><td>Amy </td><td>Time1_Rainy</td><td> 75.82715</td></tr>\n",
       "\t<tr><td>Amy </td><td>Time2_Rainy</td><td> 78.68313</td></tr>\n",
       "\t<tr><td>Amy </td><td>Time3_Rainy</td><td> 81.02436</td></tr>\n",
       "\t<tr><td>Jack</td><td>Time1_Sunny</td><td> 90.58728</td></tr>\n",
       "\t<tr><td>Jack</td><td>Time2_Sunny</td><td> 90.90198</td></tr>\n",
       "\t<tr><td>Jack</td><td>Time3_Sunny</td><td> 93.31203</td></tr>\n",
       "\t<tr><td>Jack</td><td>Time1_Rainy</td><td> 82.75194</td></tr>\n",
       "\t<tr><td>Jack</td><td>Time2_Rainy</td><td> 76.85037</td></tr>\n",
       "\t<tr><td>Jack</td><td>Time3_Rainy</td><td> 86.65759</td></tr>\n",
       "\t<tr><td>Ben </td><td>Time1_Sunny</td><td>106.59278</td></tr>\n",
       "\t<tr><td>Ben </td><td>Time2_Sunny</td><td> 76.81894</td></tr>\n",
       "\t<tr><td>Ben </td><td>Time3_Sunny</td><td> 78.01260</td></tr>\n",
       "\t<tr><td>Ben </td><td>Time1_Rainy</td><td> 83.94712</td></tr>\n",
       "\t<tr><td>Ben </td><td>Time2_Rainy</td><td> 89.49637</td></tr>\n",
       "\t<tr><td>Ben </td><td>Time3_Rainy</td><td> 72.23034</td></tr>\n",
       "</tbody>\n",
       "</table>\n"
      ],
      "text/latex": [
       "A data.frame: 18 × 3\n",
       "\\begin{tabular}{lll}\n",
       " student & new\\_col\\_names & distance\\\\\n",
       " <fct> & <chr> & <dbl>\\\\\n",
       "\\hline\n",
       "\t Amy  & Time1\\_Sunny &  85.93075\\\\\n",
       "\t Amy  & Time2\\_Sunny &  92.72048\\\\\n",
       "\t Amy  & Time3\\_Sunny &  81.93572\\\\\n",
       "\t Amy  & Time1\\_Rainy &  75.82715\\\\\n",
       "\t Amy  & Time2\\_Rainy &  78.68313\\\\\n",
       "\t Amy  & Time3\\_Rainy &  81.02436\\\\\n",
       "\t Jack & Time1\\_Sunny &  90.58728\\\\\n",
       "\t Jack & Time2\\_Sunny &  90.90198\\\\\n",
       "\t Jack & Time3\\_Sunny &  93.31203\\\\\n",
       "\t Jack & Time1\\_Rainy &  82.75194\\\\\n",
       "\t Jack & Time2\\_Rainy &  76.85037\\\\\n",
       "\t Jack & Time3\\_Rainy &  86.65759\\\\\n",
       "\t Ben  & Time1\\_Sunny & 106.59278\\\\\n",
       "\t Ben  & Time2\\_Sunny &  76.81894\\\\\n",
       "\t Ben  & Time3\\_Sunny &  78.01260\\\\\n",
       "\t Ben  & Time1\\_Rainy &  83.94712\\\\\n",
       "\t Ben  & Time2\\_Rainy &  89.49637\\\\\n",
       "\t Ben  & Time3\\_Rainy &  72.23034\\\\\n",
       "\\end{tabular}\n"
      ],
      "text/markdown": [
       "\n",
       "A data.frame: 18 × 3\n",
       "\n",
       "| student &lt;fct&gt; | new_col_names &lt;chr&gt; | distance &lt;dbl&gt; |\n",
       "|---|---|---|\n",
       "| Amy  | Time1_Sunny |  85.93075 |\n",
       "| Amy  | Time2_Sunny |  92.72048 |\n",
       "| Amy  | Time3_Sunny |  81.93572 |\n",
       "| Amy  | Time1_Rainy |  75.82715 |\n",
       "| Amy  | Time2_Rainy |  78.68313 |\n",
       "| Amy  | Time3_Rainy |  81.02436 |\n",
       "| Jack | Time1_Sunny |  90.58728 |\n",
       "| Jack | Time2_Sunny |  90.90198 |\n",
       "| Jack | Time3_Sunny |  93.31203 |\n",
       "| Jack | Time1_Rainy |  82.75194 |\n",
       "| Jack | Time2_Rainy |  76.85037 |\n",
       "| Jack | Time3_Rainy |  86.65759 |\n",
       "| Ben  | Time1_Sunny | 106.59278 |\n",
       "| Ben  | Time2_Sunny |  76.81894 |\n",
       "| Ben  | Time3_Sunny |  78.01260 |\n",
       "| Ben  | Time1_Rainy |  83.94712 |\n",
       "| Ben  | Time2_Rainy |  89.49637 |\n",
       "| Ben  | Time3_Rainy |  72.23034 |\n",
       "\n"
      ],
      "text/plain": [
       "   student new_col_names distance \n",
       "1  Amy     Time1_Sunny    85.93075\n",
       "2  Amy     Time2_Sunny    92.72048\n",
       "3  Amy     Time3_Sunny    81.93572\n",
       "4  Amy     Time1_Rainy    75.82715\n",
       "5  Amy     Time2_Rainy    78.68313\n",
       "6  Amy     Time3_Rainy    81.02436\n",
       "7  Jack    Time1_Sunny    90.58728\n",
       "8  Jack    Time2_Sunny    90.90198\n",
       "9  Jack    Time3_Sunny    93.31203\n",
       "10 Jack    Time1_Rainy    82.75194\n",
       "11 Jack    Time2_Rainy    76.85037\n",
       "12 Jack    Time3_Rainy    86.65759\n",
       "13 Ben     Time1_Sunny   106.59278\n",
       "14 Ben     Time2_Sunny    76.81894\n",
       "15 Ben     Time3_Sunny    78.01260\n",
       "16 Ben     Time1_Rainy    83.94712\n",
       "17 Ben     Time2_Rainy    89.49637\n",
       "18 Ben     Time3_Rainy    72.23034"
      ]
     },
     "metadata": {},
     "output_type": "display_data"
    }
   ],
   "source": [
    "d1 <- unite(d, new_col_names, time:weather, sep = '_')\n",
    "d1"
   ]
  },
  {
   "cell_type": "markdown",
   "metadata": {},
   "source": [
    "This is like an intermediary data frame, we're inbetween long and preparing to go to wide here. We joined `time` and `weather` together and separated them with a `_` in order to keep things organized. Now we just spread like we did before:"
   ]
  },
  {
   "cell_type": "code",
   "execution_count": 7,
   "metadata": {},
   "outputs": [
    {
     "data": {
      "text/html": [
       "<table class=\"dataframe\">\n",
       "<caption>A data.frame: 3 × 7</caption>\n",
       "<thead>\n",
       "\t<tr><th scope=col>student</th><th scope=col>Time1_Rainy</th><th scope=col>Time1_Sunny</th><th scope=col>Time2_Rainy</th><th scope=col>Time2_Sunny</th><th scope=col>Time3_Rainy</th><th scope=col>Time3_Sunny</th></tr>\n",
       "\t<tr><th scope=col>&lt;fct&gt;</th><th scope=col>&lt;dbl&gt;</th><th scope=col>&lt;dbl&gt;</th><th scope=col>&lt;dbl&gt;</th><th scope=col>&lt;dbl&gt;</th><th scope=col>&lt;dbl&gt;</th><th scope=col>&lt;dbl&gt;</th></tr>\n",
       "</thead>\n",
       "<tbody>\n",
       "\t<tr><td>Amy </td><td>75.82715</td><td> 85.93075</td><td>78.68313</td><td>92.72048</td><td>81.02436</td><td>81.93572</td></tr>\n",
       "\t<tr><td>Jack</td><td>82.75194</td><td> 90.58728</td><td>76.85037</td><td>90.90198</td><td>86.65759</td><td>93.31203</td></tr>\n",
       "\t<tr><td>Ben </td><td>83.94712</td><td>106.59278</td><td>89.49637</td><td>76.81894</td><td>72.23034</td><td>78.01260</td></tr>\n",
       "</tbody>\n",
       "</table>\n"
      ],
      "text/latex": [
       "A data.frame: 3 × 7\n",
       "\\begin{tabular}{lllllll}\n",
       " student & Time1\\_Rainy & Time1\\_Sunny & Time2\\_Rainy & Time2\\_Sunny & Time3\\_Rainy & Time3\\_Sunny\\\\\n",
       " <fct> & <dbl> & <dbl> & <dbl> & <dbl> & <dbl> & <dbl>\\\\\n",
       "\\hline\n",
       "\t Amy  & 75.82715 &  85.93075 & 78.68313 & 92.72048 & 81.02436 & 81.93572\\\\\n",
       "\t Jack & 82.75194 &  90.58728 & 76.85037 & 90.90198 & 86.65759 & 93.31203\\\\\n",
       "\t Ben  & 83.94712 & 106.59278 & 89.49637 & 76.81894 & 72.23034 & 78.01260\\\\\n",
       "\\end{tabular}\n"
      ],
      "text/markdown": [
       "\n",
       "A data.frame: 3 × 7\n",
       "\n",
       "| student &lt;fct&gt; | Time1_Rainy &lt;dbl&gt; | Time1_Sunny &lt;dbl&gt; | Time2_Rainy &lt;dbl&gt; | Time2_Sunny &lt;dbl&gt; | Time3_Rainy &lt;dbl&gt; | Time3_Sunny &lt;dbl&gt; |\n",
       "|---|---|---|---|---|---|---|\n",
       "| Amy  | 75.82715 |  85.93075 | 78.68313 | 92.72048 | 81.02436 | 81.93572 |\n",
       "| Jack | 82.75194 |  90.58728 | 76.85037 | 90.90198 | 86.65759 | 93.31203 |\n",
       "| Ben  | 83.94712 | 106.59278 | 89.49637 | 76.81894 | 72.23034 | 78.01260 |\n",
       "\n"
      ],
      "text/plain": [
       "  student Time1_Rainy Time1_Sunny Time2_Rainy Time2_Sunny Time3_Rainy\n",
       "1 Amy     75.82715     85.93075   78.68313    92.72048    81.02436   \n",
       "2 Jack    82.75194     90.58728   76.85037    90.90198    86.65759   \n",
       "3 Ben     83.94712    106.59278   89.49637    76.81894    72.23034   \n",
       "  Time3_Sunny\n",
       "1 81.93572   \n",
       "2 93.31203   \n",
       "3 78.01260   "
      ]
     },
     "metadata": {},
     "output_type": "display_data"
    }
   ],
   "source": [
    "long_data = spread(d1, new_col_names, distance)\n",
    "long_data"
   ]
  },
  {
   "cell_type": "markdown",
   "metadata": {},
   "source": [
    "And we've achieved our final wide shape: each participant has only one row, and all those variables that each participant saw every level of are represented as different columns.\n",
    "\n",
    "***What if there's a variable in the data that each participant did not see each level of?*** We just leave that one out of the uniting and spreading function calls. I'll do the same operations but add in what's called a *between* subjects variable."
   ]
  },
  {
   "cell_type": "code",
   "execution_count": 8,
   "metadata": {},
   "outputs": [
    {
     "data": {
      "text/html": [
       "<table class=\"dataframe\">\n",
       "<caption>A data.frame: 18 × 5</caption>\n",
       "<thead>\n",
       "\t<tr><th scope=col>student</th><th scope=col>training_condition</th><th scope=col>time</th><th scope=col>weather</th><th scope=col>distance</th></tr>\n",
       "\t<tr><th scope=col>&lt;fct&gt;</th><th scope=col>&lt;chr&gt;</th><th scope=col>&lt;fct&gt;</th><th scope=col>&lt;fct&gt;</th><th scope=col>&lt;dbl&gt;</th></tr>\n",
       "</thead>\n",
       "<tbody>\n",
       "\t<tr><td>Amy </td><td>trained</td><td>Time1</td><td>Sunny</td><td> 85.93075</td></tr>\n",
       "\t<tr><td>Amy </td><td>trained</td><td>Time2</td><td>Sunny</td><td> 92.72048</td></tr>\n",
       "\t<tr><td>Amy </td><td>trained</td><td>Time3</td><td>Sunny</td><td> 81.93572</td></tr>\n",
       "\t<tr><td>Amy </td><td>trained</td><td>Time1</td><td>Rainy</td><td> 75.82715</td></tr>\n",
       "\t<tr><td>Amy </td><td>trained</td><td>Time2</td><td>Rainy</td><td> 78.68313</td></tr>\n",
       "\t<tr><td>Amy </td><td>trained</td><td>Time3</td><td>Rainy</td><td> 81.02436</td></tr>\n",
       "\t<tr><td>Jack</td><td>trained</td><td>Time1</td><td>Sunny</td><td> 90.58728</td></tr>\n",
       "\t<tr><td>Jack</td><td>trained</td><td>Time2</td><td>Sunny</td><td> 90.90198</td></tr>\n",
       "\t<tr><td>Jack</td><td>trained</td><td>Time3</td><td>Sunny</td><td> 93.31203</td></tr>\n",
       "\t<tr><td>Jack</td><td>trained</td><td>Time1</td><td>Rainy</td><td> 82.75194</td></tr>\n",
       "\t<tr><td>Jack</td><td>trained</td><td>Time2</td><td>Rainy</td><td> 76.85037</td></tr>\n",
       "\t<tr><td>Jack</td><td>trained</td><td>Time3</td><td>Rainy</td><td> 86.65759</td></tr>\n",
       "\t<tr><td>Ben </td><td>control</td><td>Time1</td><td>Sunny</td><td>106.59278</td></tr>\n",
       "\t<tr><td>Ben </td><td>control</td><td>Time2</td><td>Sunny</td><td> 76.81894</td></tr>\n",
       "\t<tr><td>Ben </td><td>control</td><td>Time3</td><td>Sunny</td><td> 78.01260</td></tr>\n",
       "\t<tr><td>Ben </td><td>control</td><td>Time1</td><td>Rainy</td><td> 83.94712</td></tr>\n",
       "\t<tr><td>Ben </td><td>control</td><td>Time2</td><td>Rainy</td><td> 89.49637</td></tr>\n",
       "\t<tr><td>Ben </td><td>control</td><td>Time3</td><td>Rainy</td><td> 72.23034</td></tr>\n",
       "</tbody>\n",
       "</table>\n"
      ],
      "text/latex": [
       "A data.frame: 18 × 5\n",
       "\\begin{tabular}{lllll}\n",
       " student & training\\_condition & time & weather & distance\\\\\n",
       " <fct> & <chr> & <fct> & <fct> & <dbl>\\\\\n",
       "\\hline\n",
       "\t Amy  & trained & Time1 & Sunny &  85.93075\\\\\n",
       "\t Amy  & trained & Time2 & Sunny &  92.72048\\\\\n",
       "\t Amy  & trained & Time3 & Sunny &  81.93572\\\\\n",
       "\t Amy  & trained & Time1 & Rainy &  75.82715\\\\\n",
       "\t Amy  & trained & Time2 & Rainy &  78.68313\\\\\n",
       "\t Amy  & trained & Time3 & Rainy &  81.02436\\\\\n",
       "\t Jack & trained & Time1 & Sunny &  90.58728\\\\\n",
       "\t Jack & trained & Time2 & Sunny &  90.90198\\\\\n",
       "\t Jack & trained & Time3 & Sunny &  93.31203\\\\\n",
       "\t Jack & trained & Time1 & Rainy &  82.75194\\\\\n",
       "\t Jack & trained & Time2 & Rainy &  76.85037\\\\\n",
       "\t Jack & trained & Time3 & Rainy &  86.65759\\\\\n",
       "\t Ben  & control & Time1 & Sunny & 106.59278\\\\\n",
       "\t Ben  & control & Time2 & Sunny &  76.81894\\\\\n",
       "\t Ben  & control & Time3 & Sunny &  78.01260\\\\\n",
       "\t Ben  & control & Time1 & Rainy &  83.94712\\\\\n",
       "\t Ben  & control & Time2 & Rainy &  89.49637\\\\\n",
       "\t Ben  & control & Time3 & Rainy &  72.23034\\\\\n",
       "\\end{tabular}\n"
      ],
      "text/markdown": [
       "\n",
       "A data.frame: 18 × 5\n",
       "\n",
       "| student &lt;fct&gt; | training_condition &lt;chr&gt; | time &lt;fct&gt; | weather &lt;fct&gt; | distance &lt;dbl&gt; |\n",
       "|---|---|---|---|---|\n",
       "| Amy  | trained | Time1 | Sunny |  85.93075 |\n",
       "| Amy  | trained | Time2 | Sunny |  92.72048 |\n",
       "| Amy  | trained | Time3 | Sunny |  81.93572 |\n",
       "| Amy  | trained | Time1 | Rainy |  75.82715 |\n",
       "| Amy  | trained | Time2 | Rainy |  78.68313 |\n",
       "| Amy  | trained | Time3 | Rainy |  81.02436 |\n",
       "| Jack | trained | Time1 | Sunny |  90.58728 |\n",
       "| Jack | trained | Time2 | Sunny |  90.90198 |\n",
       "| Jack | trained | Time3 | Sunny |  93.31203 |\n",
       "| Jack | trained | Time1 | Rainy |  82.75194 |\n",
       "| Jack | trained | Time2 | Rainy |  76.85037 |\n",
       "| Jack | trained | Time3 | Rainy |  86.65759 |\n",
       "| Ben  | control | Time1 | Sunny | 106.59278 |\n",
       "| Ben  | control | Time2 | Sunny |  76.81894 |\n",
       "| Ben  | control | Time3 | Sunny |  78.01260 |\n",
       "| Ben  | control | Time1 | Rainy |  83.94712 |\n",
       "| Ben  | control | Time2 | Rainy |  89.49637 |\n",
       "| Ben  | control | Time3 | Rainy |  72.23034 |\n",
       "\n"
      ],
      "text/plain": [
       "   student training_condition time  weather distance \n",
       "1  Amy     trained            Time1 Sunny    85.93075\n",
       "2  Amy     trained            Time2 Sunny    92.72048\n",
       "3  Amy     trained            Time3 Sunny    81.93572\n",
       "4  Amy     trained            Time1 Rainy    75.82715\n",
       "5  Amy     trained            Time2 Rainy    78.68313\n",
       "6  Amy     trained            Time3 Rainy    81.02436\n",
       "7  Jack    trained            Time1 Sunny    90.58728\n",
       "8  Jack    trained            Time2 Sunny    90.90198\n",
       "9  Jack    trained            Time3 Sunny    93.31203\n",
       "10 Jack    trained            Time1 Rainy    82.75194\n",
       "11 Jack    trained            Time2 Rainy    76.85037\n",
       "12 Jack    trained            Time3 Rainy    86.65759\n",
       "13 Ben     control            Time1 Sunny   106.59278\n",
       "14 Ben     control            Time2 Sunny    76.81894\n",
       "15 Ben     control            Time3 Sunny    78.01260\n",
       "16 Ben     control            Time1 Rainy    83.94712\n",
       "17 Ben     control            Time2 Rainy    89.49637\n",
       "18 Ben     control            Time3 Rainy    72.23034"
      ]
     },
     "metadata": {},
     "output_type": "display_data"
    }
   ],
   "source": [
    "d$training_condition <- ifelse(d$student=='Amy' | d$student=='Jack', 'trained', 'control')\n",
    "d1 = d[,c(1,5,2:4)]\n",
    "d1"
   ]
  },
  {
   "cell_type": "code",
   "execution_count": 9,
   "metadata": {},
   "outputs": [
    {
     "data": {
      "text/html": [
       "<table class=\"dataframe\">\n",
       "<caption>A data.frame: 3 × 8</caption>\n",
       "<thead>\n",
       "\t<tr><th scope=col>student</th><th scope=col>training_condition</th><th scope=col>Time1_Rainy</th><th scope=col>Time1_Sunny</th><th scope=col>Time2_Rainy</th><th scope=col>Time2_Sunny</th><th scope=col>Time3_Rainy</th><th scope=col>Time3_Sunny</th></tr>\n",
       "\t<tr><th scope=col>&lt;fct&gt;</th><th scope=col>&lt;chr&gt;</th><th scope=col>&lt;dbl&gt;</th><th scope=col>&lt;dbl&gt;</th><th scope=col>&lt;dbl&gt;</th><th scope=col>&lt;dbl&gt;</th><th scope=col>&lt;dbl&gt;</th><th scope=col>&lt;dbl&gt;</th></tr>\n",
       "</thead>\n",
       "<tbody>\n",
       "\t<tr><td>Amy </td><td>trained</td><td>75.82715</td><td> 85.93075</td><td>78.68313</td><td>92.72048</td><td>81.02436</td><td>81.93572</td></tr>\n",
       "\t<tr><td>Jack</td><td>trained</td><td>82.75194</td><td> 90.58728</td><td>76.85037</td><td>90.90198</td><td>86.65759</td><td>93.31203</td></tr>\n",
       "\t<tr><td>Ben </td><td>control</td><td>83.94712</td><td>106.59278</td><td>89.49637</td><td>76.81894</td><td>72.23034</td><td>78.01260</td></tr>\n",
       "</tbody>\n",
       "</table>\n"
      ],
      "text/latex": [
       "A data.frame: 3 × 8\n",
       "\\begin{tabular}{llllllll}\n",
       " student & training\\_condition & Time1\\_Rainy & Time1\\_Sunny & Time2\\_Rainy & Time2\\_Sunny & Time3\\_Rainy & Time3\\_Sunny\\\\\n",
       " <fct> & <chr> & <dbl> & <dbl> & <dbl> & <dbl> & <dbl> & <dbl>\\\\\n",
       "\\hline\n",
       "\t Amy  & trained & 75.82715 &  85.93075 & 78.68313 & 92.72048 & 81.02436 & 81.93572\\\\\n",
       "\t Jack & trained & 82.75194 &  90.58728 & 76.85037 & 90.90198 & 86.65759 & 93.31203\\\\\n",
       "\t Ben  & control & 83.94712 & 106.59278 & 89.49637 & 76.81894 & 72.23034 & 78.01260\\\\\n",
       "\\end{tabular}\n"
      ],
      "text/markdown": [
       "\n",
       "A data.frame: 3 × 8\n",
       "\n",
       "| student &lt;fct&gt; | training_condition &lt;chr&gt; | Time1_Rainy &lt;dbl&gt; | Time1_Sunny &lt;dbl&gt; | Time2_Rainy &lt;dbl&gt; | Time2_Sunny &lt;dbl&gt; | Time3_Rainy &lt;dbl&gt; | Time3_Sunny &lt;dbl&gt; |\n",
       "|---|---|---|---|---|---|---|---|\n",
       "| Amy  | trained | 75.82715 |  85.93075 | 78.68313 | 92.72048 | 81.02436 | 81.93572 |\n",
       "| Jack | trained | 82.75194 |  90.58728 | 76.85037 | 90.90198 | 86.65759 | 93.31203 |\n",
       "| Ben  | control | 83.94712 | 106.59278 | 89.49637 | 76.81894 | 72.23034 | 78.01260 |\n",
       "\n"
      ],
      "text/plain": [
       "  student training_condition Time1_Rainy Time1_Sunny Time2_Rainy Time2_Sunny\n",
       "1 Amy     trained            75.82715     85.93075   78.68313    92.72048   \n",
       "2 Jack    trained            82.75194     90.58728   76.85037    90.90198   \n",
       "3 Ben     control            83.94712    106.59278   89.49637    76.81894   \n",
       "  Time3_Rainy Time3_Sunny\n",
       "1 81.02436    81.93572   \n",
       "2 86.65759    93.31203   \n",
       "3 72.23034    78.01260   "
      ]
     },
     "metadata": {},
     "output_type": "display_data"
    }
   ],
   "source": [
    "d2 = unite(d1, new_col_names, time:weather)\n",
    "wide_data = spread(d2, new_col_names, distance)\n",
    "wide_data"
   ]
  },
  {
   "cell_type": "markdown",
   "metadata": {},
   "source": [
    "We still satisfy the requirement that each student have only one row, even though we didn't spread the `training_condition` variable."
   ]
  },
  {
   "cell_type": "markdown",
   "metadata": {},
   "source": [
    "**Gathering to wide and separating**\n",
    "\n",
    "Let's go from the data frame above back to a long data frame. We just invert the operations that we just did. So first we `gather`:"
   ]
  },
  {
   "cell_type": "code",
   "execution_count": 22,
   "metadata": {},
   "outputs": [
    {
     "data": {
      "text/html": [
       "<table class=\"dataframe\">\n",
       "<caption>A data.frame: 18 × 4</caption>\n",
       "<thead>\n",
       "\t<tr><th scope=col>student</th><th scope=col>training_condition</th><th scope=col>gathered_names</th><th scope=col>distance</th></tr>\n",
       "\t<tr><th scope=col>&lt;fct&gt;</th><th scope=col>&lt;chr&gt;</th><th scope=col>&lt;chr&gt;</th><th scope=col>&lt;dbl&gt;</th></tr>\n",
       "</thead>\n",
       "<tbody>\n",
       "\t<tr><td>Amy </td><td>trained</td><td>Time1_Rainy</td><td> 75.82715</td></tr>\n",
       "\t<tr><td>Amy </td><td>trained</td><td>Time1_Sunny</td><td> 85.93075</td></tr>\n",
       "\t<tr><td>Amy </td><td>trained</td><td>Time2_Rainy</td><td> 78.68313</td></tr>\n",
       "\t<tr><td>Amy </td><td>trained</td><td>Time2_Sunny</td><td> 92.72048</td></tr>\n",
       "\t<tr><td>Amy </td><td>trained</td><td>Time3_Rainy</td><td> 81.02436</td></tr>\n",
       "\t<tr><td>Amy </td><td>trained</td><td>Time3_Sunny</td><td> 81.93572</td></tr>\n",
       "\t<tr><td>Jack</td><td>trained</td><td>Time1_Rainy</td><td> 82.75194</td></tr>\n",
       "\t<tr><td>Jack</td><td>trained</td><td>Time1_Sunny</td><td> 90.58728</td></tr>\n",
       "\t<tr><td>Jack</td><td>trained</td><td>Time2_Rainy</td><td> 76.85037</td></tr>\n",
       "\t<tr><td>Jack</td><td>trained</td><td>Time2_Sunny</td><td> 90.90198</td></tr>\n",
       "\t<tr><td>Jack</td><td>trained</td><td>Time3_Rainy</td><td> 86.65759</td></tr>\n",
       "\t<tr><td>Jack</td><td>trained</td><td>Time3_Sunny</td><td> 93.31203</td></tr>\n",
       "\t<tr><td>Ben </td><td>control</td><td>Time1_Rainy</td><td> 83.94712</td></tr>\n",
       "\t<tr><td>Ben </td><td>control</td><td>Time1_Sunny</td><td>106.59278</td></tr>\n",
       "\t<tr><td>Ben </td><td>control</td><td>Time2_Rainy</td><td> 89.49637</td></tr>\n",
       "\t<tr><td>Ben </td><td>control</td><td>Time2_Sunny</td><td> 76.81894</td></tr>\n",
       "\t<tr><td>Ben </td><td>control</td><td>Time3_Rainy</td><td> 72.23034</td></tr>\n",
       "\t<tr><td>Ben </td><td>control</td><td>Time3_Sunny</td><td> 78.01260</td></tr>\n",
       "</tbody>\n",
       "</table>\n"
      ],
      "text/latex": [
       "A data.frame: 18 × 4\n",
       "\\begin{tabular}{llll}\n",
       " student & training\\_condition & gathered\\_names & distance\\\\\n",
       " <fct> & <chr> & <chr> & <dbl>\\\\\n",
       "\\hline\n",
       "\t Amy  & trained & Time1\\_Rainy &  75.82715\\\\\n",
       "\t Amy  & trained & Time1\\_Sunny &  85.93075\\\\\n",
       "\t Amy  & trained & Time2\\_Rainy &  78.68313\\\\\n",
       "\t Amy  & trained & Time2\\_Sunny &  92.72048\\\\\n",
       "\t Amy  & trained & Time3\\_Rainy &  81.02436\\\\\n",
       "\t Amy  & trained & Time3\\_Sunny &  81.93572\\\\\n",
       "\t Jack & trained & Time1\\_Rainy &  82.75194\\\\\n",
       "\t Jack & trained & Time1\\_Sunny &  90.58728\\\\\n",
       "\t Jack & trained & Time2\\_Rainy &  76.85037\\\\\n",
       "\t Jack & trained & Time2\\_Sunny &  90.90198\\\\\n",
       "\t Jack & trained & Time3\\_Rainy &  86.65759\\\\\n",
       "\t Jack & trained & Time3\\_Sunny &  93.31203\\\\\n",
       "\t Ben  & control & Time1\\_Rainy &  83.94712\\\\\n",
       "\t Ben  & control & Time1\\_Sunny & 106.59278\\\\\n",
       "\t Ben  & control & Time2\\_Rainy &  89.49637\\\\\n",
       "\t Ben  & control & Time2\\_Sunny &  76.81894\\\\\n",
       "\t Ben  & control & Time3\\_Rainy &  72.23034\\\\\n",
       "\t Ben  & control & Time3\\_Sunny &  78.01260\\\\\n",
       "\\end{tabular}\n"
      ],
      "text/markdown": [
       "\n",
       "A data.frame: 18 × 4\n",
       "\n",
       "| student &lt;fct&gt; | training_condition &lt;chr&gt; | gathered_names &lt;chr&gt; | distance &lt;dbl&gt; |\n",
       "|---|---|---|---|\n",
       "| Amy  | trained | Time1_Rainy |  75.82715 |\n",
       "| Amy  | trained | Time1_Sunny |  85.93075 |\n",
       "| Amy  | trained | Time2_Rainy |  78.68313 |\n",
       "| Amy  | trained | Time2_Sunny |  92.72048 |\n",
       "| Amy  | trained | Time3_Rainy |  81.02436 |\n",
       "| Amy  | trained | Time3_Sunny |  81.93572 |\n",
       "| Jack | trained | Time1_Rainy |  82.75194 |\n",
       "| Jack | trained | Time1_Sunny |  90.58728 |\n",
       "| Jack | trained | Time2_Rainy |  76.85037 |\n",
       "| Jack | trained | Time2_Sunny |  90.90198 |\n",
       "| Jack | trained | Time3_Rainy |  86.65759 |\n",
       "| Jack | trained | Time3_Sunny |  93.31203 |\n",
       "| Ben  | control | Time1_Rainy |  83.94712 |\n",
       "| Ben  | control | Time1_Sunny | 106.59278 |\n",
       "| Ben  | control | Time2_Rainy |  89.49637 |\n",
       "| Ben  | control | Time2_Sunny |  76.81894 |\n",
       "| Ben  | control | Time3_Rainy |  72.23034 |\n",
       "| Ben  | control | Time3_Sunny |  78.01260 |\n",
       "\n"
      ],
      "text/plain": [
       "   student training_condition gathered_names distance \n",
       "1  Amy     trained            Time1_Rainy     75.82715\n",
       "2  Amy     trained            Time1_Sunny     85.93075\n",
       "3  Amy     trained            Time2_Rainy     78.68313\n",
       "4  Amy     trained            Time2_Sunny     92.72048\n",
       "5  Amy     trained            Time3_Rainy     81.02436\n",
       "6  Amy     trained            Time3_Sunny     81.93572\n",
       "7  Jack    trained            Time1_Rainy     82.75194\n",
       "8  Jack    trained            Time1_Sunny     90.58728\n",
       "9  Jack    trained            Time2_Rainy     76.85037\n",
       "10 Jack    trained            Time2_Sunny     90.90198\n",
       "11 Jack    trained            Time3_Rainy     86.65759\n",
       "12 Jack    trained            Time3_Sunny     93.31203\n",
       "13 Ben     control            Time1_Rainy     83.94712\n",
       "14 Ben     control            Time1_Sunny    106.59278\n",
       "15 Ben     control            Time2_Rainy     89.49637\n",
       "16 Ben     control            Time2_Sunny     76.81894\n",
       "17 Ben     control            Time3_Rainy     72.23034\n",
       "18 Ben     control            Time3_Sunny     78.01260"
      ]
     },
     "metadata": {},
     "output_type": "display_data"
    }
   ],
   "source": [
    "d1 = gather(wide_data, gathered_names, distance, Time1_Rainy:Time3_Sunny)\n",
    "arrange(d1, student)\n"
   ]
  },
  {
   "cell_type": "markdown",
   "metadata": {},
   "source": [
    "We're almost already there. But remember our three rules from the beginning of the notebook. Rule 1 says every column must be *one* variable. Right now, `gathered_names` is representing two variables. To correct for this, we spread it into two and split the values on the `_` character:"
   ]
  },
  {
   "cell_type": "code",
   "execution_count": 23,
   "metadata": {},
   "outputs": [
    {
     "data": {
      "text/html": [
       "<table class=\"dataframe\">\n",
       "<caption>A data.frame: 18 × 5</caption>\n",
       "<thead>\n",
       "\t<tr><th scope=col>student</th><th scope=col>training_condition</th><th scope=col>time</th><th scope=col>weather</th><th scope=col>distance</th></tr>\n",
       "\t<tr><th scope=col>&lt;fct&gt;</th><th scope=col>&lt;chr&gt;</th><th scope=col>&lt;chr&gt;</th><th scope=col>&lt;chr&gt;</th><th scope=col>&lt;dbl&gt;</th></tr>\n",
       "</thead>\n",
       "<tbody>\n",
       "\t<tr><td>Amy </td><td>trained</td><td>Time1</td><td>Rainy</td><td> 75.82715</td></tr>\n",
       "\t<tr><td>Amy </td><td>trained</td><td>Time1</td><td>Sunny</td><td> 85.93075</td></tr>\n",
       "\t<tr><td>Amy </td><td>trained</td><td>Time2</td><td>Rainy</td><td> 78.68313</td></tr>\n",
       "\t<tr><td>Amy </td><td>trained</td><td>Time2</td><td>Sunny</td><td> 92.72048</td></tr>\n",
       "\t<tr><td>Amy </td><td>trained</td><td>Time3</td><td>Rainy</td><td> 81.02436</td></tr>\n",
       "\t<tr><td>Amy </td><td>trained</td><td>Time3</td><td>Sunny</td><td> 81.93572</td></tr>\n",
       "\t<tr><td>Jack</td><td>trained</td><td>Time1</td><td>Rainy</td><td> 82.75194</td></tr>\n",
       "\t<tr><td>Jack</td><td>trained</td><td>Time1</td><td>Sunny</td><td> 90.58728</td></tr>\n",
       "\t<tr><td>Jack</td><td>trained</td><td>Time2</td><td>Rainy</td><td> 76.85037</td></tr>\n",
       "\t<tr><td>Jack</td><td>trained</td><td>Time2</td><td>Sunny</td><td> 90.90198</td></tr>\n",
       "\t<tr><td>Jack</td><td>trained</td><td>Time3</td><td>Rainy</td><td> 86.65759</td></tr>\n",
       "\t<tr><td>Jack</td><td>trained</td><td>Time3</td><td>Sunny</td><td> 93.31203</td></tr>\n",
       "\t<tr><td>Ben </td><td>control</td><td>Time1</td><td>Rainy</td><td> 83.94712</td></tr>\n",
       "\t<tr><td>Ben </td><td>control</td><td>Time1</td><td>Sunny</td><td>106.59278</td></tr>\n",
       "\t<tr><td>Ben </td><td>control</td><td>Time2</td><td>Rainy</td><td> 89.49637</td></tr>\n",
       "\t<tr><td>Ben </td><td>control</td><td>Time2</td><td>Sunny</td><td> 76.81894</td></tr>\n",
       "\t<tr><td>Ben </td><td>control</td><td>Time3</td><td>Rainy</td><td> 72.23034</td></tr>\n",
       "\t<tr><td>Ben </td><td>control</td><td>Time3</td><td>Sunny</td><td> 78.01260</td></tr>\n",
       "</tbody>\n",
       "</table>\n"
      ],
      "text/latex": [
       "A data.frame: 18 × 5\n",
       "\\begin{tabular}{lllll}\n",
       " student & training\\_condition & time & weather & distance\\\\\n",
       " <fct> & <chr> & <chr> & <chr> & <dbl>\\\\\n",
       "\\hline\n",
       "\t Amy  & trained & Time1 & Rainy &  75.82715\\\\\n",
       "\t Amy  & trained & Time1 & Sunny &  85.93075\\\\\n",
       "\t Amy  & trained & Time2 & Rainy &  78.68313\\\\\n",
       "\t Amy  & trained & Time2 & Sunny &  92.72048\\\\\n",
       "\t Amy  & trained & Time3 & Rainy &  81.02436\\\\\n",
       "\t Amy  & trained & Time3 & Sunny &  81.93572\\\\\n",
       "\t Jack & trained & Time1 & Rainy &  82.75194\\\\\n",
       "\t Jack & trained & Time1 & Sunny &  90.58728\\\\\n",
       "\t Jack & trained & Time2 & Rainy &  76.85037\\\\\n",
       "\t Jack & trained & Time2 & Sunny &  90.90198\\\\\n",
       "\t Jack & trained & Time3 & Rainy &  86.65759\\\\\n",
       "\t Jack & trained & Time3 & Sunny &  93.31203\\\\\n",
       "\t Ben  & control & Time1 & Rainy &  83.94712\\\\\n",
       "\t Ben  & control & Time1 & Sunny & 106.59278\\\\\n",
       "\t Ben  & control & Time2 & Rainy &  89.49637\\\\\n",
       "\t Ben  & control & Time2 & Sunny &  76.81894\\\\\n",
       "\t Ben  & control & Time3 & Rainy &  72.23034\\\\\n",
       "\t Ben  & control & Time3 & Sunny &  78.01260\\\\\n",
       "\\end{tabular}\n"
      ],
      "text/markdown": [
       "\n",
       "A data.frame: 18 × 5\n",
       "\n",
       "| student &lt;fct&gt; | training_condition &lt;chr&gt; | time &lt;chr&gt; | weather &lt;chr&gt; | distance &lt;dbl&gt; |\n",
       "|---|---|---|---|---|\n",
       "| Amy  | trained | Time1 | Rainy |  75.82715 |\n",
       "| Amy  | trained | Time1 | Sunny |  85.93075 |\n",
       "| Amy  | trained | Time2 | Rainy |  78.68313 |\n",
       "| Amy  | trained | Time2 | Sunny |  92.72048 |\n",
       "| Amy  | trained | Time3 | Rainy |  81.02436 |\n",
       "| Amy  | trained | Time3 | Sunny |  81.93572 |\n",
       "| Jack | trained | Time1 | Rainy |  82.75194 |\n",
       "| Jack | trained | Time1 | Sunny |  90.58728 |\n",
       "| Jack | trained | Time2 | Rainy |  76.85037 |\n",
       "| Jack | trained | Time2 | Sunny |  90.90198 |\n",
       "| Jack | trained | Time3 | Rainy |  86.65759 |\n",
       "| Jack | trained | Time3 | Sunny |  93.31203 |\n",
       "| Ben  | control | Time1 | Rainy |  83.94712 |\n",
       "| Ben  | control | Time1 | Sunny | 106.59278 |\n",
       "| Ben  | control | Time2 | Rainy |  89.49637 |\n",
       "| Ben  | control | Time2 | Sunny |  76.81894 |\n",
       "| Ben  | control | Time3 | Rainy |  72.23034 |\n",
       "| Ben  | control | Time3 | Sunny |  78.01260 |\n",
       "\n"
      ],
      "text/plain": [
       "   student training_condition time  weather distance \n",
       "1  Amy     trained            Time1 Rainy    75.82715\n",
       "2  Amy     trained            Time1 Sunny    85.93075\n",
       "3  Amy     trained            Time2 Rainy    78.68313\n",
       "4  Amy     trained            Time2 Sunny    92.72048\n",
       "5  Amy     trained            Time3 Rainy    81.02436\n",
       "6  Amy     trained            Time3 Sunny    81.93572\n",
       "7  Jack    trained            Time1 Rainy    82.75194\n",
       "8  Jack    trained            Time1 Sunny    90.58728\n",
       "9  Jack    trained            Time2 Rainy    76.85037\n",
       "10 Jack    trained            Time2 Sunny    90.90198\n",
       "11 Jack    trained            Time3 Rainy    86.65759\n",
       "12 Jack    trained            Time3 Sunny    93.31203\n",
       "13 Ben     control            Time1 Rainy    83.94712\n",
       "14 Ben     control            Time1 Sunny   106.59278\n",
       "15 Ben     control            Time2 Rainy    89.49637\n",
       "16 Ben     control            Time2 Sunny    76.81894\n",
       "17 Ben     control            Time3 Rainy    72.23034\n",
       "18 Ben     control            Time3 Sunny    78.01260"
      ]
     },
     "metadata": {},
     "output_type": "display_data"
    }
   ],
   "source": [
    "long_data = separate(d1, gathered_names, into = c('time', 'weather'), sep = '_')\n",
    "arrange(long_data, student)"
   ]
  },
  {
   "cell_type": "markdown",
   "metadata": {},
   "source": [
    "## Joining\n",
    "\n",
    "The joining functions we'll be using come from a data library called `dplyr`.\n",
    "\n",
    "You'll often have multiple data frames containing information about the same observations. In order to analyze all the information relating to the observations, you'll need to join them together into one data frame. There are many different types of joining methods depending on how you want to join (mostly with how to handle mis matches). This image goes over a subset of some of the more common types:\n",
    "\n",
    "<img src='joins.png' height=40% width=40%>\n",
    "\n",
    "Today we'll look only at `inner_join`, where groups are fully represented across two data frames. \n",
    "\n",
    "Imagine that, in addition to the data frame we have above about Jack, Ben, and Amy, we also have for each of these students in a different data frame their middle school grade level:"
   ]
  },
  {
   "cell_type": "code",
   "execution_count": 12,
   "metadata": {},
   "outputs": [
    {
     "data": {
      "text/html": [
       "<table class=\"dataframe\">\n",
       "<caption>A data.frame: 3 × 2</caption>\n",
       "<thead>\n",
       "\t<tr><th scope=col>student</th><th scope=col>grade</th></tr>\n",
       "\t<tr><th scope=col>&lt;chr&gt;</th><th scope=col>&lt;chr&gt;</th></tr>\n",
       "</thead>\n",
       "<tbody>\n",
       "\t<tr><td>Amy </td><td>Sixth Grade </td></tr>\n",
       "\t<tr><td>Jack</td><td>Eighth Grade</td></tr>\n",
       "\t<tr><td>Ben </td><td>Eighth Grade</td></tr>\n",
       "</tbody>\n",
       "</table>\n"
      ],
      "text/latex": [
       "A data.frame: 3 × 2\n",
       "\\begin{tabular}{ll}\n",
       " student & grade\\\\\n",
       " <chr> & <chr>\\\\\n",
       "\\hline\n",
       "\t Amy  & Sixth Grade \\\\\n",
       "\t Jack & Eighth Grade\\\\\n",
       "\t Ben  & Eighth Grade\\\\\n",
       "\\end{tabular}\n"
      ],
      "text/markdown": [
       "\n",
       "A data.frame: 3 × 2\n",
       "\n",
       "| student &lt;chr&gt; | grade &lt;chr&gt; |\n",
       "|---|---|\n",
       "| Amy  | Sixth Grade  |\n",
       "| Jack | Eighth Grade |\n",
       "| Ben  | Eighth Grade |\n",
       "\n"
      ],
      "text/plain": [
       "  student grade       \n",
       "1 Amy     Sixth Grade \n",
       "2 Jack    Eighth Grade\n",
       "3 Ben     Eighth Grade"
      ]
     },
     "metadata": {},
     "output_type": "display_data"
    }
   ],
   "source": [
    "d_grade = data.frame(student = c('Amy', 'Jack', 'Ben'), grade = c('Sixth Grade', 'Eighth Grade', 'Eighth Grade'))\n",
    "d_grade"
   ]
  },
  {
   "cell_type": "markdown",
   "metadata": {},
   "source": [
    "In order to analyze a question like whether throwing distance depends on grade level, for example, I'll need all of this data in one data frame. To do that, we use `inner_join`:"
   ]
  },
  {
   "cell_type": "code",
   "execution_count": 13,
   "metadata": {},
   "outputs": [
    {
     "data": {
      "text/html": [
       "<table class=\"dataframe\">\n",
       "<caption>A data.frame: 18 × 6</caption>\n",
       "<thead>\n",
       "\t<tr><th scope=col>student</th><th scope=col>training_condition</th><th scope=col>time</th><th scope=col>weather</th><th scope=col>distance</th><th scope=col>grade</th></tr>\n",
       "\t<tr><th scope=col>&lt;chr&gt;</th><th scope=col>&lt;chr&gt;</th><th scope=col>&lt;chr&gt;</th><th scope=col>&lt;chr&gt;</th><th scope=col>&lt;dbl&gt;</th><th scope=col>&lt;chr&gt;</th></tr>\n",
       "</thead>\n",
       "<tbody>\n",
       "\t<tr><td>Amy </td><td>trained</td><td>Time1</td><td>Rainy</td><td> 75.82715</td><td>Sixth Grade </td></tr>\n",
       "\t<tr><td>Amy </td><td>trained</td><td>Time1</td><td>Sunny</td><td> 85.93075</td><td>Sixth Grade </td></tr>\n",
       "\t<tr><td>Amy </td><td>trained</td><td>Time2</td><td>Rainy</td><td> 78.68313</td><td>Sixth Grade </td></tr>\n",
       "\t<tr><td>Amy </td><td>trained</td><td>Time2</td><td>Sunny</td><td> 92.72048</td><td>Sixth Grade </td></tr>\n",
       "\t<tr><td>Amy </td><td>trained</td><td>Time3</td><td>Rainy</td><td> 81.02436</td><td>Sixth Grade </td></tr>\n",
       "\t<tr><td>Amy </td><td>trained</td><td>Time3</td><td>Sunny</td><td> 81.93572</td><td>Sixth Grade </td></tr>\n",
       "\t<tr><td>Ben </td><td>control</td><td>Time1</td><td>Rainy</td><td> 83.94712</td><td>Eighth Grade</td></tr>\n",
       "\t<tr><td>Ben </td><td>control</td><td>Time1</td><td>Sunny</td><td>106.59278</td><td>Eighth Grade</td></tr>\n",
       "\t<tr><td>Ben </td><td>control</td><td>Time2</td><td>Rainy</td><td> 89.49637</td><td>Eighth Grade</td></tr>\n",
       "\t<tr><td>Ben </td><td>control</td><td>Time2</td><td>Sunny</td><td> 76.81894</td><td>Eighth Grade</td></tr>\n",
       "\t<tr><td>Ben </td><td>control</td><td>Time3</td><td>Rainy</td><td> 72.23034</td><td>Eighth Grade</td></tr>\n",
       "\t<tr><td>Ben </td><td>control</td><td>Time3</td><td>Sunny</td><td> 78.01260</td><td>Eighth Grade</td></tr>\n",
       "\t<tr><td>Jack</td><td>trained</td><td>Time1</td><td>Rainy</td><td> 82.75194</td><td>Eighth Grade</td></tr>\n",
       "\t<tr><td>Jack</td><td>trained</td><td>Time1</td><td>Sunny</td><td> 90.58728</td><td>Eighth Grade</td></tr>\n",
       "\t<tr><td>Jack</td><td>trained</td><td>Time2</td><td>Rainy</td><td> 76.85037</td><td>Eighth Grade</td></tr>\n",
       "\t<tr><td>Jack</td><td>trained</td><td>Time2</td><td>Sunny</td><td> 90.90198</td><td>Eighth Grade</td></tr>\n",
       "\t<tr><td>Jack</td><td>trained</td><td>Time3</td><td>Rainy</td><td> 86.65759</td><td>Eighth Grade</td></tr>\n",
       "\t<tr><td>Jack</td><td>trained</td><td>Time3</td><td>Sunny</td><td> 93.31203</td><td>Eighth Grade</td></tr>\n",
       "</tbody>\n",
       "</table>\n"
      ],
      "text/latex": [
       "A data.frame: 18 × 6\n",
       "\\begin{tabular}{llllll}\n",
       " student & training\\_condition & time & weather & distance & grade\\\\\n",
       " <chr> & <chr> & <chr> & <chr> & <dbl> & <chr>\\\\\n",
       "\\hline\n",
       "\t Amy  & trained & Time1 & Rainy &  75.82715 & Sixth Grade \\\\\n",
       "\t Amy  & trained & Time1 & Sunny &  85.93075 & Sixth Grade \\\\\n",
       "\t Amy  & trained & Time2 & Rainy &  78.68313 & Sixth Grade \\\\\n",
       "\t Amy  & trained & Time2 & Sunny &  92.72048 & Sixth Grade \\\\\n",
       "\t Amy  & trained & Time3 & Rainy &  81.02436 & Sixth Grade \\\\\n",
       "\t Amy  & trained & Time3 & Sunny &  81.93572 & Sixth Grade \\\\\n",
       "\t Ben  & control & Time1 & Rainy &  83.94712 & Eighth Grade\\\\\n",
       "\t Ben  & control & Time1 & Sunny & 106.59278 & Eighth Grade\\\\\n",
       "\t Ben  & control & Time2 & Rainy &  89.49637 & Eighth Grade\\\\\n",
       "\t Ben  & control & Time2 & Sunny &  76.81894 & Eighth Grade\\\\\n",
       "\t Ben  & control & Time3 & Rainy &  72.23034 & Eighth Grade\\\\\n",
       "\t Ben  & control & Time3 & Sunny &  78.01260 & Eighth Grade\\\\\n",
       "\t Jack & trained & Time1 & Rainy &  82.75194 & Eighth Grade\\\\\n",
       "\t Jack & trained & Time1 & Sunny &  90.58728 & Eighth Grade\\\\\n",
       "\t Jack & trained & Time2 & Rainy &  76.85037 & Eighth Grade\\\\\n",
       "\t Jack & trained & Time2 & Sunny &  90.90198 & Eighth Grade\\\\\n",
       "\t Jack & trained & Time3 & Rainy &  86.65759 & Eighth Grade\\\\\n",
       "\t Jack & trained & Time3 & Sunny &  93.31203 & Eighth Grade\\\\\n",
       "\\end{tabular}\n"
      ],
      "text/markdown": [
       "\n",
       "A data.frame: 18 × 6\n",
       "\n",
       "| student &lt;chr&gt; | training_condition &lt;chr&gt; | time &lt;chr&gt; | weather &lt;chr&gt; | distance &lt;dbl&gt; | grade &lt;chr&gt; |\n",
       "|---|---|---|---|---|---|\n",
       "| Amy  | trained | Time1 | Rainy |  75.82715 | Sixth Grade  |\n",
       "| Amy  | trained | Time1 | Sunny |  85.93075 | Sixth Grade  |\n",
       "| Amy  | trained | Time2 | Rainy |  78.68313 | Sixth Grade  |\n",
       "| Amy  | trained | Time2 | Sunny |  92.72048 | Sixth Grade  |\n",
       "| Amy  | trained | Time3 | Rainy |  81.02436 | Sixth Grade  |\n",
       "| Amy  | trained | Time3 | Sunny |  81.93572 | Sixth Grade  |\n",
       "| Ben  | control | Time1 | Rainy |  83.94712 | Eighth Grade |\n",
       "| Ben  | control | Time1 | Sunny | 106.59278 | Eighth Grade |\n",
       "| Ben  | control | Time2 | Rainy |  89.49637 | Eighth Grade |\n",
       "| Ben  | control | Time2 | Sunny |  76.81894 | Eighth Grade |\n",
       "| Ben  | control | Time3 | Rainy |  72.23034 | Eighth Grade |\n",
       "| Ben  | control | Time3 | Sunny |  78.01260 | Eighth Grade |\n",
       "| Jack | trained | Time1 | Rainy |  82.75194 | Eighth Grade |\n",
       "| Jack | trained | Time1 | Sunny |  90.58728 | Eighth Grade |\n",
       "| Jack | trained | Time2 | Rainy |  76.85037 | Eighth Grade |\n",
       "| Jack | trained | Time2 | Sunny |  90.90198 | Eighth Grade |\n",
       "| Jack | trained | Time3 | Rainy |  86.65759 | Eighth Grade |\n",
       "| Jack | trained | Time3 | Sunny |  93.31203 | Eighth Grade |\n",
       "\n"
      ],
      "text/plain": [
       "   student training_condition time  weather distance  grade       \n",
       "1  Amy     trained            Time1 Rainy    75.82715 Sixth Grade \n",
       "2  Amy     trained            Time1 Sunny    85.93075 Sixth Grade \n",
       "3  Amy     trained            Time2 Rainy    78.68313 Sixth Grade \n",
       "4  Amy     trained            Time2 Sunny    92.72048 Sixth Grade \n",
       "5  Amy     trained            Time3 Rainy    81.02436 Sixth Grade \n",
       "6  Amy     trained            Time3 Sunny    81.93572 Sixth Grade \n",
       "7  Ben     control            Time1 Rainy    83.94712 Eighth Grade\n",
       "8  Ben     control            Time1 Sunny   106.59278 Eighth Grade\n",
       "9  Ben     control            Time2 Rainy    89.49637 Eighth Grade\n",
       "10 Ben     control            Time2 Sunny    76.81894 Eighth Grade\n",
       "11 Ben     control            Time3 Rainy    72.23034 Eighth Grade\n",
       "12 Ben     control            Time3 Sunny    78.01260 Eighth Grade\n",
       "13 Jack    trained            Time1 Rainy    82.75194 Eighth Grade\n",
       "14 Jack    trained            Time1 Sunny    90.58728 Eighth Grade\n",
       "15 Jack    trained            Time2 Rainy    76.85037 Eighth Grade\n",
       "16 Jack    trained            Time2 Sunny    90.90198 Eighth Grade\n",
       "17 Jack    trained            Time3 Rainy    86.65759 Eighth Grade\n",
       "18 Jack    trained            Time3 Sunny    93.31203 Eighth Grade"
      ]
     },
     "metadata": {},
     "output_type": "display_data"
    }
   ],
   "source": [
    "d = inner_join(long_data, d_grade, by = 'student')\n",
    "d = arrange(d, student)\n",
    "d"
   ]
  },
  {
   "cell_type": "markdown",
   "metadata": {},
   "source": [
    "We can see that grade level automatically matches up relative to each student in the longer data frame."
   ]
  },
  {
   "cell_type": "markdown",
   "metadata": {},
   "source": [
    "# Assignment\n",
    "\n",
    "For this assignment, you will perform many steps typically involved in a data analysis pipeline, culminating with summarizing, plotting, and reporting a result.\n",
    "\n",
    "We'll be working with a dataset about grades from 10,000 students over the course of a year. The data are stored in two csv files in the same directory as this notebook, titled `wide_grades.csv` and `special_program.csv`. In each quarter of the year (1-4) each student was in both a basic materials class and an advanced materials class. The number of days absent and the average grade were recorded for each quarter for each class type. The format of the columns in `wide_grades.csv` is as follows:\n",
    "\n",
    "`QuarterNumber_ClassType_Outcome`\n",
    "\n",
    "Where `Outcome` is either days absent or average grade.\n",
    "\n",
    "Some students were selected to be enrolled in a special program, where they were pulled out of class often to study at a more advanced level. Whether or not each student was enrolled in the special program is represented in the data from `special_program.csv`."
   ]
  },
  {
   "cell_type": "markdown",
   "metadata": {},
   "source": [
    "**Step 0:**  \n",
    "Load in the following pacakges:\n",
    "\n",
    "```\n",
    "library(plyr)\n",
    "library(dplyr)\n",
    "library(tidyr)\n",
    "library(ggplot2)\n",
    "```\n",
    "\n",
    "*If you get a big pink message saying, \"You have loaded plyr after dplyr - this is likely to cause problems.\", restart your kernel and then import these libraries. You might get other big pink messages, but these are usually fine.*\n",
    "\n",
    "*Hint: You can get more info on the functions included in tidyr and dplyr [here](https://www.rstudio.com/wp-content/uploads/2015/02/data-wrangling-cheatsheet.pdf).*\n",
    "\n",
    "**Step 1:**  \n",
    "Read in the data and store the data in two different data frames.  \n",
    "\n",
    "\n",
    "**Step 2:**  \n",
    "Look at the first few rows and summary statistics in the main data frame (the one with the grades and days absent).  \n",
    "\n",
    "**Step 3:**  \n",
    "Convert this wide dataset to long data. \n",
    "\n",
    "*Remember*: long data should have the following three properties  \n",
    "\n",
    "1. Every column is a variable.  \n",
    "2. Every row is an observation.  \n",
    "3. Every cell is a single value.\n",
    "\n",
    "*Hint 1*: You can do this using the following three functions: `gather`, `spread`, and `separate`.  \n",
    "*Hint 2*: You can select multiple columns with the colon notation (eg, Column1:Column13).  \n",
    "*Hint 3*: Try to imagine what the long data format will look like before you begin. What will each column and row represent?  \n",
    "*Hint 4*: If you're struggling with Hint 3, I put a sample of what this long data might look like in `long_preview.png` in the same directory as this notebook.  \n",
    "\n",
    "\n",
    "**Step 4:**  \n",
    "We will want to analyze the trend between number of days absent and average grade. Because the students enrolled in the special program are missing class for systematic reasons that are different from why other students are missing class, we'll want to remove from the analysis all students enrolled in the special program.  \n",
    "\n",
    "Join the data frame storing whether students are enrolled in the special program with the data frame storing average grades.  \n",
    "\n",
    "\n",
    "**Step 5:**  \n",
    "Drop all students who are enrolled in the special program from the data frame.  \n",
    "\n",
    "\n",
    "**Step 6:**  \n",
    "Use a custom summarization function and the `ddply` function to calculate the sum of days absent and the average grade for each student (see Lab 06). *Note: there are $10,000$ students in the dataset, so I wouldn't print the entire output of this summarization to the screen.*\n",
    "\n",
    "\n",
    "**Step 7:**  \n",
    "Use the `ggplot` syntax to make a scatter plot showing the relationship between number of days absent (x-axis) and grade (y-axis). \n",
    "\n",
    "\n",
    "**Step 8:**  \n",
    "What can you infer about the relationship between days absent and average grades based on the plot?"
   ]
  }
 ],
 "metadata": {
  "kernelspec": {
   "display_name": "R",
   "language": "R",
   "name": "ir"
  },
  "language_info": {
   "codemirror_mode": "r",
   "file_extension": ".r",
   "mimetype": "text/x-r-source",
   "name": "R",
   "pygments_lexer": "r",
   "version": "4.0.2"
  }
 },
 "nbformat": 4,
 "nbformat_minor": 4
}
