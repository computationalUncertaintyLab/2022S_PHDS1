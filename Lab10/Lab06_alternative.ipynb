{
 "cells": [
  {
   "cell_type": "markdown",
   "id": "158ca18d",
   "metadata": {},
   "source": [
    "# Tidyverse and Data Reshaping\n",
    "\n",
    "The [tidyverse](https://www.tidyverse.org/) is a collection of code libraries in R where the libraries share an underlying design philosophy, grammar, and data structures. Conducting an analysis within the 'tidyverse' of code libraries can make the analysis process seamless and smooth, as long as you understand a bit of the underlying philosophy that makes it all work together.  \n",
    "\n",
    "<img src='hex.jpg' height = 35%, width=35%>\n",
    "\n",
    "One analogy for the shared philosophy underlying all the code libraries is like how many countries in the world have their own currency. In the US, for example, as long as you have dollars, you can go from store to store purchasing all kinds of things without any problem. But if you take a trip to Europe and try to use dollars, you won't get very far.  \n",
    "\n",
    "In the same way, as long as your data is represented in a particular way, you'll cruise through different functions in the tidyverse with no problem. But if your data is in the wrong format, all kinds of problems will come your way.  \n",
    "\n",
    "We'll first go over some of the basic language of the tidyverse and introduce some of the basic functions. Then\n",
    "we'll talk about making sure your data is in the right shape so that going between all these functions is seamless."
   ]
  },
  {
   "cell_type": "markdown",
   "id": "5735f088",
   "metadata": {},
   "source": [
    "## Tidyverse Functions\n",
    "\n",
    "The first step to using functions in the tidyverse is to import the tidyverse: `library(tidyverse)`. Tidyverse is kind of like a meta package---it's a package that contains many packages of code. So, by importing tidyverse, we automatically import libraries like `ggplot2`.\n",
    "\n",
    "Within the tidyverse there are many different functions that are useful for all different stages of an analysis. Below are some of the most common ones (note: these functions all happen to come from the `dplyr` package):  \n",
    "\n",
    "   * `filter()`: Used to subset a data frame, retaining all rows that satisfy your conditions.  \n",
    "   * `select()`: Select (and optionally rename) variables in a data frame, using a concise mini-language that makes it easy to refer to variables based on their name.\n",
    "   * `mutate()`: Adds new variables and preserves existing ones  \n",
    "   * `group_by()`: Takes an existing data.frame and converts it into a grouped data.frame where operations are performed \"by group\".  \n",
    "   * `summarize()`: Creates a new data frame. It will have one (or more) rows for each combination of grouping variables; if there are no grouping variables, the output will have a single row summarising all observations in the input. It will contain one column for each grouping variable and one column for each of the summary statistics that you have specified."
   ]
  },
  {
   "cell_type": "markdown",
   "id": "7ffaa0d9",
   "metadata": {},
   "source": [
    "### Read in data"
   ]
  },
  {
   "cell_type": "code",
   "execution_count": 38,
   "id": "8f5c3e94",
   "metadata": {},
   "outputs": [
    {
     "data": {
      "text/html": [
       "<table class=\"dataframe\">\n",
       "<caption>A data.frame: 6 × 4</caption>\n",
       "<thead>\n",
       "\t<tr><th></th><th scope=col>patient</th><th scope=col>condition</th><th scope=col>visit_number</th><th scope=col>num_days_sick</th></tr>\n",
       "\t<tr><th></th><th scope=col>&lt;int&gt;</th><th scope=col>&lt;fct&gt;</th><th scope=col>&lt;fct&gt;</th><th scope=col>&lt;int&gt;</th></tr>\n",
       "</thead>\n",
       "<tbody>\n",
       "\t<tr><th scope=row>1</th><td>1</td><td>treatment</td><td>Visit 1</td><td>65</td></tr>\n",
       "\t<tr><th scope=row>2</th><td>2</td><td>treatment</td><td>Visit 1</td><td> 0</td></tr>\n",
       "\t<tr><th scope=row>3</th><td>3</td><td>treatment</td><td>Visit 1</td><td>34</td></tr>\n",
       "\t<tr><th scope=row>4</th><td>4</td><td>treatment</td><td>Visit 1</td><td>33</td></tr>\n",
       "\t<tr><th scope=row>5</th><td>5</td><td>treatment</td><td>Visit 1</td><td>10</td></tr>\n",
       "\t<tr><th scope=row>6</th><td>6</td><td>treatment</td><td>Visit 1</td><td>39</td></tr>\n",
       "</tbody>\n",
       "</table>\n"
      ],
      "text/latex": [
       "A data.frame: 6 × 4\n",
       "\\begin{tabular}{r|llll}\n",
       "  & patient & condition & visit\\_number & num\\_days\\_sick\\\\\n",
       "  & <int> & <fct> & <fct> & <int>\\\\\n",
       "\\hline\n",
       "\t1 & 1 & treatment & Visit 1 & 65\\\\\n",
       "\t2 & 2 & treatment & Visit 1 &  0\\\\\n",
       "\t3 & 3 & treatment & Visit 1 & 34\\\\\n",
       "\t4 & 4 & treatment & Visit 1 & 33\\\\\n",
       "\t5 & 5 & treatment & Visit 1 & 10\\\\\n",
       "\t6 & 6 & treatment & Visit 1 & 39\\\\\n",
       "\\end{tabular}\n"
      ],
      "text/markdown": [
       "\n",
       "A data.frame: 6 × 4\n",
       "\n",
       "| <!--/--> | patient &lt;int&gt; | condition &lt;fct&gt; | visit_number &lt;fct&gt; | num_days_sick &lt;int&gt; |\n",
       "|---|---|---|---|---|\n",
       "| 1 | 1 | treatment | Visit 1 | 65 |\n",
       "| 2 | 2 | treatment | Visit 1 |  0 |\n",
       "| 3 | 3 | treatment | Visit 1 | 34 |\n",
       "| 4 | 4 | treatment | Visit 1 | 33 |\n",
       "| 5 | 5 | treatment | Visit 1 | 10 |\n",
       "| 6 | 6 | treatment | Visit 1 | 39 |\n",
       "\n"
      ],
      "text/plain": [
       "  patient condition visit_number num_days_sick\n",
       "1 1       treatment Visit 1      65           \n",
       "2 2       treatment Visit 1       0           \n",
       "3 3       treatment Visit 1      34           \n",
       "4 4       treatment Visit 1      33           \n",
       "5 5       treatment Visit 1      10           \n",
       "6 6       treatment Visit 1      39           "
      ]
     },
     "metadata": {},
     "output_type": "display_data"
    },
    {
     "data": {
      "text/plain": [
       "    patient           condition     visit_number  num_days_sick   \n",
       " Min.   :   1.0   control  :3000   Visit 1:2000   Min.   :  0.00  \n",
       " 1st Qu.: 250.8   treatment:3000   Visit 2:2000   1st Qu.:  0.00  \n",
       " Median : 500.5                    Visit 3:2000   Median : 23.00  \n",
       " Mean   : 500.5                                   Mean   : 29.53  \n",
       " 3rd Qu.: 750.2                                   3rd Qu.: 49.00  \n",
       " Max.   :1000.0                                   Max.   :140.00  "
      ]
     },
     "metadata": {},
     "output_type": "display_data"
    }
   ],
   "source": [
    "d <- read.csv('days_sick_long.csv')\n",
    "head(d)\n",
    "summary(d)"
   ]
  },
  {
   "cell_type": "markdown",
   "id": "d66330d6",
   "metadata": {},
   "source": [
    "### Use tidyverse functions\n",
    "\n",
    "**Filter**  \n",
    "\n",
    "Let's say I want to filter this dataset to keep only those patients who were in the control condition. By now you know how to do it without tidyverse functions (also called the 'base R' way), but let's try doing it with the `filter()` function."
   ]
  },
  {
   "cell_type": "code",
   "execution_count": 46,
   "id": "e9ab6422",
   "metadata": {},
   "outputs": [
    {
     "data": {
      "text/html": [
       "<table class=\"dataframe\">\n",
       "<caption>A data.frame: 6 × 4</caption>\n",
       "<thead>\n",
       "\t<tr><th></th><th scope=col>patient</th><th scope=col>condition</th><th scope=col>visit_number</th><th scope=col>num_days_sick</th></tr>\n",
       "\t<tr><th></th><th scope=col>&lt;int&gt;</th><th scope=col>&lt;fct&gt;</th><th scope=col>&lt;fct&gt;</th><th scope=col>&lt;int&gt;</th></tr>\n",
       "</thead>\n",
       "<tbody>\n",
       "\t<tr><th scope=row>1001</th><td>1</td><td>control</td><td>Visit 1</td><td>14</td></tr>\n",
       "\t<tr><th scope=row>1002</th><td>2</td><td>control</td><td>Visit 1</td><td>47</td></tr>\n",
       "\t<tr><th scope=row>1003</th><td>3</td><td>control</td><td>Visit 1</td><td> 0</td></tr>\n",
       "\t<tr><th scope=row>1004</th><td>4</td><td>control</td><td>Visit 1</td><td>67</td></tr>\n",
       "\t<tr><th scope=row>1005</th><td>5</td><td>control</td><td>Visit 1</td><td>53</td></tr>\n",
       "\t<tr><th scope=row>1006</th><td>6</td><td>control</td><td>Visit 1</td><td>63</td></tr>\n",
       "</tbody>\n",
       "</table>\n"
      ],
      "text/latex": [
       "A data.frame: 6 × 4\n",
       "\\begin{tabular}{r|llll}\n",
       "  & patient & condition & visit\\_number & num\\_days\\_sick\\\\\n",
       "  & <int> & <fct> & <fct> & <int>\\\\\n",
       "\\hline\n",
       "\t1001 & 1 & control & Visit 1 & 14\\\\\n",
       "\t1002 & 2 & control & Visit 1 & 47\\\\\n",
       "\t1003 & 3 & control & Visit 1 &  0\\\\\n",
       "\t1004 & 4 & control & Visit 1 & 67\\\\\n",
       "\t1005 & 5 & control & Visit 1 & 53\\\\\n",
       "\t1006 & 6 & control & Visit 1 & 63\\\\\n",
       "\\end{tabular}\n"
      ],
      "text/markdown": [
       "\n",
       "A data.frame: 6 × 4\n",
       "\n",
       "| <!--/--> | patient &lt;int&gt; | condition &lt;fct&gt; | visit_number &lt;fct&gt; | num_days_sick &lt;int&gt; |\n",
       "|---|---|---|---|---|\n",
       "| 1001 | 1 | control | Visit 1 | 14 |\n",
       "| 1002 | 2 | control | Visit 1 | 47 |\n",
       "| 1003 | 3 | control | Visit 1 |  0 |\n",
       "| 1004 | 4 | control | Visit 1 | 67 |\n",
       "| 1005 | 5 | control | Visit 1 | 53 |\n",
       "| 1006 | 6 | control | Visit 1 | 63 |\n",
       "\n"
      ],
      "text/plain": [
       "     patient condition visit_number num_days_sick\n",
       "1001 1       control   Visit 1      14           \n",
       "1002 2       control   Visit 1      47           \n",
       "1003 3       control   Visit 1       0           \n",
       "1004 4       control   Visit 1      67           \n",
       "1005 5       control   Visit 1      53           \n",
       "1006 6       control   Visit 1      63           "
      ]
     },
     "metadata": {},
     "output_type": "display_data"
    }
   ],
   "source": [
    "## base r way\n",
    "new_d = d[d$condition=='control',]\n",
    "head(new_d)"
   ]
  },
  {
   "cell_type": "code",
   "execution_count": 41,
   "id": "5b4bd3c9",
   "metadata": {},
   "outputs": [
    {
     "data": {
      "text/html": [
       "<table class=\"dataframe\">\n",
       "<caption>A data.frame: 6 × 4</caption>\n",
       "<thead>\n",
       "\t<tr><th></th><th scope=col>patient</th><th scope=col>condition</th><th scope=col>visit_number</th><th scope=col>num_days_sick</th></tr>\n",
       "\t<tr><th></th><th scope=col>&lt;int&gt;</th><th scope=col>&lt;fct&gt;</th><th scope=col>&lt;fct&gt;</th><th scope=col>&lt;int&gt;</th></tr>\n",
       "</thead>\n",
       "<tbody>\n",
       "\t<tr><th scope=row>1</th><td>1</td><td>control</td><td>Visit 1</td><td>14</td></tr>\n",
       "\t<tr><th scope=row>2</th><td>2</td><td>control</td><td>Visit 1</td><td>47</td></tr>\n",
       "\t<tr><th scope=row>3</th><td>3</td><td>control</td><td>Visit 1</td><td> 0</td></tr>\n",
       "\t<tr><th scope=row>4</th><td>4</td><td>control</td><td>Visit 1</td><td>67</td></tr>\n",
       "\t<tr><th scope=row>5</th><td>5</td><td>control</td><td>Visit 1</td><td>53</td></tr>\n",
       "\t<tr><th scope=row>6</th><td>6</td><td>control</td><td>Visit 1</td><td>63</td></tr>\n",
       "</tbody>\n",
       "</table>\n"
      ],
      "text/latex": [
       "A data.frame: 6 × 4\n",
       "\\begin{tabular}{r|llll}\n",
       "  & patient & condition & visit\\_number & num\\_days\\_sick\\\\\n",
       "  & <int> & <fct> & <fct> & <int>\\\\\n",
       "\\hline\n",
       "\t1 & 1 & control & Visit 1 & 14\\\\\n",
       "\t2 & 2 & control & Visit 1 & 47\\\\\n",
       "\t3 & 3 & control & Visit 1 &  0\\\\\n",
       "\t4 & 4 & control & Visit 1 & 67\\\\\n",
       "\t5 & 5 & control & Visit 1 & 53\\\\\n",
       "\t6 & 6 & control & Visit 1 & 63\\\\\n",
       "\\end{tabular}\n"
      ],
      "text/markdown": [
       "\n",
       "A data.frame: 6 × 4\n",
       "\n",
       "| <!--/--> | patient &lt;int&gt; | condition &lt;fct&gt; | visit_number &lt;fct&gt; | num_days_sick &lt;int&gt; |\n",
       "|---|---|---|---|---|\n",
       "| 1 | 1 | control | Visit 1 | 14 |\n",
       "| 2 | 2 | control | Visit 1 | 47 |\n",
       "| 3 | 3 | control | Visit 1 |  0 |\n",
       "| 4 | 4 | control | Visit 1 | 67 |\n",
       "| 5 | 5 | control | Visit 1 | 53 |\n",
       "| 6 | 6 | control | Visit 1 | 63 |\n",
       "\n"
      ],
      "text/plain": [
       "  patient condition visit_number num_days_sick\n",
       "1 1       control   Visit 1      14           \n",
       "2 2       control   Visit 1      47           \n",
       "3 3       control   Visit 1       0           \n",
       "4 4       control   Visit 1      67           \n",
       "5 5       control   Visit 1      53           \n",
       "6 6       control   Visit 1      63           "
      ]
     },
     "metadata": {},
     "output_type": "display_data"
    }
   ],
   "source": [
    "## tidyverse way\n",
    "new_d = filter(d, condition == 'control')\n",
    "head(new_d)"
   ]
  },
  {
   "cell_type": "markdown",
   "id": "82ef9788",
   "metadata": {},
   "source": [
    "One advantage to using the tidyverse functions is that it makes your code much more *readable*. Quickly looking at the two code blocks above, the word `filter` makes it immediately obvious what's going on in that operation. The same is not true for `d$condition=='control'`. This difference in clarity becomes more extreme as the operations get more complex."
   ]
  },
  {
   "cell_type": "markdown",
   "id": "d5520614",
   "metadata": {},
   "source": [
    "**Select** \n",
    "\n",
    "The `select` function is very handing for keeping or dropping columns. Let's say I only want to have a dataset with columns `patient` and `condition`:"
   ]
  },
  {
   "cell_type": "code",
   "execution_count": 42,
   "id": "0c6a33ca",
   "metadata": {},
   "outputs": [
    {
     "data": {
      "text/html": [
       "<table class=\"dataframe\">\n",
       "<caption>A data.frame: 6 × 2</caption>\n",
       "<thead>\n",
       "\t<tr><th></th><th scope=col>patient</th><th scope=col>condition</th></tr>\n",
       "\t<tr><th></th><th scope=col>&lt;int&gt;</th><th scope=col>&lt;fct&gt;</th></tr>\n",
       "</thead>\n",
       "<tbody>\n",
       "\t<tr><th scope=row>1</th><td>1</td><td>treatment</td></tr>\n",
       "\t<tr><th scope=row>2</th><td>2</td><td>treatment</td></tr>\n",
       "\t<tr><th scope=row>3</th><td>3</td><td>treatment</td></tr>\n",
       "\t<tr><th scope=row>4</th><td>4</td><td>treatment</td></tr>\n",
       "\t<tr><th scope=row>5</th><td>5</td><td>treatment</td></tr>\n",
       "\t<tr><th scope=row>6</th><td>6</td><td>treatment</td></tr>\n",
       "</tbody>\n",
       "</table>\n"
      ],
      "text/latex": [
       "A data.frame: 6 × 2\n",
       "\\begin{tabular}{r|ll}\n",
       "  & patient & condition\\\\\n",
       "  & <int> & <fct>\\\\\n",
       "\\hline\n",
       "\t1 & 1 & treatment\\\\\n",
       "\t2 & 2 & treatment\\\\\n",
       "\t3 & 3 & treatment\\\\\n",
       "\t4 & 4 & treatment\\\\\n",
       "\t5 & 5 & treatment\\\\\n",
       "\t6 & 6 & treatment\\\\\n",
       "\\end{tabular}\n"
      ],
      "text/markdown": [
       "\n",
       "A data.frame: 6 × 2\n",
       "\n",
       "| <!--/--> | patient &lt;int&gt; | condition &lt;fct&gt; |\n",
       "|---|---|---|\n",
       "| 1 | 1 | treatment |\n",
       "| 2 | 2 | treatment |\n",
       "| 3 | 3 | treatment |\n",
       "| 4 | 4 | treatment |\n",
       "| 5 | 5 | treatment |\n",
       "| 6 | 6 | treatment |\n",
       "\n"
      ],
      "text/plain": [
       "  patient condition\n",
       "1 1       treatment\n",
       "2 2       treatment\n",
       "3 3       treatment\n",
       "4 4       treatment\n",
       "5 5       treatment\n",
       "6 6       treatment"
      ]
     },
     "metadata": {},
     "output_type": "display_data"
    }
   ],
   "source": [
    "new_d = select(d, patient, condition)\n",
    "head(new_d)"
   ]
  },
  {
   "cell_type": "markdown",
   "id": "fb7b418b",
   "metadata": {},
   "source": [
    "Or maybe I want to keep the first three columns. The `select` function supports handy selecting syntax, like:"
   ]
  },
  {
   "cell_type": "code",
   "execution_count": 43,
   "id": "f7cd7a8e",
   "metadata": {},
   "outputs": [
    {
     "data": {
      "text/html": [
       "<table class=\"dataframe\">\n",
       "<caption>A data.frame: 6 × 3</caption>\n",
       "<thead>\n",
       "\t<tr><th></th><th scope=col>patient</th><th scope=col>condition</th><th scope=col>visit_number</th></tr>\n",
       "\t<tr><th></th><th scope=col>&lt;int&gt;</th><th scope=col>&lt;fct&gt;</th><th scope=col>&lt;fct&gt;</th></tr>\n",
       "</thead>\n",
       "<tbody>\n",
       "\t<tr><th scope=row>1</th><td>1</td><td>treatment</td><td>Visit 1</td></tr>\n",
       "\t<tr><th scope=row>2</th><td>2</td><td>treatment</td><td>Visit 1</td></tr>\n",
       "\t<tr><th scope=row>3</th><td>3</td><td>treatment</td><td>Visit 1</td></tr>\n",
       "\t<tr><th scope=row>4</th><td>4</td><td>treatment</td><td>Visit 1</td></tr>\n",
       "\t<tr><th scope=row>5</th><td>5</td><td>treatment</td><td>Visit 1</td></tr>\n",
       "\t<tr><th scope=row>6</th><td>6</td><td>treatment</td><td>Visit 1</td></tr>\n",
       "</tbody>\n",
       "</table>\n"
      ],
      "text/latex": [
       "A data.frame: 6 × 3\n",
       "\\begin{tabular}{r|lll}\n",
       "  & patient & condition & visit\\_number\\\\\n",
       "  & <int> & <fct> & <fct>\\\\\n",
       "\\hline\n",
       "\t1 & 1 & treatment & Visit 1\\\\\n",
       "\t2 & 2 & treatment & Visit 1\\\\\n",
       "\t3 & 3 & treatment & Visit 1\\\\\n",
       "\t4 & 4 & treatment & Visit 1\\\\\n",
       "\t5 & 5 & treatment & Visit 1\\\\\n",
       "\t6 & 6 & treatment & Visit 1\\\\\n",
       "\\end{tabular}\n"
      ],
      "text/markdown": [
       "\n",
       "A data.frame: 6 × 3\n",
       "\n",
       "| <!--/--> | patient &lt;int&gt; | condition &lt;fct&gt; | visit_number &lt;fct&gt; |\n",
       "|---|---|---|---|\n",
       "| 1 | 1 | treatment | Visit 1 |\n",
       "| 2 | 2 | treatment | Visit 1 |\n",
       "| 3 | 3 | treatment | Visit 1 |\n",
       "| 4 | 4 | treatment | Visit 1 |\n",
       "| 5 | 5 | treatment | Visit 1 |\n",
       "| 6 | 6 | treatment | Visit 1 |\n",
       "\n"
      ],
      "text/plain": [
       "  patient condition visit_number\n",
       "1 1       treatment Visit 1     \n",
       "2 2       treatment Visit 1     \n",
       "3 3       treatment Visit 1     \n",
       "4 4       treatment Visit 1     \n",
       "5 5       treatment Visit 1     \n",
       "6 6       treatment Visit 1     "
      ]
     },
     "metadata": {},
     "output_type": "display_data"
    }
   ],
   "source": [
    "new_d = select(d, patient:visit_number)\n",
    "head(new_d)"
   ]
  },
  {
   "cell_type": "markdown",
   "id": "6361103c",
   "metadata": {},
   "source": [
    "It's also easy to drop columns that we don't need. Let's say I want to drop the `condition` variable using the `-` operator:"
   ]
  },
  {
   "cell_type": "code",
   "execution_count": 44,
   "id": "0b382dd0",
   "metadata": {},
   "outputs": [
    {
     "data": {
      "text/html": [
       "<table class=\"dataframe\">\n",
       "<caption>A data.frame: 6 × 3</caption>\n",
       "<thead>\n",
       "\t<tr><th></th><th scope=col>patient</th><th scope=col>visit_number</th><th scope=col>num_days_sick</th></tr>\n",
       "\t<tr><th></th><th scope=col>&lt;int&gt;</th><th scope=col>&lt;fct&gt;</th><th scope=col>&lt;int&gt;</th></tr>\n",
       "</thead>\n",
       "<tbody>\n",
       "\t<tr><th scope=row>1</th><td>1</td><td>Visit 1</td><td>65</td></tr>\n",
       "\t<tr><th scope=row>2</th><td>2</td><td>Visit 1</td><td> 0</td></tr>\n",
       "\t<tr><th scope=row>3</th><td>3</td><td>Visit 1</td><td>34</td></tr>\n",
       "\t<tr><th scope=row>4</th><td>4</td><td>Visit 1</td><td>33</td></tr>\n",
       "\t<tr><th scope=row>5</th><td>5</td><td>Visit 1</td><td>10</td></tr>\n",
       "\t<tr><th scope=row>6</th><td>6</td><td>Visit 1</td><td>39</td></tr>\n",
       "</tbody>\n",
       "</table>\n"
      ],
      "text/latex": [
       "A data.frame: 6 × 3\n",
       "\\begin{tabular}{r|lll}\n",
       "  & patient & visit\\_number & num\\_days\\_sick\\\\\n",
       "  & <int> & <fct> & <int>\\\\\n",
       "\\hline\n",
       "\t1 & 1 & Visit 1 & 65\\\\\n",
       "\t2 & 2 & Visit 1 &  0\\\\\n",
       "\t3 & 3 & Visit 1 & 34\\\\\n",
       "\t4 & 4 & Visit 1 & 33\\\\\n",
       "\t5 & 5 & Visit 1 & 10\\\\\n",
       "\t6 & 6 & Visit 1 & 39\\\\\n",
       "\\end{tabular}\n"
      ],
      "text/markdown": [
       "\n",
       "A data.frame: 6 × 3\n",
       "\n",
       "| <!--/--> | patient &lt;int&gt; | visit_number &lt;fct&gt; | num_days_sick &lt;int&gt; |\n",
       "|---|---|---|---|\n",
       "| 1 | 1 | Visit 1 | 65 |\n",
       "| 2 | 2 | Visit 1 |  0 |\n",
       "| 3 | 3 | Visit 1 | 34 |\n",
       "| 4 | 4 | Visit 1 | 33 |\n",
       "| 5 | 5 | Visit 1 | 10 |\n",
       "| 6 | 6 | Visit 1 | 39 |\n",
       "\n"
      ],
      "text/plain": [
       "  patient visit_number num_days_sick\n",
       "1 1       Visit 1      65           \n",
       "2 2       Visit 1       0           \n",
       "3 3       Visit 1      34           \n",
       "4 4       Visit 1      33           \n",
       "5 5       Visit 1      10           \n",
       "6 6       Visit 1      39           "
      ]
     },
     "metadata": {},
     "output_type": "display_data"
    }
   ],
   "source": [
    "new_d = select(d, -condition)\n",
    "head(new_d)"
   ]
  },
  {
   "cell_type": "markdown",
   "id": "ef315f78",
   "metadata": {},
   "source": [
    "**Mutate and ifelse**  \n",
    "Let's look at creating new columns and add in some conditionality. First, the `mutate()` function is an easy way to create a new column. Let's say I want to add a new column to the data that takes `num_days_sick` and adds on five days for each visit for each patient:"
   ]
  },
  {
   "cell_type": "code",
   "execution_count": 45,
   "id": "4fe7034f",
   "metadata": {},
   "outputs": [
    {
     "data": {
      "text/html": [
       "<table class=\"dataframe\">\n",
       "<caption>A data.frame: 6 × 5</caption>\n",
       "<thead>\n",
       "\t<tr><th></th><th scope=col>patient</th><th scope=col>condition</th><th scope=col>visit_number</th><th scope=col>num_days_sick</th><th scope=col>num_days_sick_five</th></tr>\n",
       "\t<tr><th></th><th scope=col>&lt;int&gt;</th><th scope=col>&lt;fct&gt;</th><th scope=col>&lt;fct&gt;</th><th scope=col>&lt;int&gt;</th><th scope=col>&lt;dbl&gt;</th></tr>\n",
       "</thead>\n",
       "<tbody>\n",
       "\t<tr><th scope=row>1</th><td>1</td><td>treatment</td><td>Visit 1</td><td>65</td><td>70</td></tr>\n",
       "\t<tr><th scope=row>2</th><td>2</td><td>treatment</td><td>Visit 1</td><td> 0</td><td> 5</td></tr>\n",
       "\t<tr><th scope=row>3</th><td>3</td><td>treatment</td><td>Visit 1</td><td>34</td><td>39</td></tr>\n",
       "\t<tr><th scope=row>4</th><td>4</td><td>treatment</td><td>Visit 1</td><td>33</td><td>38</td></tr>\n",
       "\t<tr><th scope=row>5</th><td>5</td><td>treatment</td><td>Visit 1</td><td>10</td><td>15</td></tr>\n",
       "\t<tr><th scope=row>6</th><td>6</td><td>treatment</td><td>Visit 1</td><td>39</td><td>44</td></tr>\n",
       "</tbody>\n",
       "</table>\n"
      ],
      "text/latex": [
       "A data.frame: 6 × 5\n",
       "\\begin{tabular}{r|lllll}\n",
       "  & patient & condition & visit\\_number & num\\_days\\_sick & num\\_days\\_sick\\_five\\\\\n",
       "  & <int> & <fct> & <fct> & <int> & <dbl>\\\\\n",
       "\\hline\n",
       "\t1 & 1 & treatment & Visit 1 & 65 & 70\\\\\n",
       "\t2 & 2 & treatment & Visit 1 &  0 &  5\\\\\n",
       "\t3 & 3 & treatment & Visit 1 & 34 & 39\\\\\n",
       "\t4 & 4 & treatment & Visit 1 & 33 & 38\\\\\n",
       "\t5 & 5 & treatment & Visit 1 & 10 & 15\\\\\n",
       "\t6 & 6 & treatment & Visit 1 & 39 & 44\\\\\n",
       "\\end{tabular}\n"
      ],
      "text/markdown": [
       "\n",
       "A data.frame: 6 × 5\n",
       "\n",
       "| <!--/--> | patient &lt;int&gt; | condition &lt;fct&gt; | visit_number &lt;fct&gt; | num_days_sick &lt;int&gt; | num_days_sick_five &lt;dbl&gt; |\n",
       "|---|---|---|---|---|---|\n",
       "| 1 | 1 | treatment | Visit 1 | 65 | 70 |\n",
       "| 2 | 2 | treatment | Visit 1 |  0 |  5 |\n",
       "| 3 | 3 | treatment | Visit 1 | 34 | 39 |\n",
       "| 4 | 4 | treatment | Visit 1 | 33 | 38 |\n",
       "| 5 | 5 | treatment | Visit 1 | 10 | 15 |\n",
       "| 6 | 6 | treatment | Visit 1 | 39 | 44 |\n",
       "\n"
      ],
      "text/plain": [
       "  patient condition visit_number num_days_sick num_days_sick_five\n",
       "1 1       treatment Visit 1      65            70                \n",
       "2 2       treatment Visit 1       0             5                \n",
       "3 3       treatment Visit 1      34            39                \n",
       "4 4       treatment Visit 1      33            38                \n",
       "5 5       treatment Visit 1      10            15                \n",
       "6 6       treatment Visit 1      39            44                "
      ]
     },
     "metadata": {},
     "output_type": "display_data"
    }
   ],
   "source": [
    "new_d = mutate(d, num_days_sick_five = num_days_sick + 5)\n",
    "head(new_d)"
   ]
  },
  {
   "cell_type": "markdown",
   "id": "87117dd0",
   "metadata": {},
   "source": [
    "I specify the name I want to call the new column, then equals then the operation. Note I don't need to use quotes for any of that.  \n",
    "\n",
    "Let's look at a more practical example. Let's say I want to create a new variable that assigns the value 'high' to a patient at a given visit if that patient's number of days sick is greater than the average of all number of days sick in the dataset, and assign to it a value of 'low' otherwise.  \n",
    "\n",
    "For this we'll use the `ifelse` function. The first argument to `ifelse` is a logical expression, the next argument is the value to return if the first argument is true, the third argument is what gets returned if the first argument is false. `ifelse` is powerful because it can be *vectorized*, which means it can be applied to an entire logical vector and return a vector of values equal in length to the logical vector. Let's look at a small example:"
   ]
  },
  {
   "cell_type": "code",
   "execution_count": 48,
   "id": "911c3a47",
   "metadata": {},
   "outputs": [
    {
     "data": {
      "text/html": [
       "<style>\n",
       ".list-inline {list-style: none; margin:0; padding: 0}\n",
       ".list-inline>li {display: inline-block}\n",
       ".list-inline>li:not(:last-child)::after {content: \"\\00b7\"; padding: 0 .5ex}\n",
       "</style>\n",
       "<ol class=list-inline><li>'yes'</li><li>'no'</li><li>'yes'</li><li>'no'</li></ol>\n"
      ],
      "text/latex": [
       "\\begin{enumerate*}\n",
       "\\item 'yes'\n",
       "\\item 'no'\n",
       "\\item 'yes'\n",
       "\\item 'no'\n",
       "\\end{enumerate*}\n"
      ],
      "text/markdown": [
       "1. 'yes'\n",
       "2. 'no'\n",
       "3. 'yes'\n",
       "4. 'no'\n",
       "\n",
       "\n"
      ],
      "text/plain": [
       "[1] \"yes\" \"no\"  \"yes\" \"no\" "
      ]
     },
     "metadata": {},
     "output_type": "display_data"
    }
   ],
   "source": [
    "v = c(5,2,6,3)\n",
    "ifelse(v > 3, 'yes', 'no')"
   ]
  },
  {
   "cell_type": "markdown",
   "id": "a4629f46",
   "metadata": {},
   "source": [
    "This is a powerful tool for creating new columns where the values of the new column depend on some values in another column:"
   ]
  },
  {
   "cell_type": "code",
   "execution_count": 47,
   "id": "e8f6ff9a",
   "metadata": {},
   "outputs": [
    {
     "data": {
      "text/html": [
       "<table class=\"dataframe\">\n",
       "<caption>A data.frame: 6 × 5</caption>\n",
       "<thead>\n",
       "\t<tr><th></th><th scope=col>patient</th><th scope=col>condition</th><th scope=col>visit_number</th><th scope=col>num_days_sick</th><th scope=col>sick_group</th></tr>\n",
       "\t<tr><th></th><th scope=col>&lt;int&gt;</th><th scope=col>&lt;fct&gt;</th><th scope=col>&lt;fct&gt;</th><th scope=col>&lt;int&gt;</th><th scope=col>&lt;chr&gt;</th></tr>\n",
       "</thead>\n",
       "<tbody>\n",
       "\t<tr><th scope=row>1</th><td>1</td><td>treatment</td><td>Visit 1</td><td>65</td><td>high</td></tr>\n",
       "\t<tr><th scope=row>2</th><td>2</td><td>treatment</td><td>Visit 1</td><td> 0</td><td>low </td></tr>\n",
       "\t<tr><th scope=row>3</th><td>3</td><td>treatment</td><td>Visit 1</td><td>34</td><td>high</td></tr>\n",
       "\t<tr><th scope=row>4</th><td>4</td><td>treatment</td><td>Visit 1</td><td>33</td><td>high</td></tr>\n",
       "\t<tr><th scope=row>5</th><td>5</td><td>treatment</td><td>Visit 1</td><td>10</td><td>low </td></tr>\n",
       "\t<tr><th scope=row>6</th><td>6</td><td>treatment</td><td>Visit 1</td><td>39</td><td>high</td></tr>\n",
       "</tbody>\n",
       "</table>\n"
      ],
      "text/latex": [
       "A data.frame: 6 × 5\n",
       "\\begin{tabular}{r|lllll}\n",
       "  & patient & condition & visit\\_number & num\\_days\\_sick & sick\\_group\\\\\n",
       "  & <int> & <fct> & <fct> & <int> & <chr>\\\\\n",
       "\\hline\n",
       "\t1 & 1 & treatment & Visit 1 & 65 & high\\\\\n",
       "\t2 & 2 & treatment & Visit 1 &  0 & low \\\\\n",
       "\t3 & 3 & treatment & Visit 1 & 34 & high\\\\\n",
       "\t4 & 4 & treatment & Visit 1 & 33 & high\\\\\n",
       "\t5 & 5 & treatment & Visit 1 & 10 & low \\\\\n",
       "\t6 & 6 & treatment & Visit 1 & 39 & high\\\\\n",
       "\\end{tabular}\n"
      ],
      "text/markdown": [
       "\n",
       "A data.frame: 6 × 5\n",
       "\n",
       "| <!--/--> | patient &lt;int&gt; | condition &lt;fct&gt; | visit_number &lt;fct&gt; | num_days_sick &lt;int&gt; | sick_group &lt;chr&gt; |\n",
       "|---|---|---|---|---|---|\n",
       "| 1 | 1 | treatment | Visit 1 | 65 | high |\n",
       "| 2 | 2 | treatment | Visit 1 |  0 | low  |\n",
       "| 3 | 3 | treatment | Visit 1 | 34 | high |\n",
       "| 4 | 4 | treatment | Visit 1 | 33 | high |\n",
       "| 5 | 5 | treatment | Visit 1 | 10 | low  |\n",
       "| 6 | 6 | treatment | Visit 1 | 39 | high |\n",
       "\n"
      ],
      "text/plain": [
       "  patient condition visit_number num_days_sick sick_group\n",
       "1 1       treatment Visit 1      65            high      \n",
       "2 2       treatment Visit 1       0            low       \n",
       "3 3       treatment Visit 1      34            high      \n",
       "4 4       treatment Visit 1      33            high      \n",
       "5 5       treatment Visit 1      10            low       \n",
       "6 6       treatment Visit 1      39            high      "
      ]
     },
     "metadata": {},
     "output_type": "display_data"
    }
   ],
   "source": [
    "avg_days_sick = mean(d$num_days_sick)\n",
    "new_d = mutate(d, sick_group = ifelse(num_days_sick > avg_days_sick, 'high', 'low'))\n",
    "head(new_d)"
   ]
  },
  {
   "cell_type": "markdown",
   "id": "4ac7728d",
   "metadata": {},
   "source": [
    "**Operation piping, group_by, and summarize**  \n",
    "\n",
    "Before we get into the `group_by` and `summarize` functions, I want to introduce a powerful aspect of tidyverse syntax, and that's operation piping. Often in an analysis you'll want to apply a combination of filtering, selecting, making new variables etc. The piping syntax allows you to go from one to the next seamlessly, and it leaves your code quite readable and organized.\n",
    "\n",
    "As an example, let's say I want to only keep rows where the number of days sick is less than $50$ and then only keep columns `patient` and `num_days_sick`. To do this, I'll need to use the `filter` and `select` functions, and I can chain them together like this:"
   ]
  },
  {
   "cell_type": "code",
   "execution_count": 51,
   "id": "d61875c3",
   "metadata": {},
   "outputs": [
    {
     "data": {
      "text/html": [
       "<table class=\"dataframe\">\n",
       "<caption>A data.frame: 6 × 2</caption>\n",
       "<thead>\n",
       "\t<tr><th></th><th scope=col>patient</th><th scope=col>num_days_sick</th></tr>\n",
       "\t<tr><th></th><th scope=col>&lt;int&gt;</th><th scope=col>&lt;int&gt;</th></tr>\n",
       "</thead>\n",
       "<tbody>\n",
       "\t<tr><th scope=row>1</th><td>2</td><td> 0</td></tr>\n",
       "\t<tr><th scope=row>2</th><td>3</td><td>34</td></tr>\n",
       "\t<tr><th scope=row>3</th><td>4</td><td>33</td></tr>\n",
       "\t<tr><th scope=row>4</th><td>5</td><td>10</td></tr>\n",
       "\t<tr><th scope=row>5</th><td>6</td><td>39</td></tr>\n",
       "\t<tr><th scope=row>6</th><td>7</td><td> 0</td></tr>\n",
       "</tbody>\n",
       "</table>\n"
      ],
      "text/latex": [
       "A data.frame: 6 × 2\n",
       "\\begin{tabular}{r|ll}\n",
       "  & patient & num\\_days\\_sick\\\\\n",
       "  & <int> & <int>\\\\\n",
       "\\hline\n",
       "\t1 & 2 &  0\\\\\n",
       "\t2 & 3 & 34\\\\\n",
       "\t3 & 4 & 33\\\\\n",
       "\t4 & 5 & 10\\\\\n",
       "\t5 & 6 & 39\\\\\n",
       "\t6 & 7 &  0\\\\\n",
       "\\end{tabular}\n"
      ],
      "text/markdown": [
       "\n",
       "A data.frame: 6 × 2\n",
       "\n",
       "| <!--/--> | patient &lt;int&gt; | num_days_sick &lt;int&gt; |\n",
       "|---|---|---|\n",
       "| 1 | 2 |  0 |\n",
       "| 2 | 3 | 34 |\n",
       "| 3 | 4 | 33 |\n",
       "| 4 | 5 | 10 |\n",
       "| 5 | 6 | 39 |\n",
       "| 6 | 7 |  0 |\n",
       "\n"
      ],
      "text/plain": [
       "  patient num_days_sick\n",
       "1 2        0           \n",
       "2 3       34           \n",
       "3 4       33           \n",
       "4 5       10           \n",
       "5 6       39           \n",
       "6 7        0           "
      ]
     },
     "metadata": {},
     "output_type": "display_data"
    }
   ],
   "source": [
    "d %>% ## take the whole dataset d and give it as an input to filter\n",
    "filter(num_days_sick < 50) %>% ## filter the dataset and give the filtered dataset as an input to select\n",
    "select(patient, num_days_sick) %>% ## select only two columns, and give this condensed dataset to the head function\n",
    "head() ## take the ouput of all the above lines and run it through the head function"
   ]
  },
  {
   "cell_type": "markdown",
   "id": "1445bd89",
   "metadata": {},
   "source": [
    "This code is read from top to bottom, where the pipe character (`%>%`) takes the output from one line and feeds it as the input to the next line. If I want to save the output of all these computations, I define it on the first line:"
   ]
  },
  {
   "cell_type": "code",
   "execution_count": 52,
   "id": "a3b51740",
   "metadata": {},
   "outputs": [
    {
     "data": {
      "text/html": [
       "<table class=\"dataframe\">\n",
       "<caption>A data.frame: 6 × 2</caption>\n",
       "<thead>\n",
       "\t<tr><th></th><th scope=col>patient</th><th scope=col>num_days_sick</th></tr>\n",
       "\t<tr><th></th><th scope=col>&lt;int&gt;</th><th scope=col>&lt;int&gt;</th></tr>\n",
       "</thead>\n",
       "<tbody>\n",
       "\t<tr><th scope=row>1</th><td>2</td><td> 0</td></tr>\n",
       "\t<tr><th scope=row>2</th><td>3</td><td>34</td></tr>\n",
       "\t<tr><th scope=row>3</th><td>4</td><td>33</td></tr>\n",
       "\t<tr><th scope=row>4</th><td>5</td><td>10</td></tr>\n",
       "\t<tr><th scope=row>5</th><td>6</td><td>39</td></tr>\n",
       "\t<tr><th scope=row>6</th><td>7</td><td> 0</td></tr>\n",
       "</tbody>\n",
       "</table>\n"
      ],
      "text/latex": [
       "A data.frame: 6 × 2\n",
       "\\begin{tabular}{r|ll}\n",
       "  & patient & num\\_days\\_sick\\\\\n",
       "  & <int> & <int>\\\\\n",
       "\\hline\n",
       "\t1 & 2 &  0\\\\\n",
       "\t2 & 3 & 34\\\\\n",
       "\t3 & 4 & 33\\\\\n",
       "\t4 & 5 & 10\\\\\n",
       "\t5 & 6 & 39\\\\\n",
       "\t6 & 7 &  0\\\\\n",
       "\\end{tabular}\n"
      ],
      "text/markdown": [
       "\n",
       "A data.frame: 6 × 2\n",
       "\n",
       "| <!--/--> | patient &lt;int&gt; | num_days_sick &lt;int&gt; |\n",
       "|---|---|---|\n",
       "| 1 | 2 |  0 |\n",
       "| 2 | 3 | 34 |\n",
       "| 3 | 4 | 33 |\n",
       "| 4 | 5 | 10 |\n",
       "| 5 | 6 | 39 |\n",
       "| 6 | 7 |  0 |\n",
       "\n"
      ],
      "text/plain": [
       "  patient num_days_sick\n",
       "1 2        0           \n",
       "2 3       34           \n",
       "3 4       33           \n",
       "4 5       10           \n",
       "5 6       39           \n",
       "6 7        0           "
      ]
     },
     "metadata": {},
     "output_type": "display_data"
    }
   ],
   "source": [
    "new_d = d %>% ## 'new_d = ' here saves the output of everything that happens below to a variable called new_d\n",
    "filter(num_days_sick < 50) %>% \n",
    "select(patient, num_days_sick) %>% \n",
    "head() \n",
    "\n",
    "new_d"
   ]
  },
  {
   "cell_type": "markdown",
   "id": "034d8392",
   "metadata": {},
   "source": [
    "Operation piping combined with the `group_by` and `summarize` functions give us a powerful and intuitive way to complete summarizations across groups, like we learned a few weeks ago. Let's say I want to get the average number of days sick across condition:"
   ]
  },
  {
   "cell_type": "code",
   "execution_count": 54,
   "id": "3d116f97",
   "metadata": {},
   "outputs": [
    {
     "data": {
      "text/html": [
       "<table class=\"dataframe\">\n",
       "<caption>A tibble: 2 × 2</caption>\n",
       "<thead>\n",
       "\t<tr><th scope=col>condition</th><th scope=col>avg_days_sick</th></tr>\n",
       "\t<tr><th scope=col>&lt;fct&gt;</th><th scope=col>&lt;dbl&gt;</th></tr>\n",
       "</thead>\n",
       "<tbody>\n",
       "\t<tr><td>control  </td><td>46.81033</td></tr>\n",
       "\t<tr><td>treatment</td><td>12.24100</td></tr>\n",
       "</tbody>\n",
       "</table>\n"
      ],
      "text/latex": [
       "A tibble: 2 × 2\n",
       "\\begin{tabular}{ll}\n",
       " condition & avg\\_days\\_sick\\\\\n",
       " <fct> & <dbl>\\\\\n",
       "\\hline\n",
       "\t control   & 46.81033\\\\\n",
       "\t treatment & 12.24100\\\\\n",
       "\\end{tabular}\n"
      ],
      "text/markdown": [
       "\n",
       "A tibble: 2 × 2\n",
       "\n",
       "| condition &lt;fct&gt; | avg_days_sick &lt;dbl&gt; |\n",
       "|---|---|\n",
       "| control   | 46.81033 |\n",
       "| treatment | 12.24100 |\n",
       "\n"
      ],
      "text/plain": [
       "  condition avg_days_sick\n",
       "1 control   46.81033     \n",
       "2 treatment 12.24100     "
      ]
     },
     "metadata": {},
     "output_type": "display_data"
    }
   ],
   "source": [
    "d %>% \n",
    "group_by(condition) %>% \n",
    "summarize(avg_days_sick = mean(num_days_sick))"
   ]
  },
  {
   "cell_type": "markdown",
   "id": "085acd1d",
   "metadata": {},
   "source": [
    "More grouping variables can easily be added to the `group_by` function:"
   ]
  },
  {
   "cell_type": "code",
   "execution_count": 55,
   "id": "78668d3f",
   "metadata": {},
   "outputs": [
    {
     "name": "stderr",
     "output_type": "stream",
     "text": [
      "`summarise()` has grouped output by 'condition'. You can override using the `.groups` argument.\n"
     ]
    },
    {
     "data": {
      "text/html": [
       "<table class=\"dataframe\">\n",
       "<caption>A grouped_df: 6 × 3</caption>\n",
       "<thead>\n",
       "\t<tr><th scope=col>condition</th><th scope=col>visit_number</th><th scope=col>avg_days_sick</th></tr>\n",
       "\t<tr><th scope=col>&lt;fct&gt;</th><th scope=col>&lt;fct&gt;</th><th scope=col>&lt;dbl&gt;</th></tr>\n",
       "</thead>\n",
       "<tbody>\n",
       "\t<tr><td>control  </td><td>Visit 1</td><td>28.542</td></tr>\n",
       "\t<tr><td>control  </td><td>Visit 2</td><td>45.204</td></tr>\n",
       "\t<tr><td>control  </td><td>Visit 3</td><td>66.685</td></tr>\n",
       "\t<tr><td>treatment</td><td>Visit 1</td><td>11.147</td></tr>\n",
       "\t<tr><td>treatment</td><td>Visit 2</td><td>13.010</td></tr>\n",
       "\t<tr><td>treatment</td><td>Visit 3</td><td>12.566</td></tr>\n",
       "</tbody>\n",
       "</table>\n"
      ],
      "text/latex": [
       "A grouped\\_df: 6 × 3\n",
       "\\begin{tabular}{lll}\n",
       " condition & visit\\_number & avg\\_days\\_sick\\\\\n",
       " <fct> & <fct> & <dbl>\\\\\n",
       "\\hline\n",
       "\t control   & Visit 1 & 28.542\\\\\n",
       "\t control   & Visit 2 & 45.204\\\\\n",
       "\t control   & Visit 3 & 66.685\\\\\n",
       "\t treatment & Visit 1 & 11.147\\\\\n",
       "\t treatment & Visit 2 & 13.010\\\\\n",
       "\t treatment & Visit 3 & 12.566\\\\\n",
       "\\end{tabular}\n"
      ],
      "text/markdown": [
       "\n",
       "A grouped_df: 6 × 3\n",
       "\n",
       "| condition &lt;fct&gt; | visit_number &lt;fct&gt; | avg_days_sick &lt;dbl&gt; |\n",
       "|---|---|---|\n",
       "| control   | Visit 1 | 28.542 |\n",
       "| control   | Visit 2 | 45.204 |\n",
       "| control   | Visit 3 | 66.685 |\n",
       "| treatment | Visit 1 | 11.147 |\n",
       "| treatment | Visit 2 | 13.010 |\n",
       "| treatment | Visit 3 | 12.566 |\n",
       "\n"
      ],
      "text/plain": [
       "  condition visit_number avg_days_sick\n",
       "1 control   Visit 1      28.542       \n",
       "2 control   Visit 2      45.204       \n",
       "3 control   Visit 3      66.685       \n",
       "4 treatment Visit 1      11.147       \n",
       "5 treatment Visit 2      13.010       \n",
       "6 treatment Visit 3      12.566       "
      ]
     },
     "metadata": {},
     "output_type": "display_data"
    }
   ],
   "source": [
    "d %>% \n",
    "group_by(condition, visit_number) %>% \n",
    "summarize(avg_days_sick = mean(num_days_sick))"
   ]
  },
  {
   "cell_type": "markdown",
   "id": "d6f69489",
   "metadata": {},
   "source": [
    "Feels like this is so long and I haven't even started reshaping yet. Maybe I'll cruise through all the above content and light speed and spend most of the time on reshaping. Cheatsheet: https://www.rstudio.com/wp-content/uploads/2015/02/data-wrangling-cheatsheet.pdf"
   ]
  }
 ],
 "metadata": {
  "kernelspec": {
   "display_name": "R",
   "language": "R",
   "name": "ir"
  },
  "language_info": {
   "codemirror_mode": "r",
   "file_extension": ".r",
   "mimetype": "text/x-r-source",
   "name": "R",
   "pygments_lexer": "r",
   "version": "3.6.3"
  }
 },
 "nbformat": 4,
 "nbformat_minor": 5
}
