{
 "cells": [
  {
   "cell_type": "markdown",
   "id": "7d267830",
   "metadata": {},
   "source": [
    "# Lab 02 Solutions"
   ]
  },
  {
   "cell_type": "markdown",
   "id": "42a32a49",
   "metadata": {},
   "source": [
    "## Part 1"
   ]
  },
  {
   "cell_type": "markdown",
   "id": "2b8ec280",
   "metadata": {},
   "source": [
    "### Assignment\n",
    "Lets use our new control flow skills to compute probabilities and conditional probabilities."
   ]
  },
  {
   "cell_type": "markdown",
   "id": "7990fa1b",
   "metadata": {},
   "source": [
    "Run the below code to create one vector that describes whether patients were assigned to treatment or control and a second vector describing whether the patient had a succussful or unsuccesful status."
   ]
  },
  {
   "cell_type": "code",
   "execution_count": 2,
   "id": "10f44c9d",
   "metadata": {},
   "outputs": [],
   "source": [
    "draw_random_number = function(){\n",
    "    return(runif(1))\n",
    "}"
   ]
  },
  {
   "cell_type": "markdown",
   "id": "da121778",
   "metadata": {},
   "source": [
    "##### Practice loop and conditional structure\n",
    "After running the above code block, we can create a random number by running the following code ``draw_random_number()``\n",
    "1. Run the code ``draw_random_number()``\n",
    "2. Create and if/else statement that prints \"Less than 1/2\" when ``draw_random_number()`` is smaller than the value 0.5 and else prints \"greater than or equal to 1/2\" when ``draw_random_number()`` is 0.5 or larger. \n",
    "3. Create a variable ``category`` and assign this variable the value -1. \n",
    "4. Create an if/else if/else statement that assigns the variable category the value 1 when ``draw_random_number()`` is smaller than 0.25, the value 2 when ``draw_random_number()`` is greater than or equal to 0.25 and smaller than 0.50, the value 3 when ``draw_random_number()`` is greater than or equal to 0.50 and smaller than 0.75 and the value 4 otherwise. \n",
    "5. Create a vector random_values that is empty (i.e. ``random_values = c()``). \n",
    "6. Assign the variable ``value`` equal to ``draw_random_number()``. \n",
    "7. Create a while loop with the condition that ``value`` returns a value less than 0.5\n",
    "   - Inside the while loop, in the code block, assign the variable ``value`` to a new random number ``draw_random_number()``\n",
    "   - Inside the while loop, in the code block, append ``value`` to your vector ``random_values``\n",
    "8. Create a for loop that iterates the code block you create for the while loop 10 times. \n",
    "9. What can you say about the vector ``random_values`` that would be produced from 7. versus 8.?"
   ]
  },
  {
   "cell_type": "markdown",
   "id": "a6271b0c",
   "metadata": {},
   "source": [
    "**Question 1**  \n",
    "\n",
    "1. Run the code ``draw_random_number()``  \n",
    "\n",
    "To run a function, I type the name of the function into the code cell followed by open and close parentheses `()`. These parentheses are important because that's how you signal to R that we want to *run* the function, not just find out more information about the function itself."
   ]
  },
  {
   "cell_type": "code",
   "execution_count": 3,
   "id": "ce9876ca",
   "metadata": {},
   "outputs": [
    {
     "data": {
      "text/html": [
       "0.840334213571623"
      ],
      "text/latex": [
       "0.840334213571623"
      ],
      "text/markdown": [
       "0.840334213571623"
      ],
      "text/plain": [
       "[1] 0.8403342"
      ]
     },
     "metadata": {},
     "output_type": "display_data"
    }
   ],
   "source": [
    "draw_random_number()"
   ]
  },
  {
   "cell_type": "markdown",
   "id": "5b226c7d",
   "metadata": {},
   "source": [
    "**Question 2**  \n",
    "\n",
    "2. Create and if/else statement that prints \"Less than 1/2\" when ``draw_random_number()`` is smaller than the value 0.5 and else prints \"greater than or equal to 1/2\" when ``draw_random_number()`` is 0.5 or larger.   \n",
    "\n",
    "I remember that the basic format of an if / else is the following:  \n",
    "```\n",
    "if ( logical_expression ) {\n",
    "## what to do if expression inside parentheses is true\n",
    "\n",
    "} else {\n",
    "## what to do if expression inside parentheses is false\n",
    "}\n",
    "```\n",
    "Where we put some expression in the place of `logical_expression` that will reduce to a `TRUE` or `FALSE`. For example, if `x = 3` and `logical_expression = x < 5`, then `logical_expression` will reduce to `TRUE` and R executes any lines of code contained within the first set of brackets `{}` relating to the `if` and not to the set of brackets relating to the `else`."
   ]
  },
  {
   "cell_type": "code",
   "execution_count": 4,
   "id": "c415580b",
   "metadata": {},
   "outputs": [
    {
     "name": "stdout",
     "output_type": "stream",
     "text": [
      "[1] \"Greater than or equal to 1/2\"\n"
     ]
    }
   ],
   "source": [
    "if (draw_random_number() < 0.5) {\n",
    "    print('Less than 1/2')\n",
    "} else { ## i know that, if the random number isn't less than 0.5, it must be greater than or equal to 0.5\n",
    "    print('Greater than or equal to 1/2')\n",
    "}"
   ]
  },
  {
   "cell_type": "markdown",
   "id": "11ad4336",
   "metadata": {},
   "source": [
    "**Question 3**  \n",
    "\n",
    "3. Create a variable ``category`` and assign this variable the value -1. "
   ]
  },
  {
   "cell_type": "code",
   "execution_count": 5,
   "id": "bb3927f7",
   "metadata": {},
   "outputs": [],
   "source": [
    "category = -1"
   ]
  },
  {
   "cell_type": "markdown",
   "id": "ae764a34",
   "metadata": {},
   "source": [
    "**Question 4**  \n",
    "\n",
    "4. Create an if/else if/else statement that assigns the variable category the value 1 when ``draw_random_number()`` is smaller than 0.25, the value 2 when ``draw_random_number()`` is greater than or equal to 0.25 and smaller than 0.50, the value 3 when ``draw_random_number()`` is greater than or equal to 0.50 and smaller than 0.75 and the value 4 otherwise.  \n",
    "\n",
    "I can see that I will need to make multiple comparisons about a random number that I draw. Each time I call the function `draw_random_number()`, it's like picking a new random number out of a hat. Imagine you were going to pick a random number out of a hat and have a friend ask a bunch of questions to try to guess what that number is. It doesn't make much sense and wouldn't be fair to your friend if, after each question they ask, you keep drawing out new numbers. You need to take that first number that you picked out of the hat and *save it*, so that each question your friend asks will relate to the *same* number. Much in the same way, we want to only call `draw_random_number()` to pick a random number *once*, save it, and then ask some questions about it using if/else if/else logic. We can save the output of a function directly to a variable to store it for later use. Let's see how that works."
   ]
  },
  {
   "cell_type": "code",
   "execution_count": 6,
   "id": "490929ff",
   "metadata": {},
   "outputs": [
    {
     "name": "stdout",
     "output_type": "stream",
     "text": [
      "[1] 0.8161634\n",
      "[1] 0.8370712\n",
      "[1] 0.9460999\n"
     ]
    }
   ],
   "source": [
    "## each time i call draw_random number(), i get a different number\n",
    "for (i in 1:3) {\n",
    "    print(draw_random_number())\n",
    "}"
   ]
  },
  {
   "cell_type": "code",
   "execution_count": 7,
   "id": "7408832f",
   "metadata": {},
   "outputs": [
    {
     "name": "stdout",
     "output_type": "stream",
     "text": [
      "[1] 0.1770283\n",
      "[1] 0.1770283\n",
      "[1] 0.1770283\n"
     ]
    }
   ],
   "source": [
    "## but if i store the output of draw_random_number() to a variable, that value stays the same as long \n",
    "## as i don't overwrite that variable in my code later on\n",
    "random_number = draw_random_number()\n",
    "for (i in 1:3) {\n",
    "    print(random_number)\n",
    "}"
   ]
  },
  {
   "cell_type": "code",
   "execution_count": 8,
   "id": "d902476f",
   "metadata": {},
   "outputs": [],
   "source": [
    "## we use our stored number to ask a series of questions using a more complex if/else structure\n",
    "if (random_number < 0.25) {\n",
    "    category = 1\n",
    "} else if (random_number >= 0.25 && random_number < 0.5) {\n",
    "    category = 2\n",
    "} else if (random_number >= 0.5 && random_number < 0.75) {\n",
    "    category = 3\n",
    "} else {\n",
    "    category = 4\n",
    "}"
   ]
  },
  {
   "cell_type": "markdown",
   "id": "443ba2fa",
   "metadata": {},
   "source": [
    "Because I can see that the random number I saved is equal to $0.5256$, I would expect `category` to equal $3$:"
   ]
  },
  {
   "cell_type": "code",
   "execution_count": 9,
   "id": "26bb977b",
   "metadata": {},
   "outputs": [
    {
     "name": "stdout",
     "output_type": "stream",
     "text": [
      "[1] 1\n"
     ]
    }
   ],
   "source": [
    "print(category)"
   ]
  },
  {
   "cell_type": "markdown",
   "id": "3064bf8e",
   "metadata": {},
   "source": [
    "**Question 5**\n",
    "\n",
    "5. Create a vector random_values that is empty (i.e. ``random_values = c()``). "
   ]
  },
  {
   "cell_type": "code",
   "execution_count": 10,
   "id": "d0fcfd08",
   "metadata": {},
   "outputs": [],
   "source": [
    "random_values = c()"
   ]
  },
  {
   "cell_type": "markdown",
   "id": "1dcc0e5b",
   "metadata": {},
   "source": [
    "**Question 6**  \n",
    "6. Assign the variable ``value`` equal to ``draw_random_number()``.  "
   ]
  },
  {
   "cell_type": "code",
   "execution_count": 11,
   "id": "5f758072",
   "metadata": {},
   "outputs": [],
   "source": [
    "value = draw_random_number()"
   ]
  },
  {
   "cell_type": "markdown",
   "id": "2e0b793d",
   "metadata": {},
   "source": [
    "**Question 7**  \n",
    "\n",
    "7. Create a while loop with the condition that ``value`` returns a value less than 0.5\n",
    "   - Inside the while loop, in the code block, assign the variable ``value`` to a new random number ``draw_random_number()``\n",
    "   - Inside the while loop, in the code block, append ``value`` to your vector ``random_values``  \n",
    "   \n",
    "I remember that the structure for a `while` loop is the following:  \n",
    "```\n",
    "while( logical_expression ) {\n",
    "    ## do these lines of code only if logical_expression is true\n",
    "    ## repeat these lines of code only when logical_expression becomes false\n",
    "}\n",
    "```  \n",
    "\n",
    "Where, again, `logical_expression` is some expression that reduces to `TRUE` or `FALSE`. Imagine back to our example of drawing random numbers out of a hat. This question is asking us to essentially keep drawing random numbers out of this hat until we get one that's less than 0.5, meanwhile we're going to store each random number that we draw into some container so we can access them later."
   ]
  },
  {
   "cell_type": "code",
   "execution_count": 12,
   "id": "b10bdd79",
   "metadata": {},
   "outputs": [
    {
     "name": "stdout",
     "output_type": "stream",
     "text": [
      "[1] 0.8570794 0.3314840\n"
     ]
    }
   ],
   "source": [
    "while (value > 0.5) {\n",
    "    value = draw_random_number()\n",
    "    random_values = c(random_values, value) ## remember, when i append, im using a vector to update that vector\n",
    "}\n",
    "print(random_values)"
   ]
  },
  {
   "cell_type": "markdown",
   "id": "837ed539",
   "metadata": {},
   "source": [
    "**Question 8**  \n",
    "8. Create a for loop that iterates the code block you create for the while loop 10 times.  \n",
    "\n",
    "The structure of a `for` loop:  \n",
    "```\n",
    "for (new_counter_variable in some_vector) {\n",
    "    ## code to execute on each iteration\n",
    "}\n",
    "```\n",
    "Where, on each iteration, `new_counter_variable` takes on the value of each element in `some_vector`. The loop continues until there are no more elements left to iterate over in `some_vector`.  \n",
    "\n",
    "So I'll take the code inside the while loop and put it inside a `for` loop that will iterate ten times. For the slot `some_vector`, I will use a vector of length ten with elements one through ten with the colon notation: `1:10`."
   ]
  },
  {
   "cell_type": "code",
   "execution_count": 13,
   "id": "c727829b",
   "metadata": {},
   "outputs": [
    {
     "name": "stdout",
     "output_type": "stream",
     "text": [
      " [1] 0.85707943 0.33148399 0.61637705 0.98683915 0.55735863 0.14475398\n",
      " [7] 0.75473417 0.73836509 0.04500539 0.65791411 0.19953055 0.52303394\n"
     ]
    }
   ],
   "source": [
    "for (i in 1:10) {\n",
    "    value = draw_random_number()\n",
    "    random_values = c(random_values, value)\n",
    "}\n",
    "print(random_values)"
   ]
  },
  {
   "cell_type": "markdown",
   "id": "ba372a6b",
   "metadata": {},
   "source": [
    "**Question 9**  \n",
    "9. What can you say about the vector ``random_values`` that would be produced from 7. versus 8.?  \n",
    "\n",
    "With the `while` loop, I can see that how many times the loop will run will totally depend on the 'luck of the draw', meaning that the loop will only continue if the randomly-drawn number is greater than 0.5. The `for` loop will run for sure ten times no matter what."
   ]
  },
  {
   "cell_type": "markdown",
   "id": "4cf27088",
   "metadata": {},
   "source": [
    "## Part 2"
   ]
  },
  {
   "cell_type": "markdown",
   "id": "c774ce84",
   "metadata": {},
   "source": [
    "##### Lets create a for loop that will iterate through the positions of our two vectors ``patient_status`` and ``patient_treatment``, performing different operations as we move to each item in the vector  \n",
    "1. Use the ``length`` function to compute the number of patients in the study and store that length in the variable ``N``\n",
    "2. Create a variable called ``num_of_treat_assigns`` and assign that variable the value 0\n",
    "3. Create a variable called ``num_of_contr_assigns`` and assign that variable the value 0\n",
    "4. Create a variable called ``num_of_status_success`` and assign that variable the value 0\n",
    "5. Create a for loop that will run a code block starting at 1 and ending at ``N``\n",
    "6. Inside the code block of the for loop, use the variable ``num_of_status_success`` to count the number of patients with a succussful status\n",
    "7. Use ``N`` and ``num_of_status_success`` to compute the probability of a success\n",
    "8. Lets make our for loop more complicated. Inside our code block, create an if/else such that when patient treatment is a \"t\" we increment the variable ``num_of_treat_assigns`` by 1, else we increment the variable ``num_of_contr_assigns`` by 1.\n",
    "9. Lets add to our if/else statement. Create two variables ``num_of_trt_status_success`` and ``num_of_ctr_status_success`` and assign them both the value 0. Inside our loop, when a patient treatment is \"t\" we will implement step 8 and in addition we will increment the variable ``num_of_trt_status_success`` by 1 if the patient status is a success. If the patient treatment is \"c\" then we will increment ``num_of_ctr_status_success`` by 1 if the patient status is a success. \n",
    "10. Using ``num_of_trt_status_success`` and ``num_of_treat_assigns`` compute the conditional probability of success given the patient was assigned treatment. \n",
    "11. Using ``num_of_ctr_status_success`` and ``num_of_contr_assigns`` compute the conditional probability of success given the patient was assigned control. "
   ]
  },
  {
   "cell_type": "code",
   "execution_count": 14,
   "id": "b8865a0b",
   "metadata": {},
   "outputs": [],
   "source": [
    "patient_status    = c(0,1,1,0,0,1,1,1,0,0,0,1,1,1,0,0,0,0,1,0,0,0,1,1,1,0)\n",
    "patient_treatment = c(\"t\",\"c\",\"t\",\"c\",\"t\",\"c\",\"t\",\"t\",\"c\",\"t\",\"c\",\"t\",\"c\",\"t\",\"c\",\"t\",\"c\",\"t\",\"t\",\"c\",\"t\", \"c\",\"c\",\"t\",\"c\",\"c\")"
   ]
  },
  {
   "cell_type": "markdown",
   "id": "5a6fe536",
   "metadata": {},
   "source": [
    "**Understand your data**  \n",
    "We have two vectors to work with, `patient_status` and `patient_treatment`. We can infer that these vectors represent different aspects of information about the same patients, namely their status (ie, are they healthy `1` or not `0`), and their treatment (did they get treatment `t` or not `c`, control). If `patient_status` and `patient_treatment` correspond to the same set of patients, their length should be equal:"
   ]
  },
  {
   "cell_type": "code",
   "execution_count": 15,
   "id": "c6ad86ed",
   "metadata": {},
   "outputs": [
    {
     "data": {
      "text/html": [
       "TRUE"
      ],
      "text/latex": [
       "TRUE"
      ],
      "text/markdown": [
       "TRUE"
      ],
      "text/plain": [
       "[1] TRUE"
      ]
     },
     "metadata": {},
     "output_type": "display_data"
    }
   ],
   "source": [
    "length(patient_status) == length(patient_treatment)"
   ]
  },
  {
   "cell_type": "markdown",
   "id": "32641510",
   "metadata": {},
   "source": [
    "It's always a good idea to test these types of assumptions about your data. So this means that each element `i` in both `patient_status` and `patient_treatment` refer to the same patient, $Patient_i$."
   ]
  },
  {
   "cell_type": "markdown",
   "id": "e6cd275b",
   "metadata": {},
   "source": [
    "**Question 1**  \n",
    "1. Use the ``length`` function to compute the number of patients in the study and store that length in the variable ``N``  "
   ]
  },
  {
   "cell_type": "code",
   "execution_count": 16,
   "id": "92475801",
   "metadata": {},
   "outputs": [],
   "source": [
    "N = length(patient_status)"
   ]
  },
  {
   "cell_type": "markdown",
   "id": "3f11fcec",
   "metadata": {},
   "source": [
    "**Question 2**  \n",
    "\n",
    "2. Create a variable called ``num_of_treat_assigns`` and assign that variable the value 0  \n",
    "\n",
    "To create a variable, we declare the name of the variable, followed by an equals sign, followed by what we want to assign as the value of that variable:"
   ]
  },
  {
   "cell_type": "code",
   "execution_count": 17,
   "id": "53cf524f",
   "metadata": {},
   "outputs": [],
   "source": [
    "num_of_treat_assigns = 0"
   ]
  },
  {
   "cell_type": "markdown",
   "id": "878ce49f",
   "metadata": {},
   "source": [
    "**Question 3**  \n",
    "3. Create a variable called ``num_of_contr_assigns`` and assign that variable the value 0"
   ]
  },
  {
   "cell_type": "code",
   "execution_count": 18,
   "id": "7fd40c5a",
   "metadata": {},
   "outputs": [],
   "source": [
    "num_of_contr_assigns = 0"
   ]
  },
  {
   "cell_type": "markdown",
   "id": "8bb8227e",
   "metadata": {},
   "source": [
    "**Question 4**  \n",
    "4. Create a variable called ``num_of_status_success`` and assign that variable the value 0  "
   ]
  },
  {
   "cell_type": "code",
   "execution_count": 19,
   "id": "ce435390",
   "metadata": {},
   "outputs": [],
   "source": [
    "num_of_status_success = 0"
   ]
  },
  {
   "cell_type": "markdown",
   "id": "875b37c6",
   "metadata": {},
   "source": [
    "**Question 5**  \n",
    "5. Create a for loop that will run a code block starting at 1 and ending at ``N``"
   ]
  },
  {
   "cell_type": "code",
   "execution_count": 20,
   "id": "6546131b",
   "metadata": {},
   "outputs": [],
   "source": [
    "for (i in 1:N) {\n",
    "    ## code to execute on each iteration\n",
    "}"
   ]
  },
  {
   "cell_type": "markdown",
   "id": "463dad1b",
   "metadata": {},
   "source": [
    "**Question 6**  \n",
    "6. Inside the code block of the for loop, use the variable ``num_of_status_success`` to count the number of patients with a succussful status  \n",
    "\n",
    "So the `for` loop we've built runs once per each patient. And, for each patient, we want to ask whether that patient's status is a success or not. We can use the counter variable we've created in the `for` loop (`i`) to index the relevant vector (`patient_status`) in order to count up the ones in this vector. Maybe you noticed that we could get this information without a `for` loop, by doing something like: `sum(patient_status)`. This demonstrates how there are many ways to solve programming problems! For the purposes of this exercise, however, we want you to get practice using `for` loops:"
   ]
  },
  {
   "cell_type": "code",
   "execution_count": 21,
   "id": "754e8163",
   "metadata": {},
   "outputs": [],
   "source": [
    "for (i in 1:N){\n",
    "    if (patient_status[i] == 1) {\n",
    "        num_of_status_success = num_of_status_success + 1\n",
    "    }\n",
    "}"
   ]
  },
  {
   "cell_type": "markdown",
   "id": "7c0d1e2c",
   "metadata": {},
   "source": [
    "**Question 7**  \n",
    "7. Use ``N`` and ``num_of_status_success`` to compute the probability of a success  \n",
    "\n",
    "We compute the frequentist probability to solve this question:  \n",
    "\n",
    "$$\n",
    "P(Success) = \\frac{\\text{Number of Things I Care About}}{\\text{Total Number of Things}}\\\\\n",
    "P(Success) = \\frac{\\text{Number of Status Successes}}{\\text{Total Number of Patients}}\\\\\n",
    "P(Success) = \\frac{NumOfStatusSuccess}{N}\n",
    "$$"
   ]
  },
  {
   "cell_type": "code",
   "execution_count": 22,
   "id": "8e035172",
   "metadata": {},
   "outputs": [
    {
     "name": "stdout",
     "output_type": "stream",
     "text": [
      "[1] 0.4615385\n"
     ]
    }
   ],
   "source": [
    "print(num_of_status_success / N) "
   ]
  },
  {
   "cell_type": "markdown",
   "id": "34a4e04f",
   "metadata": {},
   "source": [
    "**Question 8**  \n",
    "8. Lets make our for loop more complicated. Inside our code block, create an if/else such that when patient treatment is a \"t\" we increment the variable ``num_of_treat_assigns`` by 1, else we increment the variable ``num_of_contr_assigns`` by 1.  \n",
    "\n",
    "Now we care about the vector `patient_treatment`, and we need to use an `else` statement along with the `if`:"
   ]
  },
  {
   "cell_type": "code",
   "execution_count": 23,
   "id": "fc80eed5",
   "metadata": {},
   "outputs": [
    {
     "name": "stdout",
     "output_type": "stream",
     "text": [
      "[1] 13\n",
      "[1] 13\n"
     ]
    }
   ],
   "source": [
    "for (i in 1:N) {\n",
    "    if (patient_treatment[i] == 't') {\n",
    "        num_of_treat_assigns = num_of_treat_assigns + 1\n",
    "    } else {\n",
    "        num_of_contr_assigns = num_of_contr_assigns + 1\n",
    "    }\n",
    "}\n",
    "print(num_of_treat_assigns)\n",
    "print(num_of_contr_assigns)"
   ]
  },
  {
   "cell_type": "markdown",
   "id": "a34dc6ec",
   "metadata": {},
   "source": [
    "If this data came from an experiment, the number of subjects in a treatment condition should be close if not equal to the number of subjects in a control condition, so these results make sense."
   ]
  },
  {
   "cell_type": "markdown",
   "id": "e2a6dabf",
   "metadata": {},
   "source": [
    "**Question 9**  \n",
    "9. Lets add to our if/else statement. Create two variables ``num_of_trt_status_success`` and ``num_of_ctr_status_success`` and assign them both the value 0. Inside our loop, when a patient treatment is \"t\" we will implement step 8 and in addition we will increment the variable ``num_of_trt_status_success`` by 1 if the patient status is a success. If the patient treatment is \"c\" then we will increment ``num_of_ctr_status_success`` by 1 if the patient status is a success.   \n",
    "\n",
    "To solve this problem, we want to make use of nested if/else statements. We want to divide patients into four different categories based on their status and treatment: treatment and success, treatment and no success, control and success, control and no success. \n",
    "\n",
    "Imagine that you worked in a hospital and you had these patients in a room and you wanted to make these groups. What would you do? You might first split up everyone according to whether or not they got the treatment, and then split them up again according to whether or not their status is a success. That's exactly what we're doing with code by using a first `if` statement to ask about treatment, and then a nested `if` statement to ask about status."
   ]
  },
  {
   "cell_type": "code",
   "execution_count": 26,
   "id": "b8c7b1f3",
   "metadata": {},
   "outputs": [
    {
     "name": "stdout",
     "output_type": "stream",
     "text": [
      "[1] 13\n",
      "[1] 13\n",
      "[1] 7\n",
      "[1] 5\n"
     ]
    }
   ],
   "source": [
    "## important to refresh the following two variables to zero\n",
    "num_of_treat_assigns = 0\n",
    "num_of_contr_assigns = 0\n",
    "\n",
    "num_of_trt_status_success = 0 \n",
    "num_of_ctr_status_success = 0\n",
    "\n",
    "for (i in 1:N) {\n",
    "    if (patient_treatment[i] == 't') {\n",
    "        num_of_treat_assigns = num_of_treat_assigns + 1\n",
    "        if (patient_status[i] == 1) {\n",
    "            num_of_trt_status_success = num_of_trt_status_success + 1\n",
    "        }\n",
    "    } else {\n",
    "        num_of_contr_assigns = num_of_contr_assigns + 1 \n",
    "        if (patient_status[i] == 1) {\n",
    "            num_of_ctr_status_success = num_of_ctr_status_success + 1\n",
    "        }\n",
    "        \n",
    "    }\n",
    "}\n",
    "## these two should equal what we got in the previous question\n",
    "print(num_of_treat_assigns)\n",
    "print(num_of_contr_assigns)\n",
    "\n",
    "print(num_of_trt_status_success)\n",
    "print(num_of_ctr_status_success)"
   ]
  },
  {
   "cell_type": "markdown",
   "id": "a4b62575",
   "metadata": {},
   "source": [
    "I also know that the sum of the last two variables should equal the sum of all the ones in the `patient_status` vector. This is because our code above is 'catching' all of those ones and just grouping them according to whether they belong to the treatment or control group."
   ]
  },
  {
   "cell_type": "code",
   "execution_count": 27,
   "id": "6cb6248b",
   "metadata": {},
   "outputs": [
    {
     "data": {
      "text/html": [
       "TRUE"
      ],
      "text/latex": [
       "TRUE"
      ],
      "text/markdown": [
       "TRUE"
      ],
      "text/plain": [
       "[1] TRUE"
      ]
     },
     "metadata": {},
     "output_type": "display_data"
    }
   ],
   "source": [
    "7 + 5 == sum(patient_status)"
   ]
  },
  {
   "cell_type": "markdown",
   "id": "b3d7c0a5",
   "metadata": {},
   "source": [
    "**Question 10**  \n",
    "10. Using ``num_of_trt_status_success`` and ``num_of_treat_assigns`` compute the conditional probability of success given the patient was assigned treatment.  \n",
    "\n",
    "The formula for conditional probability:  \n",
    "\n",
    "$$\n",
    "P(A|B) = \\frac{P(A \\cap B)}{P(B)} \\\\\n",
    "P(Success | Treatment) = \\frac{P(Success \\cap Treatment)}{P(Treatment)}\n",
    "$$\n",
    "\n",
    "We can use the frequentist approach to solve for both $P(Treatment)$ and $P(Success \\cap Treatment)$:\n",
    "\n",
    "\n",
    "\n",
    "$$\n",
    "P(Treatment) = \\frac{N_{Treatments}}{N_{Patients}} \\\\\n",
    "P(Success \\cap Treatment) = \\frac{N_{Patients,Treatment,Success}}{N_{Patients}}\n",
    "$$"
   ]
  },
  {
   "cell_type": "code",
   "execution_count": 28,
   "id": "e0a45da2",
   "metadata": {},
   "outputs": [
    {
     "data": {
      "text/html": [
       "0.538461538461538"
      ],
      "text/latex": [
       "0.538461538461538"
      ],
      "text/markdown": [
       "0.538461538461538"
      ],
      "text/plain": [
       "[1] 0.5384615"
      ]
     },
     "metadata": {},
     "output_type": "display_data"
    }
   ],
   "source": [
    "p_treatment = num_of_treat_assigns / N\n",
    "p_success_treatment = num_of_trt_status_success / N\n",
    "\n",
    "p_success_treatment / p_treatment"
   ]
  },
  {
   "cell_type": "markdown",
   "id": "877974ba",
   "metadata": {},
   "source": [
    "**Question 11**  \n",
    "11. Using ``num_of_ctr_status_success`` and ``num_of_contr_assigns`` compute the conditional probability of success given the patient was assigned control.  \n",
    "\n",
    "We use the same logic as above, first using the frequentist approach to estimate $P(Control)$ and $P(Control \\cap Success)$, then divide these quantities to compute $P(Success | Control)$:"
   ]
  },
  {
   "cell_type": "code",
   "execution_count": 29,
   "id": "093af6e0",
   "metadata": {},
   "outputs": [
    {
     "data": {
      "text/html": [
       "0.384615384615385"
      ],
      "text/latex": [
       "0.384615384615385"
      ],
      "text/markdown": [
       "0.384615384615385"
      ],
      "text/plain": [
       "[1] 0.3846154"
      ]
     },
     "metadata": {},
     "output_type": "display_data"
    }
   ],
   "source": [
    "p_control = num_of_contr_assigns / N\n",
    "p_success_control = num_of_ctr_status_success / N\n",
    "\n",
    "p_success_control / p_control"
   ]
  },
  {
   "cell_type": "markdown",
   "id": "b1c4974d",
   "metadata": {},
   "source": [
    "We see that the probability of success given the control ($0.38$) is much lower than the probability of success given the treatment ($0.54$), so we can conclude that the treatment is effective."
   ]
  }
 ],
 "metadata": {
  "kernelspec": {
   "display_name": "R",
   "language": "R",
   "name": "ir"
  },
  "language_info": {
   "codemirror_mode": "r",
   "file_extension": ".r",
   "mimetype": "text/x-r-source",
   "name": "R",
   "pygments_lexer": "r",
   "version": "3.6.3"
  }
 },
 "nbformat": 4,
 "nbformat_minor": 5
}
