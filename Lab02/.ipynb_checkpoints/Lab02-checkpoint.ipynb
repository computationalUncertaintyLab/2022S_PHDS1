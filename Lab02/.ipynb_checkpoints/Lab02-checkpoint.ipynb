{
 "cells": [
  {
   "cell_type": "markdown",
   "metadata": {},
   "source": [
    "## Control flow\n",
    "\n",
    "Now that we defined some fundemental objects and operations in R, we need to explore how R, and many other programming languages execute code. \n",
    "R executes code sequentially from top to bottom. \n",
    "The line of R code at the top is run first, then the second highest line, then the third highest and so on. \n",
    "\n",
    "When code is executed line by line from top to bottom it is called **sequential control**.\n",
    "Sequentuntial control is the default way R executes statements. \n",
    "\n",
    "However, we can change the order in which R executes lines of code in three ways: (i) choice (ii) repetition (iii) functions (we'll talk much more about functions next week)."
   ]
  },
  {
   "cell_type": "markdown",
   "metadata": {},
   "source": [
    "### Choice or Selection\n",
    "\n",
    "An R **program** is a set of statements meant to produce one or more results.\n",
    "We can choose to execute all the lines in our program, or we can choose to execute some lines and not others depedent on conditions.\n",
    "When we execute some lines of R code to run and not others we are using a specific type of control flow called **Selection** (\"we select some lines and not others\").\n",
    "\n",
    "While we often define statements as sentences that are either TRUE or FALSE, in R we define a logical statement that evaluates to TRUE or to FALSE an **expression**.\n",
    "\n",
    "The main ways to control which lines to execute is with the if/else, if/elseif/else, and the switch statement.\n",
    "\n",
    "#### If/else\n",
    "\n",
    "The following study at [this link](https://pubmed.ncbi.nlm.nih.gov/16365178/) chose to study the effects of a novel treatment on newly diagnosed myleoma.\n",
    "The study investigators randomly assigned 103 patientrs to receive a control therapy and 104 patients to receieve the novel treatment. The primary outcome of interest was the rate of response among patients in control and treament where a response was defined as a 50\\% or greater decrease in detection of the cancer.\n",
    "\n",
    "We could decide to define a vector $v$ that will contain three pieces of information: a patient id that is an integer used to link a single patient to their clincial records, whether the patient was assigned to recieve a treatment or control therapy, and the percent response where 100 means complete response/reduction and 0 means no response/reduction."
   ]
  },
  {
   "cell_type": "code",
   "execution_count": 3,
   "metadata": {},
   "outputs": [],
   "source": [
    "pt = c(1256, \"TREATMENT\", 87)"
   ]
  },
  {
   "cell_type": "markdown",
   "metadata": {},
   "source": [
    "We stored a vector called ``pt`` with our three pieces of info. \n",
    "Now suppose we want to add an additional piece of info to our patient vector that determines if the patient had a succussful or unsuccussful response.\n",
    "\n",
    "We need the if/else sytax. \n",
    "The if/else is an expression placed inside of parentheses and two blocks of code. \n",
    "if the expression evaluates to TRUE the first block of code will be executed and the second block is skipped. If the expression evaluates to FALSE then the second block will be executed and first block will be skippedd. "
   ]
  },
  {
   "cell_type": "code",
   "execution_count": 4,
   "metadata": {},
   "outputs": [],
   "source": [
    "if( pt[3] > 50 ){  # Our expression is pt[3] > 50\n",
    "    pt = c(pt,1)\n",
    "}else{\n",
    "    pt = c(pt,0)\n",
    "}"
   ]
  },
  {
   "cell_type": "markdown",
   "metadata": {},
   "source": [
    "We expect that the code above will create a new vector ``c(1256,\"TREATMENT\",87,1)``.\n",
    "To be sure, lets check the variable ``pt`` by printing it. "
   ]
  },
  {
   "cell_type": "code",
   "execution_count": 5,
   "metadata": {},
   "outputs": [
    {
     "name": "stdout",
     "output_type": "stream",
     "text": [
      "[1] \"1256\"      \"TREATMENT\" \"87\"        \"1\"        \n"
     ]
    }
   ],
   "source": [
    "print(pt)"
   ]
  },
  {
   "cell_type": "markdown",
   "metadata": {},
   "source": [
    "#### if/elseif/else and switch\n",
    "\n",
    "The **if/else** handles one condition that either evaluates to TRUE or FALSE. \n",
    "However, we may need to execute a specific piece of code that depends on more than one condition. \n",
    "The **if/else if/else** syntax can execute a specific block of code dependent on more than one condition.\n",
    "\n",
    "For example, suppose that we want to classify a patient's response as either above 75, between 50 and 75, not including 50 and 75, or less than or equal to 50. Let us also assume our patient is a following vector:"
   ]
  },
  {
   "cell_type": "code",
   "execution_count": 73,
   "metadata": {},
   "outputs": [],
   "source": [
    "pt = c(6587,\"CONTROL\",24)"
   ]
  },
  {
   "cell_type": "markdown",
   "metadata": {},
   "source": [
    "We can use the if /else if/ else syntax. "
   ]
  },
  {
   "cell_type": "code",
   "execution_count": 74,
   "metadata": {},
   "outputs": [],
   "source": [
    "if( pt[3] > 75 ){  \n",
    "    pt = c(pt,2)\n",
    "}else if ( pt[3] >50 ) {\n",
    "    pt = c(pt,1)\n",
    "}else {pt = c(pt,0) } \n",
    "\n",
    "## what do you think will be the value of pt after running this code?"
   ]
  },
  {
   "cell_type": "markdown",
   "metadata": {},
   "source": [
    "The if/else if/ else syntax begins at the top condition (`` pt[3] > 75 ``).\n",
    "If the top condition is FALSE then the condition second to the top is evaluated next ``( pt[3] > 50)``.\n",
    "If the second condition is FALSE, and there are no additional ``else if`` conditions, then code in the ``else`` block is executed."
   ]
  },
  {
   "cell_type": "code",
   "execution_count": null,
   "metadata": {},
   "outputs": [],
   "source": [
    "print(pt)"
   ]
  },
  {
   "cell_type": "markdown",
   "metadata": {},
   "source": [
    "#### Compund expressions\n",
    "\n",
    "The expressions we used above evaluated a single expression as either TRUE or FALSE.\n",
    "At times we may need more complicated expressions that must evaluate several expressions at once. \n",
    "We will call these compund expressions. \n",
    "\n",
    "For example, we may want to have different response values if the patient was assigned to treatment versus control. Let's say if a patient is assigned control and has a response above 50, then they receieve a 1. If a patient is assigned control with a response equal to or less than 50, then they recieve a 0. If a patient is assigned treatment and has a response above 50, then they receieve a 2. Finally, if a patient is assigned treatment and has a response equal to or less than 50, then they recieve a 3. \n",
    "\n",
    "We need to evaluate two expressions based on the patient assignment and response. \n",
    "We are allowed to include logical comparisons (LAB01) inside expressions. "
   ]
  },
  {
   "cell_type": "code",
   "execution_count": 76,
   "metadata": {},
   "outputs": [
    {
     "name": "stdout",
     "output_type": "stream",
     "text": [
      "[1] \"1359\"      \"TREATMENT\" \"72\"        \"2\"        \n"
     ]
    }
   ],
   "source": [
    "pt = c(1359, \"TREATMENT\", 72)\n",
    "\n",
    "if( (pt[3] > 50) && (pt[2]==\"CONTROL\") ){ \n",
    "    pt = c(pt,1)\n",
    "}else if ( (pt[3] <= 50) && (pt[2]==\"CONTROL\") ){\n",
    "    pt = c(pt,0)\n",
    "}else if ( (pt[3] > 50) && (pt[2]==\"TREATMENT\") ){\n",
    "    pt = c(pt,2)\n",
    "}else if ( (pt[3] <= 50) && (pt[2]==\"TREATMENT\") ){\n",
    "    pt = c(pt,3)\n",
    "}\n",
    "\n",
    "# check our work\n",
    "print(pt)"
   ]
  },
  {
   "cell_type": "markdown",
   "metadata": {},
   "source": [
    "The above code used the logical comparison ``AND (&&)`` to test whether the patient was treatment/control and if there repsonse was above or below 50."
   ]
  },
  {
   "cell_type": "markdown",
   "metadata": {},
   "source": [
    "### Repitition\n",
    "\n",
    "Often we will need to repeat a certain number of lines of code. \n",
    "We may need to apply the same operation to many different patients or observations or apply some set of code repeatedly until a condition it met.\n",
    "Loops allows us to **repeat** lines of code before continuing to execute lines of code below our loop. \n",
    "\n",
    "#### While loop\n",
    "\n",
    "The while loop repeats lines of code---called a **block**---until a specific condition is met. "
   ]
  },
  {
   "cell_type": "code",
   "execution_count": 9,
   "metadata": {},
   "outputs": [
    {
     "name": "stdout",
     "output_type": "stream",
     "text": [
      "[1] 65536\n"
     ]
    }
   ],
   "source": [
    "x = 2\n",
    "while(x<1000){\n",
    "    x = x^(2)\n",
    "}\n",
    "print(x)\n",
    "\n",
    "## what is the code doing on each iteration of this loop? What would be a good way to find out?"
   ]
  },
  {
   "cell_type": "markdown",
   "metadata": {},
   "source": [
    "In the code above, we used the syntax ``while (CONDITION) {CODE}`` to execute a while loop. \n",
    "The code above assigned the variable ``x`` the value 2.\n",
    "The next line of code was the while loop.\n",
    "Because the condition evaluated to FALSE (x was not less than 1000) the code inside the parentheses---the code block---was executed once. \n",
    "After executing the code block the condition ``x<1000`` was tested again. \n",
    "Becasue the condition evaluated to FALSE, the code block was executed again, and again, and again, until the condition evaluated to TRUE. \n",
    "After the code block evaluated to TRUE, we continued to execute lines below the while loop in sequence.\n",
    "\n",
    "The above code is equivalent to the following expanded code"
   ]
  },
  {
   "cell_type": "code",
   "execution_count": 78,
   "metadata": {},
   "outputs": [
    {
     "name": "stdout",
     "output_type": "stream",
     "text": [
      "[1] 65536\n"
     ]
    }
   ],
   "source": [
    "x=2\n",
    "if (x <1000){\n",
    "    x=x^2\n",
    "}\n",
    "if (x <1000){\n",
    "    x=x^2\n",
    "}\n",
    "if (x <1000){\n",
    "    x=x^2\n",
    "}\n",
    "if (x <1000){\n",
    "    x=x^2\n",
    "}\n",
    "if (x <1000){\n",
    "    x=x^2\n",
    "}\n",
    "if (x <1000){\n",
    "    x=x^2\n",
    "}\n",
    "if (x <1000){\n",
    "    x=x^2\n",
    "}\n",
    "if (x <1000){\n",
    "    x=x^2\n",
    "}\n",
    "print(x)"
   ]
  },
  {
   "cell_type": "markdown",
   "metadata": {},
   "source": [
    "and so the while loop is a natural way to repeat a series of R code until meeting some condition. "
   ]
  },
  {
   "cell_type": "markdown",
   "metadata": {},
   "source": [
    "#### For loop\n",
    "\n",
    "Suppose we want to execute a code a block a *fixed* number of times. \n",
    "We could use a while loop to square the variable ``x`` four times using the below code: "
   ]
  },
  {
   "cell_type": "code",
   "execution_count": 79,
   "metadata": {},
   "outputs": [
    {
     "name": "stdout",
     "output_type": "stream",
     "text": [
      "[1] 65536\n"
     ]
    }
   ],
   "source": [
    "number_of_times=1\n",
    "x = 2\n",
    "\n",
    "while (number_of_times <5){\n",
    "    x=x^2\n",
    "    number_of_times = number_of_times+1\n",
    "}\n",
    "print(x)"
   ]
  },
  {
   "cell_type": "markdown",
   "metadata": {},
   "source": [
    "Because repeating code a fixed number of times is needed so often to solve a problem, a second type of loop was created---the **for loop**.\n",
    "The **for loop** repeats a code block a fixed number of times by iterating through a sequence.\n",
    "\n",
    "#### Sequences\n",
    "\n",
    "A sequence is a mapping, or function, from the numbers 1,2,3,4,... to some set of items $a,b,c,d,\\cdots$.\n",
    "We often denote the items $a,b,c,d,...$ with a single variable name and a subscript that is called an index: $a_{1},a_{2},a_{3},a_{4},\\cdots$. \n",
    "In the above sequence the number $1$ maps to $a_{1}$, the number $2$ maps to $a_{2}$ and so on.\n",
    "\n",
    "We can create sequences of integers in R with the function ``seq``.\n",
    "We can provide ``seq`` two integers, a \"from\" and \"to\" and this function will produce all integers between \"from\" and \"to\", including both the \"from\" value and the \"to\" value. \n",
    "We will produce all integers from -2 to 8.\n",
    "Watch"
   ]
  },
  {
   "cell_type": "code",
   "execution_count": 80,
   "metadata": {},
   "outputs": [
    {
     "data": {
      "text/html": [
       "<style>\n",
       ".list-inline {list-style: none; margin:0; padding: 0}\n",
       ".list-inline>li {display: inline-block}\n",
       ".list-inline>li:not(:last-child)::after {content: \"\\00b7\"; padding: 0 .5ex}\n",
       "</style>\n",
       "<ol class=list-inline><li>-2</li><li>-1</li><li>0</li><li>1</li><li>2</li><li>3</li><li>4</li><li>5</li><li>6</li><li>7</li><li>8</li></ol>\n"
      ],
      "text/latex": [
       "\\begin{enumerate*}\n",
       "\\item -2\n",
       "\\item -1\n",
       "\\item 0\n",
       "\\item 1\n",
       "\\item 2\n",
       "\\item 3\n",
       "\\item 4\n",
       "\\item 5\n",
       "\\item 6\n",
       "\\item 7\n",
       "\\item 8\n",
       "\\end{enumerate*}\n"
      ],
      "text/markdown": [
       "1. -2\n",
       "2. -1\n",
       "3. 0\n",
       "4. 1\n",
       "5. 2\n",
       "6. 3\n",
       "7. 4\n",
       "8. 5\n",
       "9. 6\n",
       "10. 7\n",
       "11. 8\n",
       "\n",
       "\n"
      ],
      "text/plain": [
       " [1] -2 -1  0  1  2  3  4  5  6  7  8"
      ]
     },
     "metadata": {},
     "output_type": "display_data"
    }
   ],
   "source": [
    "seq(-2,8)"
   ]
  },
  {
   "cell_type": "markdown",
   "metadata": {},
   "source": [
    "This sort of request is so common in R that there is an easier way to write \"from,to\" sequences. \n",
    "We place the \"from\" value to the left and the \"to\" value to the right of a colon (we introduced this notation last week). "
   ]
  },
  {
   "cell_type": "code",
   "execution_count": 81,
   "metadata": {},
   "outputs": [
    {
     "data": {
      "text/html": [
       "<style>\n",
       ".list-inline {list-style: none; margin:0; padding: 0}\n",
       ".list-inline>li {display: inline-block}\n",
       ".list-inline>li:not(:last-child)::after {content: \"\\00b7\"; padding: 0 .5ex}\n",
       "</style>\n",
       "<ol class=list-inline><li>-2</li><li>-1</li><li>0</li><li>1</li><li>2</li><li>3</li><li>4</li><li>5</li><li>6</li><li>7</li><li>8</li></ol>\n"
      ],
      "text/latex": [
       "\\begin{enumerate*}\n",
       "\\item -2\n",
       "\\item -1\n",
       "\\item 0\n",
       "\\item 1\n",
       "\\item 2\n",
       "\\item 3\n",
       "\\item 4\n",
       "\\item 5\n",
       "\\item 6\n",
       "\\item 7\n",
       "\\item 8\n",
       "\\end{enumerate*}\n"
      ],
      "text/markdown": [
       "1. -2\n",
       "2. -1\n",
       "3. 0\n",
       "4. 1\n",
       "5. 2\n",
       "6. 3\n",
       "7. 4\n",
       "8. 5\n",
       "9. 6\n",
       "10. 7\n",
       "11. 8\n",
       "\n",
       "\n"
      ],
      "text/plain": [
       " [1] -2 -1  0  1  2  3  4  5  6  7  8"
      ]
     },
     "metadata": {},
     "output_type": "display_data"
    }
   ],
   "source": [
    "-2:8"
   ]
  },
  {
   "cell_type": "markdown",
   "metadata": {},
   "source": [
    "R understand that the colon asks to produce all integers starting with the value on the left and ending with the value on the right.\n",
    "\n",
    "#### Back to the for loop\n",
    "Lets look how we can use sequences and the idea of the for loop to rewrite our code. "
   ]
  },
  {
   "cell_type": "markdown",
   "metadata": {},
   "source": [
    "Here's a long way of writing a loop:"
   ]
  },
  {
   "cell_type": "code",
   "execution_count": null,
   "metadata": {},
   "outputs": [],
   "source": [
    "x=2\n",
    "for(number_of_times in c(1,2,3,4)){\n",
    "    x=x^2\n",
    "}\n",
    "print(x)"
   ]
  },
  {
   "cell_type": "markdown",
   "metadata": {},
   "source": [
    "Here's a more condensed way:"
   ]
  },
  {
   "cell_type": "code",
   "execution_count": 82,
   "metadata": {},
   "outputs": [
    {
     "name": "stdout",
     "output_type": "stream",
     "text": [
      "[1] 65536\n"
     ]
    }
   ],
   "source": [
    "x=2\n",
    "for(number_of_times in 1:4){\n",
    "    x=x^2\n",
    "}\n",
    "print(x)"
   ]
  },
  {
   "cell_type": "markdown",
   "metadata": {},
   "source": [
    "The only difference between the above two code blocks is how much typing you need to do. In terms of the code, they do the same things. Why is that?"
   ]
  },
  {
   "cell_type": "markdown",
   "metadata": {},
   "source": [
    "We can think of the for loop above in expanded form."
   ]
  },
  {
   "cell_type": "code",
   "execution_count": 83,
   "metadata": {},
   "outputs": [
    {
     "name": "stdout",
     "output_type": "stream",
     "text": [
      "[1] 65536\n"
     ]
    }
   ],
   "source": [
    "x=2\n",
    "\n",
    "x=x^2\n",
    "x=x^2\n",
    "x=x^2\n",
    "x=x^2\n",
    "\n",
    "print(x)"
   ]
  },
  {
   "cell_type": "markdown",
   "metadata": {},
   "source": [
    "**Think about it before you run it:**  \n",
    "What will the values of `x` and `i` be on each iteration? What will they be when the loop is finised running?"
   ]
  },
  {
   "cell_type": "code",
   "execution_count": null,
   "metadata": {},
   "outputs": [],
   "source": [
    "x = 50\n",
    "for (i in 5:10) {\n",
    "    x = x + 1\n",
    "    \n",
    "    ## These following lines will output the values of x and i on every iteration\n",
    "    ## dont worry about understanding the syntax of these following lines\n",
    "    print(paste0('This is iteration: ', i-4))\n",
    "    print(paste0('x = ', x))\n",
    "    print(paste0('i = ', i))\n",
    "    print('')\n",
    "}"
   ]
  },
  {
   "cell_type": "markdown",
   "metadata": {},
   "source": [
    "### Assignment\n",
    "Lets use our new control flow skills to compute probabilities and conditional probabilities."
   ]
  },
  {
   "cell_type": "markdown",
   "metadata": {},
   "source": [
    "Run the below code to create one vector that describes whether patients were assigned to treatment or control and a second vector describing whether the patient had a succussful or unsuccesful status."
   ]
  },
  {
   "cell_type": "code",
   "execution_count": 84,
   "metadata": {},
   "outputs": [],
   "source": [
    "draw_random_number = function(){\n",
    "    return(runif(1))\n",
    "}"
   ]
  },
  {
   "cell_type": "markdown",
   "metadata": {},
   "source": [
    "##### Practice loop and conditional structure\n",
    "After running the above code block, we can create a random number by running the following code ``draw_random_number()``\n",
    "1. Run the code ``draw_random_number()``\n",
    "2. Create and if/else statement that prints \"Less than 1/2\" when ``draw_random_number()`` is smaller than the value 0.5 and else prints \"greater than or equal to 1/2\" when ``draw_random_number()`` is 0.5 or larger. \n",
    "3. Create a variable ``category`` and assign this variable the value -1. \n",
    "4. Create an if/else if/else statement that assigns the variable category the value 1 when ``draw_random_number()`` is smaller than 0.25, the value 2 when ``draw_random_number()`` is greater than or equal to 0.25 and smaller than 0.50, the value 3 when ``draw_random_number()`` is greater than or equal to 0.50 and smaller than 0.75 and the value 4 otherwise. \n",
    "5. Create a vector random_values that is empty (i.e. ``random_values = c()``). \n",
    "6. Assign the variable ``value`` equal to ``draw_random_number()``. \n",
    "7. Create a while loop with the condition that ``value`` returns a value less than 0.5\n",
    "   - Inside the while loop, in the code block, assign the variable ``value`` to a new random number ``draw_random_number()``\n",
    "   - Inside the while loop, in the code block, append ``value`` to your vector ``random_values``\n",
    "8. Create a for loop that iterates the code block you create for the while loop 10 times. \n",
    "9. What can you say about the vector ``random_values`` that would be produced from 7. versus 8.?"
   ]
  },
  {
   "cell_type": "code",
   "execution_count": 85,
   "metadata": {},
   "outputs": [],
   "source": [
    "patient_status    = c(0,1,1,0,0,1,1,1,0,0,0,1,1,1,0,0,0,0,1,0,0,0,1,1,1,0)\n",
    "patient_treatment = c(\"t\",\"c\",\"t\",\"c\",\"t\",\"c\",\"t\",\"t\",\"c\",\"t\",\"c\",\"t\",\"c\",\"t\",\"c\",\"t\",\"c\",\"t\",\"t\",\"c\",\"t\", \"c\",\"c\",\"t\",\"c\",\"c\")"
   ]
  },
  {
   "cell_type": "markdown",
   "metadata": {},
   "source": [
    "##### Lets create a for loop that will iterate through the positions of our two vectors ``patient_status`` and ``patient_treatment``, performing different operations as we move to each item in the vector  \n",
    "1. Use the ``length`` function to compute the number of patients in the study and store that length in the variable ``N``\n",
    "2. Create a variable called ``num_of_treat_assigns`` and assign that variable the value 0\n",
    "3. Create a variable called ``num_of_contr_assigns`` and assign that variable the value 0\n",
    "4. Create a variable called ``num_of_status_success`` and assign that variable the value 0\n",
    "5. Create a for loop that will run a code block starting at 1 and ending at ``N``\n",
    "6. Inside the code block of the for loop, use the variable ``num_of_status_success`` to count the number of patients with a succussful status\n",
    "7. Use ``N`` and ``num_of_status_success`` to compute the probability of a success\n",
    "8. Lets make our for loop more complicated. Inside our code block, create an if/else such that when patient treatment is a \"t\" we increment the variable ``num_of_treat_assigns`` by 1, else we increment the variable ``num_of_contr_assigns`` by 1.\n",
    "9. Lets add to our if/else statement. Create two variables ``num_of_trt_status_success`` and ``num_of_ctr_status_success`` and assign them both the value 0. Inside our loop, when a patient treatment is \"t\" we will implement step 8 and in addition we will increment the variable ``num_of_trt_status_success`` by 1 if the patient status is a success. If the patient treatment is \"c\" then we will increment ``num_of_ctr_status_success`` by 1 if the patient status is a success. \n",
    "10. Using ``num_of_trt_status_success`` and ``num_of_treat_assigns`` compute the conditional probability of success given the patient was assigned treatment. \n",
    "11. Using ``num_of_ctr_status_success`` and ``num_of_contr_assigns`` compute the conditional probability of success given the patient was assigned control. "
   ]
  }
 ],
 "metadata": {
  "kernelspec": {
   "display_name": "R",
   "language": "R",
   "name": "ir"
  },
  "language_info": {
   "codemirror_mode": "r",
   "file_extension": ".r",
   "mimetype": "text/x-r-source",
   "name": "R",
   "pygments_lexer": "r",
   "version": "3.6.3"
  }
 },
 "nbformat": 4,
 "nbformat_minor": 4
}
