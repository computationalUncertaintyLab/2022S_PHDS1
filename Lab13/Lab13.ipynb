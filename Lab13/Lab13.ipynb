{
 "cells": [
  {
   "cell_type": "markdown",
   "metadata": {},
   "source": [
    "## Hypothesis testing \n",
    "\n",
    "In class we learned about the different aspects of hypothesis testing and some of the theory behind the Z-test. \n",
    "Time to try this out in R.\n",
    "\n",
    "### The data\n",
    "\n",
    "An experiment was conducted to test the effect of two different drugs on an individual's duraction of sleep.\n",
    "Forty patients were enrolled in this sleep study with 10 randomized to receive drug A, 10 randmized to recieve drug B, and 20 randomized to receive no drug at all. To account for differences in individuals each of the 20 particpants who recieved a drug were matched with a control patient. \n",
    "\n",
    "The difference in the number of hours slept by a patient who recieved a drug vs the matched control patient was recorded for all twenty pairs."
   ]
  },
  {
   "cell_type": "markdown",
   "metadata": {},
   "source": [
    "### From data to random variable\n",
    "\n",
    "We can model the difference in the number of hours of sleep between a patient who recieved treatment and control with a random variable $Z$. This random variable needs to take values that are negative, times when the control patient slept longer than the treated patient, and values that are positive, times when the treated patient slept longer than the control patient.  \n",
    "\n",
    "Lets define $Z \\sim \\mathcal{N}(\\mu, \\sigma^{2})$.\n",
    "\n",
    "Further assume we know from previous experiment that $\\sigma^{2} = 3$ and so our random variable $Z$ simplifies to \n",
    "$Z \\sim \\mathcal{N}(\\mu, 3)$. "
   ]
  },
  {
   "cell_type": "markdown",
   "metadata": {},
   "source": [
    "### The hypothesis and the corresponding test\n",
    "\n",
    "A statistical hypothesis is a pair of complementary statements about a parameter. \n",
    "In this case, our parameter of interest is $\\mu$ the expected difference in the number of hours slept in patients who were treated vs control. \n",
    "\n",
    "One hypothesis of interest may be\n",
    "\n",
    "\\begin{align}\n",
    "    \\text{H}_{0} &: \\mu = 0 \\\\ \n",
    "    \\text{H}_{1} &: \\mu > 0 \\\\ \n",
    "\\end{align}\n",
    "\n",
    "and we may wish to hold our Type I error---the probability that we conclude our parameter is in $H_{1}$ when truly our parameter is in $H_{0}$---to $\\alpha=0.05$. \n",
    "\n",
    "To test this hypothesis, (ie to make a decision about whether $\\mu$ belongs in $\\text{H}_{0}$ or $\\text{H}_{1}$) we can compute a Z-test. \n",
    "Lets do this by hand first and then use built-in functions in R. \n",
    "\n",
    "The Z test statistic is \n",
    "\n",
    "\\begin{align}\n",
    "    z = \\frac{\\overline{z} - \\mu_{0}}{\\sigma / \\sqrt{N}}\n",
    "\\end{align}\n",
    "\n",
    "where $\\overline{z}$ is the sample mean of our random variable of interest and $\\mu_{0}$ is the parameter value we assume under the null hypothesis.\n",
    "\n",
    "Lets import the sleep data and compute $\\overline{z}$.\n",
    "The varible that measured the difference in number of hours of sleep is called ``extra``. "
   ]
  },
  {
   "cell_type": "code",
   "execution_count": 2,
   "metadata": {},
   "outputs": [
    {
     "data": {
      "text/html": [
       "<table class=\"dataframe\">\n",
       "<caption>A data.frame: 6 × 4</caption>\n",
       "<thead>\n",
       "\t<tr><th></th><th scope=col>X</th><th scope=col>extra</th><th scope=col>group</th><th scope=col>ID</th></tr>\n",
       "\t<tr><th></th><th scope=col>&lt;int&gt;</th><th scope=col>&lt;dbl&gt;</th><th scope=col>&lt;int&gt;</th><th scope=col>&lt;int&gt;</th></tr>\n",
       "</thead>\n",
       "<tbody>\n",
       "\t<tr><th scope=row>1</th><td>1</td><td> 0.7</td><td>1</td><td>1</td></tr>\n",
       "\t<tr><th scope=row>2</th><td>2</td><td>-1.6</td><td>1</td><td>2</td></tr>\n",
       "\t<tr><th scope=row>3</th><td>3</td><td>-0.2</td><td>1</td><td>3</td></tr>\n",
       "\t<tr><th scope=row>4</th><td>4</td><td>-1.2</td><td>1</td><td>4</td></tr>\n",
       "\t<tr><th scope=row>5</th><td>5</td><td>-0.1</td><td>1</td><td>5</td></tr>\n",
       "\t<tr><th scope=row>6</th><td>6</td><td> 3.4</td><td>1</td><td>6</td></tr>\n",
       "</tbody>\n",
       "</table>\n"
      ],
      "text/latex": [
       "A data.frame: 6 × 4\n",
       "\\begin{tabular}{r|llll}\n",
       "  & X & extra & group & ID\\\\\n",
       "  & <int> & <dbl> & <int> & <int>\\\\\n",
       "\\hline\n",
       "\t1 & 1 &  0.7 & 1 & 1\\\\\n",
       "\t2 & 2 & -1.6 & 1 & 2\\\\\n",
       "\t3 & 3 & -0.2 & 1 & 3\\\\\n",
       "\t4 & 4 & -1.2 & 1 & 4\\\\\n",
       "\t5 & 5 & -0.1 & 1 & 5\\\\\n",
       "\t6 & 6 &  3.4 & 1 & 6\\\\\n",
       "\\end{tabular}\n"
      ],
      "text/markdown": [
       "\n",
       "A data.frame: 6 × 4\n",
       "\n",
       "| <!--/--> | X &lt;int&gt; | extra &lt;dbl&gt; | group &lt;int&gt; | ID &lt;int&gt; |\n",
       "|---|---|---|---|---|\n",
       "| 1 | 1 |  0.7 | 1 | 1 |\n",
       "| 2 | 2 | -1.6 | 1 | 2 |\n",
       "| 3 | 3 | -0.2 | 1 | 3 |\n",
       "| 4 | 4 | -1.2 | 1 | 4 |\n",
       "| 5 | 5 | -0.1 | 1 | 5 |\n",
       "| 6 | 6 |  3.4 | 1 | 6 |\n",
       "\n"
      ],
      "text/plain": [
       "  X extra group ID\n",
       "1 1  0.7  1     1 \n",
       "2 2 -1.6  1     2 \n",
       "3 3 -0.2  1     3 \n",
       "4 4 -1.2  1     4 \n",
       "5 5 -0.1  1     5 \n",
       "6 6  3.4  1     6 "
      ]
     },
     "metadata": {},
     "output_type": "display_data"
    }
   ],
   "source": [
    "d = read.csv(\"sleep.csv\")\n",
    "head(d)"
   ]
  },
  {
   "cell_type": "code",
   "execution_count": 5,
   "metadata": {},
   "outputs": [
    {
     "name": "stdout",
     "output_type": "stream",
     "text": [
      "[1] 1.54\n"
     ]
    }
   ],
   "source": [
    "zbar = mean(d$extra)\n",
    "\n",
    "print(zbar)"
   ]
  },
  {
   "cell_type": "markdown",
   "metadata": {},
   "source": [
    "We found that $\\overline{z}$ is 1.54 hours and we can use this value to compute $z$ above. "
   ]
  },
  {
   "cell_type": "code",
   "execution_count": 7,
   "metadata": {},
   "outputs": [
    {
     "name": "stdout",
     "output_type": "stream",
     "text": [
      "[1] 3.976263\n"
     ]
    }
   ],
   "source": [
    "N = nrow(d)\n",
    "\n",
    "z = (zbar - 0)/(sqrt(3/N))\n",
    "print(z)"
   ]
  },
  {
   "cell_type": "markdown",
   "metadata": {},
   "source": [
    "The critical value for a Z-test with $\\alpha=0.05$ is $c=1.96$. \n",
    "Because our test statistic is larger than 1.96 ($z > c$), then we conclude that $\\mu \\not \\in \\text{H}_{0}$---we reject the null hypothesis that the drug had no impact on sleep and accept the hypothesis that this drug significantly increases sleep ($\\text{H}_{1}$)."
   ]
  },
  {
   "cell_type": "markdown",
   "metadata": {},
   "source": [
    "We can also compute the **pvalue**, assuming our null hypothesis was true, the probability of a test statistic $z$ or \"more extreme\" could be generated by this distribution.\n",
    "More extereme in our case are $\\mu$ values greater than 0.\n",
    "\n",
    "We need to compute $P( Z_{\\text{test}} >z )$ where $Z_{\\text{test}}$ is a r.v. that represents value of our test statistic under the null hypothesis. We know from class that\n",
    "\n",
    "\\begin{align}\n",
    "    Z_{\\text{test}} &\\sim \\mathcal{N}(0, 1) \\\\  \n",
    "\\end{align}\n",
    "\n",
    "We need to compute $P( Z_{\\text{test}} > 2.29 )$.\n",
    "Lets use R. \n",
    "\n",
    "The `pnorm` function in R is equivalent to the cumulative density function for a random variable with a normal distribution. The `pnorm` function takes three arguments: the first argument is the value the CDF should evaluate, the second argument is the parameter value $\\mu$, and the third argument is the parameter value $\\sigma$. \n",
    "\n",
    "For example, define a random variable $X \\sim \\mathcal{N}(1,2)$. Then we can compute $F_{X}(1.5)$ in R as"
   ]
  },
  {
   "cell_type": "code",
   "execution_count": 34,
   "metadata": {},
   "outputs": [
    {
     "name": "stdout",
     "output_type": "stream",
     "text": [
      "[1] 0.6381632\n"
     ]
    }
   ],
   "source": [
    "cdfvalue = pnorm(1.5, 1, sqrt(2)) # why did we need the square root here? \n",
    "print(cdfvalue)"
   ]
  },
  {
   "cell_type": "markdown",
   "metadata": {},
   "source": [
    "For our above problem we need to compute $P( Z_{\\text{test}} > 2.29 )$ or $1 - F_{Z_{\\text{test}}}(2.29)$"
   ]
  },
  {
   "cell_type": "code",
   "execution_count": 8,
   "metadata": {},
   "outputs": [
    {
     "name": "stdout",
     "output_type": "stream",
     "text": [
      "[1] 3.445763e-05\n"
     ]
    }
   ],
   "source": [
    "pvalue = 1 - pnorm(3.98, 0, 1)\n",
    "print(pvalue)"
   ]
  },
  {
   "cell_type": "markdown",
   "metadata": {},
   "source": [
    "There is a 0.00003 probability that if our null hypothesis was true then samples of our data could produce a test statistic like what we observed or values more extreme. Because this is unlikely then we would reject our null hypothesis in favor of our alternative hypothesis. "
   ]
  },
  {
   "cell_type": "markdown",
   "metadata": {},
   "source": [
    "The Z-test assumes that we know $\\sigma^{2}$ exactly. \n",
    "An alternative test called the t-test assumes that we do **not** know $\\sigma^{2}$ and must estimate this value from the data. \n",
    "\n",
    "A t-test can be run in R with a single command. "
   ]
  },
  {
   "cell_type": "code",
   "execution_count": 36,
   "metadata": {},
   "outputs": [
    {
     "data": {
      "text/plain": [
       "\n",
       "\tOne Sample t-test\n",
       "\n",
       "data:  d$extra\n",
       "t = 3.413, df = 19, p-value = 0.001459\n",
       "alternative hypothesis: true mean is greater than 0\n",
       "95 percent confidence interval:\n",
       " 0.7597797       Inf\n",
       "sample estimates:\n",
       "mean of x \n",
       "     1.54 \n"
      ]
     },
     "metadata": {},
     "output_type": "display_data"
    }
   ],
   "source": [
    "t.test(d$extra,alternative=\"greater\" )"
   ]
  },
  {
   "cell_type": "markdown",
   "metadata": {},
   "source": [
    "Here we find the mean of our variable of interest, the t-statistic (like the z-statistic), a statement of the alternative hypothesis, and a p-value.\n",
    "The reason the t-test produces a different pvalue is because the t-statistic has a different probability distribution than the z-statisitc, and because our assumed exact $\\sigma^{2}=3$ is different than what we would estimate from the data."
   ]
  },
  {
   "cell_type": "markdown",
   "metadata": {},
   "source": [
    "## Assignment\n",
    "\n",
    "We learned about another test in class called the two-sample t-test which is used to test whether observed data could have been produced from random varibales with two different distributions. \n",
    "\n",
    "The dataset we want to explore is a dataset of highway accidents (documentation here = https://vincentarelbundock.github.io/Rdatasets/doc/carData/Highway1.html). \n",
    "\n",
    "The description of this data reads \"The data comes from a unpublished master's paper by Carl Hoffstedt. They relate the automobile accident rate, in accidents per million vehicle miles to several potential terms. The data include 39 sections of large highways in the state of Minnesota in 1973. The goal of this analysis was to understand the impact of design variables, Acpts, Slim, Sig, and Shld that are under the control of the highway department, on accidents.\" and i have stored this dataset as \"Highway1.csv\"\n",
    "\n",
    "1. Import the highway data and store it as ``D``\n",
    "2. Seperate ``D`` into two datasets. The first dataset ``D1`` will be a roadway of type \"PA\" and the second dataset ``D2`` will be a roadway of type \"MA\".  \n",
    "3. Use the documentation here https://www.rdocumentation.org/packages/stats/versions/3.6.2/topics/t.test to compare the rate of accidents per million vehicle miles between sections of road ways that are marked \"PA\" vs \"MA\" with a two-sample t-test.\n",
    "4. Describe your results. "
   ]
  }
 ],
 "metadata": {
  "kernelspec": {
   "display_name": "R",
   "language": "R",
   "name": "ir"
  },
  "language_info": {
   "codemirror_mode": "r",
   "file_extension": ".r",
   "mimetype": "text/x-r-source",
   "name": "R",
   "pygments_lexer": "r",
   "version": "3.6.3"
  }
 },
 "nbformat": 4,
 "nbformat_minor": 4
}
